{
 "cells": [
  {
   "cell_type": "markdown",
   "id": "c35e3567",
   "metadata": {},
   "source": [
    "# But du notebook\n",
    "Premier notebook de notre projet, il sert à nettoyer les données. "
   ]
  },
  {
   "cell_type": "markdown",
   "id": "9edeb7c7",
   "metadata": {},
   "source": [
    "# Importation des librairies"
   ]
  },
  {
   "cell_type": "code",
   "execution_count": 2,
   "id": "a603ffbc",
   "metadata": {},
   "outputs": [],
   "source": [
    "import pandas as pd\n",
    "import numpy as np\n",
    "import matplotlib.pyplot as plt\n",
    "import seaborn as sns\n",
    "import statistics\n",
    "import copy\n",
    "from scipy import stats\n",
    "%matplotlib inline\n",
    "import pickle"
   ]
  },
  {
   "cell_type": "markdown",
   "id": "188014c5",
   "metadata": {},
   "source": [
    "# Importation du fichier"
   ]
  },
  {
   "cell_type": "code",
   "execution_count": 3,
   "id": "21f4fb6a",
   "metadata": {},
   "outputs": [
    {
     "name": "stderr",
     "output_type": "stream",
     "text": [
      "C:\\Users\\laeti\\Anaconda3\\lib\\site-packages\\IPython\\core\\interactiveshell.py:3444: DtypeWarning: Columns (0,3,5,19,20,24,25,26,27,28,35,36,37,38,39,48) have mixed types.Specify dtype option on import or set low_memory=False.\n",
      "  exec(code_obj, self.user_global_ns, self.user_ns)\n"
     ]
    }
   ],
   "source": [
    "data = pd.read_csv('fr.openfoodfacts.org.products.csv', sep='\\t')"
   ]
  },
  {
   "cell_type": "markdown",
   "id": "00e6f1a6",
   "metadata": {},
   "source": [
    "On regarde la taille du fichier"
   ]
  },
  {
   "cell_type": "code",
   "execution_count": 4,
   "id": "65f9d4c0",
   "metadata": {},
   "outputs": [
    {
     "data": {
      "text/plain": [
       "(320772, 162)"
      ]
     },
     "execution_count": 4,
     "metadata": {},
     "output_type": "execute_result"
    }
   ],
   "source": [
    "data.shape"
   ]
  },
  {
   "cell_type": "markdown",
   "id": "48aa5fa2",
   "metadata": {},
   "source": [
    "On décrit le fichier"
   ]
  },
  {
   "cell_type": "code",
   "execution_count": 5,
   "id": "ed11f0e9",
   "metadata": {},
   "outputs": [
    {
     "data": {
      "text/html": [
       "<div>\n",
       "<style scoped>\n",
       "    .dataframe tbody tr th:only-of-type {\n",
       "        vertical-align: middle;\n",
       "    }\n",
       "\n",
       "    .dataframe tbody tr th {\n",
       "        vertical-align: top;\n",
       "    }\n",
       "\n",
       "    .dataframe thead th {\n",
       "        text-align: right;\n",
       "    }\n",
       "</style>\n",
       "<table border=\"1\" class=\"dataframe\">\n",
       "  <thead>\n",
       "    <tr style=\"text-align: right;\">\n",
       "      <th></th>\n",
       "      <th>no_nutriments</th>\n",
       "      <th>additives_n</th>\n",
       "      <th>ingredients_from_palm_oil_n</th>\n",
       "      <th>ingredients_from_palm_oil</th>\n",
       "      <th>ingredients_that_may_be_from_palm_oil_n</th>\n",
       "      <th>ingredients_that_may_be_from_palm_oil</th>\n",
       "      <th>nutrition_grade_uk</th>\n",
       "      <th>energy_100g</th>\n",
       "      <th>energy-from-fat_100g</th>\n",
       "      <th>fat_100g</th>\n",
       "      <th>...</th>\n",
       "      <th>ph_100g</th>\n",
       "      <th>fruits-vegetables-nuts_100g</th>\n",
       "      <th>collagen-meat-protein-ratio_100g</th>\n",
       "      <th>cocoa_100g</th>\n",
       "      <th>chlorophyl_100g</th>\n",
       "      <th>carbon-footprint_100g</th>\n",
       "      <th>nutrition-score-fr_100g</th>\n",
       "      <th>nutrition-score-uk_100g</th>\n",
       "      <th>glycemic-index_100g</th>\n",
       "      <th>water-hardness_100g</th>\n",
       "    </tr>\n",
       "  </thead>\n",
       "  <tbody>\n",
       "    <tr>\n",
       "      <th>count</th>\n",
       "      <td>0.0</td>\n",
       "      <td>248939.000000</td>\n",
       "      <td>248939.000000</td>\n",
       "      <td>0.0</td>\n",
       "      <td>248939.000000</td>\n",
       "      <td>0.0</td>\n",
       "      <td>0.0</td>\n",
       "      <td>2.611130e+05</td>\n",
       "      <td>857.000000</td>\n",
       "      <td>243891.000000</td>\n",
       "      <td>...</td>\n",
       "      <td>49.000000</td>\n",
       "      <td>3036.000000</td>\n",
       "      <td>165.000000</td>\n",
       "      <td>948.000000</td>\n",
       "      <td>0.0</td>\n",
       "      <td>268.000000</td>\n",
       "      <td>221210.000000</td>\n",
       "      <td>221210.000000</td>\n",
       "      <td>0.0</td>\n",
       "      <td>0.0</td>\n",
       "    </tr>\n",
       "    <tr>\n",
       "      <th>mean</th>\n",
       "      <td>NaN</td>\n",
       "      <td>1.936024</td>\n",
       "      <td>0.019659</td>\n",
       "      <td>NaN</td>\n",
       "      <td>0.055246</td>\n",
       "      <td>NaN</td>\n",
       "      <td>NaN</td>\n",
       "      <td>1.141915e+03</td>\n",
       "      <td>585.501214</td>\n",
       "      <td>12.730379</td>\n",
       "      <td>...</td>\n",
       "      <td>6.425698</td>\n",
       "      <td>31.458587</td>\n",
       "      <td>15.412121</td>\n",
       "      <td>49.547785</td>\n",
       "      <td>NaN</td>\n",
       "      <td>341.700764</td>\n",
       "      <td>9.165535</td>\n",
       "      <td>9.058049</td>\n",
       "      <td>NaN</td>\n",
       "      <td>NaN</td>\n",
       "    </tr>\n",
       "    <tr>\n",
       "      <th>std</th>\n",
       "      <td>NaN</td>\n",
       "      <td>2.502019</td>\n",
       "      <td>0.140524</td>\n",
       "      <td>NaN</td>\n",
       "      <td>0.269207</td>\n",
       "      <td>NaN</td>\n",
       "      <td>NaN</td>\n",
       "      <td>6.447154e+03</td>\n",
       "      <td>712.809943</td>\n",
       "      <td>17.578747</td>\n",
       "      <td>...</td>\n",
       "      <td>2.047841</td>\n",
       "      <td>31.967918</td>\n",
       "      <td>3.753028</td>\n",
       "      <td>18.757932</td>\n",
       "      <td>NaN</td>\n",
       "      <td>425.211439</td>\n",
       "      <td>9.055903</td>\n",
       "      <td>9.183589</td>\n",
       "      <td>NaN</td>\n",
       "      <td>NaN</td>\n",
       "    </tr>\n",
       "    <tr>\n",
       "      <th>min</th>\n",
       "      <td>NaN</td>\n",
       "      <td>0.000000</td>\n",
       "      <td>0.000000</td>\n",
       "      <td>NaN</td>\n",
       "      <td>0.000000</td>\n",
       "      <td>NaN</td>\n",
       "      <td>NaN</td>\n",
       "      <td>0.000000e+00</td>\n",
       "      <td>0.000000</td>\n",
       "      <td>0.000000</td>\n",
       "      <td>...</td>\n",
       "      <td>0.000000</td>\n",
       "      <td>0.000000</td>\n",
       "      <td>8.000000</td>\n",
       "      <td>6.000000</td>\n",
       "      <td>NaN</td>\n",
       "      <td>0.000000</td>\n",
       "      <td>-15.000000</td>\n",
       "      <td>-15.000000</td>\n",
       "      <td>NaN</td>\n",
       "      <td>NaN</td>\n",
       "    </tr>\n",
       "    <tr>\n",
       "      <th>25%</th>\n",
       "      <td>NaN</td>\n",
       "      <td>0.000000</td>\n",
       "      <td>0.000000</td>\n",
       "      <td>NaN</td>\n",
       "      <td>0.000000</td>\n",
       "      <td>NaN</td>\n",
       "      <td>NaN</td>\n",
       "      <td>3.770000e+02</td>\n",
       "      <td>49.400000</td>\n",
       "      <td>0.000000</td>\n",
       "      <td>...</td>\n",
       "      <td>6.300000</td>\n",
       "      <td>0.000000</td>\n",
       "      <td>12.000000</td>\n",
       "      <td>32.000000</td>\n",
       "      <td>NaN</td>\n",
       "      <td>98.750000</td>\n",
       "      <td>1.000000</td>\n",
       "      <td>1.000000</td>\n",
       "      <td>NaN</td>\n",
       "      <td>NaN</td>\n",
       "    </tr>\n",
       "    <tr>\n",
       "      <th>50%</th>\n",
       "      <td>NaN</td>\n",
       "      <td>1.000000</td>\n",
       "      <td>0.000000</td>\n",
       "      <td>NaN</td>\n",
       "      <td>0.000000</td>\n",
       "      <td>NaN</td>\n",
       "      <td>NaN</td>\n",
       "      <td>1.100000e+03</td>\n",
       "      <td>300.000000</td>\n",
       "      <td>5.000000</td>\n",
       "      <td>...</td>\n",
       "      <td>7.200000</td>\n",
       "      <td>23.000000</td>\n",
       "      <td>15.000000</td>\n",
       "      <td>50.000000</td>\n",
       "      <td>NaN</td>\n",
       "      <td>195.750000</td>\n",
       "      <td>10.000000</td>\n",
       "      <td>9.000000</td>\n",
       "      <td>NaN</td>\n",
       "      <td>NaN</td>\n",
       "    </tr>\n",
       "    <tr>\n",
       "      <th>75%</th>\n",
       "      <td>NaN</td>\n",
       "      <td>3.000000</td>\n",
       "      <td>0.000000</td>\n",
       "      <td>NaN</td>\n",
       "      <td>0.000000</td>\n",
       "      <td>NaN</td>\n",
       "      <td>NaN</td>\n",
       "      <td>1.674000e+03</td>\n",
       "      <td>898.000000</td>\n",
       "      <td>20.000000</td>\n",
       "      <td>...</td>\n",
       "      <td>7.400000</td>\n",
       "      <td>51.000000</td>\n",
       "      <td>15.000000</td>\n",
       "      <td>64.250000</td>\n",
       "      <td>NaN</td>\n",
       "      <td>383.200000</td>\n",
       "      <td>16.000000</td>\n",
       "      <td>16.000000</td>\n",
       "      <td>NaN</td>\n",
       "      <td>NaN</td>\n",
       "    </tr>\n",
       "    <tr>\n",
       "      <th>max</th>\n",
       "      <td>NaN</td>\n",
       "      <td>31.000000</td>\n",
       "      <td>2.000000</td>\n",
       "      <td>NaN</td>\n",
       "      <td>6.000000</td>\n",
       "      <td>NaN</td>\n",
       "      <td>NaN</td>\n",
       "      <td>3.251373e+06</td>\n",
       "      <td>3830.000000</td>\n",
       "      <td>714.290000</td>\n",
       "      <td>...</td>\n",
       "      <td>8.400000</td>\n",
       "      <td>100.000000</td>\n",
       "      <td>25.000000</td>\n",
       "      <td>100.000000</td>\n",
       "      <td>NaN</td>\n",
       "      <td>2842.000000</td>\n",
       "      <td>40.000000</td>\n",
       "      <td>40.000000</td>\n",
       "      <td>NaN</td>\n",
       "      <td>NaN</td>\n",
       "    </tr>\n",
       "  </tbody>\n",
       "</table>\n",
       "<p>8 rows × 106 columns</p>\n",
       "</div>"
      ],
      "text/plain": [
       "       no_nutriments    additives_n  ingredients_from_palm_oil_n  \\\n",
       "count            0.0  248939.000000                248939.000000   \n",
       "mean             NaN       1.936024                     0.019659   \n",
       "std              NaN       2.502019                     0.140524   \n",
       "min              NaN       0.000000                     0.000000   \n",
       "25%              NaN       0.000000                     0.000000   \n",
       "50%              NaN       1.000000                     0.000000   \n",
       "75%              NaN       3.000000                     0.000000   \n",
       "max              NaN      31.000000                     2.000000   \n",
       "\n",
       "       ingredients_from_palm_oil  ingredients_that_may_be_from_palm_oil_n  \\\n",
       "count                        0.0                            248939.000000   \n",
       "mean                         NaN                                 0.055246   \n",
       "std                          NaN                                 0.269207   \n",
       "min                          NaN                                 0.000000   \n",
       "25%                          NaN                                 0.000000   \n",
       "50%                          NaN                                 0.000000   \n",
       "75%                          NaN                                 0.000000   \n",
       "max                          NaN                                 6.000000   \n",
       "\n",
       "       ingredients_that_may_be_from_palm_oil  nutrition_grade_uk  \\\n",
       "count                                    0.0                 0.0   \n",
       "mean                                     NaN                 NaN   \n",
       "std                                      NaN                 NaN   \n",
       "min                                      NaN                 NaN   \n",
       "25%                                      NaN                 NaN   \n",
       "50%                                      NaN                 NaN   \n",
       "75%                                      NaN                 NaN   \n",
       "max                                      NaN                 NaN   \n",
       "\n",
       "        energy_100g  energy-from-fat_100g       fat_100g  ...    ph_100g  \\\n",
       "count  2.611130e+05            857.000000  243891.000000  ...  49.000000   \n",
       "mean   1.141915e+03            585.501214      12.730379  ...   6.425698   \n",
       "std    6.447154e+03            712.809943      17.578747  ...   2.047841   \n",
       "min    0.000000e+00              0.000000       0.000000  ...   0.000000   \n",
       "25%    3.770000e+02             49.400000       0.000000  ...   6.300000   \n",
       "50%    1.100000e+03            300.000000       5.000000  ...   7.200000   \n",
       "75%    1.674000e+03            898.000000      20.000000  ...   7.400000   \n",
       "max    3.251373e+06           3830.000000     714.290000  ...   8.400000   \n",
       "\n",
       "       fruits-vegetables-nuts_100g  collagen-meat-protein-ratio_100g  \\\n",
       "count                  3036.000000                        165.000000   \n",
       "mean                     31.458587                         15.412121   \n",
       "std                      31.967918                          3.753028   \n",
       "min                       0.000000                          8.000000   \n",
       "25%                       0.000000                         12.000000   \n",
       "50%                      23.000000                         15.000000   \n",
       "75%                      51.000000                         15.000000   \n",
       "max                     100.000000                         25.000000   \n",
       "\n",
       "       cocoa_100g  chlorophyl_100g  carbon-footprint_100g  \\\n",
       "count  948.000000              0.0             268.000000   \n",
       "mean    49.547785              NaN             341.700764   \n",
       "std     18.757932              NaN             425.211439   \n",
       "min      6.000000              NaN               0.000000   \n",
       "25%     32.000000              NaN              98.750000   \n",
       "50%     50.000000              NaN             195.750000   \n",
       "75%     64.250000              NaN             383.200000   \n",
       "max    100.000000              NaN            2842.000000   \n",
       "\n",
       "       nutrition-score-fr_100g  nutrition-score-uk_100g  glycemic-index_100g  \\\n",
       "count            221210.000000            221210.000000                  0.0   \n",
       "mean                  9.165535                 9.058049                  NaN   \n",
       "std                   9.055903                 9.183589                  NaN   \n",
       "min                 -15.000000               -15.000000                  NaN   \n",
       "25%                   1.000000                 1.000000                  NaN   \n",
       "50%                  10.000000                 9.000000                  NaN   \n",
       "75%                  16.000000                16.000000                  NaN   \n",
       "max                  40.000000                40.000000                  NaN   \n",
       "\n",
       "       water-hardness_100g  \n",
       "count                  0.0  \n",
       "mean                   NaN  \n",
       "std                    NaN  \n",
       "min                    NaN  \n",
       "25%                    NaN  \n",
       "50%                    NaN  \n",
       "75%                    NaN  \n",
       "max                    NaN  \n",
       "\n",
       "[8 rows x 106 columns]"
      ]
     },
     "execution_count": 5,
     "metadata": {},
     "output_type": "execute_result"
    }
   ],
   "source": [
    "data.describe()"
   ]
  },
  {
   "cell_type": "markdown",
   "id": "7c9f0968",
   "metadata": {},
   "source": [
    "On regarde le fichier"
   ]
  },
  {
   "cell_type": "code",
   "execution_count": 6,
   "id": "123b0baf",
   "metadata": {},
   "outputs": [
    {
     "data": {
      "text/html": [
       "<div>\n",
       "<style scoped>\n",
       "    .dataframe tbody tr th:only-of-type {\n",
       "        vertical-align: middle;\n",
       "    }\n",
       "\n",
       "    .dataframe tbody tr th {\n",
       "        vertical-align: top;\n",
       "    }\n",
       "\n",
       "    .dataframe thead th {\n",
       "        text-align: right;\n",
       "    }\n",
       "</style>\n",
       "<table border=\"1\" class=\"dataframe\">\n",
       "  <thead>\n",
       "    <tr style=\"text-align: right;\">\n",
       "      <th></th>\n",
       "      <th>code</th>\n",
       "      <th>url</th>\n",
       "      <th>creator</th>\n",
       "      <th>created_t</th>\n",
       "      <th>created_datetime</th>\n",
       "      <th>last_modified_t</th>\n",
       "      <th>last_modified_datetime</th>\n",
       "      <th>product_name</th>\n",
       "      <th>generic_name</th>\n",
       "      <th>quantity</th>\n",
       "      <th>...</th>\n",
       "      <th>ph_100g</th>\n",
       "      <th>fruits-vegetables-nuts_100g</th>\n",
       "      <th>collagen-meat-protein-ratio_100g</th>\n",
       "      <th>cocoa_100g</th>\n",
       "      <th>chlorophyl_100g</th>\n",
       "      <th>carbon-footprint_100g</th>\n",
       "      <th>nutrition-score-fr_100g</th>\n",
       "      <th>nutrition-score-uk_100g</th>\n",
       "      <th>glycemic-index_100g</th>\n",
       "      <th>water-hardness_100g</th>\n",
       "    </tr>\n",
       "  </thead>\n",
       "  <tbody>\n",
       "    <tr>\n",
       "      <th>0</th>\n",
       "      <td>3087</td>\n",
       "      <td>http://world-fr.openfoodfacts.org/produit/0000...</td>\n",
       "      <td>openfoodfacts-contributors</td>\n",
       "      <td>1474103866</td>\n",
       "      <td>2016-09-17T09:17:46Z</td>\n",
       "      <td>1474103893</td>\n",
       "      <td>2016-09-17T09:18:13Z</td>\n",
       "      <td>Farine de blé noir</td>\n",
       "      <td>NaN</td>\n",
       "      <td>1kg</td>\n",
       "      <td>...</td>\n",
       "      <td>NaN</td>\n",
       "      <td>NaN</td>\n",
       "      <td>NaN</td>\n",
       "      <td>NaN</td>\n",
       "      <td>NaN</td>\n",
       "      <td>NaN</td>\n",
       "      <td>NaN</td>\n",
       "      <td>NaN</td>\n",
       "      <td>NaN</td>\n",
       "      <td>NaN</td>\n",
       "    </tr>\n",
       "    <tr>\n",
       "      <th>1</th>\n",
       "      <td>4530</td>\n",
       "      <td>http://world-fr.openfoodfacts.org/produit/0000...</td>\n",
       "      <td>usda-ndb-import</td>\n",
       "      <td>1489069957</td>\n",
       "      <td>2017-03-09T14:32:37Z</td>\n",
       "      <td>1489069957</td>\n",
       "      <td>2017-03-09T14:32:37Z</td>\n",
       "      <td>Banana Chips Sweetened (Whole)</td>\n",
       "      <td>NaN</td>\n",
       "      <td>NaN</td>\n",
       "      <td>...</td>\n",
       "      <td>NaN</td>\n",
       "      <td>NaN</td>\n",
       "      <td>NaN</td>\n",
       "      <td>NaN</td>\n",
       "      <td>NaN</td>\n",
       "      <td>NaN</td>\n",
       "      <td>14.0</td>\n",
       "      <td>14.0</td>\n",
       "      <td>NaN</td>\n",
       "      <td>NaN</td>\n",
       "    </tr>\n",
       "    <tr>\n",
       "      <th>2</th>\n",
       "      <td>4559</td>\n",
       "      <td>http://world-fr.openfoodfacts.org/produit/0000...</td>\n",
       "      <td>usda-ndb-import</td>\n",
       "      <td>1489069957</td>\n",
       "      <td>2017-03-09T14:32:37Z</td>\n",
       "      <td>1489069957</td>\n",
       "      <td>2017-03-09T14:32:37Z</td>\n",
       "      <td>Peanuts</td>\n",
       "      <td>NaN</td>\n",
       "      <td>NaN</td>\n",
       "      <td>...</td>\n",
       "      <td>NaN</td>\n",
       "      <td>NaN</td>\n",
       "      <td>NaN</td>\n",
       "      <td>NaN</td>\n",
       "      <td>NaN</td>\n",
       "      <td>NaN</td>\n",
       "      <td>0.0</td>\n",
       "      <td>0.0</td>\n",
       "      <td>NaN</td>\n",
       "      <td>NaN</td>\n",
       "    </tr>\n",
       "    <tr>\n",
       "      <th>3</th>\n",
       "      <td>16087</td>\n",
       "      <td>http://world-fr.openfoodfacts.org/produit/0000...</td>\n",
       "      <td>usda-ndb-import</td>\n",
       "      <td>1489055731</td>\n",
       "      <td>2017-03-09T10:35:31Z</td>\n",
       "      <td>1489055731</td>\n",
       "      <td>2017-03-09T10:35:31Z</td>\n",
       "      <td>Organic Salted Nut Mix</td>\n",
       "      <td>NaN</td>\n",
       "      <td>NaN</td>\n",
       "      <td>...</td>\n",
       "      <td>NaN</td>\n",
       "      <td>NaN</td>\n",
       "      <td>NaN</td>\n",
       "      <td>NaN</td>\n",
       "      <td>NaN</td>\n",
       "      <td>NaN</td>\n",
       "      <td>12.0</td>\n",
       "      <td>12.0</td>\n",
       "      <td>NaN</td>\n",
       "      <td>NaN</td>\n",
       "    </tr>\n",
       "    <tr>\n",
       "      <th>4</th>\n",
       "      <td>16094</td>\n",
       "      <td>http://world-fr.openfoodfacts.org/produit/0000...</td>\n",
       "      <td>usda-ndb-import</td>\n",
       "      <td>1489055653</td>\n",
       "      <td>2017-03-09T10:34:13Z</td>\n",
       "      <td>1489055653</td>\n",
       "      <td>2017-03-09T10:34:13Z</td>\n",
       "      <td>Organic Polenta</td>\n",
       "      <td>NaN</td>\n",
       "      <td>NaN</td>\n",
       "      <td>...</td>\n",
       "      <td>NaN</td>\n",
       "      <td>NaN</td>\n",
       "      <td>NaN</td>\n",
       "      <td>NaN</td>\n",
       "      <td>NaN</td>\n",
       "      <td>NaN</td>\n",
       "      <td>NaN</td>\n",
       "      <td>NaN</td>\n",
       "      <td>NaN</td>\n",
       "      <td>NaN</td>\n",
       "    </tr>\n",
       "    <tr>\n",
       "      <th>5</th>\n",
       "      <td>16100</td>\n",
       "      <td>http://world-fr.openfoodfacts.org/produit/0000...</td>\n",
       "      <td>usda-ndb-import</td>\n",
       "      <td>1489055651</td>\n",
       "      <td>2017-03-09T10:34:11Z</td>\n",
       "      <td>1489055651</td>\n",
       "      <td>2017-03-09T10:34:11Z</td>\n",
       "      <td>Breadshop Honey Gone Nuts Granola</td>\n",
       "      <td>NaN</td>\n",
       "      <td>NaN</td>\n",
       "      <td>...</td>\n",
       "      <td>NaN</td>\n",
       "      <td>NaN</td>\n",
       "      <td>NaN</td>\n",
       "      <td>NaN</td>\n",
       "      <td>NaN</td>\n",
       "      <td>NaN</td>\n",
       "      <td>NaN</td>\n",
       "      <td>NaN</td>\n",
       "      <td>NaN</td>\n",
       "      <td>NaN</td>\n",
       "    </tr>\n",
       "    <tr>\n",
       "      <th>6</th>\n",
       "      <td>16117</td>\n",
       "      <td>http://world-fr.openfoodfacts.org/produit/0000...</td>\n",
       "      <td>usda-ndb-import</td>\n",
       "      <td>1489055730</td>\n",
       "      <td>2017-03-09T10:35:30Z</td>\n",
       "      <td>1489055730</td>\n",
       "      <td>2017-03-09T10:35:30Z</td>\n",
       "      <td>Organic Long Grain White Rice</td>\n",
       "      <td>NaN</td>\n",
       "      <td>NaN</td>\n",
       "      <td>...</td>\n",
       "      <td>NaN</td>\n",
       "      <td>NaN</td>\n",
       "      <td>NaN</td>\n",
       "      <td>NaN</td>\n",
       "      <td>NaN</td>\n",
       "      <td>NaN</td>\n",
       "      <td>NaN</td>\n",
       "      <td>NaN</td>\n",
       "      <td>NaN</td>\n",
       "      <td>NaN</td>\n",
       "    </tr>\n",
       "    <tr>\n",
       "      <th>7</th>\n",
       "      <td>16124</td>\n",
       "      <td>http://world-fr.openfoodfacts.org/produit/0000...</td>\n",
       "      <td>usda-ndb-import</td>\n",
       "      <td>1489055711</td>\n",
       "      <td>2017-03-09T10:35:11Z</td>\n",
       "      <td>1489055712</td>\n",
       "      <td>2017-03-09T10:35:12Z</td>\n",
       "      <td>Organic Muesli</td>\n",
       "      <td>NaN</td>\n",
       "      <td>NaN</td>\n",
       "      <td>...</td>\n",
       "      <td>NaN</td>\n",
       "      <td>NaN</td>\n",
       "      <td>NaN</td>\n",
       "      <td>NaN</td>\n",
       "      <td>NaN</td>\n",
       "      <td>NaN</td>\n",
       "      <td>7.0</td>\n",
       "      <td>7.0</td>\n",
       "      <td>NaN</td>\n",
       "      <td>NaN</td>\n",
       "    </tr>\n",
       "    <tr>\n",
       "      <th>8</th>\n",
       "      <td>16193</td>\n",
       "      <td>http://world-fr.openfoodfacts.org/produit/0000...</td>\n",
       "      <td>usda-ndb-import</td>\n",
       "      <td>1489055651</td>\n",
       "      <td>2017-03-09T10:34:11Z</td>\n",
       "      <td>1489055651</td>\n",
       "      <td>2017-03-09T10:34:11Z</td>\n",
       "      <td>Organic Dark Chocolate Minis</td>\n",
       "      <td>NaN</td>\n",
       "      <td>NaN</td>\n",
       "      <td>...</td>\n",
       "      <td>NaN</td>\n",
       "      <td>NaN</td>\n",
       "      <td>NaN</td>\n",
       "      <td>NaN</td>\n",
       "      <td>NaN</td>\n",
       "      <td>NaN</td>\n",
       "      <td>NaN</td>\n",
       "      <td>NaN</td>\n",
       "      <td>NaN</td>\n",
       "      <td>NaN</td>\n",
       "    </tr>\n",
       "    <tr>\n",
       "      <th>9</th>\n",
       "      <td>16513</td>\n",
       "      <td>http://world-fr.openfoodfacts.org/produit/0000...</td>\n",
       "      <td>usda-ndb-import</td>\n",
       "      <td>1489055654</td>\n",
       "      <td>2017-03-09T10:34:14Z</td>\n",
       "      <td>1489055654</td>\n",
       "      <td>2017-03-09T10:34:14Z</td>\n",
       "      <td>Organic Sunflower Oil</td>\n",
       "      <td>NaN</td>\n",
       "      <td>NaN</td>\n",
       "      <td>...</td>\n",
       "      <td>NaN</td>\n",
       "      <td>NaN</td>\n",
       "      <td>NaN</td>\n",
       "      <td>NaN</td>\n",
       "      <td>NaN</td>\n",
       "      <td>NaN</td>\n",
       "      <td>NaN</td>\n",
       "      <td>NaN</td>\n",
       "      <td>NaN</td>\n",
       "      <td>NaN</td>\n",
       "    </tr>\n",
       "  </tbody>\n",
       "</table>\n",
       "<p>10 rows × 162 columns</p>\n",
       "</div>"
      ],
      "text/plain": [
       "    code                                                url  \\\n",
       "0   3087  http://world-fr.openfoodfacts.org/produit/0000...   \n",
       "1   4530  http://world-fr.openfoodfacts.org/produit/0000...   \n",
       "2   4559  http://world-fr.openfoodfacts.org/produit/0000...   \n",
       "3  16087  http://world-fr.openfoodfacts.org/produit/0000...   \n",
       "4  16094  http://world-fr.openfoodfacts.org/produit/0000...   \n",
       "5  16100  http://world-fr.openfoodfacts.org/produit/0000...   \n",
       "6  16117  http://world-fr.openfoodfacts.org/produit/0000...   \n",
       "7  16124  http://world-fr.openfoodfacts.org/produit/0000...   \n",
       "8  16193  http://world-fr.openfoodfacts.org/produit/0000...   \n",
       "9  16513  http://world-fr.openfoodfacts.org/produit/0000...   \n",
       "\n",
       "                      creator   created_t      created_datetime  \\\n",
       "0  openfoodfacts-contributors  1474103866  2016-09-17T09:17:46Z   \n",
       "1             usda-ndb-import  1489069957  2017-03-09T14:32:37Z   \n",
       "2             usda-ndb-import  1489069957  2017-03-09T14:32:37Z   \n",
       "3             usda-ndb-import  1489055731  2017-03-09T10:35:31Z   \n",
       "4             usda-ndb-import  1489055653  2017-03-09T10:34:13Z   \n",
       "5             usda-ndb-import  1489055651  2017-03-09T10:34:11Z   \n",
       "6             usda-ndb-import  1489055730  2017-03-09T10:35:30Z   \n",
       "7             usda-ndb-import  1489055711  2017-03-09T10:35:11Z   \n",
       "8             usda-ndb-import  1489055651  2017-03-09T10:34:11Z   \n",
       "9             usda-ndb-import  1489055654  2017-03-09T10:34:14Z   \n",
       "\n",
       "  last_modified_t last_modified_datetime                       product_name  \\\n",
       "0      1474103893   2016-09-17T09:18:13Z                 Farine de blé noir   \n",
       "1      1489069957   2017-03-09T14:32:37Z     Banana Chips Sweetened (Whole)   \n",
       "2      1489069957   2017-03-09T14:32:37Z                            Peanuts   \n",
       "3      1489055731   2017-03-09T10:35:31Z             Organic Salted Nut Mix   \n",
       "4      1489055653   2017-03-09T10:34:13Z                    Organic Polenta   \n",
       "5      1489055651   2017-03-09T10:34:11Z  Breadshop Honey Gone Nuts Granola   \n",
       "6      1489055730   2017-03-09T10:35:30Z      Organic Long Grain White Rice   \n",
       "7      1489055712   2017-03-09T10:35:12Z                     Organic Muesli   \n",
       "8      1489055651   2017-03-09T10:34:11Z       Organic Dark Chocolate Minis   \n",
       "9      1489055654   2017-03-09T10:34:14Z              Organic Sunflower Oil   \n",
       "\n",
       "  generic_name quantity  ... ph_100g fruits-vegetables-nuts_100g  \\\n",
       "0          NaN      1kg  ...     NaN                         NaN   \n",
       "1          NaN      NaN  ...     NaN                         NaN   \n",
       "2          NaN      NaN  ...     NaN                         NaN   \n",
       "3          NaN      NaN  ...     NaN                         NaN   \n",
       "4          NaN      NaN  ...     NaN                         NaN   \n",
       "5          NaN      NaN  ...     NaN                         NaN   \n",
       "6          NaN      NaN  ...     NaN                         NaN   \n",
       "7          NaN      NaN  ...     NaN                         NaN   \n",
       "8          NaN      NaN  ...     NaN                         NaN   \n",
       "9          NaN      NaN  ...     NaN                         NaN   \n",
       "\n",
       "  collagen-meat-protein-ratio_100g cocoa_100g chlorophyl_100g  \\\n",
       "0                              NaN        NaN             NaN   \n",
       "1                              NaN        NaN             NaN   \n",
       "2                              NaN        NaN             NaN   \n",
       "3                              NaN        NaN             NaN   \n",
       "4                              NaN        NaN             NaN   \n",
       "5                              NaN        NaN             NaN   \n",
       "6                              NaN        NaN             NaN   \n",
       "7                              NaN        NaN             NaN   \n",
       "8                              NaN        NaN             NaN   \n",
       "9                              NaN        NaN             NaN   \n",
       "\n",
       "  carbon-footprint_100g nutrition-score-fr_100g nutrition-score-uk_100g  \\\n",
       "0                   NaN                     NaN                     NaN   \n",
       "1                   NaN                    14.0                    14.0   \n",
       "2                   NaN                     0.0                     0.0   \n",
       "3                   NaN                    12.0                    12.0   \n",
       "4                   NaN                     NaN                     NaN   \n",
       "5                   NaN                     NaN                     NaN   \n",
       "6                   NaN                     NaN                     NaN   \n",
       "7                   NaN                     7.0                     7.0   \n",
       "8                   NaN                     NaN                     NaN   \n",
       "9                   NaN                     NaN                     NaN   \n",
       "\n",
       "  glycemic-index_100g water-hardness_100g  \n",
       "0                 NaN                 NaN  \n",
       "1                 NaN                 NaN  \n",
       "2                 NaN                 NaN  \n",
       "3                 NaN                 NaN  \n",
       "4                 NaN                 NaN  \n",
       "5                 NaN                 NaN  \n",
       "6                 NaN                 NaN  \n",
       "7                 NaN                 NaN  \n",
       "8                 NaN                 NaN  \n",
       "9                 NaN                 NaN  \n",
       "\n",
       "[10 rows x 162 columns]"
      ]
     },
     "execution_count": 6,
     "metadata": {},
     "output_type": "execute_result"
    }
   ],
   "source": [
    "data.head(10)"
   ]
  },
  {
   "cell_type": "markdown",
   "id": "9bdd445c",
   "metadata": {},
   "source": [
    "# Premiers nettoyages"
   ]
  },
  {
   "cell_type": "markdown",
   "id": "05f94e2c",
   "metadata": {},
   "source": [
    "## Suppression des colonnes ayant plus de 98% de valeurs manquantes"
   ]
  },
  {
   "cell_type": "code",
   "execution_count": 6,
   "id": "f1bd9759",
   "metadata": {},
   "outputs": [
    {
     "data": {
      "text/plain": [
       "['cities',\n",
       " 'allergens_fr',\n",
       " 'no_nutriments',\n",
       " 'ingredients_from_palm_oil',\n",
       " 'ingredients_from_palm_oil_tags',\n",
       " 'ingredients_that_may_be_from_palm_oil',\n",
       " 'nutrition_grade_uk',\n",
       " 'energy-from-fat_100g',\n",
       " 'butyric-acid_100g',\n",
       " 'caproic-acid_100g',\n",
       " 'caprylic-acid_100g',\n",
       " 'capric-acid_100g',\n",
       " 'lauric-acid_100g',\n",
       " 'myristic-acid_100g',\n",
       " 'palmitic-acid_100g',\n",
       " 'stearic-acid_100g',\n",
       " 'arachidic-acid_100g',\n",
       " 'behenic-acid_100g',\n",
       " 'lignoceric-acid_100g',\n",
       " 'cerotic-acid_100g',\n",
       " 'montanic-acid_100g',\n",
       " 'melissic-acid_100g',\n",
       " 'omega-3-fat_100g',\n",
       " 'alpha-linolenic-acid_100g',\n",
       " 'eicosapentaenoic-acid_100g',\n",
       " 'docosahexaenoic-acid_100g',\n",
       " 'omega-6-fat_100g',\n",
       " 'linoleic-acid_100g',\n",
       " 'arachidonic-acid_100g',\n",
       " 'gamma-linolenic-acid_100g',\n",
       " 'dihomo-gamma-linolenic-acid_100g',\n",
       " 'omega-9-fat_100g',\n",
       " 'oleic-acid_100g',\n",
       " 'elaidic-acid_100g',\n",
       " 'gondoic-acid_100g',\n",
       " 'mead-acid_100g',\n",
       " 'erucic-acid_100g',\n",
       " 'nervonic-acid_100g',\n",
       " 'sucrose_100g',\n",
       " 'glucose_100g',\n",
       " 'fructose_100g',\n",
       " 'lactose_100g',\n",
       " 'maltose_100g',\n",
       " 'maltodextrins_100g',\n",
       " 'starch_100g',\n",
       " 'polyols_100g',\n",
       " 'casein_100g',\n",
       " 'serum-proteins_100g',\n",
       " 'nucleotides_100g',\n",
       " 'alcohol_100g',\n",
       " 'beta-carotene_100g',\n",
       " 'vitamin-e_100g',\n",
       " 'vitamin-k_100g',\n",
       " 'vitamin-b9_100g',\n",
       " 'folates_100g',\n",
       " 'vitamin-b12_100g',\n",
       " 'biotin_100g',\n",
       " 'pantothenic-acid_100g',\n",
       " 'silica_100g',\n",
       " 'bicarbonate_100g',\n",
       " 'chloride_100g',\n",
       " 'phosphorus_100g',\n",
       " 'magnesium_100g',\n",
       " 'zinc_100g',\n",
       " 'copper_100g',\n",
       " 'manganese_100g',\n",
       " 'fluoride_100g',\n",
       " 'selenium_100g',\n",
       " 'chromium_100g',\n",
       " 'molybdenum_100g',\n",
       " 'iodine_100g',\n",
       " 'caffeine_100g',\n",
       " 'taurine_100g',\n",
       " 'ph_100g',\n",
       " 'fruits-vegetables-nuts_100g',\n",
       " 'collagen-meat-protein-ratio_100g',\n",
       " 'cocoa_100g',\n",
       " 'chlorophyl_100g',\n",
       " 'carbon-footprint_100g',\n",
       " 'glycemic-index_100g',\n",
       " 'water-hardness_100g']"
      ]
     },
     "execution_count": 6,
     "metadata": {},
     "output_type": "execute_result"
    }
   ],
   "source": [
    "col_filter = [col for col in data.columns if data[col].isnull().sum()*100.0/data.shape[0] > 98]\n",
    "col_filter\n"
   ]
  },
  {
   "cell_type": "code",
   "execution_count": 7,
   "id": "e742bcd3",
   "metadata": {},
   "outputs": [
    {
     "name": "stderr",
     "output_type": "stream",
     "text": [
      "C:\\Users\\laeti\\AppData\\Local\\Temp/ipykernel_11512/3816838096.py:1: FutureWarning: In a future version of pandas all arguments of DataFrame.drop except for the argument 'labels' will be keyword-only\n",
      "  data.drop(col_filter,1, inplace=True)# 1 colonnes\n"
     ]
    }
   ],
   "source": [
    "data.drop(col_filter,1, inplace=True)# 1 colonnes"
   ]
  },
  {
   "cell_type": "code",
   "execution_count": 165,
   "id": "1495745c",
   "metadata": {},
   "outputs": [
    {
     "data": {
      "text/html": [
       "<div>\n",
       "<style scoped>\n",
       "    .dataframe tbody tr th:only-of-type {\n",
       "        vertical-align: middle;\n",
       "    }\n",
       "\n",
       "    .dataframe tbody tr th {\n",
       "        vertical-align: top;\n",
       "    }\n",
       "\n",
       "    .dataframe thead th {\n",
       "        text-align: right;\n",
       "    }\n",
       "</style>\n",
       "<table border=\"1\" class=\"dataframe\">\n",
       "  <thead>\n",
       "    <tr style=\"text-align: right;\">\n",
       "      <th></th>\n",
       "      <th>code</th>\n",
       "      <th>url</th>\n",
       "      <th>creator</th>\n",
       "      <th>created_t</th>\n",
       "      <th>created_datetime</th>\n",
       "      <th>last_modified_t</th>\n",
       "      <th>last_modified_datetime</th>\n",
       "      <th>product_name</th>\n",
       "      <th>generic_name</th>\n",
       "      <th>quantity</th>\n",
       "      <th>...</th>\n",
       "      <th>vitamin-c_100g</th>\n",
       "      <th>vitamin-b1_100g</th>\n",
       "      <th>vitamin-b2_100g</th>\n",
       "      <th>vitamin-pp_100g</th>\n",
       "      <th>vitamin-b6_100g</th>\n",
       "      <th>potassium_100g</th>\n",
       "      <th>calcium_100g</th>\n",
       "      <th>iron_100g</th>\n",
       "      <th>nutrition-score-fr_100g</th>\n",
       "      <th>nutrition-score-uk_100g</th>\n",
       "    </tr>\n",
       "  </thead>\n",
       "  <tbody>\n",
       "    <tr>\n",
       "      <th>0</th>\n",
       "      <td>3087</td>\n",
       "      <td>http://world-fr.openfoodfacts.org/produit/0000...</td>\n",
       "      <td>openfoodfacts-contributors</td>\n",
       "      <td>1474103866</td>\n",
       "      <td>2016-09-17T09:17:46Z</td>\n",
       "      <td>1474103893</td>\n",
       "      <td>2016-09-17T09:18:13Z</td>\n",
       "      <td>Farine de blé noir</td>\n",
       "      <td>NaN</td>\n",
       "      <td>1kg</td>\n",
       "      <td>...</td>\n",
       "      <td>NaN</td>\n",
       "      <td>NaN</td>\n",
       "      <td>NaN</td>\n",
       "      <td>NaN</td>\n",
       "      <td>NaN</td>\n",
       "      <td>NaN</td>\n",
       "      <td>NaN</td>\n",
       "      <td>NaN</td>\n",
       "      <td>NaN</td>\n",
       "      <td>NaN</td>\n",
       "    </tr>\n",
       "    <tr>\n",
       "      <th>1</th>\n",
       "      <td>4530</td>\n",
       "      <td>http://world-fr.openfoodfacts.org/produit/0000...</td>\n",
       "      <td>usda-ndb-import</td>\n",
       "      <td>1489069957</td>\n",
       "      <td>2017-03-09T14:32:37Z</td>\n",
       "      <td>1489069957</td>\n",
       "      <td>2017-03-09T14:32:37Z</td>\n",
       "      <td>Banana Chips Sweetened (Whole)</td>\n",
       "      <td>NaN</td>\n",
       "      <td>NaN</td>\n",
       "      <td>...</td>\n",
       "      <td>0.0214</td>\n",
       "      <td>NaN</td>\n",
       "      <td>NaN</td>\n",
       "      <td>NaN</td>\n",
       "      <td>NaN</td>\n",
       "      <td>NaN</td>\n",
       "      <td>0.000</td>\n",
       "      <td>0.00129</td>\n",
       "      <td>14.0</td>\n",
       "      <td>14.0</td>\n",
       "    </tr>\n",
       "    <tr>\n",
       "      <th>2</th>\n",
       "      <td>4559</td>\n",
       "      <td>http://world-fr.openfoodfacts.org/produit/0000...</td>\n",
       "      <td>usda-ndb-import</td>\n",
       "      <td>1489069957</td>\n",
       "      <td>2017-03-09T14:32:37Z</td>\n",
       "      <td>1489069957</td>\n",
       "      <td>2017-03-09T14:32:37Z</td>\n",
       "      <td>Peanuts</td>\n",
       "      <td>NaN</td>\n",
       "      <td>NaN</td>\n",
       "      <td>...</td>\n",
       "      <td>0.0000</td>\n",
       "      <td>NaN</td>\n",
       "      <td>NaN</td>\n",
       "      <td>NaN</td>\n",
       "      <td>NaN</td>\n",
       "      <td>NaN</td>\n",
       "      <td>0.071</td>\n",
       "      <td>0.00129</td>\n",
       "      <td>0.0</td>\n",
       "      <td>0.0</td>\n",
       "    </tr>\n",
       "    <tr>\n",
       "      <th>3</th>\n",
       "      <td>16087</td>\n",
       "      <td>http://world-fr.openfoodfacts.org/produit/0000...</td>\n",
       "      <td>usda-ndb-import</td>\n",
       "      <td>1489055731</td>\n",
       "      <td>2017-03-09T10:35:31Z</td>\n",
       "      <td>1489055731</td>\n",
       "      <td>2017-03-09T10:35:31Z</td>\n",
       "      <td>Organic Salted Nut Mix</td>\n",
       "      <td>NaN</td>\n",
       "      <td>NaN</td>\n",
       "      <td>...</td>\n",
       "      <td>NaN</td>\n",
       "      <td>NaN</td>\n",
       "      <td>NaN</td>\n",
       "      <td>NaN</td>\n",
       "      <td>NaN</td>\n",
       "      <td>NaN</td>\n",
       "      <td>0.143</td>\n",
       "      <td>0.00514</td>\n",
       "      <td>12.0</td>\n",
       "      <td>12.0</td>\n",
       "    </tr>\n",
       "    <tr>\n",
       "      <th>4</th>\n",
       "      <td>16094</td>\n",
       "      <td>http://world-fr.openfoodfacts.org/produit/0000...</td>\n",
       "      <td>usda-ndb-import</td>\n",
       "      <td>1489055653</td>\n",
       "      <td>2017-03-09T10:34:13Z</td>\n",
       "      <td>1489055653</td>\n",
       "      <td>2017-03-09T10:34:13Z</td>\n",
       "      <td>Organic Polenta</td>\n",
       "      <td>NaN</td>\n",
       "      <td>NaN</td>\n",
       "      <td>...</td>\n",
       "      <td>NaN</td>\n",
       "      <td>NaN</td>\n",
       "      <td>NaN</td>\n",
       "      <td>NaN</td>\n",
       "      <td>NaN</td>\n",
       "      <td>NaN</td>\n",
       "      <td>NaN</td>\n",
       "      <td>NaN</td>\n",
       "      <td>NaN</td>\n",
       "      <td>NaN</td>\n",
       "    </tr>\n",
       "    <tr>\n",
       "      <th>...</th>\n",
       "      <td>...</td>\n",
       "      <td>...</td>\n",
       "      <td>...</td>\n",
       "      <td>...</td>\n",
       "      <td>...</td>\n",
       "      <td>...</td>\n",
       "      <td>...</td>\n",
       "      <td>...</td>\n",
       "      <td>...</td>\n",
       "      <td>...</td>\n",
       "      <td>...</td>\n",
       "      <td>...</td>\n",
       "      <td>...</td>\n",
       "      <td>...</td>\n",
       "      <td>...</td>\n",
       "      <td>...</td>\n",
       "      <td>...</td>\n",
       "      <td>...</td>\n",
       "      <td>...</td>\n",
       "      <td>...</td>\n",
       "      <td>...</td>\n",
       "    </tr>\n",
       "    <tr>\n",
       "      <th>320767</th>\n",
       "      <td>9948282780603</td>\n",
       "      <td>http://world-fr.openfoodfacts.org/produit/9948...</td>\n",
       "      <td>openfoodfacts-contributors</td>\n",
       "      <td>1490631299</td>\n",
       "      <td>2017-03-27T16:14:59Z</td>\n",
       "      <td>1491244498</td>\n",
       "      <td>2017-04-03T18:34:58Z</td>\n",
       "      <td>Tomato &amp; ricotta</td>\n",
       "      <td>NaN</td>\n",
       "      <td>1</td>\n",
       "      <td>...</td>\n",
       "      <td>NaN</td>\n",
       "      <td>NaN</td>\n",
       "      <td>NaN</td>\n",
       "      <td>NaN</td>\n",
       "      <td>NaN</td>\n",
       "      <td>NaN</td>\n",
       "      <td>NaN</td>\n",
       "      <td>NaN</td>\n",
       "      <td>NaN</td>\n",
       "      <td>NaN</td>\n",
       "    </tr>\n",
       "    <tr>\n",
       "      <th>320768</th>\n",
       "      <td>99567453</td>\n",
       "      <td>http://world-fr.openfoodfacts.org/produit/9956...</td>\n",
       "      <td>usda-ndb-import</td>\n",
       "      <td>1489059076</td>\n",
       "      <td>2017-03-09T11:31:16Z</td>\n",
       "      <td>1491244499</td>\n",
       "      <td>2017-04-03T18:34:59Z</td>\n",
       "      <td>Mint Melange Tea A Blend Of Peppermint, Lemon ...</td>\n",
       "      <td>NaN</td>\n",
       "      <td>NaN</td>\n",
       "      <td>...</td>\n",
       "      <td>0.0000</td>\n",
       "      <td>NaN</td>\n",
       "      <td>NaN</td>\n",
       "      <td>NaN</td>\n",
       "      <td>NaN</td>\n",
       "      <td>0.0</td>\n",
       "      <td>0.000</td>\n",
       "      <td>0.00000</td>\n",
       "      <td>0.0</td>\n",
       "      <td>0.0</td>\n",
       "    </tr>\n",
       "    <tr>\n",
       "      <th>320769</th>\n",
       "      <td>9970229501521</td>\n",
       "      <td>http://world-fr.openfoodfacts.org/produit/9970...</td>\n",
       "      <td>tomato</td>\n",
       "      <td>1422099377</td>\n",
       "      <td>2015-01-24T11:36:17Z</td>\n",
       "      <td>1491244499</td>\n",
       "      <td>2017-04-03T18:34:59Z</td>\n",
       "      <td>乐吧泡菜味薯片</td>\n",
       "      <td>Leba pickle flavor potato chips</td>\n",
       "      <td>50 g</td>\n",
       "      <td>...</td>\n",
       "      <td>NaN</td>\n",
       "      <td>NaN</td>\n",
       "      <td>NaN</td>\n",
       "      <td>NaN</td>\n",
       "      <td>NaN</td>\n",
       "      <td>NaN</td>\n",
       "      <td>NaN</td>\n",
       "      <td>NaN</td>\n",
       "      <td>NaN</td>\n",
       "      <td>NaN</td>\n",
       "    </tr>\n",
       "    <tr>\n",
       "      <th>320770</th>\n",
       "      <td>9980282863788</td>\n",
       "      <td>http://world-fr.openfoodfacts.org/produit/9980...</td>\n",
       "      <td>openfoodfacts-contributors</td>\n",
       "      <td>1492340089</td>\n",
       "      <td>2017-04-16T10:54:49Z</td>\n",
       "      <td>1492340089</td>\n",
       "      <td>2017-04-16T10:54:49Z</td>\n",
       "      <td>Tomates aux Vermicelles</td>\n",
       "      <td>NaN</td>\n",
       "      <td>67g</td>\n",
       "      <td>...</td>\n",
       "      <td>NaN</td>\n",
       "      <td>NaN</td>\n",
       "      <td>NaN</td>\n",
       "      <td>NaN</td>\n",
       "      <td>NaN</td>\n",
       "      <td>NaN</td>\n",
       "      <td>NaN</td>\n",
       "      <td>NaN</td>\n",
       "      <td>NaN</td>\n",
       "      <td>NaN</td>\n",
       "    </tr>\n",
       "    <tr>\n",
       "      <th>320771</th>\n",
       "      <td>999990026839</td>\n",
       "      <td>http://world-fr.openfoodfacts.org/produit/9999...</td>\n",
       "      <td>usda-ndb-import</td>\n",
       "      <td>1489072709</td>\n",
       "      <td>2017-03-09T15:18:29Z</td>\n",
       "      <td>1491244499</td>\n",
       "      <td>2017-04-03T18:34:59Z</td>\n",
       "      <td>Sugar Free Drink Mix, Peach Tea</td>\n",
       "      <td>NaN</td>\n",
       "      <td>NaN</td>\n",
       "      <td>...</td>\n",
       "      <td>NaN</td>\n",
       "      <td>NaN</td>\n",
       "      <td>NaN</td>\n",
       "      <td>NaN</td>\n",
       "      <td>NaN</td>\n",
       "      <td>NaN</td>\n",
       "      <td>NaN</td>\n",
       "      <td>NaN</td>\n",
       "      <td>NaN</td>\n",
       "      <td>NaN</td>\n",
       "    </tr>\n",
       "  </tbody>\n",
       "</table>\n",
       "<p>320772 rows × 81 columns</p>\n",
       "</div>"
      ],
      "text/plain": [
       "                 code                                                url  \\\n",
       "0                3087  http://world-fr.openfoodfacts.org/produit/0000...   \n",
       "1                4530  http://world-fr.openfoodfacts.org/produit/0000...   \n",
       "2                4559  http://world-fr.openfoodfacts.org/produit/0000...   \n",
       "3               16087  http://world-fr.openfoodfacts.org/produit/0000...   \n",
       "4               16094  http://world-fr.openfoodfacts.org/produit/0000...   \n",
       "...               ...                                                ...   \n",
       "320767  9948282780603  http://world-fr.openfoodfacts.org/produit/9948...   \n",
       "320768       99567453  http://world-fr.openfoodfacts.org/produit/9956...   \n",
       "320769  9970229501521  http://world-fr.openfoodfacts.org/produit/9970...   \n",
       "320770  9980282863788  http://world-fr.openfoodfacts.org/produit/9980...   \n",
       "320771   999990026839  http://world-fr.openfoodfacts.org/produit/9999...   \n",
       "\n",
       "                           creator   created_t      created_datetime  \\\n",
       "0       openfoodfacts-contributors  1474103866  2016-09-17T09:17:46Z   \n",
       "1                  usda-ndb-import  1489069957  2017-03-09T14:32:37Z   \n",
       "2                  usda-ndb-import  1489069957  2017-03-09T14:32:37Z   \n",
       "3                  usda-ndb-import  1489055731  2017-03-09T10:35:31Z   \n",
       "4                  usda-ndb-import  1489055653  2017-03-09T10:34:13Z   \n",
       "...                            ...         ...                   ...   \n",
       "320767  openfoodfacts-contributors  1490631299  2017-03-27T16:14:59Z   \n",
       "320768             usda-ndb-import  1489059076  2017-03-09T11:31:16Z   \n",
       "320769                      tomato  1422099377  2015-01-24T11:36:17Z   \n",
       "320770  openfoodfacts-contributors  1492340089  2017-04-16T10:54:49Z   \n",
       "320771             usda-ndb-import  1489072709  2017-03-09T15:18:29Z   \n",
       "\n",
       "       last_modified_t last_modified_datetime  \\\n",
       "0           1474103893   2016-09-17T09:18:13Z   \n",
       "1           1489069957   2017-03-09T14:32:37Z   \n",
       "2           1489069957   2017-03-09T14:32:37Z   \n",
       "3           1489055731   2017-03-09T10:35:31Z   \n",
       "4           1489055653   2017-03-09T10:34:13Z   \n",
       "...                ...                    ...   \n",
       "320767      1491244498   2017-04-03T18:34:58Z   \n",
       "320768      1491244499   2017-04-03T18:34:59Z   \n",
       "320769      1491244499   2017-04-03T18:34:59Z   \n",
       "320770      1492340089   2017-04-16T10:54:49Z   \n",
       "320771      1491244499   2017-04-03T18:34:59Z   \n",
       "\n",
       "                                             product_name  \\\n",
       "0                                      Farine de blé noir   \n",
       "1                          Banana Chips Sweetened (Whole)   \n",
       "2                                                 Peanuts   \n",
       "3                                  Organic Salted Nut Mix   \n",
       "4                                         Organic Polenta   \n",
       "...                                                   ...   \n",
       "320767                                  Tomato & ricotta    \n",
       "320768  Mint Melange Tea A Blend Of Peppermint, Lemon ...   \n",
       "320769                                            乐吧泡菜味薯片   \n",
       "320770                           Tomates aux Vermicelles    \n",
       "320771                    Sugar Free Drink Mix, Peach Tea   \n",
       "\n",
       "                           generic_name quantity  ... vitamin-c_100g  \\\n",
       "0                                   NaN      1kg  ...            NaN   \n",
       "1                                   NaN      NaN  ...         0.0214   \n",
       "2                                   NaN      NaN  ...         0.0000   \n",
       "3                                   NaN      NaN  ...            NaN   \n",
       "4                                   NaN      NaN  ...            NaN   \n",
       "...                                 ...      ...  ...            ...   \n",
       "320767                              NaN        1  ...            NaN   \n",
       "320768                              NaN      NaN  ...         0.0000   \n",
       "320769  Leba pickle flavor potato chips     50 g  ...            NaN   \n",
       "320770                              NaN      67g  ...            NaN   \n",
       "320771                              NaN      NaN  ...            NaN   \n",
       "\n",
       "       vitamin-b1_100g vitamin-b2_100g vitamin-pp_100g vitamin-b6_100g  \\\n",
       "0                  NaN             NaN             NaN             NaN   \n",
       "1                  NaN             NaN             NaN             NaN   \n",
       "2                  NaN             NaN             NaN             NaN   \n",
       "3                  NaN             NaN             NaN             NaN   \n",
       "4                  NaN             NaN             NaN             NaN   \n",
       "...                ...             ...             ...             ...   \n",
       "320767             NaN             NaN             NaN             NaN   \n",
       "320768             NaN             NaN             NaN             NaN   \n",
       "320769             NaN             NaN             NaN             NaN   \n",
       "320770             NaN             NaN             NaN             NaN   \n",
       "320771             NaN             NaN             NaN             NaN   \n",
       "\n",
       "       potassium_100g calcium_100g iron_100g nutrition-score-fr_100g  \\\n",
       "0                 NaN          NaN       NaN                     NaN   \n",
       "1                 NaN        0.000   0.00129                    14.0   \n",
       "2                 NaN        0.071   0.00129                     0.0   \n",
       "3                 NaN        0.143   0.00514                    12.0   \n",
       "4                 NaN          NaN       NaN                     NaN   \n",
       "...               ...          ...       ...                     ...   \n",
       "320767            NaN          NaN       NaN                     NaN   \n",
       "320768            0.0        0.000   0.00000                     0.0   \n",
       "320769            NaN          NaN       NaN                     NaN   \n",
       "320770            NaN          NaN       NaN                     NaN   \n",
       "320771            NaN          NaN       NaN                     NaN   \n",
       "\n",
       "       nutrition-score-uk_100g  \n",
       "0                          NaN  \n",
       "1                         14.0  \n",
       "2                          0.0  \n",
       "3                         12.0  \n",
       "4                          NaN  \n",
       "...                        ...  \n",
       "320767                     NaN  \n",
       "320768                     0.0  \n",
       "320769                     NaN  \n",
       "320770                     NaN  \n",
       "320771                     NaN  \n",
       "\n",
       "[320772 rows x 81 columns]"
      ]
     },
     "execution_count": 165,
     "metadata": {},
     "output_type": "execute_result"
    }
   ],
   "source": [
    "data"
   ]
  },
  {
   "cell_type": "code",
   "execution_count": 8,
   "id": "3ebd41a0",
   "metadata": {},
   "outputs": [
    {
     "data": {
      "text/plain": [
       "81"
      ]
     },
     "execution_count": 8,
     "metadata": {},
     "output_type": "execute_result"
    }
   ],
   "source": [
    "len(col_filter)"
   ]
  },
  {
   "cell_type": "code",
   "execution_count": 9,
   "id": "3ba0a6c2",
   "metadata": {},
   "outputs": [
    {
     "name": "stdout",
     "output_type": "stream",
     "text": [
      "['code', 'url', 'creator', 'created_t', 'created_datetime', 'last_modified_t', 'last_modified_datetime', 'product_name', 'generic_name', 'quantity', 'packaging', 'packaging_tags', 'brands', 'brands_tags', 'categories', 'categories_tags', 'categories_fr', 'origins', 'origins_tags', 'manufacturing_places', 'manufacturing_places_tags', 'labels', 'labels_tags', 'labels_fr', 'emb_codes', 'emb_codes_tags', 'first_packaging_code_geo', 'cities_tags', 'purchase_places', 'stores', 'countries', 'countries_tags', 'countries_fr', 'ingredients_text', 'allergens', 'traces', 'traces_tags', 'traces_fr', 'serving_size', 'additives_n', 'additives', 'additives_tags', 'additives_fr', 'ingredients_from_palm_oil_n', 'ingredients_that_may_be_from_palm_oil_n', 'ingredients_that_may_be_from_palm_oil_tags', 'nutrition_grade_fr', 'pnns_groups_1', 'pnns_groups_2', 'states', 'states_tags', 'states_fr', 'main_category', 'main_category_fr', 'image_url', 'image_small_url', 'energy_100g', 'fat_100g', 'saturated-fat_100g', 'monounsaturated-fat_100g', 'polyunsaturated-fat_100g', 'trans-fat_100g', 'cholesterol_100g', 'carbohydrates_100g', 'sugars_100g', 'fiber_100g', 'proteins_100g', 'salt_100g', 'sodium_100g', 'vitamin-a_100g', 'vitamin-d_100g', 'vitamin-c_100g', 'vitamin-b1_100g', 'vitamin-b2_100g', 'vitamin-pp_100g', 'vitamin-b6_100g', 'potassium_100g', 'calcium_100g', 'iron_100g', 'nutrition-score-fr_100g', 'nutrition-score-uk_100g']\n"
     ]
    }
   ],
   "source": [
    "print(data.columns.tolist())"
   ]
  },
  {
   "cell_type": "markdown",
   "id": "31a498f3",
   "metadata": {},
   "source": [
    "## Suppression des doublons"
   ]
  },
  {
   "cell_type": "code",
   "execution_count": 588,
   "id": "4050b8ea",
   "metadata": {},
   "outputs": [
    {
     "data": {
      "text/html": [
       "<div>\n",
       "<style scoped>\n",
       "    .dataframe tbody tr th:only-of-type {\n",
       "        vertical-align: middle;\n",
       "    }\n",
       "\n",
       "    .dataframe tbody tr th {\n",
       "        vertical-align: top;\n",
       "    }\n",
       "\n",
       "    .dataframe thead th {\n",
       "        text-align: right;\n",
       "    }\n",
       "</style>\n",
       "<table border=\"1\" class=\"dataframe\">\n",
       "  <thead>\n",
       "    <tr style=\"text-align: right;\">\n",
       "      <th></th>\n",
       "      <th>code</th>\n",
       "      <th>url</th>\n",
       "      <th>creator</th>\n",
       "      <th>created_t</th>\n",
       "      <th>created_datetime</th>\n",
       "      <th>last_modified_t</th>\n",
       "      <th>last_modified_datetime</th>\n",
       "      <th>product_name</th>\n",
       "      <th>generic_name</th>\n",
       "      <th>quantity</th>\n",
       "      <th>...</th>\n",
       "      <th>vitamin-c_100g</th>\n",
       "      <th>vitamin-b1_100g</th>\n",
       "      <th>vitamin-b2_100g</th>\n",
       "      <th>vitamin-pp_100g</th>\n",
       "      <th>vitamin-b6_100g</th>\n",
       "      <th>potassium_100g</th>\n",
       "      <th>calcium_100g</th>\n",
       "      <th>iron_100g</th>\n",
       "      <th>nutrition-score-fr_100g</th>\n",
       "      <th>nutrition-score-uk_100g</th>\n",
       "    </tr>\n",
       "  </thead>\n",
       "  <tbody>\n",
       "    <tr>\n",
       "      <th>0</th>\n",
       "      <td>3087</td>\n",
       "      <td>http://world-fr.openfoodfacts.org/produit/0000...</td>\n",
       "      <td>openfoodfacts-contributors</td>\n",
       "      <td>1474103866</td>\n",
       "      <td>2016-09-17T09:17:46Z</td>\n",
       "      <td>1474103893</td>\n",
       "      <td>2016-09-17T09:18:13Z</td>\n",
       "      <td>Farine de blé noir</td>\n",
       "      <td>NaN</td>\n",
       "      <td>1kg</td>\n",
       "      <td>...</td>\n",
       "      <td>NaN</td>\n",
       "      <td>NaN</td>\n",
       "      <td>NaN</td>\n",
       "      <td>NaN</td>\n",
       "      <td>NaN</td>\n",
       "      <td>NaN</td>\n",
       "      <td>NaN</td>\n",
       "      <td>NaN</td>\n",
       "      <td>NaN</td>\n",
       "      <td>NaN</td>\n",
       "    </tr>\n",
       "    <tr>\n",
       "      <th>1</th>\n",
       "      <td>4530</td>\n",
       "      <td>http://world-fr.openfoodfacts.org/produit/0000...</td>\n",
       "      <td>usda-ndb-import</td>\n",
       "      <td>1489069957</td>\n",
       "      <td>2017-03-09T14:32:37Z</td>\n",
       "      <td>1489069957</td>\n",
       "      <td>2017-03-09T14:32:37Z</td>\n",
       "      <td>Banana Chips Sweetened (Whole)</td>\n",
       "      <td>NaN</td>\n",
       "      <td>NaN</td>\n",
       "      <td>...</td>\n",
       "      <td>0.0214</td>\n",
       "      <td>NaN</td>\n",
       "      <td>NaN</td>\n",
       "      <td>NaN</td>\n",
       "      <td>NaN</td>\n",
       "      <td>NaN</td>\n",
       "      <td>0.000</td>\n",
       "      <td>0.00129</td>\n",
       "      <td>14.0</td>\n",
       "      <td>14.0</td>\n",
       "    </tr>\n",
       "    <tr>\n",
       "      <th>2</th>\n",
       "      <td>4559</td>\n",
       "      <td>http://world-fr.openfoodfacts.org/produit/0000...</td>\n",
       "      <td>usda-ndb-import</td>\n",
       "      <td>1489069957</td>\n",
       "      <td>2017-03-09T14:32:37Z</td>\n",
       "      <td>1489069957</td>\n",
       "      <td>2017-03-09T14:32:37Z</td>\n",
       "      <td>Peanuts</td>\n",
       "      <td>NaN</td>\n",
       "      <td>NaN</td>\n",
       "      <td>...</td>\n",
       "      <td>0.0000</td>\n",
       "      <td>NaN</td>\n",
       "      <td>NaN</td>\n",
       "      <td>NaN</td>\n",
       "      <td>NaN</td>\n",
       "      <td>NaN</td>\n",
       "      <td>0.071</td>\n",
       "      <td>0.00129</td>\n",
       "      <td>0.0</td>\n",
       "      <td>0.0</td>\n",
       "    </tr>\n",
       "    <tr>\n",
       "      <th>3</th>\n",
       "      <td>16087</td>\n",
       "      <td>http://world-fr.openfoodfacts.org/produit/0000...</td>\n",
       "      <td>usda-ndb-import</td>\n",
       "      <td>1489055731</td>\n",
       "      <td>2017-03-09T10:35:31Z</td>\n",
       "      <td>1489055731</td>\n",
       "      <td>2017-03-09T10:35:31Z</td>\n",
       "      <td>Organic Salted Nut Mix</td>\n",
       "      <td>NaN</td>\n",
       "      <td>NaN</td>\n",
       "      <td>...</td>\n",
       "      <td>NaN</td>\n",
       "      <td>NaN</td>\n",
       "      <td>NaN</td>\n",
       "      <td>NaN</td>\n",
       "      <td>NaN</td>\n",
       "      <td>NaN</td>\n",
       "      <td>0.143</td>\n",
       "      <td>0.00514</td>\n",
       "      <td>12.0</td>\n",
       "      <td>12.0</td>\n",
       "    </tr>\n",
       "    <tr>\n",
       "      <th>4</th>\n",
       "      <td>16094</td>\n",
       "      <td>http://world-fr.openfoodfacts.org/produit/0000...</td>\n",
       "      <td>usda-ndb-import</td>\n",
       "      <td>1489055653</td>\n",
       "      <td>2017-03-09T10:34:13Z</td>\n",
       "      <td>1489055653</td>\n",
       "      <td>2017-03-09T10:34:13Z</td>\n",
       "      <td>Organic Polenta</td>\n",
       "      <td>NaN</td>\n",
       "      <td>NaN</td>\n",
       "      <td>...</td>\n",
       "      <td>NaN</td>\n",
       "      <td>NaN</td>\n",
       "      <td>NaN</td>\n",
       "      <td>NaN</td>\n",
       "      <td>NaN</td>\n",
       "      <td>NaN</td>\n",
       "      <td>NaN</td>\n",
       "      <td>NaN</td>\n",
       "      <td>NaN</td>\n",
       "      <td>NaN</td>\n",
       "    </tr>\n",
       "    <tr>\n",
       "      <th>...</th>\n",
       "      <td>...</td>\n",
       "      <td>...</td>\n",
       "      <td>...</td>\n",
       "      <td>...</td>\n",
       "      <td>...</td>\n",
       "      <td>...</td>\n",
       "      <td>...</td>\n",
       "      <td>...</td>\n",
       "      <td>...</td>\n",
       "      <td>...</td>\n",
       "      <td>...</td>\n",
       "      <td>...</td>\n",
       "      <td>...</td>\n",
       "      <td>...</td>\n",
       "      <td>...</td>\n",
       "      <td>...</td>\n",
       "      <td>...</td>\n",
       "      <td>...</td>\n",
       "      <td>...</td>\n",
       "      <td>...</td>\n",
       "      <td>...</td>\n",
       "    </tr>\n",
       "    <tr>\n",
       "      <th>320767</th>\n",
       "      <td>9948282780603</td>\n",
       "      <td>http://world-fr.openfoodfacts.org/produit/9948...</td>\n",
       "      <td>openfoodfacts-contributors</td>\n",
       "      <td>1490631299</td>\n",
       "      <td>2017-03-27T16:14:59Z</td>\n",
       "      <td>1491244498</td>\n",
       "      <td>2017-04-03T18:34:58Z</td>\n",
       "      <td>Tomato &amp; ricotta</td>\n",
       "      <td>NaN</td>\n",
       "      <td>1</td>\n",
       "      <td>...</td>\n",
       "      <td>NaN</td>\n",
       "      <td>NaN</td>\n",
       "      <td>NaN</td>\n",
       "      <td>NaN</td>\n",
       "      <td>NaN</td>\n",
       "      <td>NaN</td>\n",
       "      <td>NaN</td>\n",
       "      <td>NaN</td>\n",
       "      <td>NaN</td>\n",
       "      <td>NaN</td>\n",
       "    </tr>\n",
       "    <tr>\n",
       "      <th>320768</th>\n",
       "      <td>99567453</td>\n",
       "      <td>http://world-fr.openfoodfacts.org/produit/9956...</td>\n",
       "      <td>usda-ndb-import</td>\n",
       "      <td>1489059076</td>\n",
       "      <td>2017-03-09T11:31:16Z</td>\n",
       "      <td>1491244499</td>\n",
       "      <td>2017-04-03T18:34:59Z</td>\n",
       "      <td>Mint Melange Tea A Blend Of Peppermint, Lemon ...</td>\n",
       "      <td>NaN</td>\n",
       "      <td>NaN</td>\n",
       "      <td>...</td>\n",
       "      <td>0.0000</td>\n",
       "      <td>NaN</td>\n",
       "      <td>NaN</td>\n",
       "      <td>NaN</td>\n",
       "      <td>NaN</td>\n",
       "      <td>0.0</td>\n",
       "      <td>0.000</td>\n",
       "      <td>0.00000</td>\n",
       "      <td>0.0</td>\n",
       "      <td>0.0</td>\n",
       "    </tr>\n",
       "    <tr>\n",
       "      <th>320769</th>\n",
       "      <td>9970229501521</td>\n",
       "      <td>http://world-fr.openfoodfacts.org/produit/9970...</td>\n",
       "      <td>tomato</td>\n",
       "      <td>1422099377</td>\n",
       "      <td>2015-01-24T11:36:17Z</td>\n",
       "      <td>1491244499</td>\n",
       "      <td>2017-04-03T18:34:59Z</td>\n",
       "      <td>乐吧泡菜味薯片</td>\n",
       "      <td>Leba pickle flavor potato chips</td>\n",
       "      <td>50 g</td>\n",
       "      <td>...</td>\n",
       "      <td>NaN</td>\n",
       "      <td>NaN</td>\n",
       "      <td>NaN</td>\n",
       "      <td>NaN</td>\n",
       "      <td>NaN</td>\n",
       "      <td>NaN</td>\n",
       "      <td>NaN</td>\n",
       "      <td>NaN</td>\n",
       "      <td>NaN</td>\n",
       "      <td>NaN</td>\n",
       "    </tr>\n",
       "    <tr>\n",
       "      <th>320770</th>\n",
       "      <td>9980282863788</td>\n",
       "      <td>http://world-fr.openfoodfacts.org/produit/9980...</td>\n",
       "      <td>openfoodfacts-contributors</td>\n",
       "      <td>1492340089</td>\n",
       "      <td>2017-04-16T10:54:49Z</td>\n",
       "      <td>1492340089</td>\n",
       "      <td>2017-04-16T10:54:49Z</td>\n",
       "      <td>Tomates aux Vermicelles</td>\n",
       "      <td>NaN</td>\n",
       "      <td>67g</td>\n",
       "      <td>...</td>\n",
       "      <td>NaN</td>\n",
       "      <td>NaN</td>\n",
       "      <td>NaN</td>\n",
       "      <td>NaN</td>\n",
       "      <td>NaN</td>\n",
       "      <td>NaN</td>\n",
       "      <td>NaN</td>\n",
       "      <td>NaN</td>\n",
       "      <td>NaN</td>\n",
       "      <td>NaN</td>\n",
       "    </tr>\n",
       "    <tr>\n",
       "      <th>320771</th>\n",
       "      <td>999990026839</td>\n",
       "      <td>http://world-fr.openfoodfacts.org/produit/9999...</td>\n",
       "      <td>usda-ndb-import</td>\n",
       "      <td>1489072709</td>\n",
       "      <td>2017-03-09T15:18:29Z</td>\n",
       "      <td>1491244499</td>\n",
       "      <td>2017-04-03T18:34:59Z</td>\n",
       "      <td>Sugar Free Drink Mix, Peach Tea</td>\n",
       "      <td>NaN</td>\n",
       "      <td>NaN</td>\n",
       "      <td>...</td>\n",
       "      <td>NaN</td>\n",
       "      <td>NaN</td>\n",
       "      <td>NaN</td>\n",
       "      <td>NaN</td>\n",
       "      <td>NaN</td>\n",
       "      <td>NaN</td>\n",
       "      <td>NaN</td>\n",
       "      <td>NaN</td>\n",
       "      <td>NaN</td>\n",
       "      <td>NaN</td>\n",
       "    </tr>\n",
       "  </tbody>\n",
       "</table>\n",
       "<p>320772 rows × 81 columns</p>\n",
       "</div>"
      ],
      "text/plain": [
       "                 code                                                url  \\\n",
       "0                3087  http://world-fr.openfoodfacts.org/produit/0000...   \n",
       "1                4530  http://world-fr.openfoodfacts.org/produit/0000...   \n",
       "2                4559  http://world-fr.openfoodfacts.org/produit/0000...   \n",
       "3               16087  http://world-fr.openfoodfacts.org/produit/0000...   \n",
       "4               16094  http://world-fr.openfoodfacts.org/produit/0000...   \n",
       "...               ...                                                ...   \n",
       "320767  9948282780603  http://world-fr.openfoodfacts.org/produit/9948...   \n",
       "320768       99567453  http://world-fr.openfoodfacts.org/produit/9956...   \n",
       "320769  9970229501521  http://world-fr.openfoodfacts.org/produit/9970...   \n",
       "320770  9980282863788  http://world-fr.openfoodfacts.org/produit/9980...   \n",
       "320771   999990026839  http://world-fr.openfoodfacts.org/produit/9999...   \n",
       "\n",
       "                           creator   created_t      created_datetime  \\\n",
       "0       openfoodfacts-contributors  1474103866  2016-09-17T09:17:46Z   \n",
       "1                  usda-ndb-import  1489069957  2017-03-09T14:32:37Z   \n",
       "2                  usda-ndb-import  1489069957  2017-03-09T14:32:37Z   \n",
       "3                  usda-ndb-import  1489055731  2017-03-09T10:35:31Z   \n",
       "4                  usda-ndb-import  1489055653  2017-03-09T10:34:13Z   \n",
       "...                            ...         ...                   ...   \n",
       "320767  openfoodfacts-contributors  1490631299  2017-03-27T16:14:59Z   \n",
       "320768             usda-ndb-import  1489059076  2017-03-09T11:31:16Z   \n",
       "320769                      tomato  1422099377  2015-01-24T11:36:17Z   \n",
       "320770  openfoodfacts-contributors  1492340089  2017-04-16T10:54:49Z   \n",
       "320771             usda-ndb-import  1489072709  2017-03-09T15:18:29Z   \n",
       "\n",
       "       last_modified_t last_modified_datetime  \\\n",
       "0           1474103893   2016-09-17T09:18:13Z   \n",
       "1           1489069957   2017-03-09T14:32:37Z   \n",
       "2           1489069957   2017-03-09T14:32:37Z   \n",
       "3           1489055731   2017-03-09T10:35:31Z   \n",
       "4           1489055653   2017-03-09T10:34:13Z   \n",
       "...                ...                    ...   \n",
       "320767      1491244498   2017-04-03T18:34:58Z   \n",
       "320768      1491244499   2017-04-03T18:34:59Z   \n",
       "320769      1491244499   2017-04-03T18:34:59Z   \n",
       "320770      1492340089   2017-04-16T10:54:49Z   \n",
       "320771      1491244499   2017-04-03T18:34:59Z   \n",
       "\n",
       "                                             product_name  \\\n",
       "0                                      Farine de blé noir   \n",
       "1                          Banana Chips Sweetened (Whole)   \n",
       "2                                                 Peanuts   \n",
       "3                                  Organic Salted Nut Mix   \n",
       "4                                         Organic Polenta   \n",
       "...                                                   ...   \n",
       "320767                                  Tomato & ricotta    \n",
       "320768  Mint Melange Tea A Blend Of Peppermint, Lemon ...   \n",
       "320769                                            乐吧泡菜味薯片   \n",
       "320770                           Tomates aux Vermicelles    \n",
       "320771                    Sugar Free Drink Mix, Peach Tea   \n",
       "\n",
       "                           generic_name quantity  ... vitamin-c_100g  \\\n",
       "0                                   NaN      1kg  ...            NaN   \n",
       "1                                   NaN      NaN  ...         0.0214   \n",
       "2                                   NaN      NaN  ...         0.0000   \n",
       "3                                   NaN      NaN  ...            NaN   \n",
       "4                                   NaN      NaN  ...            NaN   \n",
       "...                                 ...      ...  ...            ...   \n",
       "320767                              NaN        1  ...            NaN   \n",
       "320768                              NaN      NaN  ...         0.0000   \n",
       "320769  Leba pickle flavor potato chips     50 g  ...            NaN   \n",
       "320770                              NaN      67g  ...            NaN   \n",
       "320771                              NaN      NaN  ...            NaN   \n",
       "\n",
       "       vitamin-b1_100g vitamin-b2_100g vitamin-pp_100g vitamin-b6_100g  \\\n",
       "0                  NaN             NaN             NaN             NaN   \n",
       "1                  NaN             NaN             NaN             NaN   \n",
       "2                  NaN             NaN             NaN             NaN   \n",
       "3                  NaN             NaN             NaN             NaN   \n",
       "4                  NaN             NaN             NaN             NaN   \n",
       "...                ...             ...             ...             ...   \n",
       "320767             NaN             NaN             NaN             NaN   \n",
       "320768             NaN             NaN             NaN             NaN   \n",
       "320769             NaN             NaN             NaN             NaN   \n",
       "320770             NaN             NaN             NaN             NaN   \n",
       "320771             NaN             NaN             NaN             NaN   \n",
       "\n",
       "       potassium_100g calcium_100g iron_100g nutrition-score-fr_100g  \\\n",
       "0                 NaN          NaN       NaN                     NaN   \n",
       "1                 NaN        0.000   0.00129                    14.0   \n",
       "2                 NaN        0.071   0.00129                     0.0   \n",
       "3                 NaN        0.143   0.00514                    12.0   \n",
       "4                 NaN          NaN       NaN                     NaN   \n",
       "...               ...          ...       ...                     ...   \n",
       "320767            NaN          NaN       NaN                     NaN   \n",
       "320768            0.0        0.000   0.00000                     0.0   \n",
       "320769            NaN          NaN       NaN                     NaN   \n",
       "320770            NaN          NaN       NaN                     NaN   \n",
       "320771            NaN          NaN       NaN                     NaN   \n",
       "\n",
       "       nutrition-score-uk_100g  \n",
       "0                          NaN  \n",
       "1                         14.0  \n",
       "2                          0.0  \n",
       "3                         12.0  \n",
       "4                          NaN  \n",
       "...                        ...  \n",
       "320767                     NaN  \n",
       "320768                     0.0  \n",
       "320769                     NaN  \n",
       "320770                     NaN  \n",
       "320771                     NaN  \n",
       "\n",
       "[320772 rows x 81 columns]"
      ]
     },
     "execution_count": 588,
     "metadata": {},
     "output_type": "execute_result"
    }
   ],
   "source": [
    "data = data.drop_duplicates(keep = 'first')# Pour garder le premier élement dupliqué.\n",
    "data"
   ]
  },
  {
   "cell_type": "markdown",
   "id": "2ec31a7b",
   "metadata": {},
   "source": [
    "## Traitement des pays"
   ]
  },
  {
   "cell_type": "code",
   "execution_count": 11,
   "id": "0b44f562",
   "metadata": {},
   "outputs": [],
   "source": [
    "new_data = copy.deepcopy(data)"
   ]
  },
  {
   "cell_type": "code",
   "execution_count": 631,
   "id": "ec92df8a",
   "metadata": {},
   "outputs": [],
   "source": [
    "\n",
    "#data.replace(\"en:Etats-unis\", \"États-Unis\", inplace = True, regex = True)"
   ]
  },
  {
   "cell_type": "code",
   "execution_count": 632,
   "id": "6d928379",
   "metadata": {},
   "outputs": [
    {
     "data": {
      "text/plain": [
       "array(['France', 'États-Unis', 'Royaume-Uni', 'France,États-Unis',\n",
       "       'Canada', 'Suisse', 'Espagne', 'Allemagne', 'Slovénie', 'Italie',\n",
       "       'Roumanie', 'Australie', 'Portugal', 'France,Royaume-Uni',\n",
       "       'Belgique,France,Pays-Bas,Royaume-Uni', 'Guadeloupe', nan,\n",
       "       'Royaume-Uni,États-Unis', 'Canada,États-Unis', 'Pays-Bas',\n",
       "       'Australie,France', 'Canada,France,Suisse,États-Unis',\n",
       "       'France,États-Unis,États-Unis', 'Irlande', 'France,La Réunion',\n",
       "       'Taiwan', 'Australie,Suisse', 'France,Allemagne', 'Brésil',\n",
       "       'Belgique,France', 'République dominicaine',\n",
       "       'États-Unis,en:Australie', 'Arabie saoudite',\n",
       "       'Émirats arabes unis', 'Irak', 'Koweït', 'Moldavie', 'Belgique',\n",
       "       'Nouvelle-Calédonie', 'Singapour', 'Finlande',\n",
       "       'Australie,États-Unis', 'France,Suisse',\n",
       "       'Australie,Nouvelle-Zélande,Singapour,Thaïlande,États-Unis',\n",
       "       'Polynésie française', 'Panama', 'Costa Rica', 'Mexique',\n",
       "       'États-Unis,en:Pays-bas', 'Espagne,Royaume-Uni,en:Scotland',\n",
       "       'Polynésie française,États-Unis', 'Thaïlande', 'Chine',\n",
       "       'Luxembourg', 'Liban', 'Suisse,États-Unis', 'Allemagne,États-Unis',\n",
       "       'États-Unis,Allemagne', 'France,Suisse,États-Unis',\n",
       "       'Belgique,Suisse,États-Unis', 'Danemark,États-Unis,en:Spanien',\n",
       "       'États-Unis,en:Belgie,en:Nederland', 'Belgique,Suisse',\n",
       "       'Malaisie,États-Unis', 'Guyana,États-Unis', 'Serbie', 'Martinique',\n",
       "       'Barbade', 'Aruba', 'Hong Kong', 'Norvège', 'Haïti', 'Salvador',\n",
       "       'Bahreïn,États-Unis', 'France,Italie', 'Taiwan,États-Unis',\n",
       "       'La Réunion', 'Maroc', 'Oman', 'Corée du Sud', 'Trinité-et-Tobago',\n",
       "       'États-Unis,en:Niederlande', 'Chili', 'Cuba',\n",
       "       'France,Royaume-Uni,États-Unis', 'Italie,États-Unis',\n",
       "       'Suisse,Royaume-Uni', 'Philippines', 'Espagne,États-Unis',\n",
       "       'Panama,États-Unis', 'en:United-states-of-america',\n",
       "       'Australie,France,Royaume-Uni', 'Autriche', 'Suède', 'Guinée',\n",
       "       'Costa Rica,États-Unis', 'Israël,États-Unis', 'Chine,Suisse',\n",
       "       'Russie', 'Saint-Pierre-et-Miquelon', 'Canada,France', 'Algérie',\n",
       "       'Pays-Bas,États-Unis', 'Quebec', 'République tchèque',\n",
       "       'Canada,Quebec', 'Canada,France,Suisse',\n",
       "       'Belgique,Canada,France,Suisse', 'Royaume-Uni,en:Czech',\n",
       "       'France,Saint-Pierre-et-Miquelon', 'Canada,Portugal',\n",
       "       'Allemagne,Suisse', 'France,Russie,Espagne,Royaume-Uni', 'Maurice',\n",
       "       'Indonésie', 'Arménie', 'France,Suisse,Royaume-Uni',\n",
       "       'France,Nouvelle-Zélande', \"Côte d'Ivoire\", 'Autriche,Suisse',\n",
       "       'Pologne', 'Grèce', 'Mexique,États-Unis', 'Espagne,Royaume-Uni',\n",
       "       'Inde,Royaume-Uni,États-Unis', 'Belgique,France,Royaume-Uni',\n",
       "       'Singapour,États-Unis', 'Inde', 'Équateur', 'Turquie', 'Cambodge',\n",
       "       'Chili,États-Unis', 'Nouvelle-Calédonie,États-Unis',\n",
       "       'Hong Kong,États-Unis', 'États-Unis,en:香港',\n",
       "       'Canada,France,États-Unis', 'Grèce,États-Unis', 'Argentine',\n",
       "       'France,Pays-Bas', 'France,Pays-Bas,Royaume-Uni',\n",
       "       'République tchèque,Royaume-Uni', 'Union européenne', 'Jordanie',\n",
       "       'Australie,Indonésie,États-Unis', 'Australie,Indonésie', 'Japon',\n",
       "       'Israël', 'Colombie', 'Burundi', 'France,Qatar', 'Tunisie',\n",
       "       'Danemark,Norvège,Suède', 'Danemark', 'Algérie,France',\n",
       "       'France,Guyane', 'Belgique,France,Pays-Bas', 'Bulgarie', 'Hongrie',\n",
       "       'Pérou', 'France,Tunisie', 'Porto Rico', 'Belgique,France,Suisse',\n",
       "       'Belgique,États-Unis', 'Monaco', 'Nigeria', 'Guyane', 'Honduras',\n",
       "       'Belgique,France,Saint-Pierre-et-Miquelon', 'Égypte',\n",
       "       'Chypre,Royaume-Uni', 'Venezuela', 'France,en:An',\n",
       "       'Afrique du Sud', 'Autriche,États-Unis', 'Australie,Philippines',\n",
       "       'Espagne,Suisse', 'France,Japon', \"Côte d'Ivoire,États-Unis\",\n",
       "       'Mongolie', 'Birmanie', 'France,Inde', 'Bahreïn',\n",
       "       'France,Portugal,Royaume-Uni',\n",
       "       'France,Guyane,Grèce,Guadeloupe,Suriname,Royaume-Uni', 'Pakistan',\n",
       "       'Qatar', 'Chili,France,Espagne,Suisse,Royaume-Uni',\n",
       "       'Belgique,France,États-Unis', 'Cameroun',\n",
       "       'États-Unis,Îles Vierges des États-Unis',\n",
       "       'France,États-Unis,en:Royaume-uni', 'Danemark,France,Royaume-Uni',\n",
       "       'Finlande,Portugal,Espagne,Suède,Royaume-Uni', 'Slovaquie',\n",
       "       'Lituanie,Royaume-Uni', 'Portugal,Espagne,Royaume-Uni', 'Sénégal',\n",
       "       'France,Sénégal', 'France,Luxembourg', 'Allemagne,Espagne',\n",
       "       'Other-العراق', 'Togo', 'Islande', 'Belgique,Allemagne',\n",
       "       'Belgique,France,Allemagne,Suisse',\n",
       "       'Allemagne,Royaume-Uni,États-Unis', 'Autriche,Allemagne,Pays-Bas',\n",
       "       'Australie,Allemagne', 'Hongrie,Roumanie,Royaume-Uni',\n",
       "       'Allemagne,de:Weltweit,en:Worldwide',\n",
       "       'France,Royaume-Uni,en:Angleterre',\n",
       "       'Russie,Union des républiques socialistes soviétiques',\n",
       "       'en:Global-market', 'en:الإمارات-العربية-المتحدة',\n",
       "       'Colombie,Ukraine,en:Czech,en:All-over-the-world', 'en:Island',\n",
       "       'World',\n",
       "       'Danemark,France,Italie,Pays-Bas,Pologne,Portugal,Espagne',\n",
       "       'en:Gulf-countries,en:السعودية', 'en:Turkiye', 'Chili,France',\n",
       "       'en:السعودية', 'France,Allemagne,Espagne', 'France,Espagne',\n",
       "       'France,Allemagne,Roumanie,Royaume-Uni,Scotland',\n",
       "       'Allemagne,Portugal,Espagne', 'Allemagne,Italie',\n",
       "       'Allemagne,Portugal', 'France,Allemagne,Suisse',\n",
       "       'France,Portugal,Espagne',\n",
       "       'Danemark,Finlande,Allemagne,Italie,Portugal,Espagne,Suède,Royaume-Uni',\n",
       "       'France,Maroc', 'France,La Réunion,Suisse',\n",
       "       'République tchèque,France', 'Ukraine', 'Portugal,Espagne',\n",
       "       'France,Portugal', 'France,en:Allemagne',\n",
       "       'France,Allemagne,Italie', 'en:Scotland,Royaume-Uni',\n",
       "       'France,Slovénie', 'Autriche,Espagne', 'France,Suède',\n",
       "       'Autriche,Allemagne', 'Belgique,France,Allemagne',\n",
       "       'France,Royaume-Uni,en:Scotland', 'France,Allemagne,Italie,Suisse',\n",
       "       'France,Allemagne,Vereinigtes-konigreich',\n",
       "       'France,Allemagne,Portugal,Espagne', 'en:Belgie',\n",
       "       'Autriche,République tchèque,France,Allemagne',\n",
       "       'Allemagne,Royaume-Uni', 'Autriche,France,Allemagne',\n",
       "       'France,en:Scotland',\n",
       "       'Belgique,France,Allemagne,Italie,Pays-Bas,Portugal,Espagne',\n",
       "       'Autriche,France,Allemagne,Italie,Suisse',\n",
       "       'Belgique,France,Allemagne,Irlande,Pays-Bas,Portugal,Espagne,Royaume-Uni',\n",
       "       'Albanie', 'France,Allemagne,Royaume-Uni', 'Pologne,Royaume-Uni',\n",
       "       'Belgique,France,Allemagne,Italie,Pays-Bas',\n",
       "       'France,Italie,Suisse', 'Royaume-Uni,en:Scotland',\n",
       "       'France,Allemagne,Pays-Bas,Espagne', 'France,77-provins',\n",
       "       'France,Irlande,Royaume-Uni', 'Malte', 'Croatie',\n",
       "       'Belgique,France,Allemagne,Pays-Bas,Portugal,Espagne',\n",
       "       'France,Irlande', 'Belgique,République tchèque,France',\n",
       "       'Danemark,Pologne,Portugal,Espagne', 'Belgique,Pays-Bas',\n",
       "       'Portugal,Suède', 'Belgique,Luxembourg',\n",
       "       'République tchèque,Allemagne', 'Malawi', 'France,Guadeloupe',\n",
       "       'France,Nouvelle-Calédonie',\n",
       "       'Belgique,Brésil,Canada,France,Suisse',\n",
       "       'Belgique,France,Italie,Maroc,Suisse,Royaume-Uni',\n",
       "       'Algérie,Belgique,Canada,France,Polynésie française,Allemagne,Irlande,Italie,Liban,Luxembourg,Mali,Martinique,Maroc,Pays-Bas,Nouvelle-Calédonie,Portugal,La Réunion,Espagne,Suisse,Tunisie,Royaume-Uni,États-Unis',\n",
       "       'Algérie,Belgique,Canada,France,Allemagne,Italie,Mali,Martinique,Espagne,Suisse',\n",
       "       'Belgique,Danemark,France,Suisse', 'Polynésie française,Suisse',\n",
       "       'Belgique,France,La Réunion,Suisse', 'France,Monaco,Suisse',\n",
       "       'Belgique,France,Polynésie française,Martinique,Suisse', 'Gabon',\n",
       "       'France,Saint-Pierre-et-Miquelon,Suisse',\n",
       "       'Suisse,Deutschland,Frankreich', 'Danemark,France', 'Kazakhstan',\n",
       "       'Belgique,France,Luxembourg', 'en:whole-milk-yogurts',\n",
       "       'en:stirred-yogurts', 'en:yogurts', 'en:fruit-yogurts',\n",
       "       'en:dairies', 'France,Mali', 'France,Gabon',\n",
       "       'Belgique,France,Espagne,Suisse',\n",
       "       'Danemark,France,Suisse,Royaume-Uni', 'République du Congo',\n",
       "       'France,Allemagne,Portugal,Suisse', 'France,Espagne,Suisse',\n",
       "       'Malaisie', 'Autriche,France,Allemagne,Italie,Pays-Bas,Suisse',\n",
       "       'Danemark,Suisse,es:Franciaorszag,es:Magyarorszag,es:Nagy-britannia,es:Portugalia,es:Spanyolorszag',\n",
       "       'Belgique,Danemark,Suisse,es:Franciaorszag,es:Magyarorszag,es:Nagy-britannia,es:Nemetorszag,es:Portugalia,es:Spanyolorszag',\n",
       "       'Danemark,France,Suisse,Magyarorszag,Nagy-britannia,Svajc',\n",
       "       'Belgique,Danemark,France,Suisse,Royaume-Uni',\n",
       "       'France,Allemagne,Maurice,de:Espagne,de:Royaume-uni',\n",
       "       'Danemark,France,Espagne,Suisse', 'Suisse,Émirats arabes unis',\n",
       "       'Belgique,France,Guyane',\n",
       "       'Belgique,France,Mali,La Réunion,Suisse,Royaume-Uni',\n",
       "       'France,Russie', 'Belgique,France,Suisse,Royaume-Uni',\n",
       "       'France,Pays-Bas,Suisse',\n",
       "       'Belgique,France,Maroc,La Réunion,Suisse',\n",
       "       'Belgique,France,Maroc,Espagne,Suisse', 'Danemark,Portugal',\n",
       "       'Italie,Suisse', 'Danemark,Espagne,Suisse',\n",
       "       'France,Aix-en-provence,Bouches-du-rhone,Paca',\n",
       "       'Belgique,France,Portugal,Suisse', 'France,Monaco',\n",
       "       'Belgique,France,Allemagne,Italie,Pays-Bas,Portugal,Espagne,Suisse,Royaume-Uni',\n",
       "       'Iran', 'Belgique,France,Maroc,Suisse', 'France,Martinique',\n",
       "       'France,Guyane,Guadeloupe,Martinique',\n",
       "       'France,Allemagne,États-Unis', 'Danemark,Suisse', 'Pologne,Suisse',\n",
       "       'France,Guadeloupe,Suisse', 'Danemark,Allemagne', 'Saint-Martin',\n",
       "       'Belgique,Danemark,France,Allemagne',\n",
       "       'Suisse,Deutschland,Frankreich,Spanien', 'Suisse,Frankrijk',\n",
       "       'Danemark,Royaume-Uni', 'France,Vanuatu',\n",
       "       'Belgique,France,Grèce,Espagne', 'Belgique,France,Espagne',\n",
       "       'Danemark,France,Suisse', 'Belgique,France,Portugal',\n",
       "       'France,en:Belgique', 'Belgique,France,Pologne,Portugal',\n",
       "       'France,Italie,Portugal,Espagne', 'France,Cora',\n",
       "       'Canada,France,Grèce,Pays-Bas,Espagne,Royaume-Uni,États-Unis',\n",
       "       'Guadeloupe,Martinique', 'France,Portugal,Espagne,Royaume-Uni',\n",
       "       'France,Espagne,Royaume-Uni', 'Mayotte',\n",
       "       'Belgique,France,Mali,Suisse,Royaume-Uni',\n",
       "       'Suisse,Belgien,Deutschland,Frankreich',\n",
       "       'Belgique,France,Pays-Bas,Suisse',\n",
       "       'Belgique,France,Italie,Luxembourg,Mali,Martinique,Suisse',\n",
       "       'Belgique,France,Allemagne,Pays-Bas',\n",
       "       'Guyane,Guadeloupe,Martinique',\n",
       "       'France,Bourgogne-aube-nogent-sur-seine',\n",
       "       'France,Guadeloupe,Martinique',\n",
       "       'Belgique,France,Allemagne,Italie,Pays-Bas,Espagne,Royaume-Uni',\n",
       "       'Autriche,France', 'Belgique,France,Luxembourg,Suisse',\n",
       "       'Chine,France',\n",
       "       'Belgique,France,Allemagne,Italie,Pays-Bas,Royaume-Uni', 'Andorre',\n",
       "       'Danemark,France,Guadeloupe', 'France,Puyricard',\n",
       "       'France,Italie,Espagne', 'France,Émirats arabes unis',\n",
       "       'Wallis-et-Futuna', 'Belgique,France,Grèce', 'France,Belgie',\n",
       "       'Belgique,France,Guadeloupe',\n",
       "       'Algérie,Belgique,Canada,France,Maroc,Suisse',\n",
       "       'France,Polynésie française', 'France,Grèce,Espagne',\n",
       "       'France,Polynésie française,Espagne', 'France,Grèce,Pays-Bas',\n",
       "       'Estonie,France', 'Niger', 'Belgique,France,Italie,Royaume-Uni',\n",
       "       'France,Italie,Pays-Bas,Royaume-Uni',\n",
       "       'Autriche,Danemark,France,Allemagne,Pays-Bas,Espagne,Suisse',\n",
       "       'Serbie,Suisse', 'Bosnie-Herzégovine,Serbie', 'Bosnie-Herzégovine',\n",
       "       'Belgique,France,Allemagne,Roumanie', 'Danemark,France,Allemagne',\n",
       "       'Australie,République tchèque,France,Allemagne,Hongrie',\n",
       "       'Danemark,France,Allemagne,Russie,Espagne,Royaume-Uni',\n",
       "       'République tchèque,Danemark,France,Allemagne',\n",
       "       'Danemark,France,Allemagne,Inde',\n",
       "       'Arménie,France,Allemagne,Italie,Roumanie,Russie',\n",
       "       'Chine,France,Allemagne', 'France,Hongrie',\n",
       "       'Allemagne,Pays-Bas,Espagne,Royaume-Uni',\n",
       "       'Danemark,Suisse,Royaume-Uni',\n",
       "       'Danemark,Allemagne,Suisse,Royaume-Uni', 'Biélorussie',\n",
       "       'Chine,Allemagne', 'Australie,Belgique,France,Suisse',\n",
       "       'France,Allemagne,Suisse,Australien',\n",
       "       'France,Allemagne,Suisse,Australien,Niederlande',\n",
       "       'Allemagne,Pays-Bas', 'Allemagne,Suède',\n",
       "       'Biélorussie,République tchèque', 'Mauritanie',\n",
       "       'Portugal,Roumanie,Espagne', 'Allemagne,Luxembourg',\n",
       "       'République tchèque,France,Suisse', 'Suisse,Magyarorszag',\n",
       "       'Allemagne,Pologne', 'France,Russie,Suisse', 'Chypre',\n",
       "       'France,Roumanie', 'Allemagne,Hongrie',\n",
       "       'Autriche,République tchèque,Allemagne',\n",
       "       'France,Luxembourg,Suisse',\n",
       "       'Danemark,Suisse,Allemagne,en:Frankreich',\n",
       "       'Belgique,France,Allemagne,Arabie saoudite,Suisse',\n",
       "       'Danemark,France,Allemagne,Suisse', 'Luxembourg,en:Allemagne',\n",
       "       'Allemagne,Maroc', 'Viêt Nam', 'France,Allemagne,Grèce,Espagne',\n",
       "       'Allemagne,Tunisie', 'Allemagne,Grèce', 'Azerbaïdjan',\n",
       "       'Luxembourg,Suisse', 'Lituanie', 'Belgique,France,World',\n",
       "       'Finlande,France,Grèce,Italie,Espagne,Suède',\n",
       "       'Suisse,Deutschland,Republik-china',\n",
       "       'Belgique,France,Pologne,Suisse',\n",
       "       'Danemark,France,Allemagne,Suède', 'en:日本', 'Japon,en:日本',\n",
       "       'Finlande,France', 'Russie,Royaume-Uni', 'France,Taiwan',\n",
       "       'Other-japon', 'Tchad', 'en:Republique-de-chine', 'Estonie',\n",
       "       'Lettonie', 'Lituanie,Suède', 'Sri Lanka', 'France,Sri Lanka',\n",
       "       'Biélorussie,Géorgie,Kazakhstan,Russie,Ukraine', 'Géorgie,Russie',\n",
       "       'en:香港', 'Singapour,Thaïlande', 'Other-日本', 'Macao',\n",
       "       'Hong Kong,Japon', 'Allemagne,Japon',\n",
       "       'États-Unis,en:Other-日本,en:日本', 'Belgique,Danemark,France',\n",
       "       'Suisse,Royaume-Uni,États-Unis', 'France,Mozambique',\n",
       "       'Australie,Royaume-Uni,États-Unis', 'Union européenne,États-Unis',\n",
       "       'Algérie,Belgique,Égypte,France,Maroc,Qatar,Suisse,Tunisie,Émirats arabes unis',\n",
       "       'Australie,France,Suisse', 'Irlande,Royaume-Uni',\n",
       "       'Belgique,France,Allemagne,Italie,Maroc,Portugal,Serbie,Suisse',\n",
       "       'Belgique,Danemark,France,Allemagne,Luxembourg,Maroc,Portugal,Suisse,Royaume-Uni,États-Unis',\n",
       "       'France,Allemagne,Pays-Bas', 'Suisse,Nederland',\n",
       "       'Pays-Bas,Royaume-Uni', 'Libye', 'France,États-Unis,en:Belgique',\n",
       "       'Union européenne,Suisse', 'Australie,Royaume-Uni',\n",
       "       'Autriche,France,Suisse', 'France,Allemagne,Pays-Bas,Royaume-Uni',\n",
       "       'Bosnie-Herzégovine,Monténégro,Serbie', 'Monténégro,Serbie',\n",
       "       'Pérou,États-Unis', 'Allemagne,Suisse,Royaume-Uni', 'Jersey',\n",
       "       'Danemark,Italie,Norvège,Portugal,Suède,Royaume-Uni',\n",
       "       'Canada,France,Royaume-Uni', 'France,Singapour',\n",
       "       'Espagne,Suisse,Royaume-Uni', 'Danemark,France,États-Unis',\n",
       "       'Belgique,France,Allemagne,Grèce,Pays-Bas,Espagne',\n",
       "       'Belgique,France,Grèce,Pays-Bas,Espagne',\n",
       "       'Autriche,Belgique,Danemark,France,Allemagne,Pays-Bas,Suède,Suisse',\n",
       "       'Belgique,France,Italie,La Réunion,Suisse',\n",
       "       'Belgique,France,Suède,Suisse',\n",
       "       'en:Denemarken,en:Finand,en:Frankrijk,en:Italiaans,en:Zwitserland',\n",
       "       'Estonie,Finlande,France,Allemagne,Irlande,Espagne,Suisse,Royaume-Uni',\n",
       "       'Australie,France,Royaume-Uni,en:Scotland',\n",
       "       'France,Italie,Royaume-Uni', 'République démocratique du Congo',\n",
       "       'France,Serbie', 'Belgique,Serbie', 'Ghana', 'Guinée-Bissau',\n",
       "       'Belgique,France,Allemagne,Italie,Espagne',\n",
       "       'Italie,en:Denemarken,en:Nederland,en:Noorwegen,en:Zweden,en:Belgie,Allemagne,en:Frankrijk',\n",
       "       'Belgique,Danemark,Finlande,France,Italie,Maroc,Espagne,Suède,Suisse',\n",
       "       'Danemark,France,Portugal,Suisse',\n",
       "       'France,Allemagne,Italie,Norvège,Espagne,Suède,Royaume-Uni',\n",
       "       'Belgique,République tchèque,Danemark,France,Allemagne,Italie,Pays-Bas,Nouvelle-Zélande,Espagne,Suède,Royaume-Uni',\n",
       "       'Belgique,Portugal', 'Belgique,France,Italie,Espagne',\n",
       "       'Belgique,Danemark',\n",
       "       'Belgique,France,Italie,Pays-Bas,Espagne,Royaume-Uni',\n",
       "       'Belgique,France,Allemagne,Hongrie,Italie,Pays-Bas,Espagne',\n",
       "       'France,Italien,Schweiz', 'Roumanie,Suisse', 'Suisse,Allemagne',\n",
       "       'Suisse,en:Belgien,Allemagne',\n",
       "       'France,Italie,Luxembourg,Pays-Bas,Espagne',\n",
       "       'Belgique,France,Pays-Bas,Espagne,Royaume-Uni',\n",
       "       'Belgique,France,Allemagne,Pays-Bas,Espagne,Suisse,Royaume-Uni',\n",
       "       'Belgique,France,Allemagne,Hongrie,Suisse',\n",
       "       'Belgique,France,Hongrie,Italie,en:Quebec',\n",
       "       'Belgique,France,Russie', 'Belgique,France,Italie',\n",
       "       'Belgique,Canada,France', 'République centrafricaine',\n",
       "       'République tchèque,Slovaquie,Suisse',\n",
       "       'Belgique,République tchèque,France,Irak,La Réunion,Suisse',\n",
       "       'Algérie,Belgique,Brésil,Cameroun,Canada,France,Allemagne,Inde,Italie,Luxembourg,Mali,Martinique,Maroc,Pays-Bas,Nouvelle-Calédonie,Portugal,La Réunion,Arabie saoudite,Sénégal,Espagne,Suisse,Royaume-Uni,États-Unis',\n",
       "       'Belgique,France,Espagne,Suisse,Royaume-Uni',\n",
       "       'Belgique,France,Koweït', 'France,Pologne',\n",
       "       'Belgique,France,La Réunion,Espagne,Suisse', 'La Réunion,Suisse',\n",
       "       'Belgique,France,Serbie,Suisse', 'Autriche,Belgique,France',\n",
       "       'France,en:العراق,en:المملكة-المتحدة',\n",
       "       'Algérie,Belgique,France,Allemagne,Guadeloupe,Italie,Liban,Luxembourg,Martinique,Maroc,Pays-Bas,Portugal,La Réunion,Sénégal,Espagne,Suisse,Royaume-Uni',\n",
       "       'Belgique,France,Italie,Suisse', 'France,Portugal,Suisse',\n",
       "       'Portugal,Suisse', 'Brésil,Suisse', 'Angola',\n",
       "       'France,Allemagne,Portugal,Royaume-Uni', 'Danemark,Suède',\n",
       "       'en:Azərbaycan', 'en:البحرين', 'Danemark,Finlande,France',\n",
       "       'Belgique,Danemark,France,Pologne',\n",
       "       'Belgique,France,Grèce,Italie,Espagne,Suisse,Royaume-Uni',\n",
       "       'Pologne,en:Szczecin', 'Pologne,États-Unis,en:Szczecin',\n",
       "       'Moldavie,États-Unis', 'Monténégro,Serbie,Slovénie',\n",
       "       'Hongrie,Serbie', 'Bulgarie,République tchèque,Roumanie,Slovaquie',\n",
       "       'France,Malawi', 'Burkina Faso', 'Mozambique', 'Kenya', 'Tanzanie',\n",
       "       'République du Congo,Sénégal', 'France,Maurice', 'Rwanda',\n",
       "       \"Côte d'Ivoire,France\", 'Tunisie,ar:Tunisie', 'en:Tunisie,en:تونس',\n",
       "       'Brunei', 'Qatar,Arabie saoudite,Émirats arabes unis', 'Somalie',\n",
       "       'en:سلطنة-عمان', 'Liban,Qatar,Syrie,Tunisie,Yémen', 'Oman,Qatar',\n",
       "       'Vanuatu', 'France,Norvège', 'Grèce,Israël', 'France,Israël',\n",
       "       'Danemark,Allemagne,Norvège,Suède',\n",
       "       'Finlande,France,Allemagne,Pays-Bas,Norvège,Espagne,Suède,Royaume-Uni',\n",
       "       'France,Guadeloupe,Italie,Pays-Bas,Norvège,Suède,Suisse,Royaume-Uni',\n",
       "       'Guatemala', 'France,Mexique', 'Algérie,Suisse',\n",
       "       'France,Suisse,en:Allemagne', 'France,nl:Pays-bas',\n",
       "       'République centrafricaine,France',\n",
       "       'Belgique,France,Portugal,Espagne', 'Croatie,Monténégro,Serbie',\n",
       "       'Andorre,France', 'France,Suisse,de:Allemagne',\n",
       "       'Croatie,Monténégro,Serbie,Slovénie',\n",
       "       'Bosnie-Herzégovine,Monténégro,République de Macédoine,Serbie',\n",
       "       'Bulgarie,France', 'France,Marseille-6',\n",
       "       'France,Allemagne,Suisse,Tunisie',\n",
       "       'Italie,Pays-Bas,Portugal,Espagne', 'Croatie,Serbie,Slovénie',\n",
       "       'Finlande,en:Belgie,en:Denemarken,en:Frankrijk,en:Spanje,en:Zweden,en:Zwitserland',\n",
       "       'Brésil,France',\n",
       "       'Belgique,Danemark,Finlande,France,Italie,Pays-Bas,Portugal,Espagne,Suède',\n",
       "       'Autriche,France,Suisse,Royaume-Uni', 'Uruguay', 'Paraguay',\n",
       "       'Argentine,France,Suisse', 'Argentine,France', 'Chili,Colombie',\n",
       "       'Argentine,Arabie saoudite', 'Albanie,Italie',\n",
       "       'Danemark,La Réunion',\n",
       "       'Belgique,Danemark,Suisse,Deutschland,Frankreich',\n",
       "       'Belgique,France,Allemagne,Italie', 'Union européenne,France',\n",
       "       'Belgique,France,Hongrie',\n",
       "       'Bulgarie,Allemagne,Irlande,Monténégro,Portugal,Roumanie,Serbie,Royaume-Uni',\n",
       "       'Danemark,France,Italie,Suisse,Royaume-Uni',\n",
       "       'Danemark,France,Italie', 'Suisse,Deutschland,Tschechien',\n",
       "       'France,Portugal,en:Croacia', 'Albanie,Danemark,Italie',\n",
       "       'Italie,Roumanie', 'Belgique,Italie', 'Géorgie',\n",
       "       'France,Italie,Monaco', 'Italie,Espagne',\n",
       "       'France,Allemagne,Grèce,Suède,Royaume-Uni', 'Suisse,Deutschland',\n",
       "       'Danemark,Finlande,France,Allemagne,Hongrie,Italie,Pays-Bas,Norvège,Portugal,Russie,Slovénie,Espagne,Suède,Royaume-Uni',\n",
       "       'France,Italie,Espagne,Suisse', 'Danemark,Suisse,Deutschland',\n",
       "       'Danemark,Italie', 'Belgique,France,Hongrie,Suisse,Royaume-Uni',\n",
       "       'Hongrie,Espagne', 'en:Nederland',\n",
       "       'France,Guadeloupe,Hongrie,Slovénie,Royaume-Uni',\n",
       "       'Danemark,Espagne,en:Frankrike,en:Kina,en:Sverige',\n",
       "       'Italie,Lituanie', 'République tchèque,Italie', 'en:Quebec',\n",
       "       'Éthiopie', 'Italie,Espagne,Suisse', 'République tchèque,Suisse',\n",
       "       'France,Italie,Pays-Bas', 'France,Nouvelle-Zélande,Suisse',\n",
       "       'France,Italie,Serbie,Espagne', 'Suisse,Frankrijk,Nederland',\n",
       "       'Belgique,France,Grèce,Espagne,Suisse',\n",
       "       'Allemagne,Suisse,Frankreich', 'Îles Cook',\n",
       "       'Belgique,Canada,Danemark,France,Allemagne,Maroc,Espagne,Suisse',\n",
       "       'Allemagne,Émirats arabes unis', 'Andorre,Espagne',\n",
       "       'France,es:Espagne', 'Pays-Bas,Suisse',\n",
       "       'France,Allemagne,Grèce,Italie,Portugal,Roumanie,Espagne,Royaume-Uni',\n",
       "       'Danemark,Espagne',\n",
       "       'Autriche,France,Allemagne,Maroc,Pays-Bas,Royaume-Uni',\n",
       "       'Maroc,Espagne', 'Danemark,Portugal,Suisse', 'Cuba,Suisse',\n",
       "       'République tchèque,Hongrie,Slovaquie',\n",
       "       'Chine,République tchèque,France,Grèce,Koweït,Maldives,Pologne,Slovaquie,Afrique du Sud,Corée du Sud',\n",
       "       'Croatie,Hongrie,Serbie', 'Hongrie,Serbie,Suisse',\n",
       "       'République de Macédoine,Serbie',\n",
       "       'Bosnie-Herzégovine,Croatie,République de Macédoine,Serbie,Slovénie',\n",
       "       'Bosnie-Herzégovine,Croatie,Monténégro,Serbie',\n",
       "       'Bosnie-Herzégovine,Croatie,Monténégro,République de Macédoine,Serbie',\n",
       "       'Bosnie-Herzégovine,Croatie,République de Macédoine,Serbie',\n",
       "       'Allemagne,Turquie', 'Mozambique,Suisse', 'Other-turquie',\n",
       "       'Pays-Bas,en:Nederland', 'États-Unis,en:Nederland',\n",
       "       'Nouvelle-Zélande', 'Belgique,Espagne',\n",
       "       'France,Pays-Bas,Espagne,Royaume-Uni', 'Allemagne,Grèce,Espagne',\n",
       "       'Belgique,France,Martinique,Suisse', 'France,Grèce',\n",
       "       'Autriche,Belgique,France,Allemagne,Pays-Bas,Suisse',\n",
       "       'Autriche,Allemagne,Suisse', 'France,Nouvelle-Zélande,Singapour',\n",
       "       'Suisse,es:Deutschland,es:Danemark,es:Spanien',\n",
       "       'Danemark,France,Suisse,Belgien,Sverige',\n",
       "       'France,Allemagne,Espagne,Suisse',\n",
       "       'Belgique,France,Suisse,xx:Danemark',\n",
       "       'Belgique,France,Nouvelle-Calédonie,Espagne,Suisse',\n",
       "       'Belgique,France,Serbie', 'Norvège,Suède',\n",
       "       'Italie,Pays-Bas,Portugal', 'France,Deutschland',\n",
       "       'Portugal,en:Belgie,Allemagne,en:Frankrijk,en:Nederland,en:Spanje,en:Zwitserland',\n",
       "       'France,Pays-Bas,Portugal', 'Canada,France,Allemagne,Royaume-Uni',\n",
       "       'États-Unis,en:Казахстан', 'Australie,Inde',\n",
       "       'États-Unis,en:ประเทศออสเตรเลีย,en:ประเทศไทย,en:สหราชอาณาจักร',\n",
       "       'Belgique,Chili', 'France,Suisse,Thaïlande,Royaume-Uni',\n",
       "       'Cambodge,Thaïlande', 'Chine,France,Viêt Nam',\n",
       "       'France,Hongrie,Royaume-Uni', 'Thaïlande,Royaume-Uni', 'en:भारत',\n",
       "       'Croatie,France', 'Égypte,Royaume-Uni,États-Unis',\n",
       "       'Autriche,Croatie,Estonie,Allemagne,Grèce,Italie,Pays-Bas,Pologne,Serbie,Slovénie',\n",
       "       'Autriche,Allemagne,Espagne',\n",
       "       'France,Polynésie française,Nouvelle-Calédonie',\n",
       "       'Australie,Nouvelle-Zélande', 'Australie,Vanuatu', 'Bangladesh',\n",
       "       'Australie,Japon', 'Maldives', 'Australie,Malaisie',\n",
       "       'France,Hong Kong', 'Chine,Hong Kong'], dtype=object)"
      ]
     },
     "execution_count": 632,
     "metadata": {},
     "output_type": "execute_result"
    }
   ],
   "source": [
    "data['countries_fr'].unique() "
   ]
  },
  {
   "cell_type": "code",
   "execution_count": 12,
   "id": "86ef2c43",
   "metadata": {},
   "outputs": [
    {
     "data": {
      "text/plain": [
       "['en:FR',\n",
       " 'US',\n",
       " 'France',\n",
       " 'en:GB',\n",
       " 'France, US',\n",
       " 'Canada',\n",
       " 'United Kingdom',\n",
       " 'en:CH',\n",
       " 'en:ES',\n",
       " 'Deutschland',\n",
       " 'en:SI',\n",
       " 'en:DE',\n",
       " 'en:IT',\n",
       " 'en:RO',\n",
       " 'España',\n",
       " 'en:AU',\n",
       " 'en:PT',\n",
       " 'United States',\n",
       " 'Germany',\n",
       " 'Usa',\n",
       " 'France,Royaume-Uni',\n",
       " 'UK,France',\n",
       " 'France,Belgique,Pays-Bas,Royaume-Uni',\n",
       " 'France,United Kingdom',\n",
       " 'en:GP',\n",
       " 'France,UK',\n",
       " 'États-Unis',\n",
       " 'Royaume-Uni,France',\n",
       " 'en:CA',\n",
       " nan,\n",
       " 'en:US,United Kingdom',\n",
       " 'Switzerland',\n",
       " 'en:US',\n",
       " 'en:CA, US',\n",
       " 'Nederland',\n",
       " 'en:AU, en:france',\n",
       " 'Australia',\n",
       " 'France,Suisse,États-Unis,Canada',\n",
       " 'États-Unis, en:france, US',\n",
       " 'Ireland',\n",
       " 'United Kingdom, US',\n",
       " 'en:RE, en:france',\n",
       " 'United States, en:france',\n",
       " 'en:TW',\n",
       " 'en:AU, Suisse',\n",
       " 'Deutschland, en:france',\n",
       " 'Suisse',\n",
       " 'en:BR',\n",
       " 'Belgique,France',\n",
       " 'en:DO',\n",
       " 'en:FR, US',\n",
       " 'Belgique,France,Pays-Bas,Royaume-Uni',\n",
       " 'France,United States',\n",
       " 'Australie, US',\n",
       " 'USA',\n",
       " 'en:SA',\n",
       " 'Saudi Arabia',\n",
       " 'en:AE',\n",
       " 'en:IQ',\n",
       " 'en:KW',\n",
       " 'Republica Moldova',\n",
       " 'Belgium',\n",
       " 'en:NC',\n",
       " 'Singapore',\n",
       " 'en:FI',\n",
       " 'en:SG',\n",
       " 'Australia, US',\n",
       " 'France, Suisse',\n",
       " 'en:FR, Suisse',\n",
       " 'France,États-Unis',\n",
       " 'Singapore,New Zealand,Thailand,Australia, US',\n",
       " 'en:PF',\n",
       " 'en:PA',\n",
       " 'en:US, en:france',\n",
       " 'en:CR',\n",
       " 'en:MX',\n",
       " 'en:GB, US',\n",
       " 'Pays-Bas, US',\n",
       " 'Pays-Bas',\n",
       " 'Spain,United Kingdom,Scotland',\n",
       " 'en:PF, US',\n",
       " 'en:TH',\n",
       " '中華民國',\n",
       " 'United states',\n",
       " 'México',\n",
       " 'ประเทศไทย',\n",
       " 'en:CN',\n",
       " 'en:LU',\n",
       " 'en:LB',\n",
       " 'Mexico',\n",
       " 'US,Switzerland',\n",
       " 'Deutschland,Vereinigte Staaten von Amerika',\n",
       " 'United States,Deutschland',\n",
       " 'France,États-Unis,Suisse',\n",
       " 'Belgium,United States,Switzerland',\n",
       " 'Switzerland,United States',\n",
       " 'Spanien,Denmark, US',\n",
       " 'België,Nederland, US',\n",
       " 'en:BE',\n",
       " 'Belgium, Suisse',\n",
       " 'Frankreich,Deutschland',\n",
       " 'en:MY, US',\n",
       " 'en:GY, US',\n",
       " 'Etats-Unis',\n",
       " 'Serbia',\n",
       " 'en:MQ',\n",
       " 'United Arab Emirates',\n",
       " 'en:BB',\n",
       " 'en:AW',\n",
       " 'Hong Kong',\n",
       " 'en:NO',\n",
       " 'en:HT',\n",
       " 'El Salvador',\n",
       " 'en:BH, US',\n",
       " 'France,Italie',\n",
       " 'en:TW, US',\n",
       " 'United Kingdom, en:france',\n",
       " 'Belgique, en:france',\n",
       " 'Réunion',\n",
       " 'en:MA',\n",
       " 'Oman',\n",
       " 'en:KR',\n",
       " 'en:HK',\n",
       " 'United Kingdom,France',\n",
       " 'en:TT',\n",
       " 'Niederlande, US',\n",
       " 'Chile',\n",
       " 'Cuba',\n",
       " 'en:AU, US',\n",
       " 'Canada, US',\n",
       " 'France,United Kingdom,United States',\n",
       " 'spain',\n",
       " 'United States, en:france, en:switzerland',\n",
       " 'UK',\n",
       " 'en:IT, US',\n",
       " 'France,Switzerland',\n",
       " 'UK, Suisse',\n",
       " 'Belgique',\n",
       " 'Philippines',\n",
       " 'en:CH, US',\n",
       " 'en:ES, US',\n",
       " 'España, Estados Unidos',\n",
       " 'Panama, US',\n",
       " 'Canada,United States',\n",
       " 'Canada,États-Unis',\n",
       " 'Australia,France,United Kingdom',\n",
       " 'France,United Kingdom, US',\n",
       " 'Brasil',\n",
       " 'en:BE, Suisse',\n",
       " 'France,Belgique,Royaume-Uni,Pays-Bas',\n",
       " 'Österreich',\n",
       " 'Sweden',\n",
       " 'en:GN',\n",
       " 'UK,France,US',\n",
       " 'United States of America',\n",
       " 'Costa Rica, US',\n",
       " 'en:IL, US',\n",
       " 'China,Switzerland',\n",
       " 'en:RU',\n",
       " 'en:PM',\n",
       " 'en:CA, en:france',\n",
       " 'en:DZ',\n",
       " 'Saint Pierre and Miquelon',\n",
       " 'Canada, en:france',\n",
       " 'en:NL, US',\n",
       " 'Québec',\n",
       " 'en:CZ',\n",
       " 'Italia',\n",
       " 'France,Canada',\n",
       " 'Canada, en:united-states',\n",
       " 'Canada,France',\n",
       " 'Québec, Canada',\n",
       " 'Canada, en:france, en:switzerland',\n",
       " 'Belgique,Canada,France,Suisse',\n",
       " 'UK,Czech',\n",
       " 'fr:Québec',\n",
       " 'en:france',\n",
       " 'France,Saint Pierre and Miquelon',\n",
       " 'Nouvelle-Calédonie',\n",
       " 'Canada,Portugal',\n",
       " 'Saint-Pierre-et-Miquelon',\n",
       " 'Germany,Switzerland',\n",
       " 'Франция,Россия,Испания,Великобритания',\n",
       " 'en:MU',\n",
       " 'Indonésie',\n",
       " 'France, en:switzerland',\n",
       " 'Arménie',\n",
       " 'France,Royaume-Uni, Suisse',\n",
       " 'Royaume-Uni',\n",
       " 'France,New Zealand',\n",
       " 'en:CI',\n",
       " 'China, Suisse',\n",
       " 'Österreich, Suisse',\n",
       " 'en:PL',\n",
       " 'United States,Canada',\n",
       " 'Belgique,France,Royaume-Uni,Pays-Bas',\n",
       " 'France,Suisse,États-Unis',\n",
       " 'en:GR',\n",
       " 'en:MX, US',\n",
       " 'UK,Spain',\n",
       " 'الكويت',\n",
       " 'United States, en:india, en:united-kingdom',\n",
       " 'United Kingdom, Suisse',\n",
       " 'UK,France,Belgium',\n",
       " 'Taiwan',\n",
       " 'Belgium,France,Netherlands,United Kingdom',\n",
       " 'Singapore, US',\n",
       " 'en:IN',\n",
       " 'en:EC',\n",
       " 'Turkey',\n",
       " 'FR',\n",
       " 'China',\n",
       " 'Cambodia',\n",
       " 'France,Australia',\n",
       " 'en:US, US',\n",
       " 'Chile, US',\n",
       " 'en:NC, US',\n",
       " 'en:HK, US',\n",
       " '香港, US',\n",
       " 'Canada,France,États-Unis',\n",
       " 'Belgique,France,Royaume-Uni',\n",
       " 'en:CL, US',\n",
       " 'Norway',\n",
       " 'Italy',\n",
       " 'en:DE, en:france',\n",
       " 'Netherlands',\n",
       " 'en:GR, US',\n",
       " 'en:AR',\n",
       " 'France,Pays-Bas',\n",
       " 'en:SE',\n",
       " 'France,United States,Switzerland',\n",
       " 'Algérie',\n",
       " 'France,Pays-Bas,Royaume-Uni',\n",
       " 'Czech Republic,United Kingdom',\n",
       " 'European Union',\n",
       " 'en:AT',\n",
       " 'en:JO',\n",
       " 'Australia,Indonesia,United States',\n",
       " 'Australia,Indonesia',\n",
       " '香港,美国',\n",
       " 'en:JP',\n",
       " 'en:IL',\n",
       " 'France,Royaume-Uni,Pays-Bas',\n",
       " 'France,Belgique,Royaume-Uni',\n",
       " 'en:IE',\n",
       " 'Colombia',\n",
       " 'en:IT, en:france',\n",
       " 'United States,United Kingdom,UK',\n",
       " 'Vereinigte Staaten von Amerika',\n",
       " 'Burundi',\n",
       " 'en:QA, en:france',\n",
       " 'en:TN',\n",
       " 'Denmark,Norway,Sweden',\n",
       " 'Danemark',\n",
       " 'Polynésie française',\n",
       " 'الجزائر, en:france',\n",
       " 'uk',\n",
       " 'en:CL',\n",
       " 'La Réunion, France',\n",
       " 'en:NL',\n",
       " 'France,Guyane',\n",
       " '日本',\n",
       " 'Denmark',\n",
       " 'Belgique,France,Pays-Bas',\n",
       " 'en:BG',\n",
       " 'en:HU',\n",
       " 'en:RE',\n",
       " 'Australia,United States',\n",
       " 'La Réunion',\n",
       " 'Pérou',\n",
       " 'Россия',\n",
       " 'Tunisie, en:france',\n",
       " 'Puerto Rico',\n",
       " 'France,Suisse',\n",
       " 'France,Belgique, Suisse',\n",
       " 'Belgique,France, Suisse',\n",
       " 'Suisse,Belgique, en:france',\n",
       " 'Belgique,États-Unis',\n",
       " 'France,USA',\n",
       " 'en:MC',\n",
       " 'en:SG, US',\n",
       " 'Portugal',\n",
       " 'en:NG',\n",
       " 'Guyane',\n",
       " 'en:HN',\n",
       " 'Spain',\n",
       " 'Saint Pierre and Miquelon, en:france, en:belgium',\n",
       " 'en:EG',\n",
       " 'Costa Rica',\n",
       " 'România',\n",
       " 'India',\n",
       " 'United Kingdom,Cyprus',\n",
       " 'en:VE',\n",
       " 'Japan',\n",
       " 'en:PH',\n",
       " 'en:AN, en:france',\n",
       " 'South Africa',\n",
       " 'en:AT, US',\n",
       " 'Australia,Philippines',\n",
       " 'Aruba',\n",
       " 'en:ES, Suisse',\n",
       " 'Lebanon',\n",
       " 'France,Japon',\n",
       " 'en:CI, US',\n",
       " 'Algérie, en:france',\n",
       " 'Mongolia',\n",
       " 'en:MM',\n",
       " 'India, en:france',\n",
       " 'en:BH',\n",
       " 'França,Portugal,Reino Unido',\n",
       " 'France,Suriname,United Kingdom,Guadeloupe,Greece,French Guiana',\n",
       " 'Romania',\n",
       " 'Pakistan',\n",
       " 'Belgium, US',\n",
       " 'Qatar',\n",
       " 'Chili,France,Espagne,Suisse,Royaume-Uni',\n",
       " 'CANADA',\n",
       " 'Belgique,France,États-Unis',\n",
       " 'France,Belgium',\n",
       " 'Cameroun',\n",
       " 'Martinique',\n",
       " 'Virgin Islands of the United States, US',\n",
       " 'en:PK',\n",
       " 'belgium',\n",
       " 'Schweiz',\n",
       " 'Irland',\n",
       " 'en:ID',\n",
       " 'France,Royaume-Uni, US',\n",
       " 'United Kingdom,United States',\n",
       " 'Suisse, en:france',\n",
       " 'Guadeloupe',\n",
       " 'Maroc',\n",
       " 'Perú',\n",
       " 'Austria',\n",
       " 'en:DK',\n",
       " 'Danemark,Royaume-Uni,France',\n",
       " 'en:EU',\n",
       " 'en:BE, en:france',\n",
       " 'United Kingdom,Spain,Portugal,Sweden,Finland',\n",
       " 'en:SK',\n",
       " 'United Kingdom,Lithuania',\n",
       " 'en:CO',\n",
       " '日本, en:france',\n",
       " 'South Korea',\n",
       " 'United Kingdom,Spain,Portugal',\n",
       " 'fr:Pologne',\n",
       " 'Republic of Ireland',\n",
       " 'Sénégal',\n",
       " 'France,Sénégal',\n",
       " 'Sénégal, en:france',\n",
       " 'Spanien',\n",
       " 'Morocco',\n",
       " 'Marruecos',\n",
       " \"Côte d'Ivoire\",\n",
       " 'Tunisie',\n",
       " 'Union européenne',\n",
       " 'Czech Republic',\n",
       " 'Luxembourg, en:france',\n",
       " 'Germany,Spain',\n",
       " 'العراق',\n",
       " 'Senegal',\n",
       " 'Italie',\n",
       " 'Russia',\n",
       " 'Togo',\n",
       " 'Royaume-Uni,france',\n",
       " 'Poland',\n",
       " 'Islande',\n",
       " 'Suède',\n",
       " 'Germany,switzerland',\n",
       " 'Allemagne,suisse',\n",
       " 'Allemagne,Suisse',\n",
       " 'Allemagne,Belgique',\n",
       " 'Belgique,Allemagne',\n",
       " 'Belgien,Deutschland',\n",
       " 'Allemagne,belgique',\n",
       " 'Belgique,France,Allemagne,suisse',\n",
       " 'Germany,United Kingdom,United States',\n",
       " 'Deutschland,Vereinigtes Königreich,Vereinigte Staaten von Amerika',\n",
       " 'Germany,Netherlands,Austria',\n",
       " 'Österreich,Deutschland,Niederlande',\n",
       " 'Austria,Germany,Netherlands',\n",
       " 'Egypt',\n",
       " 'Germany,Australia',\n",
       " 'Australia,Germany',\n",
       " '대한민국',\n",
       " 'Allemagne',\n",
       " 'Italien',\n",
       " '香港',\n",
       " 'United States,spain',\n",
       " 'Ungaria,România,Regatul Unit al Marii Britanii și al Irlandei de Nord',\n",
       " 'Ελλάδα',\n",
       " 'Germany,de:Weltweit,Worldwide',\n",
       " 'Iraq',\n",
       " 'UK,France,UK',\n",
       " 'UK,France,Angleterre',\n",
       " 'Россия,Союз Советских Социалистических Республик',\n",
       " 'Brésil',\n",
       " 'global market',\n",
       " 'الإمارات العربية المتحدة',\n",
       " 'Ukraine,colombia,Czech,all over the world',\n",
       " 'Russia,Soviet Union',\n",
       " 'België',\n",
       " 'Ísland',\n",
       " 'World',\n",
       " 'Dinamarca,França,Itália,Países Baixos,Polónia,Portugal,Espanha',\n",
       " 'world',\n",
       " 'Gulf countries,السعودية',\n",
       " 'Türkiye',\n",
       " 'France,Chili',\n",
       " 'السعودية',\n",
       " 'en:RS',\n",
       " 'France,Allemagne,Espagne',\n",
       " 'Francia,España',\n",
       " 'France,Allemagne',\n",
       " 'Hungary',\n",
       " 'France,Allemagne,Roumanie,Royaume-Uni,Scotland',\n",
       " 'Alemanha,Portugal,Espanha',\n",
       " 'Deutschland,Italien',\n",
       " 'France,Germany',\n",
       " 'Deutschland,Portugal',\n",
       " 'France,Allemagne,Suisse',\n",
       " 'en:DE, US',\n",
       " 'en:BE, US',\n",
       " 'Deutschland, US',\n",
       " 'España, Suiza',\n",
       " 'Allemagne,France',\n",
       " 'France,Portugal,Espagne',\n",
       " 'united kingdom',\n",
       " 'Germany,Portugal,Spain',\n",
       " 'Portugal,Alemanha,Reino Unido,Finlândia,Suécia,Dinamarca,Itália,Espanha',\n",
       " 'France,Maroc',\n",
       " 'Belgium, en:france',\n",
       " 'Bulgaria',\n",
       " 'France, en:switzerland, en:reunion',\n",
       " 'République tchèque,France',\n",
       " 'France,Espagne',\n",
       " 'en:UA',\n",
       " 'Portugal,España',\n",
       " 'França,Portugal',\n",
       " 'España, en:france',\n",
       " 'Frankreich,Deutschland,Italien',\n",
       " 'France,Spain',\n",
       " 'Scotland,United Kingdom',\n",
       " 'Germany, en:france',\n",
       " 'Frankreich,Deutschland,Schweiz',\n",
       " 'France,Slovenia',\n",
       " 'Austria, España',\n",
       " 'France,Suède',\n",
       " 'Deutschland,Österreich',\n",
       " 'Belgien,Frankreich,Deutschland',\n",
       " 'France,Portugal',\n",
       " 'portugal',\n",
       " 'United Kingdom,Scotland, en:france',\n",
       " 'France,Allemagne,Italie,Suisse',\n",
       " 'Frankreich,Deutschland,Spanien',\n",
       " 'Spain,France',\n",
       " 'Deutschland,Spanien',\n",
       " 'Alemania,España',\n",
       " 'Spain,United Kingdom',\n",
       " 'France,Vereinigtes Königreich,Allemagne',\n",
       " 'România,Romania',\n",
       " 'Spain,Germany',\n",
       " 'France,Allemagne,Portugal,Espagne',\n",
       " 'Autriche,République tchèque,France,Allemagne',\n",
       " 'Österreich,Tschechien,Frankreich,Deutschland',\n",
       " 'Deutschland,Vereinigtes Königreich',\n",
       " 'Luxembourg',\n",
       " 'Deutschland,Österreich,Frankreich',\n",
       " 'Germany,Spain, en:france',\n",
       " 'Nederland,Frankrijk',\n",
       " 'France,en:Scotland',\n",
       " 'Bélgica,França,Alemanha,Itália,Países Baixos,Portugal,Espanha',\n",
       " 'Belgique,France,Allemagne,Italie,Pays-Bas,Portugal,Espagne',\n",
       " 'Switzerland,United Kingdom',\n",
       " 'Autriche,France,Allemagne,Italie,Suisse',\n",
       " 'Germany,France',\n",
       " 'Espagne',\n",
       " 'Belgium,France,Germany,Ireland,Netherlands,Portugal,Spain,United Kingdom',\n",
       " 'France,Belgique',\n",
       " 'Espagne,France',\n",
       " 'França,Portugal,Espanha',\n",
       " 'en:AL',\n",
       " 'France,Allemagne,Royaume-Uni',\n",
       " 'Nigeria',\n",
       " 'Portugal,Espanha',\n",
       " 'Poland,United Kingdom',\n",
       " 'Belgique,France,Allemagne,Italie,Pays-Bas',\n",
       " 'France,Italie,Suisse',\n",
       " 'Francia,Portugal,España',\n",
       " 'United Kingdom,Scotland',\n",
       " 'France,Pays-Bas,Allemagne,Espagne',\n",
       " 'en:ES, en:france',\n",
       " 'France,77-PROVINS',\n",
       " 'Ireland,United Kingdom, en:france',\n",
       " 'en:MT',\n",
       " 'España,Reino Unido',\n",
       " 'en:HR',\n",
       " 'Belgium,France',\n",
       " 'Finland',\n",
       " 'Belgique,France,Allemagne,Pays-Bas,Portugal,Espagne',\n",
       " 'en:IE, en:france',\n",
       " 'Belgium,Czech Republic, en:france',\n",
       " 'Francia,Italia',\n",
       " 'en:CH, en:france',\n",
       " 'France, en:belgium',\n",
       " 'France,Suisse,Allemagne',\n",
       " 'Switzerland,United States, en:france',\n",
       " 'Portugal,Espanha,Reino Unido',\n",
       " 'Niederlande',\n",
       " 'Dinamarca,Polónia,Portugal,Espanha',\n",
       " 'Belgium,Netherlands',\n",
       " 'Deutschland,Schweiz',\n",
       " 'Schweiz,Österreich',\n",
       " 'Slovenija',\n",
       " 'Slovenia',\n",
       " 'Frankrijk',\n",
       " 'Portugal,Suécia',\n",
       " 'Pays-Bas,France',\n",
       " 'Australia,France',\n",
       " 'Pays-Bas, en:france',\n",
       " 'france',\n",
       " 'Belgique, Suisse',\n",
       " 'Belgium,Luxembourg',\n",
       " 'Bulgarie',\n",
       " 'Polska',\n",
       " 'Brazil',\n",
       " 'Australia, en:france',\n",
       " 'Česko',\n",
       " 'Україна',\n",
       " 'Tschechien,Deutschland',\n",
       " 'en:MW',\n",
       " 'France,Guadeloupe',\n",
       " 'Réunion, en:france',\n",
       " 'Nouvelle-Calédonie, en:france',\n",
       " 'Portugal, en:france',\n",
       " 'Guyane, en:france',\n",
       " 'Saint-Pierre-et-Miquelon, en:france',\n",
       " 'France, en:switzerland, en:brazil, en:canada, en:belgium',\n",
       " 'Belgique,France,Italie,Maroc,Suisse,Royaume-Uni',\n",
       " 'France, en:switzerland, en:belgium',\n",
       " 'Algérie,Belgique,Canada,France,Polynésie française,Allemagne,Irlande,Italie,Liban,Luxembourg,Mali,Martinique,Maroc,Pays-Bas,Nouvelle-Calédonie,Portugal,La Réunion,Espagne,Suisse,Tunisie,Royaume-Uni,États-Unis',\n",
       " 'Belgique,France,Suisse, en:germany',\n",
       " 'Algerien,Belgien,Kanada,Frankreich,Deutschland,Italien,Mali,Martinique,Spanien,Schweiz',\n",
       " 'France, en:belgium, en:switzerland',\n",
       " 'France, en:denmark, en:switzerland, en:belgium',\n",
       " 'Guadeloupe, en:france',\n",
       " 'Polynésie française, Suisse',\n",
       " 'France, en:belgium, en:switzerland, en:reunion',\n",
       " 'France,Monaco, en:switzerland',\n",
       " 'Belgique,France,La Réunion,Suisse',\n",
       " 'France,La Réunion',\n",
       " 'Belgique,France,Polynésie française,Martinique,Suisse',\n",
       " 'Gabon',\n",
       " 'Guadeloupe,France',\n",
       " 'French Guiana, en:france',\n",
       " 'France,Saint-Pierre-et-Miquelon,Suisse',\n",
       " 'France, en:reunion, en:switzerland',\n",
       " 'Frankreich,Deutschland, en:switzerland',\n",
       " 'Danemark,France',\n",
       " 'Казахстан',\n",
       " 'Belgique,France,Suisse',\n",
       " 'Suisse,France',\n",
       " 'France,Belgique,Luxembourg',\n",
       " 'France,Luxembourg',\n",
       " 'en:to-be-completed,en:nutrition-facts-completed,en:ingredients-completed,en:expiration-date-to-be-completed,en:characteristics-completed,en:categories-completed,en:brands-completed,en:packaging-completed,en:quantity-completed,en:product-name-completed,en:photos-to-be-validated,en:photos-uploaded',\n",
       " 'en:to-be-checked,en:complete,en:nutrition-facts-completed,en:ingredients-completed,en:expiration-date-completed,en:characteristics-completed,en:categories-completed,en:brands-completed,en:packaging-completed,en:quantity-completed,en:product-name-completed,en:photos-validated,en:photos-uploaded',\n",
       " 'en:to-be-checked,en:complete,en:nutrition-facts-completed,en:ingredients-completed,en:expiration-date-to-be-completed,en:packaging-code-completed,en:characteristics-completed,en:categories-completed,en:brands-completed,en:packaging-completed,en:quantity-completed,en:product-name-completed,en:photos-validated,en:photos-uploaded',\n",
       " 'en:to-be-checked,en:complete,en:nutrition-facts-completed,en:ingredients-completed,en:expiration-date-to-be-completed,en:characteristics-completed,en:categories-completed,en:brands-completed,en:packaging-completed,en:quantity-completed,en:product-name-completed,en:photos-validated,en:photos-uploaded',\n",
       " 'en:to-be-checked,en:complete,en:nutrition-facts-completed,en:ingredients-completed,en:expiration-date-completed,en:packaging-code-completed,en:characteristics-completed,en:categories-completed,en:brands-completed,en:packaging-completed,en:quantity-completed,en:product-name-completed,en:photos-validated,en:photos-uploaded',\n",
       " 'en:to-be-completed,en:nutrition-facts-completed,en:ingredients-to-be-completed,en:expiration-date-to-be-completed,en:characteristics-completed,en:categories-completed,en:brands-completed,en:packaging-completed,en:quantity-completed,en:product-name-completed,en:photos-validated,en:photos-uploaded',\n",
       " 'Guyane,France',\n",
       " 'Mali,france',\n",
       " 'France,Gabon',\n",
       " 'Belgique,France,Espagne,Suisse',\n",
       " 'Algeria',\n",
       " 'Royaume-Uni,France, en:denmark, Suisse',\n",
       " 'Deutschland, en:switzerland',\n",
       " 'Tunisia, en:france',\n",
       " 'République du Congo',\n",
       " 'Belgique,France,Allemagne,Suisse',\n",
       " 'États-Unis, en:france',\n",
       " 'الجزائر',\n",
       " 'France,Allemagne,Portugal,Suisse',\n",
       " 'France,Espagne, Suisse',\n",
       " 'en:MY',\n",
       " 'Belgium,France,Switzerland',\n",
       " 'Austria,France,Germany,Italy,Netherlands,Switzerland',\n",
       " 'France,Tunisie',\n",
       " 'Dánia,Franciaország,Portugália,Spanyolország,Nagy-Britannia,Magyarország, en:switzerland',\n",
       " 'Dánia,Franciaország,Németország,Portugália,Spanyolország,Nagy-Britannia,Magyarország, en:switzerland, en:belgium',\n",
       " 'Dánia,Svájc,Nagy-Britannia,Magyarország, en:france, Suisse',\n",
       " 'Danemark,France,Royaume-Uni',\n",
       " 'Suisse,Royaume-Uni,France, en:denmark, en:belgium',\n",
       " 'Frankreich,Deutschland,Mauritius,Espagne,Royaume-Uni',\n",
       " 'Danemark,France,Espagne, Suisse',\n",
       " 'France,Royaume-Uni, en:switzerland',\n",
       " 'en:AE, Suisse',\n",
       " 'Belgique,France,Guyane',\n",
       " 'France, en:reunion',\n",
       " 'Belgique,France,Mali,La Réunion,Suisse,Royaume-Uni',\n",
       " 'Belgique, en:france, Suisse',\n",
       " 'United Kingdom, en:france, Suisse',\n",
       " 'Франция,Россия',\n",
       " 'Switzerland, en:france',\n",
       " 'France, en:switzerland, en:belgium, en:united-kingdom',\n",
       " 'France,Pays-Bas,Suisse',\n",
       " 'en:GF',\n",
       " 'France, en:switzerland, en:belgium, en:reunion, en:morocco',\n",
       " 'France, en:belgium, Suisse',\n",
       " 'Suisse,France, en:belgium, en:morocco, en:spain',\n",
       " 'Portugal, en:denmark',\n",
       " 'en:BE, en:france, Suisse',\n",
       " 'France,Suisse, en:belgium',\n",
       " 'Frankreich',\n",
       " 'Magyarország',\n",
       " 'en:IT, Suisse',\n",
       " 'Danmark',\n",
       " 'Belgique,France, en:switzerland',\n",
       " 'España, en:denmark, Suisse',\n",
       " 'France,Aix-en-Provence,Bouches du Rhône,PACA',\n",
       " 'France,Portugal, en:switzerland, en:belgium',\n",
       " 'France, en:germany',\n",
       " 'France,Monaco',\n",
       " 'en:SN',\n",
       " 'France,Royaume-Uni, en:denmark, Suisse',\n",
       " 'Belgium,France,Germany,Italy,Netherlands,Portugal,Spain,Switzerland,United Kingdom',\n",
       " 'France,Germany,Switzerland',\n",
       " 'French Polynesia',\n",
       " 'Iran',\n",
       " 'en:GB, en:france',\n",
       " 'France, en:switzerland, en:belgium, en:morocco',\n",
       " 'Allemagne, en:france',\n",
       " 'Martinique,france',\n",
       " 'Guadeloupe,Martinique,Guyane, en:france',\n",
       " 'France,de:Deutschland, US',\n",
       " 'Royaume-Uni, en:france',\n",
       " 'en:RE, en:france, Suisse',\n",
       " 'Nederland, en:france',\n",
       " 'Thailand',\n",
       " 'France,Martinique',\n",
       " 'en:denmark, Suisse',\n",
       " 'Poland, Suisse',\n",
       " 'France, en:senegal',\n",
       " 'France, La Réunion',\n",
       " 'France,Nouvelle-Calédonie',\n",
       " 'Francia',\n",
       " 'La Réunion, en:france',\n",
       " 'New Caledonia,France',\n",
       " 'France,Guadeloupe, en:switzerland',\n",
       " 'Guadeloupe, France',\n",
       " 'Deutschland, en:denmark',\n",
       " 'Sint Maarten',\n",
       " 'France,Suisse,Royaume-Uni',\n",
       " 'Belgique,Danemark,France,Allemagne',\n",
       " 'Maroc,France',\n",
       " 'Danemark,Royaume-Uni, en:france',\n",
       " 'Frankreich,Spanien,Deutschland, Suisse',\n",
       " 'Frankrijk, Suisse',\n",
       " 'Denmark,United Kingdom',\n",
       " 'Germany, Suisse',\n",
       " 'Netherlands, en:france',\n",
       " 'Suède, en:france',\n",
       " 'france, en:switzerland',\n",
       " 'France, Guyane',\n",
       " 'France,Vanuatu',\n",
       " 'France,Grèce,Espagne, en:belgium',\n",
       " 'Belgique,France,Espagne',\n",
       " 'Francia, España',\n",
       " 'France,guadeloupe',\n",
       " 'Danemark,France, Suisse',\n",
       " 'France, en:denmark, Suisse',\n",
       " 'France,Saint-Pierre-et-Miquelon',\n",
       " 'Belgium,France,Portugal',\n",
       " 'Saint-Pierre-et-Miquelon,France',\n",
       " 'France,Portugal,Belgium',\n",
       " 'België,Frankrijk',\n",
       " 'Belgique,France,Pologne,Portugal',\n",
       " 'France, en:algeria',\n",
       " 'New Caledonia',\n",
       " 'Jordan',\n",
       " 'França,Itália,Portugal,Espanha',\n",
       " 'French Guiana',\n",
       " 'France,French Guiana',\n",
       " 'en:GF, en:france',\n",
       " 'Frankrijk,Zwitserland',\n",
       " 'Belgique,France,Luxembourg',\n",
       " 'France,Cora',\n",
       " 'Canada,France,Grèce,Pays-Bas,Espagne,Royaume-Uni,États-Unis',\n",
       " 'Guadeloupe,martinique',\n",
       " 'Guyane, France',\n",
       " 'France,Portugal,Spain,United Kingdom',\n",
       " 'France,Spain,United Kingdom',\n",
       " 'France,Espagne,Royaume-Uni',\n",
       " 'en:YT',\n",
       " 'Belgium,France,Mali,Switzerland,United Kingdom',\n",
       " 'France,Belgique,Pays-Bas',\n",
       " 'France,Belgium,Spain',\n",
       " 'Frankrijk,België',\n",
       " 'Belgien,Frankreich,Deutschland, en:switzerland',\n",
       " 'France,Netherlands,Switzerland, en:belgium',\n",
       " 'France, en:spain',\n",
       " 'España, Suisse',\n",
       " 'España,Suiza',\n",
       " 'Belgique,France,Italie,Luxembourg,Mali,Martinique,Suisse',\n",
       " 'France,Belgique,Pays-Bas,Allemagne',\n",
       " 'France,Italia',\n",
       " 'France,Réunion',\n",
       " 'Guadeloupe,Martinique',\n",
       " 'Guadeloupe,Martinique,Guyane',\n",
       " 'Martinique,Guyane,Guadeloupe',\n",
       " 'Suisse,France,Belgique',\n",
       " 'France,Bourgogne-Aube-Nogent sur Seine',\n",
       " 'Guyane,Guadeloupe,Martinique',\n",
       " 'en:QA',\n",
       " 'en:NL, en:france',\n",
       " 'Guadeloupe,Martinique, en:france',\n",
       " 'Belgique,France,Allemagne,Italie,Pays-Bas,Espagne,Royaume-Uni',\n",
       " 'Autriche,France',\n",
       " 'Belgium,France,Luxembourg,Switzerland',\n",
       " 'France,China',\n",
       " 'Belgique,France,Allemagne,Italie,Pays-Bas,Royaume-Uni',\n",
       " 'France,en:Belgique',\n",
       " 'en:AD',\n",
       " 'Danemark,France,Guadeloupe',\n",
       " 'France, en:denmark',\n",
       " 'en:FR, en:denmark',\n",
       " 'France,de:Deutschland, Suisse',\n",
       " 'Inde',\n",
       " 'Puyricard,France',\n",
       " 'France,Puyricard',\n",
       " 'France,Italy,Spain',\n",
       " 'Autriche',\n",
       " 'France,United Arab Emirates',\n",
       " 'Martinique, en:france',\n",
       " 'en:WF',\n",
       " 'Espagne,France,Belgique',\n",
       " 'Tunisia',\n",
       " 'Belgium,France,Greece',\n",
       " 'België, en:france',\n",
       " 'Guadeloupe, en:france, en:belgium',\n",
       " 'Mayotte',\n",
       " 'Algérie,Belgique,Canada,France,Maroc,Suisse',\n",
       " 'France, en:french-polynesia',\n",
       " 'Frankrijk,Griekenland,Spanje',\n",
       " 'France,Espagne, en:french-polynesia',\n",
       " 'France,Grèce,Pays-Bas',\n",
       " 'Frankreich,Belgien',\n",
       " 'France,Espagne,Portugal',\n",
       " 'France,Espagne,Italie,Portugal',\n",
       " 'Belgium,France,Netherlands',\n",
       " 'France, en:morocco',\n",
       " 'España, en:france, en:belgium',\n",
       " 'France,Estonia',\n",
       " 'en:NE',\n",
       " 'en:FR,France',\n",
       " 'France,Belgique,Allemagne',\n",
       " 'France,Russie',\n",
       " 'Luxembourg,France',\n",
       " 'La Réunion,France',\n",
       " 'Belgium,France,Italy,United Kingdom',\n",
       " 'France,Italy,Netherlands,United Kingdom',\n",
       " 'en:MF',\n",
       " 'Suisse,Belgique,France',\n",
       " 'Iceland',\n",
       " 'Autriche,Danemark,France,Allemagne,Pays-Bas,Espagne,Suisse',\n",
       " 'Frankrijk,Nederland',\n",
       " 'Serbia,Switzerland',\n",
       " 'Bosnia and Herzegovina,Serbia',\n",
       " 'en:BA',\n",
       " 'en:DE, Suisse',\n",
       " 'Belgien,Frankreich,Deutschland,Rumänien',\n",
       " 'Dänemark,Frankreich,Deutschland',\n",
       " 'Belgien,Dänemark,Frankreich,Deutschland',\n",
       " 'Australia,Czech Republic,France,Germany,Hungary',\n",
       " 'Danemark,France,Allemagne,Russie,Espagne,Royaume-Uni',\n",
       " 'Tschechien,Dänemark,Frankreich,Deutschland',\n",
       " 'Deutschland,France',\n",
       " 'Danemark,Allemagne,France',\n",
       " 'Dänemark,Frankreich,Deutschland,Indien',\n",
       " 'Dänemark',\n",
       " 'Armenien,Frankreich,Deutschland,Rumänien,Russland,Italien',\n",
       " 'China,Frankreich,Deutschland',\n",
       " 'Franciaország,Magyarország',\n",
       " 'Deutschland,Vereinigtes Königreich,Spanien,Niederlande',\n",
       " 'Austria,Germany',\n",
       " 'en:GB, Suisse',\n",
       " 'en:US, Suisse',\n",
       " 'États-Unis, Suisse',\n",
       " 'Denmark,United Kingdom, Suisse',\n",
       " 'Dänemark,Schweiz,Vereinigtes Königreich,Deutschland',\n",
       " 'en:BY',\n",
       " '中华人民共和国,德国',\n",
       " 'Frankreich,Deutschland, Suisse',\n",
       " 'Australie,Belgique,France, en:switzerland',\n",
       " 'France,Suisse,Australien,Allemagne',\n",
       " 'France,Suisse,Australien,Niederlande,Allemagne',\n",
       " 'Deutschland,Niederlande',\n",
       " 'Duitsland',\n",
       " 'en:LU, en:france',\n",
       " 'United States,United Kingdom',\n",
       " 'en:KH',\n",
       " 'Germany,Sweden',\n",
       " 'Belarus,Czech Republic',\n",
       " '中华人民共和国',\n",
       " 'en:MR',\n",
       " 'France,Allemagne,Italie',\n",
       " 'Hongrie',\n",
       " 'Germania',\n",
       " 'Portugal,Roménia,Espanha',\n",
       " 'en:IR',\n",
       " 'Deutschland,Luxemburg',\n",
       " 'France,Germany, Suisse',\n",
       " 'en:MA, en:france',\n",
       " 'Deutschland,Germany',\n",
       " 'Deutschland,Deutschland',\n",
       " 'République tchèque,France, Suisse',\n",
       " 'Allemagne,france',\n",
       " 'Danemark,France,Allemagne',\n",
       " 'Magyarország, Suisse',\n",
       " 'France,Allemagne, Suisse',\n",
       " 'Francia,España, Suisse',\n",
       " 'Deutschland,Polen',\n",
       " 'en:AT, Suisse',\n",
       " 'France,Russie, Suisse',\n",
       " 'en:CY',\n",
       " 'France,Roumanie',\n",
       " 'Sverige',\n",
       " 'Germany,Hungary',\n",
       " 'Österreich,Tschechien,Deutschland',\n",
       " 'Österreich,Deutschland',\n",
       " 'Luxembourg, en:france, en:switzerland',\n",
       " 'Denmark,Switzerland,Deutschland,Frankreich',\n",
       " 'France,Saudi Arabia,Germany, en:switzerland, en:belgium',\n",
       " 'France,Sweden',\n",
       " 'Dänemark,Frankreich,Deutschland,Schweiz',\n",
       " 'Schweiz,Deutschland',\n",
       " 'Alemania, España',\n",
       " 'Luxembourg,Allemagne',\n",
       " 'Germany,Morocco',\n",
       " 'en:VN',\n",
       " 'France,Germany,Greece,Spain',\n",
       " 'italia',\n",
       " 'Deutschland,Tunesien',\n",
       " 'Deutschland,Griechenland',\n",
       " 'en:AZ',\n",
       " 'en:LU, Suisse',\n",
       " 'Allemagne, Suisse',\n",
       " 'en:LT',\n",
       " 'Франция',\n",
       " 'Deutschland,Frankreich',\n",
       " 'Германия',\n",
       " 'France, en:india',\n",
       " 'Belgium,France,World',\n",
       " 'Suisse,Royaume-Uni',\n",
       " 'Finland,France,Greece,Italy,Spain,Sweden',\n",
       " 'Australien,Schweiz',\n",
       " 'Deutschland,Republik China, Suisse',\n",
       " 'المغرب',\n",
       " 'Belgique,France,Pologne,Suisse',\n",
       " 'en:MQ, en:france',\n",
       " 'Deutschland,Frankreich,Schweden,Dänemark',\n",
       " 'Frankreich,Schweiz',\n",
       " 'en:DZ, en:france',\n",
       " 'en:ZA',\n",
       " 'Deutschland,Dänemark',\n",
       " 'en:FR, en:netherlands',\n",
       " 'Belgique,France,Allemagne,Pays-Bas',\n",
       " 'Australie,France',\n",
       " 'France,Allemagne,suisse',\n",
       " 'ALLEMAGNE',\n",
       " 'Slovakia',\n",
       " '日本,en:日本',\n",
       " 'Japon',\n",
       " 'Finland,France',\n",
       " 'Russie',\n",
       " 'en:GA',\n",
       " 'Россия,Великобритания',\n",
       " 'France,Russia',\n",
       " 'en:KZ',\n",
       " 'en:MN',\n",
       " 'Republic of China',\n",
       " '法国,中華民國',\n",
       " 'en:TD',\n",
       " 'République de Chine',\n",
       " 'en:EE',\n",
       " 'Lietuva',\n",
       " 'en:LV',\n",
       " 'Latvia,Lettonie',\n",
       " 'Lettonie',\n",
       " 'Lithuania,Sweden',\n",
       " 'Lithuania',\n",
       " 'en:LK',\n",
       " 'France,Sri Lanka',\n",
       " 'Белоруссия',\n",
       " 'Belarus',\n",
       " 'Белоруссия,Грузия,Казахстан,Россия,Украина',\n",
       " 'Ukraine',\n",
       " 'Moldova',\n",
       " 'Грузия,Россия',\n",
       " 'Singapore,thailand',\n",
       " 'France,Japan',\n",
       " '澳门',\n",
       " 'Hong Kong,Japon',\n",
       " 'Germany,Japan',\n",
       " 'フランス,日本',\n",
       " 'United States,Germany',\n",
       " '日本,Other:日本, US',\n",
       " 'France,Belgique,Danemark',\n",
       " 'United Kingdom, en:denmark',\n",
       " 'Italie,Suisse',\n",
       " 'United Kingdom,United States,Switzerland',\n",
       " 'Mozambique, en:france',\n",
       " 'Australia,United Kingdom,United States',\n",
       " 'en:EU, US',\n",
       " 'United Kingdom, en:denmark, Suisse',\n",
       " 'Algérie,Belgique,Égypte,France,Maroc,Qatar,Suisse,Tunisie,Émirats arabes unis',\n",
       " 'Australie,France, Suisse',\n",
       " 'Ireland,United Kingdom',\n",
       " 'Belgium,France,Germany,Italy,Morocco,Portugal,Serbia,Switzerland',\n",
       " 'Belgien,Dänemark,Luxemburg,Marokko,Portugal,Vereinigtes Königreich,Vereinigte Staaten von Amerika,Deutschland,Frankreich,Schweiz',\n",
       " 'Frankreich,Deutschland,Niederlande',\n",
       " 'Nederland, Suisse',\n",
       " 'United-Kingdom',\n",
       " 'Verenigd Koninkrijk,Nederland',\n",
       " 'Allemagne,Suisse,France',\n",
       " 'Danemark,France,Suisse',\n",
       " 'united-kingdom',\n",
       " 'Indonesia',\n",
       " 'en:LY',\n",
       " 'Belgium, en:france, Suisse',\n",
       " 'Belgique,France, US',\n",
       " 'Portugal,United Kingdom, en:france',\n",
       " 'European Union, Suisse',\n",
       " 'Australia,United Kingdom',\n",
       " 'France,Switzerland,Czech Republic',\n",
       " 'Autriche,France, Suisse',\n",
       " 'France,Allemagne,Pays-Bas,Royaume-Uni',\n",
       " 'Argentina',\n",
       " 'Italie, en:france',\n",
       " 'Cyprus',\n",
       " 'Bosnia and Herzegovina,Montenegro,Serbia',\n",
       " 'Montenegro,Serbia',\n",
       " 'France, en:denmark, en:switzerland',\n",
       " 'Scotland, United Kingdom',\n",
       " 'Perú, US',\n",
       " 'France,Scotland,United Kingdom',\n",
       " 'Germany,Switzerland,United Kingdom',\n",
       " 'Francia,España,Reino Unido',\n",
       " 'Portugal,France',\n",
       " 'Greece',\n",
       " 'en:JE',\n",
       " 'Dinamarca,Itália,Noruega,Portugal,Suécia,Reino Unido',\n",
       " 'Österreich, en:france',\n",
       " 'France,Royaume-Uni,canada',\n",
       " 'en:SG, en:france',\n",
       " 'Spain,United Kingdom, Suisse',\n",
       " 'Denmark,France, US',\n",
       " 'France,Espagne,Grèce,Allemagne,Belgique,Pays-Bas',\n",
       " 'France,Belgique,Grèce,Pays-Bas,Espagne',\n",
       " 'France,Belgique,Allemagne,Suisse,Autriche,Pays-Bas,Danemark,Suède',\n",
       " 'France, en:switzerland, en:belgium, en:italy, en:reunion',\n",
       " 'France,Italie,Espagne',\n",
       " 'en:SE, en:france, en:switzerland, en:belgium',\n",
       " 'Frankrijk,Zwitserland,Finand,Denemarken,Italiaans',\n",
       " 'France,united kingdom',\n",
       " 'Finland,France,Germany,Ireland,Spain,Switzerland,United Kingdom,Estonia',\n",
       " 'Australia,France,United Kingdom,Scotland',\n",
       " 'France,United Kingdom, Suisse',\n",
       " 'France,Italie,Royaume-Uni',\n",
       " 'Irlande',\n",
       " 'Grèce',\n",
       " 'Γαλλία',\n",
       " 'Roumanie',\n",
       " 'México,United States',\n",
       " 'Israel',\n",
       " 'Albania',\n",
       " 'Malta',\n",
       " 'en:CD',\n",
       " 'France,Serbie',\n",
       " 'Belgica',\n",
       " 'Serbia,Belgium',\n",
       " 'France,belgique',\n",
       " 'en:GH',\n",
       " 'France,Irlande',\n",
       " 'en:GW',\n",
       " 'Belgium,France,Germany,Italy,Spain',\n",
       " 'Italië,en:belgie,en:duitsland,en:frankrijk,Denemarken,Nederland,Zweden,Noorwegen',\n",
       " 'Belgium,Denmark,France,Morocco,Switzerland,Finland,Sweden,Spain,Italy',\n",
       " 'Belgique,France,Maroc,Suisse',\n",
       " 'Danemark,France,Portugal, Suisse',\n",
       " 'France,Suisse, en:denmark',\n",
       " 'France,Belgique,Suisse,Pays-Bas',\n",
       " 'France, en:switzerland, en:belgium, en:spain',\n",
       " 'France, en:switzerland, en:united-kingdom',\n",
       " 'Sweden, en:france',\n",
       " 'France,Germany,Italy,Norway,Spain,Sweden,United Kingdom',\n",
       " 'Spain, en:france, Suisse',\n",
       " 'España, en:france, Suisse',\n",
       " 'Belgium,Czech Republic,Denmark,France,Germany,Italy,Netherlands,New Zealand,Spain,Sweden,United Kingdom',\n",
       " 'France,Belgium,Netherlands',\n",
       " ...]"
      ]
     },
     "execution_count": 12,
     "metadata": {},
     "output_type": "execute_result"
    }
   ],
   "source": [
    "new_data['countries'].unique().tolist()"
   ]
  },
  {
   "cell_type": "code",
   "execution_count": 13,
   "id": "474c7d88",
   "metadata": {},
   "outputs": [],
   "source": [
    "new_data.replace(\"en:Etats-unis\", \"États-Unis\", inplace = True, regex = True)"
   ]
  },
  {
   "cell_type": "code",
   "execution_count": 14,
   "id": "2094489d",
   "metadata": {},
   "outputs": [],
   "source": [
    "new_data.replace(\"en:FR\", \"France\", inplace = True, regex = True)"
   ]
  },
  {
   "cell_type": "code",
   "execution_count": 15,
   "id": "c6a17a7b",
   "metadata": {},
   "outputs": [],
   "source": [
    "new_data.replace(\"FR\", \"France\", inplace = True, regex = True)"
   ]
  },
  {
   "cell_type": "code",
   "execution_count": 16,
   "id": "25eab164",
   "metadata": {},
   "outputs": [],
   "source": [
    "new_data.replace(\"en:GB\", \"Grande Bretagne\", inplace = True, regex = True)"
   ]
  },
  {
   "cell_type": "code",
   "execution_count": 17,
   "id": "dd387a68",
   "metadata": {},
   "outputs": [],
   "source": [
    "new_data.replace(\"France, US\", \"France, États-Unis\", inplace = True, regex = True)"
   ]
  },
  {
   "cell_type": "code",
   "execution_count": 18,
   "id": "18d92774",
   "metadata": {},
   "outputs": [],
   "source": [
    "new_data.replace(\"en:CH\", \"Suisse\", inplace = True, regex = True)"
   ]
  },
  {
   "cell_type": "code",
   "execution_count": 19,
   "id": "e700a4ca",
   "metadata": {},
   "outputs": [],
   "source": [
    "new_data.replace(\"en:ES\", \"Espagne\", inplace = True, regex = True)"
   ]
  },
  {
   "cell_type": "code",
   "execution_count": 20,
   "id": "25432bdd",
   "metadata": {},
   "outputs": [],
   "source": [
    "new_data.replace(\"Deutschland\", \"Allemagne\", inplace = True, regex = True)"
   ]
  },
  {
   "cell_type": "code",
   "execution_count": 21,
   "id": "68d2f6a4",
   "metadata": {},
   "outputs": [],
   "source": [
    "new_data.replace(\"en:SI\", \"Slovénie\", inplace = True, regex = True)"
   ]
  },
  {
   "cell_type": "code",
   "execution_count": 22,
   "id": "83b5336d",
   "metadata": {},
   "outputs": [],
   "source": [
    "new_data.replace(\"en:DE\", \"Allemagne\", inplace = True, regex = True)"
   ]
  },
  {
   "cell_type": "code",
   "execution_count": 23,
   "id": "6fc0dbc4",
   "metadata": {},
   "outputs": [],
   "source": [
    "new_data.replace(\"en:IT\", \"Italie\", inplace = True, regex = True)"
   ]
  },
  {
   "cell_type": "code",
   "execution_count": 24,
   "id": "b925c537",
   "metadata": {},
   "outputs": [],
   "source": [
    "new_data.replace(\"en:RO\", \"Roumanie\", inplace = True, regex = True)"
   ]
  },
  {
   "cell_type": "code",
   "execution_count": 25,
   "id": "8ef5fdbf",
   "metadata": {},
   "outputs": [],
   "source": [
    "new_data.replace(\"España\", \"Espagne\", inplace = True, regex = True)"
   ]
  },
  {
   "cell_type": "code",
   "execution_count": 26,
   "id": "e58851ff",
   "metadata": {},
   "outputs": [],
   "source": [
    "new_data.replace(\"en:AU\", \"Australie\", inplace = True, regex = True)"
   ]
  },
  {
   "cell_type": "code",
   "execution_count": 27,
   "id": "314230ad",
   "metadata": {},
   "outputs": [],
   "source": [
    "new_data.replace(\"en:PT\", \"Portugal\", inplace = True, regex = True)"
   ]
  },
  {
   "cell_type": "code",
   "execution_count": 28,
   "id": "5399417c",
   "metadata": {},
   "outputs": [],
   "source": [
    "new_data.replace(\"United States\", \"États-Unis\", inplace = True, regex = True)"
   ]
  },
  {
   "cell_type": "code",
   "execution_count": 29,
   "id": "fd4daf4c",
   "metadata": {},
   "outputs": [],
   "source": [
    "new_data.replace(\"Germany\", \"Allemagne\", inplace = True, regex = True)"
   ]
  },
  {
   "cell_type": "code",
   "execution_count": 30,
   "id": "2d962659",
   "metadata": {},
   "outputs": [],
   "source": [
    "new_data.replace(\"Usa\", \"États-Unis\", inplace = True, regex = True)"
   ]
  },
  {
   "cell_type": "code",
   "execution_count": 31,
   "id": "a8622771",
   "metadata": {},
   "outputs": [],
   "source": [
    "new_data.replace(\"United States of America\", \"États-Unis\", inplace = True, regex = True)"
   ]
  },
  {
   "cell_type": "code",
   "execution_count": 32,
   "id": "aec20907",
   "metadata": {},
   "outputs": [],
   "source": [
    "new_data.replace(\"UK\", \"Royaume-Uni\", inplace = True, regex = True)"
   ]
  },
  {
   "cell_type": "code",
   "execution_count": 33,
   "id": "e2c1700c",
   "metadata": {},
   "outputs": [],
   "source": [
    "new_data.replace(\"US\", \"États-Unis\", inplace = True, regex = True)"
   ]
  },
  {
   "cell_type": "code",
   "execution_count": 34,
   "id": "247b8783",
   "metadata": {},
   "outputs": [],
   "source": [
    "new_data.replace(\"en:CA\", \"Canada\", inplace = True, regex = True)"
   ]
  },
  {
   "cell_type": "code",
   "execution_count": 35,
   "id": "44413926",
   "metadata": {},
   "outputs": [],
   "source": [
    "new_data.replace(\"Nederland\", \"Pays-Bas\", inplace = True, regex = True)"
   ]
  },
  {
   "cell_type": "code",
   "execution_count": 36,
   "id": "68b8cef2",
   "metadata": {},
   "outputs": [],
   "source": [
    "new_data.replace(\"Niederlande\", \"Pays-Bas\", inplace = True, regex = True)"
   ]
  },
  {
   "cell_type": "code",
   "execution_count": 37,
   "id": "02850174",
   "metadata": {},
   "outputs": [],
   "source": [
    "new_data.replace(\"United Kingdom\", \"Royaume-Uni\", inplace = True, regex = True)"
   ]
  },
  {
   "cell_type": "code",
   "execution_count": 38,
   "id": "acb2f9be",
   "metadata": {},
   "outputs": [],
   "source": [
    "new_data.replace(\"en:united-kingdom\", \"Royaume-Uni\", inplace = True, regex = True)"
   ]
  },
  {
   "cell_type": "code",
   "execution_count": 39,
   "id": "aae3b870",
   "metadata": {},
   "outputs": [],
   "source": [
    "new_data.replace(\"en:GP\", \"Guadeloupe\", inplace = True, regex = True)"
   ]
  },
  {
   "cell_type": "code",
   "execution_count": 40,
   "id": "2250bec4",
   "metadata": {},
   "outputs": [],
   "source": [
    "new_data.replace(\"en:US\", \"États-Unis\", inplace = True, regex = True)"
   ]
  },
  {
   "cell_type": "code",
   "execution_count": 41,
   "id": "d4e0d5e6",
   "metadata": {},
   "outputs": [],
   "source": [
    "new_data.replace(\"Estados Unidos\", \"États-Unis\", inplace = True, regex = True)"
   ]
  },
  {
   "cell_type": "code",
   "execution_count": 42,
   "id": "e37e5333",
   "metadata": {},
   "outputs": [],
   "source": [
    "new_data.replace(\"en:united-states\", \"États-Unis\", inplace = True, regex = True)"
   ]
  },
  {
   "cell_type": "code",
   "execution_count": 43,
   "id": "fcd5a384",
   "metadata": {},
   "outputs": [],
   "source": [
    "new_data.replace(\"Switzerland\", \"Suisse\", inplace = True, regex = True)"
   ]
  },
  {
   "cell_type": "code",
   "execution_count": 44,
   "id": "a6dca769",
   "metadata": {},
   "outputs": [],
   "source": [
    "new_data.replace(\"en:switzerland\", \"Suisse\", inplace = True, regex = True)"
   ]
  },
  {
   "cell_type": "code",
   "execution_count": 45,
   "id": "2f7b3fe3",
   "metadata": {},
   "outputs": [],
   "source": [
    "new_data.replace(\"en:france\", \"France\", inplace = True, regex = True)"
   ]
  },
  {
   "cell_type": "code",
   "execution_count": 46,
   "id": "ad353292",
   "metadata": {},
   "outputs": [],
   "source": [
    "new_data.replace(\"Ireland\", \"Irlande\", inplace = True, regex = True)"
   ]
  },
  {
   "cell_type": "code",
   "execution_count": 47,
   "id": "8da5296c",
   "metadata": {},
   "outputs": [],
   "source": [
    "new_data.replace(\"en:RE\", \"Réunion\", inplace = True, regex = True)"
   ]
  },
  {
   "cell_type": "code",
   "execution_count": 48,
   "id": "f4f949bb",
   "metadata": {},
   "outputs": [],
   "source": [
    "new_data.replace(\"en:TW\", \"Taiwan\", inplace = True, regex = True)"
   ]
  },
  {
   "cell_type": "code",
   "execution_count": 49,
   "id": "31d49737",
   "metadata": {},
   "outputs": [],
   "source": [
    "new_data.replace(\"en:BR\", \"Brésil\", inplace = True, regex = True)"
   ]
  },
  {
   "cell_type": "code",
   "execution_count": 50,
   "id": "513b04bb",
   "metadata": {},
   "outputs": [],
   "source": [
    "new_data.replace(\"en:DO\", \"République Dominicaine\", inplace = True, regex = True)"
   ]
  },
  {
   "cell_type": "code",
   "execution_count": 51,
   "id": "0832f0ff",
   "metadata": {},
   "outputs": [],
   "source": [
    "new_data.replace(\"en:FR\", \"France\", inplace = True, regex = True)"
   ]
  },
  {
   "cell_type": "code",
   "execution_count": 52,
   "id": "3a6d8bab",
   "metadata": {},
   "outputs": [],
   "source": [
    "new_data.replace(\"en:SA\", \"Arabie Saoudite\", inplace = True, regex = True)"
   ]
  },
  {
   "cell_type": "code",
   "execution_count": 53,
   "id": "0850c82a",
   "metadata": {},
   "outputs": [],
   "source": [
    "new_data.replace(\"Saudi Arabia\", \"Arabie Saoudite\", inplace = True, regex = True)"
   ]
  },
  {
   "cell_type": "code",
   "execution_count": 54,
   "id": "68468a46",
   "metadata": {},
   "outputs": [],
   "source": [
    "new_data.replace(\"en:AE\", \"Emirats arabes unis\", inplace = True, regex = True)"
   ]
  },
  {
   "cell_type": "code",
   "execution_count": 55,
   "id": "8fafeae8",
   "metadata": {},
   "outputs": [],
   "source": [
    "new_data.replace(\"en:IQ\", \"Irak\", inplace = True, regex = True)"
   ]
  },
  {
   "cell_type": "code",
   "execution_count": 56,
   "id": "07664d85",
   "metadata": {},
   "outputs": [],
   "source": [
    "new_data.replace(\"en:KW\", \"Koweït\", inplace = True, regex = True)"
   ]
  },
  {
   "cell_type": "code",
   "execution_count": 57,
   "id": "fedee870",
   "metadata": {},
   "outputs": [],
   "source": [
    "new_data.replace(\"Republica Moldova\", \"Moldavie\", inplace = True, regex = True)"
   ]
  },
  {
   "cell_type": "code",
   "execution_count": 58,
   "id": "82c11992",
   "metadata": {},
   "outputs": [],
   "source": [
    "new_data.replace(\"Belgium\", \"Belgique\", inplace = True, regex = True)"
   ]
  },
  {
   "cell_type": "code",
   "execution_count": 59,
   "id": "778be9f7",
   "metadata": {},
   "outputs": [],
   "source": [
    "new_data.replace(\"en:belgium\", \"Belgique\", inplace = True, regex = True)"
   ]
  },
  {
   "cell_type": "code",
   "execution_count": 60,
   "id": "74c69118",
   "metadata": {},
   "outputs": [],
   "source": [
    "new_data.replace(\"en:NC\", \"Nouvelle-Calédonie\", inplace = True, regex = True)"
   ]
  },
  {
   "cell_type": "code",
   "execution_count": 61,
   "id": "110e21a3",
   "metadata": {},
   "outputs": [],
   "source": [
    "new_data.replace(\"Singapore\", \"Singapour\", inplace = True, regex = True)"
   ]
  },
  {
   "cell_type": "code",
   "execution_count": 62,
   "id": "28c15859",
   "metadata": {},
   "outputs": [],
   "source": [
    "new_data.replace(\"en:FI\", \"Finlande\", inplace = True, regex = True)"
   ]
  },
  {
   "cell_type": "code",
   "execution_count": 63,
   "id": "326ebccb",
   "metadata": {},
   "outputs": [],
   "source": [
    "new_data.replace(\"en:SG\", \"Singapour\", inplace = True, regex = True)"
   ]
  },
  {
   "cell_type": "code",
   "execution_count": 64,
   "id": "7e7840c5",
   "metadata": {},
   "outputs": [],
   "source": [
    "new_data.replace(\"en:PF\", \"Polynésie française\", inplace = True, regex = True)"
   ]
  },
  {
   "cell_type": "code",
   "execution_count": 65,
   "id": "df5e135e",
   "metadata": {},
   "outputs": [],
   "source": [
    "new_data.replace(\"en:PA\", \"Panama\", inplace = True, regex = True)"
   ]
  },
  {
   "cell_type": "code",
   "execution_count": 66,
   "id": "47e5eaff",
   "metadata": {},
   "outputs": [],
   "source": [
    "new_data.replace(\"en:CR\", \"Costa Rica\", inplace = True, regex = True)"
   ]
  },
  {
   "cell_type": "code",
   "execution_count": 67,
   "id": "5f9b5034",
   "metadata": {},
   "outputs": [],
   "source": [
    "new_data.replace(\"en:MX\", \"Mexique\", inplace = True, regex = True)"
   ]
  },
  {
   "cell_type": "code",
   "execution_count": 68,
   "id": "38c9b036",
   "metadata": {},
   "outputs": [],
   "source": [
    "new_data.replace(\"Spain\", \"Espagne\", inplace = True, regex = True)"
   ]
  },
  {
   "cell_type": "code",
   "execution_count": 69,
   "id": "5b2817aa",
   "metadata": {},
   "outputs": [],
   "source": [
    "new_data.replace(\"spain\", \"Espagne\", inplace = True, regex = True)"
   ]
  },
  {
   "cell_type": "code",
   "execution_count": 70,
   "id": "98f95613",
   "metadata": {},
   "outputs": [],
   "source": [
    "new_data.replace(\"en:TH\", \"Thaïlande\", inplace = True, regex = True)"
   ]
  },
  {
   "cell_type": "code",
   "execution_count": 71,
   "id": "17171fce",
   "metadata": {},
   "outputs": [],
   "source": [
    "new_data.replace(\"México\", \"Mexique\", inplace = True, regex = True)"
   ]
  },
  {
   "cell_type": "code",
   "execution_count": 72,
   "id": "6e371bf7",
   "metadata": {},
   "outputs": [],
   "source": [
    "new_data.replace(\"en:CN\", \"Chine\", inplace = True, regex = True)"
   ]
  },
  {
   "cell_type": "code",
   "execution_count": 73,
   "id": "583ff1e7",
   "metadata": {},
   "outputs": [],
   "source": [
    "new_data.replace(\"en:LU\", \"Luxembourg\", inplace = True, regex = True)"
   ]
  },
  {
   "cell_type": "code",
   "execution_count": 74,
   "id": "da8893e8",
   "metadata": {},
   "outputs": [],
   "source": [
    "new_data.replace(\"en:LB\", \"Liban\", inplace = True, regex = True)"
   ]
  },
  {
   "cell_type": "code",
   "execution_count": 75,
   "id": "c7761c58",
   "metadata": {},
   "outputs": [],
   "source": [
    "new_data.replace(\"Mexico\", \"Mexique\", inplace = True, regex = True)"
   ]
  },
  {
   "cell_type": "code",
   "execution_count": 76,
   "id": "b106ee4e",
   "metadata": {},
   "outputs": [],
   "source": [
    "new_data.replace(\"Vereinigte Staaten von Amerika\", \"États-Unis\", inplace = True, regex = True)"
   ]
  },
  {
   "cell_type": "code",
   "execution_count": 77,
   "id": "fae72b7f",
   "metadata": {},
   "outputs": [],
   "source": [
    "new_data.replace(\"Spanien\", \"Espagne\", inplace = True, regex = True)"
   ]
  },
  {
   "cell_type": "code",
   "execution_count": 78,
   "id": "6607c9a4",
   "metadata": {},
   "outputs": [],
   "source": [
    "new_data.replace(\"Denmark\", \"Danemark\", inplace = True, regex = True)"
   ]
  },
  {
   "cell_type": "code",
   "execution_count": 79,
   "id": "1a1e3f13",
   "metadata": {},
   "outputs": [],
   "source": [
    "new_data.replace(\"België\", \"Belgique\", inplace = True, regex = True)"
   ]
  },
  {
   "cell_type": "code",
   "execution_count": 80,
   "id": "4b11f0d8",
   "metadata": {},
   "outputs": [],
   "source": [
    "new_data.replace(\"en:BE\", \"Belgique\", inplace = True, regex = True)"
   ]
  },
  {
   "cell_type": "code",
   "execution_count": 81,
   "id": "0a8fbe78",
   "metadata": {},
   "outputs": [],
   "source": [
    "new_data.replace(\"Frankreich\", \"France\", inplace = True, regex = True)"
   ]
  },
  {
   "cell_type": "code",
   "execution_count": 82,
   "id": "a30abedf",
   "metadata": {},
   "outputs": [],
   "source": [
    "new_data.replace(\"en:MY\", \"Malaysie\", inplace = True, regex = True)"
   ]
  },
  {
   "cell_type": "code",
   "execution_count": 83,
   "id": "efa223f2",
   "metadata": {},
   "outputs": [],
   "source": [
    "new_data.replace(\"en:GY\", \"Guyane\", inplace = True, regex = True)"
   ]
  },
  {
   "cell_type": "code",
   "execution_count": 84,
   "id": "475e1b20",
   "metadata": {},
   "outputs": [],
   "source": [
    "new_data.replace(\"Serbia\", \"Serbie\", inplace = True, regex = True)"
   ]
  },
  {
   "cell_type": "code",
   "execution_count": 85,
   "id": "9f568392",
   "metadata": {},
   "outputs": [],
   "source": [
    "new_data.replace(\"en:MQ\", \"Martinique\", inplace = True, regex = True)"
   ]
  },
  {
   "cell_type": "code",
   "execution_count": 86,
   "id": "59649d77",
   "metadata": {},
   "outputs": [],
   "source": [
    "new_data.replace(\"United Arab Emirates\", \"Emirats arabes unis\", inplace = True, regex = True)"
   ]
  },
  {
   "cell_type": "code",
   "execution_count": 87,
   "id": "c14fa9c8",
   "metadata": {},
   "outputs": [],
   "source": [
    "new_data.replace(\"en:BB\", \"Barbades\", inplace = True, regex = True) "
   ]
  },
  {
   "cell_type": "code",
   "execution_count": 88,
   "id": "4db36c1b",
   "metadata": {},
   "outputs": [],
   "source": [
    "new_data.replace(\"en:AW\", \"Aruba\", inplace = True, regex = True)"
   ]
  },
  {
   "cell_type": "code",
   "execution_count": 89,
   "id": "0e789b2a",
   "metadata": {},
   "outputs": [],
   "source": [
    "new_data.replace(\"en:NO\", \"Norvège\", inplace = True, regex = True) "
   ]
  },
  {
   "cell_type": "code",
   "execution_count": 90,
   "id": "6ebf7edb",
   "metadata": {},
   "outputs": [],
   "source": [
    "new_data.replace(\"en:HT\", \"Haïti\", inplace = True, regex = True)"
   ]
  },
  {
   "cell_type": "code",
   "execution_count": 91,
   "id": "5d0ea2da",
   "metadata": {},
   "outputs": [],
   "source": [
    "new_data.replace(\"El Salvador\", \"Salvador\", inplace = True, regex = True) "
   ]
  },
  {
   "cell_type": "code",
   "execution_count": 92,
   "id": "f309665b",
   "metadata": {},
   "outputs": [],
   "source": [
    "new_data.replace(\"en:BH\", \"Bahreïn\", inplace = True, regex = True) "
   ]
  },
  {
   "cell_type": "code",
   "execution_count": 93,
   "id": "c02202ca",
   "metadata": {},
   "outputs": [],
   "source": [
    "new_data.replace(\"en:MA\", \"Maroc\", inplace = True, regex = True) "
   ]
  },
  {
   "cell_type": "code",
   "execution_count": 94,
   "id": "0045ae42",
   "metadata": {},
   "outputs": [],
   "source": [
    "new_data.replace(\"en:KR\", \"Corée du Sud\", inplace = True, regex = True) "
   ]
  },
  {
   "cell_type": "code",
   "execution_count": 95,
   "id": "f5568b2e",
   "metadata": {},
   "outputs": [],
   "source": [
    "new_data.replace(\"en:HK\", \"Hong Kong\", inplace = True, regex = True)"
   ]
  },
  {
   "cell_type": "code",
   "execution_count": 96,
   "id": "1d327654",
   "metadata": {},
   "outputs": [],
   "source": [
    "new_data.replace(\"en:TT\", \"Trinité et Tobago\", inplace = True, regex = True)"
   ]
  },
  {
   "cell_type": "code",
   "execution_count": 97,
   "id": "48b30779",
   "metadata": {},
   "outputs": [],
   "source": [
    "new_data.replace(\"Chile\", \"Chilie\", inplace = True, regex = True)"
   ]
  },
  {
   "cell_type": "code",
   "execution_count": 98,
   "id": "8a1a2ab1",
   "metadata": {},
   "outputs": [],
   "source": [
    "new_data.replace(\"en:CH\", \"Suisse\", inplace = True, regex = True)"
   ]
  },
  {
   "cell_type": "code",
   "execution_count": 99,
   "id": "a5984a77",
   "metadata": {},
   "outputs": [],
   "source": [
    "new_data.replace(\"Atralia\", \"Australie\", inplace = True, regex = True)"
   ]
  },
  {
   "cell_type": "code",
   "execution_count": 100,
   "id": "e356587f",
   "metadata": {},
   "outputs": [],
   "source": [
    "new_data.replace(\"Brasil\", \"Brésil\", inplace = True, regex = True)"
   ]
  },
  {
   "cell_type": "code",
   "execution_count": 101,
   "id": "f1ecf8bb",
   "metadata": {},
   "outputs": [],
   "source": [
    "new_data.replace(\"Österreich\", \"Autriche\", inplace = True, regex = True)"
   ]
  },
  {
   "cell_type": "code",
   "execution_count": 102,
   "id": "2f41e140",
   "metadata": {},
   "outputs": [],
   "source": [
    "new_data.replace(\"Sweden\", \"Suède\", inplace = True, regex = True)"
   ]
  },
  {
   "cell_type": "code",
   "execution_count": 103,
   "id": "3ca3d0a9",
   "metadata": {},
   "outputs": [],
   "source": [
    "new_data.replace(\"en:GN\", \"Guinée\", inplace = True, regex = True)"
   ]
  },
  {
   "cell_type": "code",
   "execution_count": 104,
   "id": "e8c47cf3",
   "metadata": {},
   "outputs": [],
   "source": [
    "new_data.replace(\"en:IL\", \"Israël\", inplace = True, regex = True)"
   ]
  },
  {
   "cell_type": "code",
   "execution_count": 105,
   "id": "caa1c907",
   "metadata": {},
   "outputs": [],
   "source": [
    "new_data.replace(\"China\", \"Chine\", inplace = True, regex = True)"
   ]
  },
  {
   "cell_type": "code",
   "execution_count": 106,
   "id": "3ddda466",
   "metadata": {},
   "outputs": [],
   "source": [
    "new_data.replace(\"en:RU\", \"Russie\", inplace = True, regex = True)"
   ]
  },
  {
   "cell_type": "code",
   "execution_count": 107,
   "id": "4982d17b",
   "metadata": {},
   "outputs": [],
   "source": [
    "new_data.replace(\"en:PM\", \"Saint Pierre et Miquelon\", inplace = True, regex = True)"
   ]
  },
  {
   "cell_type": "code",
   "execution_count": 108,
   "id": "a2f4e45f",
   "metadata": {},
   "outputs": [],
   "source": [
    "new_data.replace(\"Saint Pierre and Miquelon\", \"Saint Pierre et Miquelon\", inplace = True, regex = True)"
   ]
  },
  {
   "cell_type": "code",
   "execution_count": 109,
   "id": "6fef7847",
   "metadata": {},
   "outputs": [],
   "source": [
    "new_data.replace(\"en:DZ\", \"Algérie\", inplace = True, regex = True)"
   ]
  },
  {
   "cell_type": "code",
   "execution_count": 110,
   "id": "0ff58a01",
   "metadata": {},
   "outputs": [],
   "source": [
    "new_data.replace(\"en:NL\", \"Pays-Bas\", inplace = True, regex = True)"
   ]
  },
  {
   "cell_type": "code",
   "execution_count": 111,
   "id": "2789aa3a",
   "metadata": {},
   "outputs": [],
   "source": [
    "new_data.replace(\"Québec\", \"Canada\", inplace = True, regex = True)"
   ]
  },
  {
   "cell_type": "code",
   "execution_count": 112,
   "id": "cf3dc351",
   "metadata": {},
   "outputs": [],
   "source": [
    "new_data.replace(\"en:CZ\", \"République Tchèque\", inplace = True, regex = True)"
   ]
  },
  {
   "cell_type": "code",
   "execution_count": 113,
   "id": "4162aa24",
   "metadata": {},
   "outputs": [],
   "source": [
    "new_data.replace(\"Italia\", \"Italie\", inplace = True, regex = True)"
   ]
  },
  {
   "cell_type": "code",
   "execution_count": 114,
   "id": "c9e7d2b1",
   "metadata": {},
   "outputs": [],
   "source": [
    "new_data.replace(\"Czech\", \"République Tchèque\", inplace = True, regex = True)"
   ]
  },
  {
   "cell_type": "code",
   "execution_count": 115,
   "id": "0a184647",
   "metadata": {},
   "outputs": [],
   "source": [
    "new_data.replace(\"fr:Québec\", \"Canada\", inplace = True, regex = True)"
   ]
  },
  {
   "cell_type": "code",
   "execution_count": 116,
   "id": "3559c78a",
   "metadata": {},
   "outputs": [],
   "source": [
    "new_data.replace(\"Saint Pierre et Miquelon\", \"Saint-Pierre-et-Miquelon\", inplace = True, regex = True)"
   ]
  },
  {
   "cell_type": "code",
   "execution_count": 117,
   "id": "45830f94",
   "metadata": {},
   "outputs": [],
   "source": [
    "new_data.replace(\"Франция\", \"France\", inplace = True, regex = True)"
   ]
  },
  {
   "cell_type": "code",
   "execution_count": 118,
   "id": "22ec704e",
   "metadata": {},
   "outputs": [],
   "source": [
    "new_data.replace(\"Россия\", \"Russie\", inplace = True, regex = True)"
   ]
  },
  {
   "cell_type": "code",
   "execution_count": 119,
   "id": "f0a0a5e6",
   "metadata": {},
   "outputs": [],
   "source": [
    "new_data.replace(\"Испания\", \"Espagne\", inplace = True, regex = True)"
   ]
  },
  {
   "cell_type": "code",
   "execution_count": 120,
   "id": "0adf1f3f",
   "metadata": {},
   "outputs": [],
   "source": [
    "new_data.replace(\"Великобритания\", \"Grande Bretagne\", inplace = True, regex = True)"
   ]
  },
  {
   "cell_type": "code",
   "execution_count": 121,
   "id": "7e3fcb22",
   "metadata": {},
   "outputs": [],
   "source": [
    "new_data.replace(\"en:MU\", \"Île Maurice\", inplace = True, regex = True)"
   ]
  },
  {
   "cell_type": "code",
   "execution_count": 122,
   "id": "5a72ff50",
   "metadata": {},
   "outputs": [],
   "source": [
    "new_data.replace(\"New Zealand\", \"Nouvelle Zélande\", inplace = True, regex = True)"
   ]
  },
  {
   "cell_type": "code",
   "execution_count": 123,
   "id": "f9265f01",
   "metadata": {},
   "outputs": [],
   "source": [
    "new_data.replace(\"en:CI\", \"Côte-d'Ivoire\", inplace = True, regex = True)"
   ]
  },
  {
   "cell_type": "code",
   "execution_count": 124,
   "id": "2d3660ff",
   "metadata": {},
   "outputs": [],
   "source": [
    "new_data.replace(\"en:PL\", \"Pologne\", inplace = True, regex = True)"
   ]
  },
  {
   "cell_type": "code",
   "execution_count": 125,
   "id": "a114e2b8",
   "metadata": {},
   "outputs": [],
   "source": [
    "new_data.replace(\"en:GR\", \"Grèce\", inplace = True, regex = True)"
   ]
  },
  {
   "cell_type": "code",
   "execution_count": 126,
   "id": "9f88cadc",
   "metadata": {},
   "outputs": [],
   "source": [
    "new_data.replace(\"الكويت\", \"Koweït\", inplace = True, regex = True)"
   ]
  },
  {
   "cell_type": "code",
   "execution_count": 127,
   "id": "b8339360",
   "metadata": {},
   "outputs": [],
   "source": [
    "new_data.replace(\"en:india\", \"Inde\", inplace = True, regex = True)"
   ]
  },
  {
   "cell_type": "code",
   "execution_count": 128,
   "id": "ce7500f7",
   "metadata": {},
   "outputs": [],
   "source": [
    "new_data.replace(\"Netherlands\", \"Pays-Bas\", inplace = True, regex = True)"
   ]
  },
  {
   "cell_type": "code",
   "execution_count": 129,
   "id": "0d36a03b",
   "metadata": {},
   "outputs": [],
   "source": [
    "new_data.replace(\"en:french-polynesia\", \"Polynésie\", inplace = True, regex = True)"
   ]
  },
  {
   "cell_type": "code",
   "execution_count": 130,
   "id": "69f3f7b4",
   "metadata": {},
   "outputs": [],
   "source": [
    "new_data.replace(\"en:frankrijk\", \"France\", inplace = True, regex = True)"
   ]
  },
  {
   "cell_type": "code",
   "execution_count": 131,
   "id": "eeff47bb",
   "metadata": {},
   "outputs": [],
   "source": [
    "new_data.replace(\"en:IN\", \"Inde\", inplace = True, regex = True)"
   ]
  },
  {
   "cell_type": "code",
   "execution_count": 132,
   "id": "14f94e5e",
   "metadata": {},
   "outputs": [],
   "source": [
    "new_data.replace(\"en:EC\", \"Equateur\", inplace = True, regex = True)"
   ]
  },
  {
   "cell_type": "code",
   "execution_count": 133,
   "id": "cd57fcd8",
   "metadata": {},
   "outputs": [],
   "source": [
    "new_data.replace(\"França\", \"France\", inplace = True, regex = True)"
   ]
  },
  {
   "cell_type": "code",
   "execution_count": 134,
   "id": "db78e3fc",
   "metadata": {},
   "outputs": [],
   "source": [
    "new_data.replace(\"Turkey\", \"Turquie\", inplace = True, regex = True)"
   ]
  },
  {
   "cell_type": "code",
   "execution_count": 135,
   "id": "f5aaa015",
   "metadata": {},
   "outputs": [],
   "source": [
    "new_data.replace(\"Cambodia\", \"Cambodge\", inplace = True, regex = True)"
   ]
  },
  {
   "cell_type": "code",
   "execution_count": 136,
   "id": "69844df9",
   "metadata": {},
   "outputs": [],
   "source": [
    "new_data.replace(\"香港\", \"Hong Kong\", inplace = True, regex = True)"
   ]
  },
  {
   "cell_type": "code",
   "execution_count": 137,
   "id": "cc5cdb6b",
   "metadata": {},
   "outputs": [],
   "source": [
    "new_data.replace(\"en:CL\", \"Chili\", inplace = True, regex = True)"
   ]
  },
  {
   "cell_type": "code",
   "execution_count": 138,
   "id": "16d22a25",
   "metadata": {},
   "outputs": [],
   "source": [
    "new_data.replace(\"Chilie\", \"Chili\", inplace = True, regex = True)"
   ]
  },
  {
   "cell_type": "code",
   "execution_count": 139,
   "id": "b9b67372",
   "metadata": {},
   "outputs": [],
   "source": [
    "new_data.replace(\"Norway\", \"Norvège\", inplace = True, regex = True)"
   ]
  },
  {
   "cell_type": "code",
   "execution_count": 140,
   "id": "4f6b4d60",
   "metadata": {},
   "outputs": [],
   "source": [
    "new_data.replace(\"Italy\", \"Italie\", inplace = True, regex = True)"
   ]
  },
  {
   "cell_type": "code",
   "execution_count": 141,
   "id": "fe4a1e7e",
   "metadata": {},
   "outputs": [],
   "source": [
    "new_data.replace(\"en:denmark\", \"Danemark\", inplace = True, regex = True)"
   ]
  },
  {
   "cell_type": "code",
   "execution_count": 142,
   "id": "ee742a14",
   "metadata": {},
   "outputs": [],
   "source": [
    "new_data.replace(\"en:AR\", \"Argentine\", inplace = True, regex = True)"
   ]
  },
  {
   "cell_type": "code",
   "execution_count": 143,
   "id": "178286c8",
   "metadata": {},
   "outputs": [],
   "source": [
    "new_data.replace(\"en:SE\", \"Suède\", inplace = True, regex = True)"
   ]
  },
  {
   "cell_type": "code",
   "execution_count": 144,
   "id": "328eafec",
   "metadata": {},
   "outputs": [],
   "source": [
    "new_data.replace(\"en:senegal\", \"Sénégal\", inplace = True, regex = True)"
   ]
  },
  {
   "cell_type": "code",
   "execution_count": 145,
   "id": "806dc1ac",
   "metadata": {},
   "outputs": [],
   "source": [
    "new_data.replace(\"Czech Republic\", \"République Tchèque\", inplace = True, regex = True)"
   ]
  },
  {
   "cell_type": "code",
   "execution_count": 146,
   "id": "6dcac75b",
   "metadata": {},
   "outputs": [],
   "source": [
    "new_data.replace(\"European Union\", \"Union Européenne\", inplace = True, regex = True)"
   ]
  },
  {
   "cell_type": "code",
   "execution_count": 147,
   "id": "b681bcc1",
   "metadata": {},
   "outputs": [],
   "source": [
    "new_data.replace(\"en:AT\", \"Autriche\", inplace = True, regex = True)"
   ]
  },
  {
   "cell_type": "code",
   "execution_count": 148,
   "id": "afdee9d7",
   "metadata": {},
   "outputs": [],
   "source": [
    "new_data.replace(\"en:JO\", \"Jordanie\", inplace = True, regex = True)"
   ]
  },
  {
   "cell_type": "code",
   "execution_count": 149,
   "id": "7381b7f3",
   "metadata": {},
   "outputs": [],
   "source": [
    "new_data.replace(\"Indonesia\", \"Indonesie\", inplace = True, regex = True)"
   ]
  },
  {
   "cell_type": "code",
   "execution_count": 150,
   "id": "690ae5ed",
   "metadata": {},
   "outputs": [],
   "source": [
    "new_data.replace(\"en:JP\", \"Japon\", inplace = True, regex = True)"
   ]
  },
  {
   "cell_type": "code",
   "execution_count": 151,
   "id": "ae15b22b",
   "metadata": {},
   "outputs": [],
   "source": [
    "new_data.replace(\"en:IE\", \"Irlande\", inplace = True, regex = True)"
   ]
  },
  {
   "cell_type": "code",
   "execution_count": 152,
   "id": "6f1d8a40",
   "metadata": {},
   "outputs": [],
   "source": [
    "new_data.replace(\"Colombia\", \"Colombie\", inplace = True, regex = True)"
   ]
  },
  {
   "cell_type": "code",
   "execution_count": 153,
   "id": "3e345221",
   "metadata": {},
   "outputs": [],
   "source": [
    "new_data.replace(\"en:IT\", \"Italie\", inplace = True, regex = True)"
   ]
  },
  {
   "cell_type": "code",
   "execution_count": 154,
   "id": "da4d2e8e",
   "metadata": {},
   "outputs": [],
   "source": [
    "new_data.replace(\"en:QA\", \"Quatar\", inplace = True, regex = True)"
   ]
  },
  {
   "cell_type": "code",
   "execution_count": 155,
   "id": "0aaaa437",
   "metadata": {},
   "outputs": [],
   "source": [
    "new_data.replace(\"en:TN\", \"Tunisie\", inplace = True, regex = True)"
   ]
  },
  {
   "cell_type": "code",
   "execution_count": 156,
   "id": "86936a5c",
   "metadata": {},
   "outputs": [],
   "source": [
    "new_data.replace(\"الجزائر\", \"Algérie\", inplace = True, regex = True)"
   ]
  },
  {
   "cell_type": "code",
   "execution_count": 157,
   "id": "ded8f7d3",
   "metadata": {},
   "outputs": [],
   "source": [
    "new_data.replace(\"日本\", \"Japon\", inplace = True, regex = True)"
   ]
  },
  {
   "cell_type": "code",
   "execution_count": 158,
   "id": "44f4b396",
   "metadata": {},
   "outputs": [],
   "source": [
    "new_data.replace(\"en:日本ر\", \"Japon\", inplace = True, regex = True)"
   ]
  },
  {
   "cell_type": "code",
   "execution_count": 159,
   "id": "377049af",
   "metadata": {},
   "outputs": [],
   "source": [
    "new_data.replace(\"Other:日本\", \"Japon\", inplace = True, regex = True)"
   ]
  },
  {
   "cell_type": "code",
   "execution_count": 160,
   "id": "4bb42282",
   "metadata": {},
   "outputs": [],
   "source": [
    "new_data.replace(\"en:BG\", \"Bulgarie\", inplace = True, regex = True)"
   ]
  },
  {
   "cell_type": "code",
   "execution_count": 161,
   "id": "e21cb651",
   "metadata": {},
   "outputs": [],
   "source": [
    "new_data.replace(\"en:HU\", \"Hongrie\", inplace = True, regex = True)"
   ]
  },
  {
   "cell_type": "code",
   "execution_count": 162,
   "id": "6e923c66",
   "metadata": {},
   "outputs": [],
   "source": [
    "new_data.replace(\"en:reunion\", \"Réunion\", inplace = True, regex = True)"
   ]
  },
  {
   "cell_type": "code",
   "execution_count": 163,
   "id": "ba96a774",
   "metadata": {},
   "outputs": [],
   "source": [
    "new_data.replace(\"en:morocco\", \"Maroc\", inplace = True, regex = True)"
   ]
  },
  {
   "cell_type": "code",
   "execution_count": 164,
   "id": "1d0f7818",
   "metadata": {},
   "outputs": [],
   "source": [
    "new_data.replace(\"Puerto Rico\", \"Porto Rico\", inplace = True, regex = True)"
   ]
  },
  {
   "cell_type": "code",
   "execution_count": 165,
   "id": "540468ae",
   "metadata": {},
   "outputs": [],
   "source": [
    "new_data.replace(\"en:MC\", \"Monaco\", inplace = True, regex = True)"
   ]
  },
  {
   "cell_type": "code",
   "execution_count": 166,
   "id": "b060b481",
   "metadata": {},
   "outputs": [],
   "source": [
    "new_data.replace(\"en:SG\", \"Singapour\", inplace = True, regex = True)"
   ]
  },
  {
   "cell_type": "code",
   "execution_count": 167,
   "id": "b437116e",
   "metadata": {},
   "outputs": [],
   "source": [
    "new_data.replace(\"en:NG\", \"Nigéria\", inplace = True, regex = True)"
   ]
  },
  {
   "cell_type": "code",
   "execution_count": 168,
   "id": "49356b81",
   "metadata": {},
   "outputs": [],
   "source": [
    "new_data.replace(\"en:HN\", \"Honduras\", inplace = True, regex = True)"
   ]
  },
  {
   "cell_type": "code",
   "execution_count": 169,
   "id": "4fac830a",
   "metadata": {},
   "outputs": [],
   "source": [
    "new_data.replace(\"en:EG\", \"Honduras\", inplace = True, regex = True)"
   ]
  },
  {
   "cell_type": "code",
   "execution_count": 170,
   "id": "e89b2f9a",
   "metadata": {},
   "outputs": [],
   "source": [
    "new_data.replace(\"România\", \"Roumanie\", inplace = True, regex = True)"
   ]
  },
  {
   "cell_type": "code",
   "execution_count": 171,
   "id": "c89f13df",
   "metadata": {},
   "outputs": [],
   "source": [
    "new_data.replace(\"Romania\", \"Roumanie\", inplace = True, regex = True)"
   ]
  },
  {
   "cell_type": "code",
   "execution_count": 172,
   "id": "91ef6f35",
   "metadata": {},
   "outputs": [],
   "source": [
    "new_data.replace(\"India\", \"Inde\", inplace = True, regex = True)"
   ]
  },
  {
   "cell_type": "code",
   "execution_count": 173,
   "id": "cd3ae29f",
   "metadata": {},
   "outputs": [],
   "source": [
    "new_data.replace(\"Cypr\", \"Chypre\", inplace = True, regex = True)"
   ]
  },
  {
   "cell_type": "code",
   "execution_count": 174,
   "id": "b992a77d",
   "metadata": {},
   "outputs": [],
   "source": [
    "new_data.replace(\"en:VE\", \"Vénézuela\", inplace = True, regex = True)"
   ]
  },
  {
   "cell_type": "code",
   "execution_count": 175,
   "id": "00ebe275",
   "metadata": {},
   "outputs": [],
   "source": [
    "new_data.replace(\"Japan\", \"Japon\", inplace = True, regex = True)"
   ]
  },
  {
   "cell_type": "code",
   "execution_count": 176,
   "id": "5aed7590",
   "metadata": {},
   "outputs": [],
   "source": [
    "new_data.replace(\"en:PH\", \"Philippines\", inplace = True, regex = True)"
   ]
  },
  {
   "cell_type": "code",
   "execution_count": 177,
   "id": "8d8369e6",
   "metadata": {},
   "outputs": [],
   "source": [
    "new_data.replace(\"South Africa\", \"Afrique du Sud\", inplace = True, regex = True)"
   ]
  },
  {
   "cell_type": "code",
   "execution_count": 178,
   "id": "6c2d9210",
   "metadata": {},
   "outputs": [],
   "source": [
    "new_data.replace(\"Lebanon\", \"Liban\", inplace = True, regex = True)"
   ]
  },
  {
   "cell_type": "code",
   "execution_count": 179,
   "id": "61de2459",
   "metadata": {},
   "outputs": [],
   "source": [
    "new_data.replace(\"Mongolia\", \"Mongolie\", inplace = True, regex = True)"
   ]
  },
  {
   "cell_type": "code",
   "execution_count": 180,
   "id": "0b643ca8",
   "metadata": {},
   "outputs": [],
   "source": [
    "new_data.replace(\"en:MM\", \"Myanmar\", inplace = True, regex = True)"
   ]
  },
  {
   "cell_type": "code",
   "execution_count": 181,
   "id": "326c473a",
   "metadata": {},
   "outputs": [],
   "source": [
    "new_data.replace(\"en:BH\", \"Bahreïn\", inplace = True, regex = True)"
   ]
  },
  {
   "cell_type": "code",
   "execution_count": 182,
   "id": "dd4dc976",
   "metadata": {},
   "outputs": [],
   "source": [
    "new_data.replace(\"França\", \"France\", inplace = True, regex = True)"
   ]
  },
  {
   "cell_type": "code",
   "execution_count": 183,
   "id": "053841e1",
   "metadata": {},
   "outputs": [],
   "source": [
    "new_data.replace(\"Itália\", \"Italie\", inplace = True, regex = True)"
   ]
  },
  {
   "cell_type": "code",
   "execution_count": 184,
   "id": "8d90949a",
   "metadata": {},
   "outputs": [],
   "source": [
    "new_data.replace(\"Finlândia\", \"Finlande\", inplace = True, regex = True)"
   ]
  },
  {
   "cell_type": "code",
   "execution_count": 185,
   "id": "e52c78c0",
   "metadata": {},
   "outputs": [],
   "source": [
    "new_data.replace(\"Alemanha\", \"Allemagne\", inplace = True, regex = True)"
   ]
  },
  {
   "cell_type": "code",
   "execution_count": 186,
   "id": "508c8471",
   "metadata": {},
   "outputs": [],
   "source": [
    "new_data.replace(\"Espanha\", \"Espagne\", inplace = True, regex = True)"
   ]
  },
  {
   "cell_type": "code",
   "execution_count": 187,
   "id": "ec27b800",
   "metadata": {},
   "outputs": [],
   "source": [
    "new_data.replace(\"Polónia\", \"Pologne\", inplace = True, regex = True)"
   ]
  },
  {
   "cell_type": "code",
   "execution_count": 188,
   "id": "7cd5399d",
   "metadata": {},
   "outputs": [],
   "source": [
    "new_data.replace(\"Reino Unido\", \"Royaume-Uni\", inplace = True, regex = True)"
   ]
  },
  {
   "cell_type": "code",
   "execution_count": 189,
   "id": "00fda107",
   "metadata": {},
   "outputs": [],
   "source": [
    "new_data.replace(\"Francia\", \"France\", inplace = True, regex = True)"
   ]
  },
  {
   "cell_type": "code",
   "execution_count": 190,
   "id": "dc0c28ed",
   "metadata": {},
   "outputs": [],
   "source": [
    "new_data.replace(\"Franciaország\", \"France\", inplace = True, regex = True)"
   ]
  },
  {
   "cell_type": "code",
   "execution_count": 191,
   "id": "8d6494b3",
   "metadata": {},
   "outputs": [],
   "source": [
    "new_data.replace(\"Portugália\", \"Portugal\", inplace = True, regex = True)"
   ]
  },
  {
   "cell_type": "code",
   "execution_count": 192,
   "id": "fc9bb6e7",
   "metadata": {},
   "outputs": [],
   "source": [
    "new_data.replace(\"Spanyolország\", \"Espagne\", inplace = True, regex = True)"
   ]
  },
  {
   "cell_type": "code",
   "execution_count": 193,
   "id": "f2b02622",
   "metadata": {},
   "outputs": [],
   "source": [
    "new_data.replace(\"Dánia\", \"Danemark\", inplace = True, regex = True)"
   ]
  },
  {
   "cell_type": "code",
   "execution_count": 194,
   "id": "edb855e5",
   "metadata": {},
   "outputs": [],
   "source": [
    "new_data.replace(\"Nagy-Britannia\", \"Grande Bretagne\", inplace = True, regex = True)"
   ]
  },
  {
   "cell_type": "code",
   "execution_count": 195,
   "id": "b8437b2f",
   "metadata": {},
   "outputs": [],
   "source": [
    "new_data.replace(\"Magyarország\", \"Hongrie\", inplace = True, regex = True)"
   ]
  },
  {
   "cell_type": "code",
   "execution_count": 196,
   "id": "f8d9b431",
   "metadata": {},
   "outputs": [],
   "source": [
    "new_data.replace(\"Németország\", \"Allemagne\", inplace = True, regex = True)"
   ]
  },
  {
   "cell_type": "code",
   "execution_count": 197,
   "id": "54b6283d",
   "metadata": {},
   "outputs": [],
   "source": [
    "new_data.replace(\"Scotland\", \"Ecosse\", inplace = True, regex = True)"
   ]
  },
  {
   "cell_type": "code",
   "execution_count": 198,
   "id": "cc132ec9",
   "metadata": {},
   "outputs": [],
   "source": [
    "new_data.replace(\"Italia\", \"Italie\", inplace = True, regex = True)"
   ]
  },
  {
   "cell_type": "code",
   "execution_count": 199,
   "id": "cd2f2dcb",
   "metadata": {},
   "outputs": [],
   "source": [
    "new_data.replace(\"Italiaans\", \"Italie\", inplace = True, regex = True)"
   ]
  },
  {
   "cell_type": "code",
   "execution_count": 200,
   "id": "a1f463bc",
   "metadata": {},
   "outputs": [],
   "source": [
    "new_data.replace(\"Denemarken\", \"Danemark\", inplace = True, regex = True)"
   ]
  },
  {
   "cell_type": "code",
   "execution_count": 201,
   "id": "282c9546",
   "metadata": {},
   "outputs": [],
   "source": [
    "new_data.replace(\"Finand\", \"Finlande\", inplace = True, regex = True)"
   ]
  },
  {
   "cell_type": "code",
   "execution_count": 202,
   "id": "f84b4711",
   "metadata": {},
   "outputs": [],
   "source": [
    "new_data.replace(\"Frankrijk\", \"France\", inplace = True, regex = True)"
   ]
  },
  {
   "cell_type": "code",
   "execution_count": 203,
   "id": "ddfd9e9f",
   "metadata": {},
   "outputs": [],
   "source": [
    "new_data.replace(\"Nederland\", \"Pays-Bas\", inplace = True, regex = True)"
   ]
  },
  {
   "cell_type": "code",
   "execution_count": 204,
   "id": "a2913954",
   "metadata": {},
   "outputs": [],
   "source": [
    "new_data.replace(\"Verenigd Koninkrijk\", \"Royaume-Uni\", inplace = True, regex = True)"
   ]
  },
  {
   "cell_type": "code",
   "execution_count": 205,
   "id": "a7bbf47d",
   "metadata": {},
   "outputs": [],
   "source": [
    "new_data.replace(\"Greece\", \"Grèce\", inplace = True, regex = True)"
   ]
  },
  {
   "cell_type": "code",
   "execution_count": 206,
   "id": "5aeeb02f",
   "metadata": {},
   "outputs": [],
   "source": [
    "new_data.replace(\"Finland\", \"Finlande\", inplace = True, regex = True)"
   ]
  },
  {
   "cell_type": "code",
   "execution_count": 207,
   "id": "9f3783a6",
   "metadata": {},
   "outputs": [],
   "source": [
    "new_data.replace(\"Ireland\", \"Irlande\", inplace = True, regex = True)"
   ]
  },
  {
   "cell_type": "code",
   "execution_count": 208,
   "id": "e8dbf6e0",
   "metadata": {},
   "outputs": [],
   "source": [
    "new_data.replace(\"Republic of Ireland\", \"Irlande\", inplace = True, regex = True)"
   ]
  },
  {
   "cell_type": "code",
   "execution_count": 209,
   "id": "05d25114",
   "metadata": {},
   "outputs": [],
   "source": [
    "new_data.replace(\"Estonia\", \"Estonie\", inplace = True, regex = True)"
   ]
  },
  {
   "cell_type": "code",
   "execution_count": 210,
   "id": "92fc93b9",
   "metadata": {},
   "outputs": [],
   "source": [
    "new_data.replace(\"French Guiana\", \"Guyane\", inplace = True, regex = True)"
   ]
  },
  {
   "cell_type": "code",
   "execution_count": 211,
   "id": "7da2868c",
   "metadata": {},
   "outputs": [],
   "source": [
    "new_data.replace(\"Émirats arabes unis\", \"Emirats arabes unis\", inplace = True, regex = True)"
   ]
  },
  {
   "cell_type": "code",
   "execution_count": 212,
   "id": "5c3ed3e3",
   "metadata": {},
   "outputs": [],
   "source": [
    "new_data.replace(\"Belgien\", \"Belgique\", inplace = True, regex = True)"
   ]
  },
  {
   "cell_type": "code",
   "execution_count": 213,
   "id": "eede19fe",
   "metadata": {},
   "outputs": [],
   "source": [
    "new_data.replace(\"Frankreich\", \"France\", inplace = True, regex = True)"
   ]
  },
  {
   "cell_type": "code",
   "execution_count": 214,
   "id": "48132e56",
   "metadata": {},
   "outputs": [],
   "source": [
    "new_data.replace(\"Italien\", \"Italie\", inplace = True, regex = True)"
   ]
  },
  {
   "cell_type": "code",
   "execution_count": 215,
   "id": "873b8563",
   "metadata": {},
   "outputs": [],
   "source": [
    "new_data.replace(\"Algerien\", \"Algérie\", inplace = True, regex = True)"
   ]
  },
  {
   "cell_type": "code",
   "execution_count": 216,
   "id": "17857219",
   "metadata": {},
   "outputs": [],
   "source": [
    "new_data.replace(\"Kanada\", \"Canada\", inplace = True, regex = True)"
   ]
  },
  {
   "cell_type": "code",
   "execution_count": 217,
   "id": "67246a51",
   "metadata": {},
   "outputs": [],
   "source": [
    "new_data.replace(\"Spanien\", \"Espagne\", inplace = True, regex = True)"
   ]
  },
  {
   "cell_type": "code",
   "execution_count": 218,
   "id": "632e05ee",
   "metadata": {},
   "outputs": [],
   "source": [
    "new_data.replace(\"Schweiz\", \"Suisse\", inplace = True, regex = True)"
   ]
  },
  {
   "cell_type": "code",
   "execution_count": 219,
   "id": "e9e49e81",
   "metadata": {},
   "outputs": [],
   "source": [
    "new_data.replace(\"Dänemark\", \"Danemark\", inplace = True, regex = True)"
   ]
  },
  {
   "cell_type": "code",
   "execution_count": 220,
   "id": "89f0d122",
   "metadata": {},
   "outputs": [],
   "source": [
    "new_data.replace(\"Tschechien\", \"République Tchèque\", inplace = True, regex = True)"
   ]
  },
  {
   "cell_type": "code",
   "execution_count": 221,
   "id": "3eac6e1a",
   "metadata": {},
   "outputs": [],
   "source": [
    "new_data.replace(\"Virgin Islands of the\", \"Îles Vierges\", inplace = True, regex = True)"
   ]
  },
  {
   "cell_type": "code",
   "execution_count": 222,
   "id": "7e9423a9",
   "metadata": {},
   "outputs": [],
   "source": [
    "new_data.replace(\"fr:Pologne\", \"Pologne\", inplace = True, regex = True)"
   ]
  },
  {
   "cell_type": "code",
   "execution_count": 223,
   "id": "ddf2aff3",
   "metadata": {},
   "outputs": [],
   "source": [
    "new_data.replace(\"French Polynesia\", \"Polynésie\", inplace = True, regex = True)"
   ]
  },
  {
   "cell_type": "code",
   "execution_count": 224,
   "id": "f000bf30",
   "metadata": {},
   "outputs": [],
   "source": [
    "new_data.replace(\"French Polynesia\", \"Polynésie\", inplace = True, regex = True)"
   ]
  },
  {
   "cell_type": "code",
   "execution_count": 225,
   "id": "a2e98296",
   "metadata": {},
   "outputs": [],
   "source": [
    "new_data.replace(\"FR\", \"France\", inplace = True, regex = True)"
   ]
  },
  {
   "cell_type": "code",
   "execution_count": 226,
   "id": "a3a850bc",
   "metadata": {},
   "outputs": [],
   "source": [
    "new_data.replace(\"FR\", \"France\", inplace = True, regex = True)"
   ]
  },
  {
   "cell_type": "code",
   "execution_count": 227,
   "id": "9a5afa76",
   "metadata": {},
   "outputs": [],
   "source": [
    "new_data.replace(\"en:PK\", \"Pakistan\", inplace = True, regex = True)"
   ]
  },
  {
   "cell_type": "code",
   "execution_count": 228,
   "id": "6bf4beb9",
   "metadata": {},
   "outputs": [],
   "source": [
    "new_data.replace(\"Irland\", \"Irlande\", inplace = True, regex = True)"
   ]
  },
  {
   "cell_type": "code",
   "execution_count": 229,
   "id": "9c2c44dc",
   "metadata": {},
   "outputs": [],
   "source": [
    "new_data.replace(\"en:ID\", \"Indonésie\", inplace = True, regex = True)"
   ]
  },
  {
   "cell_type": "code",
   "execution_count": 230,
   "id": "55fc6a8b",
   "metadata": {},
   "outputs": [],
   "source": [
    "new_data.replace(\"Indien\", \"Inde\", inplace = True, regex = True)"
   ]
  },
  {
   "cell_type": "code",
   "execution_count": 231,
   "id": "5f12a96e",
   "metadata": {},
   "outputs": [],
   "source": [
    "new_data.replace(\"Perú\", \"Pérou\", inplace = True, regex = True)"
   ]
  },
  {
   "cell_type": "code",
   "execution_count": 232,
   "id": "e7630740",
   "metadata": {},
   "outputs": [],
   "source": [
    "new_data.replace(\"Atria\", \"Nan\", inplace = True, regex = True)"
   ]
  },
  {
   "cell_type": "code",
   "execution_count": 233,
   "id": "0068dafa",
   "metadata": {},
   "outputs": [],
   "source": [
    "new_data.replace(\"en:DK\", \"Danemark\", inplace = True, regex = True)"
   ]
  },
  {
   "cell_type": "code",
   "execution_count": 234,
   "id": "e179ca91",
   "metadata": {},
   "outputs": [],
   "source": [
    "new_data.replace(\"en:EU\", \"Union Européenne\", inplace = True, regex = True)"
   ]
  },
  {
   "cell_type": "code",
   "execution_count": 235,
   "id": "713864f7",
   "metadata": {},
   "outputs": [],
   "source": [
    "new_data.replace(\"en:belgie\", \"Belgique\", inplace = True, regex = True)"
   ]
  },
  {
   "cell_type": "code",
   "execution_count": 236,
   "id": "2f32c73b",
   "metadata": {},
   "outputs": [],
   "source": [
    "new_data.replace(\"Italië\", \"Italie\", inplace = True, regex = True)"
   ]
  },
  {
   "cell_type": "code",
   "execution_count": 237,
   "id": "5c04da14",
   "metadata": {},
   "outputs": [],
   "source": [
    "new_data.replace(\"en:duitsland\", \"Allemagne\", inplace = True, regex = True)"
   ]
  },
  {
   "cell_type": "code",
   "execution_count": 238,
   "id": "da59a055",
   "metadata": {},
   "outputs": [],
   "source": [
    "new_data.replace(\"Zweden\", \"Suède\", inplace = True, regex = True)"
   ]
  },
  {
   "cell_type": "code",
   "execution_count": 239,
   "id": "ab6c9682",
   "metadata": {},
   "outputs": [],
   "source": [
    "new_data.replace(\"Noorwegen\", \"Norvège\", inplace = True, regex = True)"
   ]
  },
  {
   "cell_type": "code",
   "execution_count": 240,
   "id": "cbf97501",
   "metadata": {},
   "outputs": [],
   "source": [
    "new_data.replace(\"en:SK\", \"Slovaquie\", inplace = True, regex = True)"
   ]
  },
  {
   "cell_type": "code",
   "execution_count": 241,
   "id": "3aafaa74",
   "metadata": {},
   "outputs": [],
   "source": [
    "new_data.replace(\"Lithuania\", \"Lituanie\", inplace = True, regex = True)"
   ]
  },
  {
   "cell_type": "code",
   "execution_count": 242,
   "id": "fe1ad866",
   "metadata": {},
   "outputs": [],
   "source": [
    "new_data.replace(\"en:CO\", \"Colombie\", inplace = True, regex = True)"
   ]
  },
  {
   "cell_type": "code",
   "execution_count": 243,
   "id": "e68a158f",
   "metadata": {},
   "outputs": [],
   "source": [
    "new_data.replace(\"South Korea\", \"Corée du Sud\", inplace = True, regex = True)"
   ]
  },
  {
   "cell_type": "code",
   "execution_count": 244,
   "id": "0a3a1ef8",
   "metadata": {},
   "outputs": [],
   "source": [
    "new_data.replace(\"Morocco\", \"Maroc\", inplace = True, regex = True)"
   ]
  },
  {
   "cell_type": "code",
   "execution_count": 245,
   "id": "d780149d",
   "metadata": {},
   "outputs": [],
   "source": [
    "new_data.replace(\"Serbia\", \"Serbie\", inplace = True, regex = True)"
   ]
  },
  {
   "cell_type": "code",
   "execution_count": 246,
   "id": "4a6e0250",
   "metadata": {},
   "outputs": [],
   "source": [
    "new_data.replace(\"Bosnia and Herzegovina\", \"Bosnie Herzégovine\", inplace = True, regex = True)"
   ]
  },
  {
   "cell_type": "code",
   "execution_count": 247,
   "id": "f0d320e6",
   "metadata": {},
   "outputs": [],
   "source": [
    "new_data.replace(\"Montenegro\", \"Monténégro\", inplace = True, regex = True)"
   ]
  },
  {
   "cell_type": "code",
   "execution_count": 248,
   "id": "bf1dee0f",
   "metadata": {},
   "outputs": [],
   "source": [
    "new_data.replace(\"Marruecos\", \"Maroc\", inplace = True, regex = True)"
   ]
  },
  {
   "cell_type": "code",
   "execution_count": 249,
   "id": "ba9d8004",
   "metadata": {},
   "outputs": [],
   "source": [
    "new_data.replace(\"Côte d'Ivoire\", \"Côte-d'Ivoire\", inplace = True, regex = True)"
   ]
  },
  {
   "cell_type": "code",
   "execution_count": 250,
   "id": "9401f87d",
   "metadata": {},
   "outputs": [],
   "source": [
    "new_data.replace(\"République tchèque\", \"République Tchèque\", inplace = True, regex = True)"
   ]
  },
  {
   "cell_type": "code",
   "execution_count": 251,
   "id": "5dc2600e",
   "metadata": {},
   "outputs": [],
   "source": [
    "new_data.replace(\"all over the world\", \"world\", inplace = True, regex = True)"
   ]
  },
  {
   "cell_type": "code",
   "execution_count": 252,
   "id": "212c7e87",
   "metadata": {},
   "outputs": [],
   "source": [
    "new_data.replace(\"raine\", \"Ukraine\", inplace = True, regex = True)"
   ]
  },
  {
   "cell_type": "code",
   "execution_count": 253,
   "id": "b8f46490",
   "metadata": {},
   "outputs": [],
   "source": [
    "new_data.replace(\"Union européenne\", \"Union Européenne\", inplace = True, regex = True)"
   ]
  },
  {
   "cell_type": "code",
   "execution_count": 254,
   "id": "ad391b62",
   "metadata": {},
   "outputs": [],
   "source": [
    "new_data.replace(\"Senegal\", \"Sénégal\", inplace = True, regex = True)"
   ]
  },
  {
   "cell_type": "code",
   "execution_count": 255,
   "id": "c1651945",
   "metadata": {},
   "outputs": [],
   "source": [
    "new_data.replace(\"Rsia\", \"Russie\", inplace = True, regex = True)"
   ]
  },
  {
   "cell_type": "code",
   "execution_count": 256,
   "id": "5d929f7c",
   "metadata": {},
   "outputs": [],
   "source": [
    "new_data.replace(\"Soviet Union\", \"Union Soviétique\", inplace = True, regex = True)"
   ]
  },
  {
   "cell_type": "code",
   "execution_count": 257,
   "id": "ae3cb01e",
   "metadata": {},
   "outputs": [],
   "source": [
    "new_data.replace(\"العراق\", \"Irak\", inplace = True, regex = True)"
   ]
  },
  {
   "cell_type": "code",
   "execution_count": 258,
   "id": "a1b230c2",
   "metadata": {},
   "outputs": [],
   "source": [
    "new_data.replace(\"Poland\", \"Pologne\", inplace = True, regex = True)"
   ]
  },
  {
   "cell_type": "code",
   "execution_count": 259,
   "id": "f03b44b0",
   "metadata": {},
   "outputs": [],
   "source": [
    "new_data.replace(\"Vereinigtes Königreich\", \"Royaume-Uni\", inplace = True, regex = True)"
   ]
  },
  {
   "cell_type": "code",
   "execution_count": 260,
   "id": "bd5a44e7",
   "metadata": {},
   "outputs": [],
   "source": [
    "new_data.replace(\"Marokko\", \"Maroc\", inplace = True, regex = True)"
   ]
  },
  {
   "cell_type": "code",
   "execution_count": 261,
   "id": "257243c3",
   "metadata": {},
   "outputs": [],
   "source": [
    "new_data.replace(\"Luxemburg\", \"Luxembourg\", inplace = True, regex = True)"
   ]
  },
  {
   "cell_type": "code",
   "execution_count": 262,
   "id": "ad519b4c",
   "metadata": {},
   "outputs": [],
   "source": [
    "new_data.replace(\"Egypt\", \"Egypte\", inplace = True, regex = True)"
   ]
  },
  {
   "cell_type": "code",
   "execution_count": 263,
   "id": "f6c911b7",
   "metadata": {},
   "outputs": [],
   "source": [
    "new_data.replace(\"대한민국\", \"République de Corée\", inplace = True, regex = True)"
   ]
  },
  {
   "cell_type": "code",
   "execution_count": 264,
   "id": "196570ab",
   "metadata": {},
   "outputs": [],
   "source": [
    "new_data.replace(\"Ungaria\", \"Hongrie\", inplace = True, regex = True)"
   ]
  },
  {
   "cell_type": "code",
   "execution_count": 265,
   "id": "420739bc",
   "metadata": {},
   "outputs": [],
   "source": [
    "new_data.replace(\"Regatul Unit al Marii Britanii și al Irlandei de Nord\", \"Royaume-Uni\", inplace = True, regex = True)"
   ]
  },
  {
   "cell_type": "code",
   "execution_count": 266,
   "id": "61954cc8",
   "metadata": {},
   "outputs": [],
   "source": [
    "new_data.replace(\"Ελλάδα\", \"Grèce\", inplace = True, regex = True)"
   ]
  },
  {
   "cell_type": "code",
   "execution_count": 267,
   "id": "4454c085",
   "metadata": {},
   "outputs": [],
   "source": [
    "new_data.replace(\"de:Weltweit\", \"world\", inplace = True, regex = True)"
   ]
  },
  {
   "cell_type": "code",
   "execution_count": 268,
   "id": "ace75b22",
   "metadata": {},
   "outputs": [],
   "source": [
    "new_data.replace(\"Worldwide\", \"world\", inplace = True, regex = True)"
   ]
  },
  {
   "cell_type": "code",
   "execution_count": 269,
   "id": "4e9d6c87",
   "metadata": {},
   "outputs": [],
   "source": [
    "new_data.replace(\"Союз Советских Социалистических Республик\", \"Union Soviétique\", inplace = True, regex = True)"
   ]
  },
  {
   "cell_type": "code",
   "execution_count": 270,
   "id": "16ae28dc",
   "metadata": {},
   "outputs": [],
   "source": [
    "new_data.replace(\"global market\", \"world\", inplace = True, regex = True)"
   ]
  },
  {
   "cell_type": "code",
   "execution_count": 271,
   "id": "29573103",
   "metadata": {},
   "outputs": [],
   "source": [
    "new_data.replace(\"الإمارات العربية المتحدة\", \"Emirats arabes unis\", inplace = True, regex = True)"
   ]
  },
  {
   "cell_type": "code",
   "execution_count": 272,
   "id": "1c11079e",
   "metadata": {},
   "outputs": [],
   "source": [
    "new_data.replace(\"United Arab Emirates\", \"Emirats arabes unis\", inplace = True, regex = True)"
   ]
  },
  {
   "cell_type": "code",
   "execution_count": 273,
   "id": "ba157585",
   "metadata": {},
   "outputs": [],
   "source": [
    "new_data.replace(\"Belgica\", \"Belgique\", inplace = True, regex = True)"
   ]
  },
  {
   "cell_type": "code",
   "execution_count": 274,
   "id": "38d09729",
   "metadata": {},
   "outputs": [],
   "source": [
    "new_data.replace(\"Bélgica\", \"Belgique\", inplace = True, regex = True)"
   ]
  },
  {
   "cell_type": "code",
   "execution_count": 275,
   "id": "eb68c36a",
   "metadata": {},
   "outputs": [],
   "source": [
    "new_data.replace(\"Ísland\", \"Islande\", inplace = True, regex = True)"
   ]
  },
  {
   "cell_type": "code",
   "execution_count": 276,
   "id": "adfa5e9f",
   "metadata": {},
   "outputs": [],
   "source": [
    "new_data.replace(\"Belar\", \"Biélorussie\", inplace = True, regex = True)"
   ]
  },
  {
   "cell_type": "code",
   "execution_count": 277,
   "id": "828c5da5",
   "metadata": {},
   "outputs": [],
   "source": [
    "new_data.replace(\"Bulgaria\", \"Bulgarie\", inplace = True, regex = True)"
   ]
  },
  {
   "cell_type": "code",
   "execution_count": 278,
   "id": "7c14440b",
   "metadata": {},
   "outputs": [],
   "source": [
    "new_data.replace(\"World\", \"world\", inplace = True, regex = True)"
   ]
  },
  {
   "cell_type": "code",
   "execution_count": 279,
   "id": "af507ab2",
   "metadata": {},
   "outputs": [],
   "source": [
    "new_data.replace(\"Dinamarca\", \"Danemark\", inplace = True, regex = True)"
   ]
  },
  {
   "cell_type": "code",
   "execution_count": 280,
   "id": "2d470708",
   "metadata": {},
   "outputs": [],
   "source": [
    "new_data.replace(\"Danmark\", \"Danemark\", inplace = True, regex = True)"
   ]
  },
  {
   "cell_type": "code",
   "execution_count": 281,
   "id": "8b0441df",
   "metadata": {},
   "outputs": [],
   "source": [
    "new_data.replace(\"Países Baixos\", \"Pays-Bas\", inplace = True, regex = True)"
   ]
  },
  {
   "cell_type": "code",
   "execution_count": 282,
   "id": "de2bf229",
   "metadata": {},
   "outputs": [],
   "source": [
    "new_data.replace(\"Países Baixos\", \"Pays-Bas\", inplace = True, regex = True)"
   ]
  },
  {
   "cell_type": "code",
   "execution_count": 283,
   "id": "2e32a3e8",
   "metadata": {},
   "outputs": [],
   "source": [
    "new_data.replace(\"Gulf countries\", \"Pays du Golf\", inplace = True, regex = True)"
   ]
  },
  {
   "cell_type": "code",
   "execution_count": 284,
   "id": "882290e8",
   "metadata": {},
   "outputs": [],
   "source": [
    "new_data.replace(\"السعودية\", \"Arabie Saoudite\", inplace = True, regex = True)"
   ]
  },
  {
   "cell_type": "code",
   "execution_count": 285,
   "id": "8b607db0",
   "metadata": {},
   "outputs": [],
   "source": [
    "new_data.replace(\"Saudi Arabia\", \"Arabie Saoudite\", inplace = True, regex = True)"
   ]
  },
  {
   "cell_type": "code",
   "execution_count": 286,
   "id": "385bdea0",
   "metadata": {},
   "outputs": [],
   "source": [
    "new_data.replace(\"Türkiye\", \"Turquie\", inplace = True, regex = True)"
   ]
  },
  {
   "cell_type": "code",
   "execution_count": 287,
   "id": "1814de92",
   "metadata": {},
   "outputs": [],
   "source": [
    "new_data.replace(\"en:RS\", \"Serbie\", inplace = True, regex = True)"
   ]
  },
  {
   "cell_type": "code",
   "execution_count": 288,
   "id": "56192bcf",
   "metadata": {},
   "outputs": [],
   "source": [
    "new_data.replace(\"Hungary\", \"Hongrie\", inplace = True, regex = True)"
   ]
  },
  {
   "cell_type": "code",
   "execution_count": 289,
   "id": "6731a764",
   "metadata": {},
   "outputs": [],
   "source": [
    "new_data.replace(\"Suiza\", \"Suisse\", inplace = True, regex = True)"
   ]
  },
  {
   "cell_type": "code",
   "execution_count": 290,
   "id": "a76cc354",
   "metadata": {},
   "outputs": [],
   "source": [
    "new_data.replace(\"Suécia\", \"Suède\", inplace = True, regex = True)"
   ]
  },
  {
   "cell_type": "code",
   "execution_count": 291,
   "id": "dce12b28",
   "metadata": {},
   "outputs": [],
   "source": [
    "new_data.replace(\"Noruega\", \"Norvège\", inplace = True, regex = True)"
   ]
  },
  {
   "cell_type": "code",
   "execution_count": 292,
   "id": "108268df",
   "metadata": {},
   "outputs": [],
   "source": [
    "new_data.replace(\"en:UA\", \"Ukraine\", inplace = True, regex = True)"
   ]
  },
  {
   "cell_type": "code",
   "execution_count": 293,
   "id": "9b0e2ab4",
   "metadata": {},
   "outputs": [],
   "source": [
    "new_data.replace(\"Slovenia\", \"Slovenie\", inplace = True, regex = True)"
   ]
  },
  {
   "cell_type": "code",
   "execution_count": 294,
   "id": "99ae6780",
   "metadata": {},
   "outputs": [],
   "source": [
    "new_data.replace(\"Slovenija\", \"Slovenie\", inplace = True, regex = True)"
   ]
  },
  {
   "cell_type": "code",
   "execution_count": 295,
   "id": "0177a4bc",
   "metadata": {},
   "outputs": [],
   "source": [
    "new_data.replace(\"Alemania\", \"Allemagne\", inplace = True, regex = True)"
   ]
  },
  {
   "cell_type": "code",
   "execution_count": 296,
   "id": "5fc15985",
   "metadata": {},
   "outputs": [],
   "source": [
    "new_data.replace(\"en:AL\", \"Albanie\", inplace = True, regex = True)"
   ]
  },
  {
   "cell_type": "code",
   "execution_count": 297,
   "id": "5d7854be",
   "metadata": {},
   "outputs": [],
   "source": [
    "new_data.replace(\"en:algeria\", \"Algérie\", inplace = True, regex = True)"
   ]
  },
  {
   "cell_type": "code",
   "execution_count": 298,
   "id": "c87f2fa6",
   "metadata": {},
   "outputs": [],
   "source": [
    "new_data.replace(\"77-PROVINS\", \"France\", inplace = True, regex = True)"
   ]
  },
  {
   "cell_type": "code",
   "execution_count": 299,
   "id": "15d13d51",
   "metadata": {},
   "outputs": [],
   "source": [
    "new_data.replace(\"en:MT\", \"Malte\", inplace = True, regex = True)"
   ]
  },
  {
   "cell_type": "code",
   "execution_count": 300,
   "id": "cd362160",
   "metadata": {},
   "outputs": [],
   "source": [
    "new_data.replace(\"en:HR\", \"Croatie\", inplace = True, regex = True)"
   ]
  },
  {
   "cell_type": "code",
   "execution_count": 301,
   "id": "18ba5aca",
   "metadata": {},
   "outputs": [],
   "source": [
    "new_data.replace(\"Italia\", \"Italie\", inplace = True, regex = True)"
   ]
  },
  {
   "cell_type": "code",
   "execution_count": 302,
   "id": "c390c64a",
   "metadata": {},
   "outputs": [],
   "source": [
    "new_data.replace(\"Polska\", \"Pologne\", inplace = True, regex = True)"
   ]
  },
  {
   "cell_type": "code",
   "execution_count": 303,
   "id": "ec83da81",
   "metadata": {},
   "outputs": [],
   "source": [
    "new_data.replace(\"Brazil\", \"Brésil\", inplace = True, regex = True)"
   ]
  },
  {
   "cell_type": "code",
   "execution_count": 304,
   "id": "60ec0327",
   "metadata": {},
   "outputs": [],
   "source": [
    "new_data.replace(\"en:brazil\", \"Brésil\", inplace = True, regex = True)"
   ]
  },
  {
   "cell_type": "code",
   "execution_count": 305,
   "id": "c940114c",
   "metadata": {},
   "outputs": [],
   "source": [
    "new_data.replace(\"Česko\", \"République Tchèque\", inplace = True, regex = True)"
   ]
  },
  {
   "cell_type": "code",
   "execution_count": 306,
   "id": "a2e9ad6e",
   "metadata": {},
   "outputs": [],
   "source": [
    "new_data.replace(\"Україна\", \"Ukraine\", inplace = True, regex = True)"
   ]
  },
  {
   "cell_type": "code",
   "execution_count": 307,
   "id": "3144fbcc",
   "metadata": {},
   "outputs": [],
   "source": [
    "new_data.replace(\"en:MW\", \"Malawi\", inplace = True, regex = True)"
   ]
  },
  {
   "cell_type": "code",
   "execution_count": 308,
   "id": "3d84c1e5",
   "metadata": {},
   "outputs": [],
   "source": [
    "new_data.replace(\"Казахстан\", \"Kazakhstan\", inplace = True, regex = True)"
   ]
  },
  {
   "cell_type": "code",
   "execution_count": 309,
   "id": "86f4f496",
   "metadata": {},
   "outputs": [],
   "source": [
    "new_data.replace(\"Algeria\", \"Algérie\", inplace = True, regex = True)"
   ]
  },
  {
   "cell_type": "code",
   "execution_count": 310,
   "id": "12b932c5",
   "metadata": {},
   "outputs": [],
   "source": [
    "new_data.replace(\"Tunisia\", \"Tunisie\", inplace = True, regex = True)"
   ]
  },
  {
   "cell_type": "code",
   "execution_count": 311,
   "id": "6b3ab50d",
   "metadata": {},
   "outputs": [],
   "source": [
    "new_data.replace(\"en:MY\", \"Malaysie\", inplace = True, regex = True)"
   ]
  },
  {
   "cell_type": "code",
   "execution_count": 312,
   "id": "afe6ecdd",
   "metadata": {},
   "outputs": [],
   "source": [
    "new_data.replace(\"Svájc\", \"Suisse\", inplace = True, regex = True)"
   ]
  },
  {
   "cell_type": "code",
   "execution_count": 313,
   "id": "b7f7571b",
   "metadata": {},
   "outputs": [],
   "source": [
    "new_data.replace(\"Mauriti\", \"Île Maurice\", inplace = True, regex = True)"
   ]
  },
  {
   "cell_type": "code",
   "execution_count": 314,
   "id": "c6307862",
   "metadata": {},
   "outputs": [],
   "source": [
    "new_data.replace(\"en:AE\", \"Emirats arabes unies\", inplace = True, regex = True)"
   ]
  },
  {
   "cell_type": "code",
   "execution_count": 315,
   "id": "ab2b6949",
   "metadata": {},
   "outputs": [],
   "source": [
    "new_data.replace(\"en:GF\", \"Guyane\", inplace = True, regex = True)"
   ]
  },
  {
   "cell_type": "code",
   "execution_count": 316,
   "id": "50f8a8be",
   "metadata": {},
   "outputs": [],
   "source": [
    "new_data.replace(\"Aix-en-Provence\", \"France\", inplace = True, regex = True)"
   ]
  },
  {
   "cell_type": "code",
   "execution_count": 317,
   "id": "2ecabc37",
   "metadata": {},
   "outputs": [],
   "source": [
    "new_data.replace(\"Bouches du Rhône\", \"France\", inplace = True, regex = True)"
   ]
  },
  {
   "cell_type": "code",
   "execution_count": 318,
   "id": "7d575965",
   "metadata": {},
   "outputs": [],
   "source": [
    "new_data.replace(\"PACA\", \"France\", inplace = True, regex = True)"
   ]
  },
  {
   "cell_type": "code",
   "execution_count": 319,
   "id": "3d8dd3a9",
   "metadata": {},
   "outputs": [],
   "source": [
    "new_data.replace(\"en:SN\", \"Sénégal\", inplace = True, regex = True)"
   ]
  },
  {
   "cell_type": "code",
   "execution_count": 320,
   "id": "3288389a",
   "metadata": {},
   "outputs": [],
   "source": [
    "new_data.replace(\"en:GB\", \"Royaume-Uni\", inplace = True, regex = True)"
   ]
  },
  {
   "cell_type": "code",
   "execution_count": 321,
   "id": "727f76ae",
   "metadata": {},
   "outputs": [],
   "source": [
    "new_data.replace(\"en:GB\", \"Royaume-Uni\", inplace = True, regex = True)"
   ]
  },
  {
   "cell_type": "code",
   "execution_count": 322,
   "id": "66d67082",
   "metadata": {},
   "outputs": [],
   "source": [
    "new_data.replace(\"Schweden\", \"Suède\", inplace = True, regex = True)"
   ]
  },
  {
   "cell_type": "code",
   "execution_count": 323,
   "id": "cc8eae14",
   "metadata": {},
   "outputs": [],
   "source": [
    "new_data.replace(\"République de Chine\", \"Chine\", inplace = True, regex = True)"
   ]
  },
  {
   "cell_type": "code",
   "execution_count": 324,
   "id": "46b4ebf4",
   "metadata": {},
   "outputs": [],
   "source": [
    "new_data.replace(\"de\", \"Allemagne\", inplace = True, regex = True)"
   ]
  },
  {
   "cell_type": "code",
   "execution_count": 325,
   "id": "53d38cbf",
   "metadata": {},
   "outputs": [],
   "source": [
    "new_data.replace(\"Thailand\", \"Thaïlande\", inplace = True, regex = True)"
   ]
  },
  {
   "cell_type": "code",
   "execution_count": 326,
   "id": "0f76ec7d",
   "metadata": {},
   "outputs": [],
   "source": [
    "new_data.replace(\"New Caledonia\", \"Nouvelle Calédonie\", inplace = True, regex = True)"
   ]
  },
  {
   "cell_type": "code",
   "execution_count": 327,
   "id": "21e70f72",
   "metadata": {},
   "outputs": [],
   "source": [
    "new_data.replace(\"Sint Maarten\", \"Saint-Martin\", inplace = True, regex = True)"
   ]
  },
  {
   "cell_type": "code",
   "execution_count": 328,
   "id": "c6f8a269",
   "metadata": {},
   "outputs": [],
   "source": [
    "new_data.replace(\"Zwitserland\", \"Suisse\", inplace = True, regex = True)"
   ]
  },
  {
   "cell_type": "code",
   "execution_count": 329,
   "id": "8de63c8d",
   "metadata": {},
   "outputs": [],
   "source": [
    "new_data.replace(\"Bourgogne-Aube-Nogent sur Seine\", \"France\", inplace = True, regex = True)"
   ]
  },
  {
   "cell_type": "code",
   "execution_count": 330,
   "id": "c4a666da",
   "metadata": {},
   "outputs": [],
   "source": [
    "new_data.replace(\"China\", \"Chine\", inplace = True, regex = True)"
   ]
  },
  {
   "cell_type": "code",
   "execution_count": 331,
   "id": "7048be20",
   "metadata": {},
   "outputs": [],
   "source": [
    "new_data.replace(\"Republik China\", \"Chine\", inplace = True, regex = True)"
   ]
  },
  {
   "cell_type": "code",
   "execution_count": 332,
   "id": "548cd7b0",
   "metadata": {},
   "outputs": [],
   "source": [
    "new_data.replace(\"Republic of China\", \"Chine\", inplace = True, regex = True)"
   ]
  },
  {
   "cell_type": "code",
   "execution_count": 333,
   "id": "2b96af72",
   "metadata": {},
   "outputs": [],
   "source": [
    "new_data.replace(\"en:YT\", \"Mayotte\", inplace = True, regex = True)"
   ]
  },
  {
   "cell_type": "code",
   "execution_count": 334,
   "id": "8220cc8f",
   "metadata": {},
   "outputs": [],
   "source": [
    "new_data.replace(\"en:AD\", \"Andorre\", inplace = True, regex = True)"
   ]
  },
  {
   "cell_type": "code",
   "execution_count": 335,
   "id": "2df2c20a",
   "metadata": {},
   "outputs": [],
   "source": [
    "new_data.replace(\"Puyricard\", \"France\", inplace = True, regex = True)"
   ]
  },
  {
   "cell_type": "code",
   "execution_count": 336,
   "id": "6d9cbdd9",
   "metadata": {},
   "outputs": [],
   "source": [
    "new_data.replace(\"en:WF\", \"Wallis et Futuna\", inplace = True, regex = True)"
   ]
  },
  {
   "cell_type": "code",
   "execution_count": 337,
   "id": "c3a9f696",
   "metadata": {},
   "outputs": [],
   "source": [
    "new_data.replace(\"Griekenland\", \"Grèce\", inplace = True, regex = True)"
   ]
  },
  {
   "cell_type": "code",
   "execution_count": 338,
   "id": "261d8b33",
   "metadata": {},
   "outputs": [],
   "source": [
    "new_data.replace(\"Spanje\", \"Espagne\", inplace = True, regex = True)"
   ]
  },
  {
   "cell_type": "code",
   "execution_count": 339,
   "id": "2f15acec",
   "metadata": {},
   "outputs": [],
   "source": [
    "new_data.replace(\"en:NE\", \"Niger\", inplace = True, regex = True)"
   ]
  },
  {
   "cell_type": "code",
   "execution_count": 340,
   "id": "224b17b3",
   "metadata": {},
   "outputs": [],
   "source": [
    "new_data.replace(\"Rsie\", \"Russie\", inplace = True, regex = True)"
   ]
  },
  {
   "cell_type": "code",
   "execution_count": 341,
   "id": "bafc1dfe",
   "metadata": {},
   "outputs": [],
   "source": [
    "new_data.replace(\"en:MF\", \"Saint-Martin\", inplace = True, regex = True)"
   ]
  },
  {
   "cell_type": "code",
   "execution_count": 342,
   "id": "ef0bfd0a",
   "metadata": {},
   "outputs": [],
   "source": [
    "new_data.replace(\"Iceland\", \"Islande\", inplace = True, regex = True)"
   ]
  },
  {
   "cell_type": "code",
   "execution_count": 343,
   "id": "2cdf586b",
   "metadata": {},
   "outputs": [],
   "source": [
    "new_data.replace(\"en:BA\", \"Bosnie Herzégovine\", inplace = True, regex = True)"
   ]
  },
  {
   "cell_type": "code",
   "execution_count": 344,
   "id": "1145ddbc",
   "metadata": {},
   "outputs": [],
   "source": [
    "new_data.replace(\"Rumänien\", \"Roumanie\", inplace = True, regex = True)"
   ]
  },
  {
   "cell_type": "code",
   "execution_count": 345,
   "id": "f042c47d",
   "metadata": {},
   "outputs": [],
   "source": [
    "new_data.replace(\"Armenien\", \"Arménie\", inplace = True, regex = True)"
   ]
  },
  {
   "cell_type": "code",
   "execution_count": 346,
   "id": "b23b7bb8",
   "metadata": {},
   "outputs": [],
   "source": [
    "new_data.replace(\"Rsland\", \"Russie\", inplace = True, regex = True)"
   ]
  },
  {
   "cell_type": "code",
   "execution_count": 347,
   "id": "3afc0c1c",
   "metadata": {},
   "outputs": [],
   "source": [
    "new_data.replace(\"en:BY\", \"Biélorussie\", inplace = True, regex = True)"
   ]
  },
  {
   "cell_type": "code",
   "execution_count": 348,
   "id": "831215d4",
   "metadata": {},
   "outputs": [],
   "source": [
    "new_data.replace(\"中华人民共和国\", \"Chine\", inplace = True, regex = True)"
   ]
  },
  {
   "cell_type": "code",
   "execution_count": 349,
   "id": "b8358fef",
   "metadata": {},
   "outputs": [],
   "source": [
    "new_data.replace(\"德国\", \"Allemagne\", inplace = True, regex = True)"
   ]
  },
  {
   "cell_type": "code",
   "execution_count": 350,
   "id": "6d1d4952",
   "metadata": {},
   "outputs": [],
   "source": [
    "new_data.replace(\"Atralie\", \"Australie\", inplace = True, regex = True)"
   ]
  },
  {
   "cell_type": "code",
   "execution_count": 351,
   "id": "c7e86277",
   "metadata": {},
   "outputs": [],
   "source": [
    "new_data.replace(\"Atralien\", \"Australie\", inplace = True, regex = True)"
   ]
  },
  {
   "cell_type": "code",
   "execution_count": 352,
   "id": "56783369",
   "metadata": {},
   "outputs": [],
   "source": [
    "new_data.replace(\"Duitsland\", \"Allemagne\", inplace = True, regex = True)"
   ]
  },
  {
   "cell_type": "code",
   "execution_count": 353,
   "id": "7fecdde2",
   "metadata": {},
   "outputs": [],
   "source": [
    "new_data.replace(\"en:LU\", \"Luxembourg\", inplace = True, regex = True)"
   ]
  },
  {
   "cell_type": "code",
   "execution_count": 354,
   "id": "d9588123",
   "metadata": {},
   "outputs": [],
   "source": [
    "new_data.replace(\"en:KH\", \"Cambodge\", inplace = True, regex = True)"
   ]
  },
  {
   "cell_type": "code",
   "execution_count": 355,
   "id": "91281dcb",
   "metadata": {},
   "outputs": [],
   "source": [
    "new_data.replace(\"en:MR\", \"Mauritanie\", inplace = True, regex = True)"
   ]
  },
  {
   "cell_type": "code",
   "execution_count": 356,
   "id": "f463ab1e",
   "metadata": {},
   "outputs": [],
   "source": [
    "new_data.replace(\"Germania\", \"Allemagne\", inplace = True, regex = True)"
   ]
  },
  {
   "cell_type": "code",
   "execution_count": 357,
   "id": "9af1df8d",
   "metadata": {},
   "outputs": [],
   "source": [
    "new_data.replace(\"Roménia\", \"Roumanie\", inplace = True, regex = True)"
   ]
  },
  {
   "cell_type": "code",
   "execution_count": 358,
   "id": "e0dde9e6",
   "metadata": {},
   "outputs": [],
   "source": [
    "new_data.replace(\"en:IR\", \"Iran\", inplace = True, regex = True)"
   ]
  },
  {
   "cell_type": "code",
   "execution_count": 359,
   "id": "6ff18155",
   "metadata": {},
   "outputs": [],
   "source": [
    "new_data.replace(\"en:MA\", \"Maroc\", inplace = True, regex = True)"
   ]
  },
  {
   "cell_type": "code",
   "execution_count": 360,
   "id": "5d70bc67",
   "metadata": {},
   "outputs": [],
   "source": [
    "new_data.replace(\"Polen\", \"Pologne\", inplace = True, regex = True)"
   ]
  },
  {
   "cell_type": "code",
   "execution_count": 361,
   "id": "fa1990dd",
   "metadata": {},
   "outputs": [],
   "source": [
    "new_data.replace(\"en:CY\", \"Chypre\", inplace = True, regex = True)"
   ]
  },
  {
   "cell_type": "code",
   "execution_count": 362,
   "id": "93615d76",
   "metadata": {},
   "outputs": [],
   "source": [
    "new_data.replace(\"Sverige\", \"Suède\", inplace = True, regex = True)"
   ]
  },
  {
   "cell_type": "code",
   "execution_count": 363,
   "id": "ffe8f9a9",
   "metadata": {},
   "outputs": [],
   "source": [
    "new_data.replace(\"Tunesien\", \"Tunisie\", inplace = True, regex = True)"
   ]
  },
  {
   "cell_type": "code",
   "execution_count": 364,
   "id": "233909a3",
   "metadata": {},
   "outputs": [],
   "source": [
    "new_data.replace(\"en:VN\", \"Vietnam\", inplace = True, regex = True)"
   ]
  },
  {
   "cell_type": "code",
   "execution_count": 365,
   "id": "95d5d141",
   "metadata": {},
   "outputs": [],
   "source": [
    "new_data.replace(\"Griechenland\", \"Grèce\", inplace = True, regex = True)"
   ]
  },
  {
   "cell_type": "code",
   "execution_count": 366,
   "id": "cc4bcfe0",
   "metadata": {},
   "outputs": [],
   "source": [
    "new_data.replace(\"en:AZ\", \"Azerbaïdjan\", inplace = True, regex = True)"
   ]
  },
  {
   "cell_type": "code",
   "execution_count": 367,
   "id": "768edf6a",
   "metadata": {},
   "outputs": [],
   "source": [
    "new_data.replace(\"en:LT\", \"Lituanie\", inplace = True, regex = True)"
   ]
  },
  {
   "cell_type": "code",
   "execution_count": 368,
   "id": "ae511c79",
   "metadata": {},
   "outputs": [],
   "source": [
    "new_data.replace(\"Malta\", \"Malte\", inplace = True, regex = True)"
   ]
  },
  {
   "cell_type": "code",
   "execution_count": 369,
   "id": "452348e7",
   "metadata": {},
   "outputs": [],
   "source": [
    "new_data.replace(\"Германия\", \"Allemagne\", inplace = True, regex = True)"
   ]
  },
  {
   "cell_type": "code",
   "execution_count": 370,
   "id": "3d12ae1e",
   "metadata": {},
   "outputs": [],
   "source": [
    "new_data.replace(\"المغرب\", \"Maroc\", inplace = True, regex = True)"
   ]
  },
  {
   "cell_type": "code",
   "execution_count": 371,
   "id": "53f6da6a",
   "metadata": {},
   "outputs": [],
   "source": [
    "new_data.replace(\"Slovakia\", \"Slovaquie\", inplace = True, regex = True)"
   ]
  },
  {
   "cell_type": "code",
   "execution_count": 372,
   "id": "ebfe2b11",
   "metadata": {},
   "outputs": [],
   "source": [
    "new_data.replace(\"法国\", \"France\", inplace = True, regex = True)"
   ]
  },
  {
   "cell_type": "code",
   "execution_count": 373,
   "id": "6e3b2939",
   "metadata": {},
   "outputs": [],
   "source": [
    "new_data.replace(\"中華民國\", \"Chine\", inplace = True, regex = True)"
   ]
  },
  {
   "cell_type": "code",
   "execution_count": 374,
   "id": "bbe6b218",
   "metadata": {},
   "outputs": [],
   "source": [
    "new_data.replace(\"en:MQ\", \"Martinique\", inplace = True, regex = True)"
   ]
  },
  {
   "cell_type": "code",
   "execution_count": 375,
   "id": "f97fbd3d",
   "metadata": {},
   "outputs": [],
   "source": [
    "new_data.replace(\"en:ZA\", \"Afrique du Sud\", inplace = True, regex = True)"
   ]
  },
  {
   "cell_type": "code",
   "execution_count": 376,
   "id": "05625053",
   "metadata": {},
   "outputs": [],
   "source": [
    "new_data.replace(\"en:GA\", \"Gabon\", inplace = True, regex = True)"
   ]
  },
  {
   "cell_type": "code",
   "execution_count": 377,
   "id": "93294131",
   "metadata": {},
   "outputs": [],
   "source": [
    "new_data.replace(\"en:KZ\", \"Kazakhstan\", inplace = True, regex = True)"
   ]
  },
  {
   "cell_type": "code",
   "execution_count": 378,
   "id": "4cef9ae3",
   "metadata": {},
   "outputs": [],
   "source": [
    "new_data.replace(\"en:MN\", \"Mongolie\", inplace = True, regex = True)"
   ]
  },
  {
   "cell_type": "code",
   "execution_count": 379,
   "id": "830d4590",
   "metadata": {},
   "outputs": [],
   "source": [
    "new_data.replace(\"en:TD\", \"Tchad\", inplace = True, regex = True)"
   ]
  },
  {
   "cell_type": "code",
   "execution_count": 380,
   "id": "949a5854",
   "metadata": {},
   "outputs": [],
   "source": [
    "new_data.replace(\"en:EE\", \"Estonie\", inplace = True, regex = True)"
   ]
  },
  {
   "cell_type": "code",
   "execution_count": 381,
   "id": "92f8d9e3",
   "metadata": {},
   "outputs": [],
   "source": [
    "new_data.replace(\"en:LV\", \"Lettonie\", inplace = True, regex = True)"
   ]
  },
  {
   "cell_type": "code",
   "execution_count": 382,
   "id": "7e70c8b1",
   "metadata": {},
   "outputs": [],
   "source": [
    "new_data.replace(\"en:LK\", \"Sri Lanka\", inplace = True, regex = True)"
   ]
  },
  {
   "cell_type": "code",
   "execution_count": 383,
   "id": "247600c9",
   "metadata": {},
   "outputs": [],
   "source": [
    "new_data.replace(\"Lietuva\", \"Lituanie\", inplace = True, regex = True)"
   ]
  },
  {
   "cell_type": "code",
   "execution_count": 384,
   "id": "87cd3608",
   "metadata": {},
   "outputs": [],
   "source": [
    "new_data.replace(\"Latvia\", \"Lettonie\", inplace = True, regex = True)"
   ]
  },
  {
   "cell_type": "code",
   "execution_count": 385,
   "id": "0ef34b11",
   "metadata": {},
   "outputs": [],
   "source": [
    "new_data.replace(\"Белоруссия\", \"Biélorussie\", inplace = True, regex = True)"
   ]
  },
  {
   "cell_type": "code",
   "execution_count": 386,
   "id": "3d860e03",
   "metadata": {},
   "outputs": [],
   "source": [
    "new_data.replace(\"Грузия\", \"Géorgie\", inplace = True, regex = True)"
   ]
  },
  {
   "cell_type": "code",
   "execution_count": 387,
   "id": "5181ee78",
   "metadata": {},
   "outputs": [],
   "source": [
    "new_data.replace(\"Украина\", \"Ukraine\", inplace = True, regex = True)"
   ]
  },
  {
   "cell_type": "code",
   "execution_count": 388,
   "id": "984b6dd6",
   "metadata": {},
   "outputs": [],
   "source": [
    "new_data.replace(\"Moldova\", \"Moldavie\", inplace = True, regex = True)"
   ]
  },
  {
   "cell_type": "code",
   "execution_count": 389,
   "id": "ee859928",
   "metadata": {},
   "outputs": [],
   "source": [
    "new_data.replace(\"澳门\", \"Chine\", inplace = True, regex = True)"
   ]
  },
  {
   "cell_type": "code",
   "execution_count": 390,
   "id": "a6d811f5",
   "metadata": {},
   "outputs": [],
   "source": [
    "new_data.replace(\"フランス\", \"France\", inplace = True, regex = True)"
   ]
  },
  {
   "cell_type": "code",
   "execution_count": 391,
   "id": "7c68e558",
   "metadata": {},
   "outputs": [],
   "source": [
    "new_data.replace(\"United-Kingdom\", \"Royaume-Uni\", inplace = True, regex = True)"
   ]
  },
  {
   "cell_type": "code",
   "execution_count": 392,
   "id": "409753f3",
   "metadata": {},
   "outputs": [],
   "source": [
    "new_data.replace(\"Argentina\", \"Argentine\", inplace = True, regex = True)"
   ]
  },
  {
   "cell_type": "code",
   "execution_count": 393,
   "id": "a64c8fb2",
   "metadata": {},
   "outputs": [],
   "source": [
    "new_data.replace(\"Noruega\", \"Norvège\", inplace = True, regex = True)"
   ]
  },
  {
   "cell_type": "code",
   "execution_count": 394,
   "id": "3db5e78a",
   "metadata": {},
   "outputs": [],
   "source": [
    "new_data.replace(\"Γαλλία\", \"France\", inplace = True, regex = True)"
   ]
  },
  {
   "cell_type": "code",
   "execution_count": 395,
   "id": "74733640",
   "metadata": {},
   "outputs": [],
   "source": [
    "new_data.replace(\"México\", \"Mexique\", inplace = True, regex = True)"
   ]
  },
  {
   "cell_type": "code",
   "execution_count": 396,
   "id": "33351125",
   "metadata": {},
   "outputs": [],
   "source": [
    "new_data.replace(\"Albania\", \"Albanie\", inplace = True, regex = True)"
   ]
  },
  {
   "cell_type": "code",
   "execution_count": 397,
   "id": "34d668bf",
   "metadata": {},
   "outputs": [],
   "source": [
    "new_data.replace(\"en:LY\", \"Libye\", inplace = True, regex = True)"
   ]
  },
  {
   "cell_type": "code",
   "execution_count": 398,
   "id": "d1c055d3",
   "metadata": {},
   "outputs": [],
   "source": [
    "new_data.replace(\"en:JE\", \"Jersey\", inplace = True, regex = True)"
   ]
  },
  {
   "cell_type": "code",
   "execution_count": 399,
   "id": "e66b1e07",
   "metadata": {},
   "outputs": [],
   "source": [
    "new_data.replace(\"en:CD\", \"République Démocratique du Congo\", inplace = True, regex = True)"
   ]
  },
  {
   "cell_type": "code",
   "execution_count": 400,
   "id": "f0fcdb28",
   "metadata": {},
   "outputs": [],
   "source": [
    "new_data.replace(\"en:GH\", \"Ghana\", inplace = True, regex = True)"
   ]
  },
  {
   "cell_type": "code",
   "execution_count": 401,
   "id": "b3d48949",
   "metadata": {},
   "outputs": [],
   "source": [
    "new_data.replace(\"en:GW\", \"Guinée-Bissau\", inplace = True, regex = True)"
   ]
  },
  {
   "cell_type": "code",
   "execution_count": 402,
   "id": "7a8434cf",
   "metadata": {},
   "outputs": [
    {
     "data": {
      "text/plain": [
       "['France',\n",
       " 'États-Unis',\n",
       " 'GranAllemagne Bretagne',\n",
       " 'France, États-Unis',\n",
       " 'Canada',\n",
       " 'Royaume-Uni',\n",
       " 'Suisse',\n",
       " 'Espagne',\n",
       " 'Allemagne',\n",
       " 'Slovénie',\n",
       " 'Italie',\n",
       " 'Roumanie',\n",
       " 'Australie',\n",
       " 'Portugal',\n",
       " 'France,Royaume-Uni',\n",
       " 'Royaume-Uni,France',\n",
       " 'France,Belgique,Pays-Bas,Royaume-Uni',\n",
       " 'GuaAllemagneloupe',\n",
       " nan,\n",
       " 'en:États-Unis,Royaume-Uni',\n",
       " 'en:États-Unis',\n",
       " 'Canada, États-Unis',\n",
       " 'Pays-Bas',\n",
       " 'Australie, France',\n",
       " 'Australia',\n",
       " 'France,Suisse,États-Unis,Canada',\n",
       " 'États-Unis, France, États-Unis',\n",
       " 'IrlanAllemagnee',\n",
       " 'Royaume-Uni, États-Unis',\n",
       " 'Réunion, France',\n",
       " 'États-Unis, France',\n",
       " 'Taiwan',\n",
       " 'Australie, Suisse',\n",
       " 'Allemagne, France',\n",
       " 'Brésil',\n",
       " 'Belgique,France',\n",
       " 'République Dominicaine',\n",
       " 'Belgique,France,Pays-Bas,Royaume-Uni',\n",
       " 'France,États-Unis',\n",
       " 'Australie, États-Unis',\n",
       " 'États-UnisA',\n",
       " 'Arabie Saoudite',\n",
       " 'Emirats arabes unis',\n",
       " 'Irak',\n",
       " 'Koweït',\n",
       " 'Moldavie',\n",
       " 'Belgique',\n",
       " 'Nouvelle-Calédonie',\n",
       " 'Singapour',\n",
       " 'FinlanAllemagnee',\n",
       " 'Australia, États-Unis',\n",
       " 'France, Suisse',\n",
       " 'Singapour,Nouvelle ZélanAllemagne,Thaïlande,Australia, États-Unis',\n",
       " 'Polynésie française',\n",
       " 'Panama',\n",
       " 'en:États-Unis, France',\n",
       " 'Costa Rica',\n",
       " 'Mexique',\n",
       " 'GranAllemagne Bretagne, États-Unis',\n",
       " 'Pays-Bas, États-Unis',\n",
       " 'Espagne,Royaume-Uni,Ecosse',\n",
       " 'Polynésie française, États-Unis',\n",
       " 'ThaïlanAllemagne',\n",
       " 'Chine',\n",
       " 'United states',\n",
       " 'ประเทศไทย',\n",
       " 'Luxembourg',\n",
       " 'Liban',\n",
       " 'États-Unis,Suisse',\n",
       " 'Allemagne,États-Unis',\n",
       " 'États-Unis,Allemagne',\n",
       " 'France,États-Unis,Suisse',\n",
       " 'Belgique,États-Unis,Suisse',\n",
       " 'Suisse,États-Unis',\n",
       " 'Espagne,Danemark, États-Unis',\n",
       " 'Belgique,Pays-Bas, États-Unis',\n",
       " 'Belgique, Suisse',\n",
       " 'France,Allemagne',\n",
       " 'Malaysie, États-Unis',\n",
       " 'Guyane, États-Unis',\n",
       " 'Etats-Unis',\n",
       " 'Serbie',\n",
       " 'Martinique',\n",
       " 'BarbaAllemagnes',\n",
       " 'Aruba',\n",
       " 'Hong Kong',\n",
       " 'Norvège',\n",
       " 'Haïti',\n",
       " 'Salvador',\n",
       " 'Bahreïn, États-Unis',\n",
       " 'France,Italie',\n",
       " 'Taiwan, États-Unis',\n",
       " 'Royaume-Uni, France',\n",
       " 'Belgique, France',\n",
       " 'Réunion',\n",
       " 'Maroc',\n",
       " 'Oman',\n",
       " 'Corée du Sud',\n",
       " 'Trinité et Tobago',\n",
       " 'Chili',\n",
       " 'Cuba',\n",
       " 'France,Royaume-Uni,États-Unis',\n",
       " 'États-Unis, France, Suisse',\n",
       " 'Italie, États-Unis',\n",
       " 'France,Suisse',\n",
       " 'Royaume-Uni, Suisse',\n",
       " 'Philippines',\n",
       " 'Suisse, États-Unis',\n",
       " 'Espagne, États-Unis',\n",
       " 'Panama, États-Unis',\n",
       " 'Canada,États-Unis',\n",
       " 'Australia,France,Royaume-Uni',\n",
       " 'France,Royaume-Uni, États-Unis',\n",
       " 'France,Belgique,Royaume-Uni,Pays-Bas',\n",
       " 'Autriche',\n",
       " 'SuèAllemagne',\n",
       " 'Guinée',\n",
       " 'Royaume-Uni,France,États-Unis',\n",
       " 'États-Unis of America',\n",
       " 'Costa Rica, États-Unis',\n",
       " 'Israël, États-Unis',\n",
       " 'Chine,Suisse',\n",
       " 'Russie',\n",
       " 'Saint-Pierre-et-Miquelon',\n",
       " 'Canada, France',\n",
       " 'Algérie',\n",
       " 'République Tchèque',\n",
       " 'France,Canada',\n",
       " 'Canada,France',\n",
       " 'Canada, Canada',\n",
       " 'Canada, France, Suisse',\n",
       " 'Belgique,Canada,France,Suisse',\n",
       " 'Royaume-Uni,République Tchèque',\n",
       " 'fr:Canada',\n",
       " 'France,Saint-Pierre-et-Miquelon',\n",
       " 'Canada,Portugal',\n",
       " 'Allemagne,Suisse',\n",
       " 'France,Russie,Espagne,GranAllemagne Bretagne',\n",
       " 'Île Maurice',\n",
       " 'Indonésie',\n",
       " 'Arménie',\n",
       " 'France,Royaume-Uni, Suisse',\n",
       " 'France,Nouvelle ZélanAllemagne',\n",
       " \"Côte-d'Ivoire\",\n",
       " 'Chine, Suisse',\n",
       " 'Autriche, Suisse',\n",
       " 'Pologne',\n",
       " 'États-Unis,Canada',\n",
       " 'Belgique,France,Royaume-Uni,Pays-Bas',\n",
       " 'France,Suisse,États-Unis',\n",
       " 'Grèce',\n",
       " 'Mexique, États-Unis',\n",
       " 'Royaume-Uni,Espagne',\n",
       " 'États-Unis, InAllemagne, Royaume-Uni',\n",
       " 'Royaume-Uni,France,Belgique',\n",
       " 'Singapour, États-Unis',\n",
       " 'InAllemagne',\n",
       " 'Equateur',\n",
       " 'Turquie',\n",
       " 'Cambodge',\n",
       " 'France,Australia',\n",
       " 'en:États-Unis, États-Unis',\n",
       " 'Chili, États-Unis',\n",
       " 'Nouvelle-Calédonie, États-Unis',\n",
       " 'Hong Kong, États-Unis',\n",
       " 'Canada,France,États-Unis',\n",
       " 'Belgique,France,Royaume-Uni',\n",
       " 'Grèce, États-Unis',\n",
       " 'Argentine',\n",
       " 'France,Pays-Bas',\n",
       " 'France,Pays-Bas,Royaume-Uni',\n",
       " 'République Tchèque Republic,Royaume-Uni',\n",
       " 'Union Européenne',\n",
       " 'Jordanie',\n",
       " 'Australia,Indonesie,États-Unis',\n",
       " 'Australia,Indonesie',\n",
       " 'Hong Kong,美国',\n",
       " 'Japon',\n",
       " 'Israël',\n",
       " 'France,Royaume-Uni,Pays-Bas',\n",
       " 'France,Belgique,Royaume-Uni',\n",
       " 'Colombie',\n",
       " 'Italie, France',\n",
       " 'États-Unis,Royaume-Uni,Royaume-Uni',\n",
       " 'Burundi',\n",
       " 'Quatar, France',\n",
       " 'Tunisie',\n",
       " 'Danemark,Norvège,SuèAllemagne',\n",
       " 'Danemark',\n",
       " 'Algérie, France',\n",
       " 'uk',\n",
       " 'La Réunion, France',\n",
       " 'France,Guyane',\n",
       " 'Belgique,France,Pays-Bas',\n",
       " 'Bulgarie',\n",
       " 'Hongrie',\n",
       " 'Australia,États-Unis',\n",
       " 'La Réunion',\n",
       " 'Pérou',\n",
       " 'Tunisie, France',\n",
       " 'Porto Rico',\n",
       " 'France,Belgique, Suisse',\n",
       " 'Belgique,France, Suisse',\n",
       " 'Suisse,Belgique, France',\n",
       " 'Belgique,États-Unis',\n",
       " 'France,États-UnisA',\n",
       " 'Monaco',\n",
       " 'Nigéria',\n",
       " 'Guyane',\n",
       " 'Honduras',\n",
       " 'Saint-Pierre-et-Miquelon, France, Belgique',\n",
       " 'Royaume-Uni,Chypreus',\n",
       " 'Vénézuela',\n",
       " 'en:AN, France',\n",
       " 'Afrique du Sud',\n",
       " 'Autriche, États-Unis',\n",
       " 'Australia,Philippines',\n",
       " 'Espagne, Suisse',\n",
       " 'France,Japon',\n",
       " \"Côte-d'Ivoire, États-Unis\",\n",
       " 'Mongolie',\n",
       " 'Myanmar',\n",
       " 'InAllemagne, France',\n",
       " 'Bahreïn',\n",
       " 'France,Portugal,Royaume-Uni',\n",
       " 'France,Suriname,Royaume-Uni,GuaAllemagneloupe,Grèce,Guyane',\n",
       " 'Pakistan',\n",
       " 'Belgique, États-Unis',\n",
       " 'Qatar',\n",
       " 'Chili,France,Espagne,Suisse,Royaume-Uni',\n",
       " 'CANADA',\n",
       " 'Belgique,France,États-Unis',\n",
       " 'France,Belgique',\n",
       " 'Cameroun',\n",
       " 'Îles Vierges États-Unis, États-Unis',\n",
       " 'belgium',\n",
       " 'IrlanAllemagne',\n",
       " 'Royaume-Uni,États-Unis',\n",
       " 'Suisse, France',\n",
       " 'Austria',\n",
       " 'Danemark,Royaume-Uni,France',\n",
       " 'Royaume-Uni,Espagne,Portugal,SuèAllemagne,FinlanAllemagne',\n",
       " 'Slovaquie',\n",
       " 'Royaume-Uni,Lituanie',\n",
       " 'Japon, France',\n",
       " 'Royaume-Uni,Espagne,Portugal',\n",
       " 'Republic of IrlanAllemagnee',\n",
       " 'Sénégal',\n",
       " 'France,Sénégal',\n",
       " 'Sénégal, France',\n",
       " 'République Tchèque Republic',\n",
       " 'Luxembourg, France',\n",
       " 'Allemagne,Espagne',\n",
       " 'Russia',\n",
       " 'Togo',\n",
       " 'Royaume-Uni,france',\n",
       " 'IslanAllemagne',\n",
       " 'Allemagne,switzerland',\n",
       " 'Allemagne,suisse',\n",
       " 'Allemagne,Belgique',\n",
       " 'Belgique,Allemagne',\n",
       " 'Allemagne,belgique',\n",
       " 'Belgique,France,Allemagne,suisse',\n",
       " 'Allemagne,Royaume-Uni,États-Unis',\n",
       " 'Allemagne,Pays-Bas,Austria',\n",
       " 'Autriche,Allemagne,Pays-Bas',\n",
       " 'Austria,Allemagne,Pays-Bas',\n",
       " 'Egypte',\n",
       " 'Allemagne,Australia',\n",
       " 'Australia,Allemagne',\n",
       " 'République Allemagne Corée',\n",
       " 'États-Unis,Espagne',\n",
       " 'Hongrie,Roumanie,Regatul Unit al Marii Britanii și al IrlanAllemagneei Allemagne Nord',\n",
       " 'Allemagne,world,world',\n",
       " 'Iraq',\n",
       " 'Royaume-Uni,France,Royaume-Uni',\n",
       " 'Royaume-Uni,France,Angleterre',\n",
       " 'Russie,Union Soviétique',\n",
       " 'world',\n",
       " 'UkUkraine,colombia,République Tchèque,world',\n",
       " 'Russia,Union Soviétique',\n",
       " 'Danemark,France,Italie,Pays-Bas,Pologne,Portugal,Espagne',\n",
       " 'Pays du Golf,Arabie Saoudite',\n",
       " 'France,Chili',\n",
       " 'France,Allemagne,Espagne',\n",
       " 'France,Espagne',\n",
       " 'France,Allemagne,Roumanie,Royaume-Uni,Ecosse',\n",
       " 'Allemagne,Portugal,Espagne',\n",
       " 'Allemagne,Italie',\n",
       " 'Allemagne,Portugal',\n",
       " 'France,Allemagne,Suisse',\n",
       " 'Allemagne, États-Unis',\n",
       " 'Allemagne,France',\n",
       " 'France,Portugal,Espagne',\n",
       " 'united kingdom',\n",
       " 'Portugal,Allemagne,Royaume-Uni,FinlanAllemagnee,SuèAllemagne,Danemark,Italie,Espagne',\n",
       " 'France,Maroc',\n",
       " 'France, Suisse, Réunion',\n",
       " 'République Tchèque,France',\n",
       " 'Ukraine',\n",
       " 'Portugal,Espagne',\n",
       " 'France,Portugal',\n",
       " 'Espagne, France',\n",
       " 'France,Allemagne,Italie',\n",
       " 'Ecosse,Royaume-Uni',\n",
       " 'France,Slovenie',\n",
       " 'Austria, Espagne',\n",
       " 'France,SuèAllemagne',\n",
       " 'Allemagne,Autriche',\n",
       " 'Belgique,France,Allemagne',\n",
       " 'portugal',\n",
       " 'Royaume-Uni,Ecosse, France',\n",
       " 'France,Allemagne,Italie,Suisse',\n",
       " 'Espagne,France',\n",
       " 'Espagne,Royaume-Uni',\n",
       " 'France,Royaume-Uni,Allemagne',\n",
       " 'Roumanie,Roumanie',\n",
       " 'Espagne,Allemagne',\n",
       " 'France,Allemagne,Portugal,Espagne',\n",
       " 'Autriche,République Tchèque,France,Allemagne',\n",
       " 'Allemagne,Royaume-Uni',\n",
       " 'Allemagne,Autriche,France',\n",
       " 'Allemagne,Espagne, France',\n",
       " 'Pays-Bas,France',\n",
       " 'France,en:Ecosse',\n",
       " 'Belgique,France,Allemagne,Italie,Pays-Bas,Portugal,Espagne',\n",
       " 'Suisse,Royaume-Uni',\n",
       " 'Autriche,France,Allemagne,Italie,Suisse',\n",
       " 'Belgique,France,Allemagne,IrlanAllemagnee,Pays-Bas,Portugal,Espagne,Royaume-Uni',\n",
       " 'Albanie',\n",
       " 'France,Allemagne,Royaume-Uni',\n",
       " 'Nigeria',\n",
       " 'Pologne,Royaume-Uni',\n",
       " 'Belgique,France,Allemagne,Italie,Pays-Bas',\n",
       " 'France,Italie,Suisse',\n",
       " 'Royaume-Uni,Ecosse',\n",
       " 'France,Pays-Bas,Allemagne,Espagne',\n",
       " 'France,France',\n",
       " 'IrlanAllemagnee,Royaume-Uni, France',\n",
       " 'Malte',\n",
       " 'Croatie',\n",
       " 'FinlanAllemagne',\n",
       " 'Belgique,France,Allemagne,Pays-Bas,Portugal,Espagne',\n",
       " 'IrlanAllemagnee, France',\n",
       " 'Belgique,République Tchèque Republic, France',\n",
       " 'France, Belgique',\n",
       " 'France,Suisse,Allemagne',\n",
       " 'Suisse,États-Unis, France',\n",
       " 'Portugal,Espagne,Royaume-Uni',\n",
       " 'Danemark,Pologne,Portugal,Espagne',\n",
       " 'Belgique,Pays-Bas',\n",
       " 'Suisse,Autriche',\n",
       " 'Slovenie',\n",
       " 'Portugal,SuèAllemagne',\n",
       " 'Australia,France',\n",
       " 'Pays-Bas, France',\n",
       " 'france',\n",
       " 'Belgique,Luxembourg',\n",
       " 'Australia, France',\n",
       " 'République Tchèque,Allemagne',\n",
       " 'Malawi',\n",
       " 'France,GuaAllemagneloupe',\n",
       " 'Nouvelle-Calédonie, France',\n",
       " 'Portugal, France',\n",
       " 'Guyane, France',\n",
       " 'Saint-Pierre-et-Miquelon, France',\n",
       " 'France, Suisse, Brésil, en:canada, Belgique',\n",
       " 'Belgique,France,Italie,Maroc,Suisse,Royaume-Uni',\n",
       " 'France, Suisse, Belgique',\n",
       " 'Algérie,Belgique,Canada,France,Polynésie française,Allemagne,IrlanAllemagnee,Italie,Liban,Luxembourg,Mali,Martinique,Maroc,Pays-Bas,Nouvelle-Calédonie,Portugal,La Réunion,Espagne,Suisse,Tunisie,Royaume-Uni,États-Unis',\n",
       " 'Belgique,France,Suisse, en:germany',\n",
       " 'Algérie,Belgique,Canada,France,Allemagne,Italie,Mali,Martinique,Espagne,Suisse',\n",
       " 'France, Belgique, Suisse',\n",
       " 'France, Danemark, Suisse, Belgique',\n",
       " 'GuaAllemagneloupe, France',\n",
       " 'Polynésie française, Suisse',\n",
       " 'France, Belgique, Suisse, Réunion',\n",
       " 'France,Monaco, Suisse',\n",
       " 'Belgique,France,La Réunion,Suisse',\n",
       " 'France,La Réunion',\n",
       " 'Belgique,France,Polynésie française,Martinique,Suisse',\n",
       " 'Gabon',\n",
       " 'GuaAllemagneloupe,France',\n",
       " 'France,Saint-Pierre-et-Miquelon,Suisse',\n",
       " 'France, Réunion, Suisse',\n",
       " 'France,Allemagne, Suisse',\n",
       " 'Danemark,France',\n",
       " 'Kazakhstan',\n",
       " 'Belgique,France,Suisse',\n",
       " 'Suisse,France',\n",
       " 'France,Belgique,Luxembourg',\n",
       " 'France,Luxembourg',\n",
       " 'en:to-be-completed,en:nutrition-facts-completed,en:ingredients-completed,en:expiration-date-to-be-completed,en:characteristics-completed,en:categories-completed,en:brands-completed,en:packaging-completed,en:quantity-completed,en:product-name-completed,en:photos-to-be-validated,en:photos-uploaAllemagned',\n",
       " 'en:to-be-checked,en:complete,en:nutrition-facts-completed,en:ingredients-completed,en:expiration-date-completed,en:characteristics-completed,en:categories-completed,en:brands-completed,en:packaging-completed,en:quantity-completed,en:product-name-completed,en:photos-validated,en:photos-uploaAllemagned',\n",
       " 'en:to-be-checked,en:complete,en:nutrition-facts-completed,en:ingredients-completed,en:expiration-date-to-be-completed,en:packaging-coAllemagne-completed,en:characteristics-completed,en:categories-completed,en:brands-completed,en:packaging-completed,en:quantity-completed,en:product-name-completed,en:photos-validated,en:photos-uploaAllemagned',\n",
       " 'en:to-be-checked,en:complete,en:nutrition-facts-completed,en:ingredients-completed,en:expiration-date-to-be-completed,en:characteristics-completed,en:categories-completed,en:brands-completed,en:packaging-completed,en:quantity-completed,en:product-name-completed,en:photos-validated,en:photos-uploaAllemagned',\n",
       " 'en:to-be-checked,en:complete,en:nutrition-facts-completed,en:ingredients-completed,en:expiration-date-completed,en:packaging-coAllemagne-completed,en:characteristics-completed,en:categories-completed,en:brands-completed,en:packaging-completed,en:quantity-completed,en:product-name-completed,en:photos-validated,en:photos-uploaAllemagned',\n",
       " 'en:to-be-completed,en:nutrition-facts-completed,en:ingredients-to-be-completed,en:expiration-date-to-be-completed,en:characteristics-completed,en:categories-completed,en:brands-completed,en:packaging-completed,en:quantity-completed,en:product-name-completed,en:photos-validated,en:photos-uploaAllemagned',\n",
       " 'Guyane,France',\n",
       " 'Mali,france',\n",
       " 'France,Gabon',\n",
       " 'Belgique,France,Espagne,Suisse',\n",
       " 'Royaume-Uni,France, Danemark, Suisse',\n",
       " 'Allemagne, Suisse',\n",
       " 'République du Congo',\n",
       " 'Belgique,France,Allemagne,Suisse',\n",
       " 'France,Allemagne,Portugal,Suisse',\n",
       " 'France,Espagne, Suisse',\n",
       " 'Malaysie',\n",
       " 'Austria,France,Allemagne,Italie,Pays-Bas,Suisse',\n",
       " 'France,Tunisie',\n",
       " 'Danemark,Franceország,Portugal,Espagne,GranAllemagne Bretagne,Hongrie, Suisse',\n",
       " 'Danemark,Franceország,Allemagne,Portugal,Espagne,GranAllemagne Bretagne,Hongrie, Suisse, Belgique',\n",
       " 'Danemark,Suisse,GranAllemagne Bretagne,Hongrie, France, Suisse',\n",
       " 'Danemark,France,Royaume-Uni',\n",
       " 'Suisse,Royaume-Uni,France, Danemark, Belgique',\n",
       " 'France,Allemagne,Île Mauriceus,Espagne,Royaume-Uni',\n",
       " 'Danemark,France,Espagne, Suisse',\n",
       " 'Emirats arabes unis, Suisse',\n",
       " 'Belgique,France,Guyane',\n",
       " 'France, Réunion',\n",
       " 'Belgique,France,Mali,La Réunion,Suisse,Royaume-Uni',\n",
       " 'Belgique, France, Suisse',\n",
       " 'Royaume-Uni, France, Suisse',\n",
       " 'France,Russie',\n",
       " 'France, Suisse, Belgique, Royaume-Uni',\n",
       " 'France,Pays-Bas,Suisse',\n",
       " 'France, Suisse, Belgique, Réunion, Maroc',\n",
       " 'Suisse,France, Belgique, Maroc, en:Espagne',\n",
       " 'Portugal, Danemark',\n",
       " 'France,Suisse, Belgique',\n",
       " 'Italie, Suisse',\n",
       " 'Espagne, Danemark, Suisse',\n",
       " 'France,France,France,France',\n",
       " 'France,Portugal, Suisse, Belgique',\n",
       " 'France, en:germany',\n",
       " 'France,Monaco',\n",
       " 'France,Royaume-Uni, Danemark, Suisse',\n",
       " 'Belgique,France,Allemagne,Italie,Pays-Bas,Portugal,Espagne,Suisse,Royaume-Uni',\n",
       " 'Polynésie',\n",
       " 'Iran',\n",
       " 'GranAllemagne Bretagne, France',\n",
       " 'France, Suisse, Belgique, Maroc',\n",
       " 'Martinique,france',\n",
       " 'GuaAllemagneloupe,Martinique,Guyane, France',\n",
       " 'France,Allemagne:Allemagne, États-Unis',\n",
       " 'Réunion, France, Suisse',\n",
       " 'Thaïlande',\n",
       " 'France,Martinique',\n",
       " 'Danemark, Suisse',\n",
       " 'Pologne, Suisse',\n",
       " 'France, Sénégal',\n",
       " 'France, La Réunion',\n",
       " 'France,Nouvelle-Calédonie',\n",
       " 'Nouvelle Calédonie,France',\n",
       " 'France,GuaAllemagneloupe, Suisse',\n",
       " 'Allemagne, Danemark',\n",
       " 'Saint-Martin',\n",
       " 'France,Suisse,Royaume-Uni',\n",
       " 'Belgique,Danemark,France,Allemagne',\n",
       " 'Maroc,France',\n",
       " 'Danemark,Royaume-Uni, France',\n",
       " 'France,Espagne,Allemagne, Suisse',\n",
       " 'Danemark,Royaume-Uni',\n",
       " 'SuèAllemagne, France',\n",
       " 'france, Suisse',\n",
       " 'France, Guyane',\n",
       " 'France,Vanuatu',\n",
       " 'France,Grèce,Espagne, Belgique',\n",
       " 'Belgique,France,Espagne',\n",
       " 'France, Espagne',\n",
       " 'France,guaAllemagneloupe',\n",
       " 'Danemark,France, Suisse',\n",
       " 'France, Danemark, Suisse',\n",
       " 'Belgique,France,Portugal',\n",
       " 'Saint-Pierre-et-Miquelon,France',\n",
       " 'France,Portugal,Belgique',\n",
       " 'Belgique,France,Pologne,Portugal',\n",
       " 'France, Algérie',\n",
       " 'Nouvelle Calédonie',\n",
       " 'Jordan',\n",
       " 'France,Italie,Portugal,Espagne',\n",
       " 'Belgique,France,Luxembourg',\n",
       " 'France,Cora',\n",
       " 'Canada,France,Grèce,Pays-Bas,Espagne,Royaume-Uni,États-Unis',\n",
       " 'GuaAllemagneloupe,martinique',\n",
       " 'France,Portugal,Espagne,Royaume-Uni',\n",
       " 'France,Espagne,Royaume-Uni',\n",
       " 'Mayotte',\n",
       " 'Belgique,France,Mali,Suisse,Royaume-Uni',\n",
       " 'France,Belgique,Pays-Bas',\n",
       " 'France,Belgique,Espagne',\n",
       " 'Belgique,France,Allemagne, Suisse',\n",
       " 'France,Pays-Bas,Suisse, Belgique',\n",
       " 'France, en:Espagne',\n",
       " 'Espagne,Suisse',\n",
       " 'Belgique,France,Italie,Luxembourg,Mali,Martinique,Suisse',\n",
       " 'France,Belgique,Pays-Bas,Allemagne',\n",
       " 'France,Réunion',\n",
       " 'GuaAllemagneloupe,Martinique',\n",
       " 'GuaAllemagneloupe,Martinique,Guyane',\n",
       " 'Martinique,Guyane,GuaAllemagneloupe',\n",
       " 'Suisse,France,Belgique',\n",
       " 'Guyane,GuaAllemagneloupe,Martinique',\n",
       " 'Quatar',\n",
       " 'GuaAllemagneloupe,Martinique, France',\n",
       " 'Belgique,France,Allemagne,Italie,Pays-Bas,Espagne,Royaume-Uni',\n",
       " 'Autriche,France',\n",
       " 'Belgique,France,Luxembourg,Suisse',\n",
       " 'France,Chine',\n",
       " 'Belgique,France,Allemagne,Italie,Pays-Bas,Royaume-Uni',\n",
       " 'France,en:Belgique',\n",
       " 'Andorre',\n",
       " 'Danemark,France,GuaAllemagneloupe',\n",
       " 'France, Danemark',\n",
       " 'France,Allemagne:Allemagne, Suisse',\n",
       " 'France,Italie,Espagne',\n",
       " 'France,Emirats arabes unis',\n",
       " 'Martinique, France',\n",
       " 'Wallis et Futuna',\n",
       " 'Espagne,France,Belgique',\n",
       " 'Belgique,France,Grèce',\n",
       " 'GuaAllemagneloupe, France, Belgique',\n",
       " 'Algérie,Belgique,Canada,France,Maroc,Suisse',\n",
       " 'France, Polynésie',\n",
       " 'France,Grèce,Espagne',\n",
       " 'France,Espagne, Polynésie',\n",
       " 'France,Grèce,Pays-Bas',\n",
       " 'France,Espagne,Portugal',\n",
       " 'France,Espagne,Italie,Portugal',\n",
       " 'France, Maroc',\n",
       " 'Espagne, France, Belgique',\n",
       " 'France,Estonie',\n",
       " 'Niger',\n",
       " 'France,Belgique,Allemagne',\n",
       " 'Luxembourg,France',\n",
       " 'La Réunion,France',\n",
       " 'Belgique,France,Italie,Royaume-Uni',\n",
       " 'France,Italie,Pays-Bas,Royaume-Uni',\n",
       " 'Suisse,Belgique,France',\n",
       " 'Islande',\n",
       " 'Autriche,Danemark,France,Allemagne,Pays-Bas,Espagne,Suisse',\n",
       " 'Serbie,Suisse',\n",
       " 'Bosnie Herzégovine,Serbie',\n",
       " 'Bosnie Herzégovine',\n",
       " 'Belgique,France,Allemagne,Roumanie',\n",
       " 'Danemark,France,Allemagne',\n",
       " 'Australia,République Tchèque Republic,France,Allemagne,Hongrie',\n",
       " 'Danemark,France,Allemagne,Russie,Espagne,Royaume-Uni',\n",
       " 'République Tchèque,Danemark,France,Allemagne',\n",
       " 'Danemark,Allemagne,France',\n",
       " 'Danemark,France,Allemagne,InAllemagne',\n",
       " 'Arménie,France,Allemagne,Roumanie,Russland,Italie',\n",
       " 'Chine,France,Allemagne',\n",
       " 'Franceország,Hongrie',\n",
       " 'Allemagne,Royaume-Uni,Espagne,Pays-Bas',\n",
       " 'Austria,Allemagne',\n",
       " 'GranAllemagne Bretagne, Suisse',\n",
       " 'en:États-Unis, Suisse',\n",
       " 'États-Unis, Suisse',\n",
       " 'Danemark,Royaume-Uni, Suisse',\n",
       " 'Danemark,Suisse,Royaume-Uni,Allemagne',\n",
       " 'Biélorussie',\n",
       " 'Chine,Allemagne',\n",
       " 'Australie,Belgique,France, Suisse',\n",
       " 'France,Suisse,Australien,Allemagne',\n",
       " 'France,Suisse,Australien,Pays-Bas,Allemagne',\n",
       " 'Allemagne,Pays-Bas',\n",
       " 'États-Unis,Royaume-Uni',\n",
       " 'Allemagne,SuèAllemagne',\n",
       " 'Biélorussieus,République Tchèque Republic',\n",
       " 'Mauritanie',\n",
       " 'Portugal,Roumanie,Espagne',\n",
       " 'Allemagne,Luxembourg',\n",
       " 'Maroc, France',\n",
       " 'Allemagne,Allemagne',\n",
       " 'République Tchèque,France, Suisse',\n",
       " 'Allemagne,france',\n",
       " 'Hongrie, Suisse',\n",
       " 'Allemagne,Pologne',\n",
       " 'France,Russie, Suisse',\n",
       " 'Chypre',\n",
       " 'France,Roumanie',\n",
       " 'Suède',\n",
       " 'Allemagne,Hongrie',\n",
       " 'Autriche,République Tchèque,Allemagne',\n",
       " 'Autriche,Allemagne',\n",
       " 'Luxembourg, France, Suisse',\n",
       " 'Danemark,Suisse,Allemagne,France',\n",
       " 'France,Arabie Saoudite,Allemagne, Suisse, Belgique',\n",
       " 'Danemark,France,Allemagne,Suisse',\n",
       " 'Suisse,Allemagne',\n",
       " 'Allemagne, Espagne',\n",
       " 'Luxembourg,Allemagne',\n",
       " 'Allemagne,Maroc',\n",
       " 'Vietnam',\n",
       " 'France,Allemagne,Grèce,Espagne',\n",
       " 'italia',\n",
       " 'Allemagne,Tunisie',\n",
       " 'Allemagne,Grèce',\n",
       " 'Azerbaïdjan',\n",
       " 'Luxembourg, Suisse',\n",
       " 'Lituanie',\n",
       " 'France, InAllemagne',\n",
       " 'Belgique,France,world',\n",
       " 'FinlanAllemagne,France,Grèce,Italie,Espagne,SuèAllemagne',\n",
       " 'Australien,Suisse',\n",
       " 'Allemagne,Republik Chine, Suisse',\n",
       " 'Belgique,France,Pologne,Suisse',\n",
       " 'Allemagne,France,SuèAllemagne,Danemark',\n",
       " 'Allemagne,Danemark',\n",
       " 'France, en:netherlands',\n",
       " 'Belgique,France,Allemagne,Pays-Bas',\n",
       " 'Australie,France',\n",
       " 'France,Allemagne,suisse',\n",
       " 'ALLEMAGNE',\n",
       " 'Japon,en:Japon',\n",
       " 'FinlanAllemagne,France',\n",
       " 'Russie,GranAllemagne Bretagne',\n",
       " 'France,Russia',\n",
       " 'Republic of Chine',\n",
       " 'Tchad',\n",
       " 'Estonie',\n",
       " 'Lettonie',\n",
       " 'Lettonie,Lettonie',\n",
       " 'Lituanie,SuèAllemagne',\n",
       " 'Sri Lanka',\n",
       " 'France,Sri Lanka',\n",
       " 'Biélorussieus',\n",
       " 'Biélorussie,Géorgie,Kazakhstan,Russie,Ukraine',\n",
       " 'UkUkraine',\n",
       " 'Géorgie,Russie',\n",
       " 'Singapour,thailand',\n",
       " 'Hong Kong,Japon',\n",
       " 'Allemagne,Japon',\n",
       " 'Japon,Other:Japon, États-Unis',\n",
       " 'France,Belgique,Danemark',\n",
       " 'Royaume-Uni, Danemark',\n",
       " 'Italie,Suisse',\n",
       " 'Royaume-Uni,États-Unis,Suisse',\n",
       " 'Mozambique, France',\n",
       " 'Australia,Royaume-Uni,États-Unis',\n",
       " 'Union Européenne, États-Unis',\n",
       " 'Royaume-Uni, Danemark, Suisse',\n",
       " 'Algérie,Belgique,Égypte,France,Maroc,Qatar,Suisse,Tunisie,Emirats arabes unis',\n",
       " 'Australie,France, Suisse',\n",
       " 'IrlanAllemagnee,Royaume-Uni',\n",
       " 'Belgique,France,Allemagne,Italie,Maroc,Portugal,Serbie,Suisse',\n",
       " 'Belgique,Danemark,Luxembourg,Maroc,Portugal,Royaume-Uni,États-Unis,Allemagne,France,Suisse',\n",
       " 'France,Allemagne,Pays-Bas',\n",
       " 'Pays-Bas, Suisse',\n",
       " 'Royaume-Uni,Pays-Bas',\n",
       " 'Allemagne,Suisse,France',\n",
       " 'Danemark,France,Suisse',\n",
       " 'united-kingdom',\n",
       " 'Indonesie',\n",
       " 'Libye',\n",
       " 'Belgique,France, États-Unis',\n",
       " 'Portugal,Royaume-Uni, France',\n",
       " 'Union Européenne, Suisse',\n",
       " 'Australia,Royaume-Uni',\n",
       " 'France,Suisse,République Tchèque Republic',\n",
       " 'Autriche,France, Suisse',\n",
       " 'France,Allemagne,Pays-Bas,Royaume-Uni',\n",
       " 'Chypreus',\n",
       " 'Bosnie Herzégovine,Monténégro,Serbie',\n",
       " 'Monténégro,Serbie',\n",
       " 'Ecosse, Royaume-Uni',\n",
       " 'Pérou, États-Unis',\n",
       " 'France,Ecosse,Royaume-Uni',\n",
       " 'Allemagne,Suisse,Royaume-Uni',\n",
       " 'Portugal,France',\n",
       " 'Jersey',\n",
       " 'Danemark,Italie,Norvège,Portugal,SuèAllemagne,Royaume-Uni',\n",
       " 'Autriche, France',\n",
       " 'France,Royaume-Uni,canada',\n",
       " 'Singapour, France',\n",
       " 'Espagne,Royaume-Uni, Suisse',\n",
       " 'Danemark,France, États-Unis',\n",
       " 'France,Espagne,Grèce,Allemagne,Belgique,Pays-Bas',\n",
       " 'France,Belgique,Grèce,Pays-Bas,Espagne',\n",
       " 'France,Belgique,Allemagne,Suisse,Autriche,Pays-Bas,Danemark,SuèAllemagne',\n",
       " 'France, Suisse, Belgique, en:italy, Réunion',\n",
       " 'SuèAllemagne, France, Suisse, Belgique',\n",
       " 'France,Suisse,FinlanAllemagnee,Danemark,Italieans',\n",
       " 'France,united kingdom',\n",
       " 'FinlanAllemagne,France,Allemagne,IrlanAllemagnee,Espagne,Suisse,Royaume-Uni,Estonie',\n",
       " 'Australia,France,Royaume-Uni,Ecosse',\n",
       " 'France,Italie,Royaume-Uni',\n",
       " 'Mexique,États-Unis',\n",
       " 'Israel',\n",
       " 'République Démocratique du Congo',\n",
       " 'France,Serbie',\n",
       " 'Serbie,Belgique',\n",
       " 'France,belgique',\n",
       " 'Ghana',\n",
       " 'France,IrlanAllemagnee',\n",
       " 'Guinée-Bissau',\n",
       " 'Belgique,France,Allemagne,Italie,Espagne',\n",
       " 'Italie,Belgique,Allemagne,France,Danemark,Pays-Bas,SuèAllemagne,Norvège',\n",
       " 'Belgique,Danemark,France,Maroc,Suisse,FinlanAllemagne,SuèAllemagne,Espagne,Italie',\n",
       " 'Belgique,France,Maroc,Suisse',\n",
       " 'Danemark,France,Portugal, Suisse',\n",
       " 'France,Suisse, Danemark',\n",
       " 'France,Belgique,Suisse,Pays-Bas',\n",
       " 'France, Suisse, Belgique, en:Espagne',\n",
       " 'France, Suisse, Royaume-Uni',\n",
       " 'France,Allemagne,Italie,Norvège,Espagne,SuèAllemagne,Royaume-Uni',\n",
       " 'Espagne, France, Suisse',\n",
       " 'Belgique,République Tchèque Republic,Danemark,France,Allemagne,Italie,Pays-Bas,Nouvelle ZélanAllemagne,Espagne,SuèAllemagne,Royaume-Uni',\n",
       " 'belgium, France',\n",
       " 'Royaume-Uni, Danemark, France',\n",
       " 'Belgique,Portugal',\n",
       " 'Belgique,France,Italie,Espagne',\n",
       " 'Espagne,France, Suisse',\n",
       " 'Belgique, Danemark',\n",
       " 'Belgique,France,Italie,Pays-Bas,Espagne,Royaume-Uni',\n",
       " 'France,Belgique,Pays-Bas,Espagne,Italie,Allemagne,Hongrie',\n",
       " 'Allemagne, Belgique',\n",
       " 'Royaume-Uni, France, Belgique',\n",
       " 'Roumanie, Suisse',\n",
       " 'France,Allemagne,Autriche',\n",
       " 'Suisse,Belgique,Allemagne',\n",
       " 'France,Italie,Luxembourg,Pays-Bas,Espagne',\n",
       " 'Belgique,France,Pays-Bas,Espagne,Royaume-Uni',\n",
       " 'Belgique,France,Allemagne,Pays-Bas,Espagne,Suisse,Royaume-Uni',\n",
       " 'Belgique,France,Suisse,Allemagne,Hongrie',\n",
       " 'Belgique,France,Hongrie,Italie,Quebec',\n",
       " 'France,Royaume-Uni, Belgique, Suisse',\n",
       " 'Belgique,France,Russie',\n",
       " 'Belgique,France,Italie',\n",
       " 'Belgique,Canada,France',\n",
       " 'Belgique,Suisse',\n",
       " 'Central African Republic',\n",
       " 'Slovaquie,République Tchèque, Suisse',\n",
       " 'République Tchèque Republic,France,Iraq, Belgique, Suisse, Réunion',\n",
       " 'Algérie,Belgique,Brésil,Cameroon,Canada,France,Allemagne,InAllemagne,Italie,Luxembourg,Mali,Martinique,Maroc,Pays-Bas,Nouvelle Calédonie,Portugal,Réunion,Arabie Saoudite,Sénégal,Espagne,Suisse,Royaume-Uni,États-Unis',\n",
       " 'Belgique,France,Espagne,Suisse,Royaume-Uni',\n",
       " 'France,Koweït, Belgique',\n",
       " 'France,Pologne',\n",
       " 'Belgique,France, Suisse, en:Espagne, Réunion',\n",
       " 'Danemark,France,Suisse,Royaume-Uni',\n",
       " 'La Réunion, Suisse',\n",
       " 'Belgique,France,Serbie,Suisse',\n",
       " 'Austria,Belgique,France',\n",
       " 'Qatar, France',\n",
       " 'Irak,المملكة المتحدة, France',\n",
       " 'Algérie,Belgique,France,Allemagne,GuaAllemagneloupe,Italie,Liban,Luxembourg,Martinique,Maroc,Pays-Bas,Portugal,La Réunion,Sénégal,Espagne,Suisse,Royaume-Uni',\n",
       " 'Belgique,France,Italie,Suisse',\n",
       " 'République Tchèque Republic,France,Suisse',\n",
       " 'France,Royaume-Uni, Belgique',\n",
       " 'Portugal, France, Suisse',\n",
       " 'Portugal, Espagne',\n",
       " 'Portugal, Suisse',\n",
       " 'Portugal,france',\n",
       " 'Brésil, Suisse',\n",
       " 'en:AO',\n",
       " 'France,Allemagne,Portugal,Royaume-Uni',\n",
       " 'Portugal,Suisse,France',\n",
       " 'en:IS',\n",
       " 'SuèAllemagne, Danemark',\n",
       " 'FinlanAllemagnee,France',\n",
       " 'Allemagne:France,Allemagne:Allemagne',\n",
       " 'Danemark,Allemagne',\n",
       " 'Danemark,SuèAllemagne',\n",
       " 'Azərbaycan',\n",
       " 'Azerbaijan',\n",
       " 'البحرين',\n",
       " 'Russie, France',\n",
       " 'Pologne, France',\n",
       " 'Danemark,FinlanAllemagnee,France',\n",
       " 'Pologne,Wielka Brytania',\n",
       " 'Польша,GranAllemagne Bretagne',\n",
       " 'Royaume-Uni,poland',\n",
       " 'États-Unis,united kingdom',\n",
       " 'Pologne,Pologne',\n",
       " 'Pologne,Pologne, France',\n",
       " 'Belgique,Danemark,France,Pologne',\n",
       " 'Србија',\n",
       " 'Ирландия',\n",
       " 'Francja',\n",
       " 'en:Pologne',\n",
       " 'Belgique,France,Italie,Espagne,Suisse,Royaume-Uni,Grèce',\n",
       " 'Pologne,Szczecin',\n",
       " 'Pologne,Szczecin, États-Unis',\n",
       " 'Szczecin,Pologne',\n",
       " 'États-Unis,Moldavie',\n",
       " 'Slovenie,Serbie,Monténégro',\n",
       " 'Franța,Roumanie',\n",
       " 'Hongrie,Serbie',\n",
       " 'Bulgarie,Cehia,Roumanie,Slovacia',\n",
       " 'Malawi, France',\n",
       " 'en:BF',\n",
       " 'en:CM',\n",
       " 'en:MZ',\n",
       " 'Kenya',\n",
       " 'Tanzania',\n",
       " 'Congo,Sénégal',\n",
       " 'Sénégal,Sénégal',\n",
       " 'Île Mauriceus',\n",
       " 'France,Île Mauriceus',\n",
       " 'Maurice',\n",
       " 'France,Maurice',\n",
       " 'en:RW',\n",
       " 'Gabon, France',\n",
       " \"Côte-d'Ivoire, France\",\n",
       " 'تونس,Tunisie',\n",
       " 'تونس',\n",
       " 'Tunisie,France',\n",
       " 'Tunisie,تونس',\n",
       " 'en:BN',\n",
       " 'Arabie saoudite',\n",
       " 'ایران',\n",
       " 'Qatar,Emirats arabes unis,Arabie Saoudite',\n",
       " 'en:OM',\n",
       " 'Arabie Saoudite,Emirats arabes unis,Qatar',\n",
       " 'en:SO',\n",
       " 'سلطنة عمان',\n",
       " 'qatar,yemen,syria,lebanon,Tunisie',\n",
       " 'Oman,Qatar',\n",
       " 'Emirats Arabes Unis',\n",
       " 'Chine, France',\n",
       " 'en:VU',\n",
       " 'china',\n",
       " 'en:china',\n",
       " 'Norwegen',\n",
       " 'France,Norvège',\n",
       " 'ישראל',\n",
       " 'Grèce,Israël',\n",
       " 'République Tchèque Republic,France',\n",
       " 'Israel, France',\n",
       " 'France, Suisse, Belgique, Réunion',\n",
       " 'Danemark,Allemagne,Norvège,SuèAllemagne',\n",
       " 'SuèAllemagne,swe',\n",
       " 'France,FinlanAllemagnee,Allemagne,Pays-Bas,Norvège,Espagne,SuèAllemagne,Royaume-Uni',\n",
       " 'Dominican Republic',\n",
       " 'France,GuaAllemagneloupe,Italie,Pays-Bas,Norvège,SuèAllemagne,Suisse,Royaume-Uni',\n",
       " 'Guatemala',\n",
       " 'Mexique, France',\n",
       " 'France,Pays-Bas, Suisse',\n",
       " 'Venezuela',\n",
       " 'France,GuaAllemagneloupe,Suisse',\n",
       " 'Algérie, Suisse',\n",
       " 'Suisse, France, Belgique',\n",
       " 'Suisse,France, Allemagne',\n",
       " 'Svizzera',\n",
       " 'Allemagne,Suisse, France',\n",
       " 'France,Danemark',\n",
       " 'Danemark,Frankrig',\n",
       " 'Roumanie, France',\n",
       " 'Allemagne, France, en:Espagne',\n",
       " 'Danemark, France',\n",
       " 'République centrafricaine,France',\n",
       " 'Portugal, France, Belgique, en:Espagne',\n",
       " 'Serbie,Croatia,Monténégro',\n",
       " 'Suisse,France, Belgique',\n",
       " 'France,Australia, Suisse',\n",
       " 'France,Andorre',\n",
       " 'République Tchèque, France',\n",
       " 'France, Belgique, Suisse, Maroc',\n",
       " 'Croatia,Monténégro,Serbie,Slovenie',\n",
       " 'Bosnie Herzégovine,Republic of Macedonia,Serbie,Monténégro',\n",
       " 'Bulgarie,France',\n",
       " 'Andorra',\n",
       " 'France,Marseille 6°',\n",
       " 'France,Allemagne,Suisse,Tunisie',\n",
       " 'Italie,Pays-Bas,Portugal,Espagne',\n",
       " 'Croatia,Serbie,Slovenie',\n",
       " 'Allemagne, Danemark, France',\n",
       " 'Danemark,France,Suisse,Belgique,Espagne,SuèAllemagne,FinlanAllemagne',\n",
       " 'Réunion,France, Suisse',\n",
       " 'Brésil, France',\n",
       " 'Belgique,Danemark,FinlanAllemagne,France,Italie,Pays-Bas,Portugal,Espagne,SuèAllemagne',\n",
       " 'Austria, France',\n",
       " 'Autriche,France,Royaume-Uni,Suisse',\n",
       " 'en:UY',\n",
       " 'en:PE',\n",
       " 'Peru',\n",
       " 'en:PY',\n",
       " 'Argentine,France,Suisse',\n",
       " 'France,Argentine',\n",
       " 'Colombie,Chili',\n",
       " 'Argentine, en:saudi-arabia',\n",
       " 'Angola',\n",
       " 'Brésil,France',\n",
       " 'Albanie,Italie',\n",
       " 'La Réunion, Danemark',\n",
       " 'italy',\n",
       " 'Danemark,France,Allemagne, Suisse, Belgique',\n",
       " 'France, Suisse, Belgique, Maroc, en:Espagne',\n",
       " 'Belgique,France,Allemagne,Italie',\n",
       " 'Union Européenne, France',\n",
       " 'भारत',\n",
       " 'France,Belgique,Hongrie',\n",
       " 'Бугарска,Немачка,Република Ирска,Црна Гора,Португалија,Румунија,Србија,Уједињено Краљевство',\n",
       " 'Réunion, Suisse',\n",
       " 'Danemark,France,Italie,Royaume-Uni, Suisse',\n",
       " 'Danemark,Italie,France',\n",
       " 'France, Suisse, Belgique, en:luxembourg',\n",
       " 'République Tchèque,Allemagne, Suisse',\n",
       " 'Danemark,France,Suisse,Allemagne',\n",
       " 'Croácia,Portugal, France',\n",
       " 'France, Belgique, Suisse, en:italy',\n",
       " 'Albanie,Italie, Danemark',\n",
       " 'Italie,Roumanie',\n",
       " 'Regno Unito, France',\n",
       " 'France,italie',\n",
       " 'Belgique,Italie',\n",
       " 'en:TZ',\n",
       " 'Georgia',\n",
       " 'France, en:italy',\n",
       " 'Italie,Monaco,France',\n",
       " 'Дания',\n",
       " 'Italie,Espagne',\n",
       " 'France,Allemagne,Grèce,SuèAllemagne,Royaume-Uni',\n",
       " 'Belgique, Danemark, France',\n",
       " 'Danemark,Finnország,Franceország,Allemagne,Hongrie,Olaszország,Hollandia,Norvégia,Portugal,Oroszország,Szlovénia,Espagne,Svédország,GranAllemagne Bretagne',\n",
       " 'France,Italie,Espagne, Suisse',\n",
       " 'Danemark,Allemagne, Suisse',\n",
       " 'Belgique,Suisse,France,Allemagne',\n",
       " 'Italie, Danemark',\n",
       " 'Belgique,France,Hongrie,Suisse,Royaume-Uni',\n",
       " 'Hongrie,Espagne',\n",
       " 'GuaAllemagneloupe,Hongrie,Slovenie,Royaume-Uni, France',\n",
       " 'Kina,Danemark,Frankrike,Suède, en:Espagne',\n",
       " 'Italie,Lituania',\n",
       " 'Algérie,France',\n",
       " 'en:TR',\n",
       " 'Portugal,Espagne, France',\n",
       " 'République Tchèque,Itálie',\n",
       " 'en:ET',\n",
       " 'Italie,Espagne,Suisse',\n",
       " 'République Tchèque, Suisse',\n",
       " 'France,Italie,Pays-Bas',\n",
       " 'Belgique,France,Italie, Suisse',\n",
       " 'Nouvelle ZélanAllemagne, France, Suisse',\n",
       " 'France,Serbie,Italie,Spagna',\n",
       " 'Βέλγιο,France,Ισπανία,Ελβετία,Grèce',\n",
       " 'Suisse,italie',\n",
       " 'France, Suisse, en:italy',\n",
       " 'France, Suisse, en:Espagne',\n",
       " 'Italie, France, Suisse',\n",
       " 'France,en:Allemagne, Suisse',\n",
       " 'en:CK',\n",
       " 'en:SV',\n",
       " 'Belgique, Canada, Danemark, France, Allemagne, Maroc, Espagne, Suisse',\n",
       " 'France,Polynésie française',\n",
       " 'Allemagne,Vereinigte Arabische Emirate',\n",
       " 'Andorra,Espanya',\n",
       " 'Belgique,france',\n",
       " 'Portugal,Espagne,France,Royaume-Uni,Italie,Allemagne,Roumanie,Grécia',\n",
       " 'Espagne,États-Unis',\n",
       " 'Danemark,Espagne',\n",
       " 'Austria,France,Allemagne,Maroc,Pays-Bas,Royaume-Uni',\n",
       " 'Espana',\n",
       " 'en:Espagne',\n",
       " 'Suisse,Espagne',\n",
       " 'Belgique,France,Espagne, Suisse',\n",
       " 'Andorra,Espagne',\n",
       " 'Rusia',\n",
       " 'Maroc,Espagne',\n",
       " 'Espagne,Portugal',\n",
       " 'Portugal,Espagne,France',\n",
       " 'Portugal, Danemark, Suisse',\n",
       " 'Cuba, Suisse',\n",
       " 'République Tchèque Republic,Hongrie,Slovaquie',\n",
       " 'Slovensko',\n",
       " 'France,Slovaquie,République Tchèque Republic,Afrique du Sud,Grèce,Corée du Sud,Kuwait,Pologne,Maldives,Chine',\n",
       " 'France,République Tchèque',\n",
       " 'Croatia,Hongrie,Serbie',\n",
       " 'République Tchèque Republic,Allemagne',\n",
       " 'Royaume-Uni,Allemagne',\n",
       " 'Hongrie,Suisse,Serbie',\n",
       " 'Repubblica Ceca',\n",
       " 'République Tchèque Republic,Suisse',\n",
       " 'Republic of Macedonia,Serbie',\n",
       " 'Bosnie Herzégovine,Monténégro,Republic of Macedonia,Serbie',\n",
       " 'Црна Гора,Србија',\n",
       " 'Босна и Херцеговина,Хрватска,Република Македонија,Србија,Словенија',\n",
       " 'Bosnie Herzégovine,Croatia,Monténégro,Serbie',\n",
       " 'Bosnie Herzégovine,Croatia,Monténégro,Republic of Macedonia,Serbie',\n",
       " 'Bosnie Herzégovine,Croatia,Republic of Macedonia,Serbie',\n",
       " 'Allemagne,Turquie',\n",
       " 'Mozambique, Suisse',\n",
       " 'Emirats arabes unis, France',\n",
       " 'Belgique,Danemark, France',\n",
       " 'Pays-Bas,en:Pays-Bas',\n",
       " 'Nouvelle ZélanAllemagne',\n",
       " 'Belgique,Espagne',\n",
       " 'France,Pays-Bas,Espagne,Royaume-Uni',\n",
       " 'Allemagne,Grèce,Espagne',\n",
       " 'Belgique,France,Martinique,Suisse',\n",
       " 'France,Grèce',\n",
       " 'Belgique,France,Pays-Bas,Suisse',\n",
       " 'France, en:guaAllemagneloupe',\n",
       " 'Austria,Belgique,France,Allemagne,Pays-Bas,Suisse',\n",
       " 'Suisse,Allemagne,Autriche',\n",
       " 'France,Nouvelle-ZélanAllemagne,Singapour',\n",
       " 'Danemark,Espagne,Allemagne, Suisse',\n",
       " 'Danemark,France,Belgique,Suède, Suisse',\n",
       " ...]"
      ]
     },
     "execution_count": 402,
     "metadata": {},
     "output_type": "execute_result"
    }
   ],
   "source": [
    "new_data['countries'].unique().tolist()"
   ]
  },
  {
   "cell_type": "code",
   "execution_count": 403,
   "id": "05ede4f3",
   "metadata": {},
   "outputs": [],
   "source": [
    "new_data.replace(\"GranAllemagne Bretagne\", \"Grande Bretagne, Allemagne\", inplace = True, regex = True)"
   ]
  },
  {
   "cell_type": "code",
   "execution_count": 404,
   "id": "c68b2782",
   "metadata": {},
   "outputs": [],
   "source": [
    "new_data.replace(\"GuaAllemagneloupe\", \"Guadeloupe, Allemagne\", inplace = True, regex = True)"
   ]
  },
  {
   "cell_type": "code",
   "execution_count": 405,
   "id": "451ef32a",
   "metadata": {},
   "outputs": [],
   "source": [
    "new_data.replace(\"en:États-Unis\", \"États-Unis\", inplace = True, regex = True)"
   ]
  },
  {
   "cell_type": "code",
   "execution_count": 406,
   "id": "02cef6f1",
   "metadata": {},
   "outputs": [],
   "source": [
    "new_data.replace(\"IrlanAllemagnee\", \"Irlande, Allemagne\", inplace = True, regex = True)"
   ]
  },
  {
   "cell_type": "code",
   "execution_count": 407,
   "id": "0f0fe199",
   "metadata": {},
   "outputs": [],
   "source": [
    "new_data.replace(\"États-UnisA\", \"États-Unis\", inplace = True, regex = True)"
   ]
  },
  {
   "cell_type": "code",
   "execution_count": 408,
   "id": "04ace40a",
   "metadata": {},
   "outputs": [],
   "source": [
    "new_data.replace(\"FinlanAllemagnee\", \"Finlande, Allemagne\", inplace = True, regex = True)"
   ]
  },
  {
   "cell_type": "code",
   "execution_count": 409,
   "id": "b1a0e40e",
   "metadata": {},
   "outputs": [],
   "source": [
    "new_data.replace(\"Nouvelle ZélanAllemagne\", \"Nouvelle Zélande, Allemagne\", inplace = True, regex = True)"
   ]
  },
  {
   "cell_type": "code",
   "execution_count": 410,
   "id": "64df1a09",
   "metadata": {},
   "outputs": [],
   "source": [
    "new_data.replace(\"ThaïlanAllemagne\", \"Thaïlande, Allemagne\", inplace = True, regex = True)"
   ]
  },
  {
   "cell_type": "code",
   "execution_count": 411,
   "id": "2d320fed",
   "metadata": {},
   "outputs": [],
   "source": [
    "new_data.replace(\"ประเทศไทย\", \"Thaïlande\", inplace = True, regex = True)"
   ]
  },
  {
   "cell_type": "code",
   "execution_count": 412,
   "id": "1f6b0b84",
   "metadata": {},
   "outputs": [],
   "source": [
    "new_data.replace(\"BarbaAllemagnes\", \"Barbades, Allemagne\", inplace = True, regex = True)"
   ]
  },
  {
   "cell_type": "code",
   "execution_count": 413,
   "id": "16b1096f",
   "metadata": {},
   "outputs": [],
   "source": [
    "new_data.replace(\"SuèAllemagne\", \"Suède, Allemagne\", inplace = True, regex = True)"
   ]
  },
  {
   "cell_type": "code",
   "execution_count": 414,
   "id": "92ed376f",
   "metadata": {},
   "outputs": [],
   "source": [
    "new_data.replace(\"fr:Canada\", \"Canada\", inplace = True, regex = True)"
   ]
  },
  {
   "cell_type": "code",
   "execution_count": 415,
   "id": "04cf79a1",
   "metadata": {},
   "outputs": [],
   "source": [
    "new_data.replace(\"InAllemagne\", \"Inde, Allemagne\", inplace = True, regex = True)"
   ]
  },
  {
   "cell_type": "code",
   "execution_count": 416,
   "id": "b2fb262e",
   "metadata": {},
   "outputs": [],
   "source": [
    "new_data.replace(\"uk\", \"Royaume-Uni\", inplace = True, regex = True)"
   ]
  },
  {
   "cell_type": "code",
   "execution_count": 417,
   "id": "461241eb",
   "metadata": {},
   "outputs": [],
   "source": [
    "new_data.replace(\"UkUkraine\", \"Royaume-Uni, Ukraine\", inplace = True, regex = True)"
   ]
  },
  {
   "cell_type": "code",
   "execution_count": 418,
   "id": "620c8cb8",
   "metadata": {},
   "outputs": [],
   "source": [
    "new_data.replace(\"colombia\", \"Colombie\", inplace = True, regex = True)"
   ]
  },
  {
   "cell_type": "code",
   "execution_count": 419,
   "id": "8e092172",
   "metadata": {},
   "outputs": [],
   "source": [
    "new_data.replace(\"Australia\", \"Australie\", inplace = True, regex = True)"
   ]
  },
  {
   "cell_type": "code",
   "execution_count": 420,
   "id": "7b92e8a2",
   "metadata": {},
   "outputs": [],
   "source": [
    "new_data.replace(\"Chypreus\", \"Chypre\", inplace = True, regex = True)"
   ]
  },
  {
   "cell_type": "code",
   "execution_count": 421,
   "id": "2a6cec34",
   "metadata": {},
   "outputs": [],
   "source": [
    "new_data.replace(\"en:AN\", \"Antilles néerlandaises\", inplace = True, regex = True)"
   ]
  },
  {
   "cell_type": "code",
   "execution_count": 422,
   "id": "b30ac12c",
   "metadata": {},
   "outputs": [],
   "source": [
    "new_data.replace(\"Myanmar\", \"Birmanie\", inplace = True, regex = True)"
   ]
  },
  {
   "cell_type": "code",
   "execution_count": 423,
   "id": "75a2621f",
   "metadata": {},
   "outputs": [],
   "source": [
    "new_data.replace(\"belgium\", \"Belgique\", inplace = True, regex = True)"
   ]
  },
  {
   "cell_type": "code",
   "execution_count": 424,
   "id": "399bb270",
   "metadata": {},
   "outputs": [],
   "source": [
    "new_data.replace(\"IrlanAllemagne\", \"Irlande, Allemagne\", inplace = True, regex = True)"
   ]
  },
  {
   "cell_type": "code",
   "execution_count": 425,
   "id": "f6395e8f",
   "metadata": {},
   "outputs": [],
   "source": [
    "new_data.replace(\"FinlanAllemagne\", \"Finlande, Allemagne\", inplace = True, regex = True)"
   ]
  },
  {
   "cell_type": "code",
   "execution_count": 426,
   "id": "df13a97f",
   "metadata": {},
   "outputs": [],
   "source": [
    "new_data.replace(\"Îles Vierges États-Unis\", \"Îles Vierges, États-Unis\", inplace = True, regex = True)"
   ]
  },
  {
   "cell_type": "code",
   "execution_count": 427,
   "id": "677a46c6",
   "metadata": {},
   "outputs": [],
   "source": [
    "new_data.replace(\"Austria\", \"Autriche\", inplace = True, regex = True)"
   ]
  },
  {
   "cell_type": "code",
   "execution_count": 428,
   "id": "989f957e",
   "metadata": {},
   "outputs": [],
   "source": [
    "new_data.replace(\"Republic of Chine\", \"Chine\", inplace = True, regex = True)"
   ]
  },
  {
   "cell_type": "code",
   "execution_count": 429,
   "id": "96eb9b3d",
   "metadata": {},
   "outputs": [],
   "source": [
    "new_data.replace(\"Republic of Macedonia\", \"Macédoine\", inplace = True, regex = True)"
   ]
  },
  {
   "cell_type": "code",
   "execution_count": 430,
   "id": "83022963",
   "metadata": {},
   "outputs": [],
   "source": [
    "new_data.replace(\"Republic of\", \"nan\", inplace = True, regex = True)"
   ]
  },
  {
   "cell_type": "code",
   "execution_count": 431,
   "id": "c1fd19ab",
   "metadata": {},
   "outputs": [],
   "source": [
    "new_data.replace(\"Russia\", \"Russie\", inplace = True, regex = True)"
   ]
  },
  {
   "cell_type": "code",
   "execution_count": 432,
   "id": "35d6ae69",
   "metadata": {},
   "outputs": [],
   "source": [
    "new_data.replace(\"IslanAllemagne\", \"Islande, Allemagne\", inplace = True, regex = True)"
   ]
  },
  {
   "cell_type": "code",
   "execution_count": 433,
   "id": "ce64ab73",
   "metadata": {},
   "outputs": [],
   "source": [
    "new_data.replace(\"suisse\", \"Suisse\", inplace = True, regex = True)"
   ]
  },
  {
   "cell_type": "code",
   "execution_count": 434,
   "id": "6706281b",
   "metadata": {},
   "outputs": [],
   "source": [
    "new_data.replace(\"République Allemagne Corée\", \"République de Corée, Allemagne \", inplace = True, regex = True)"
   ]
  },
  {
   "cell_type": "code",
   "execution_count": 435,
   "id": "d7b60079",
   "metadata": {},
   "outputs": [],
   "source": [
    "new_data.replace(\"Regatul Unit al Marii Britanii și al i Allemagne Nord\", \"Royaume-Uni, Allemagne \", inplace = True, regex = True)"
   ]
  },
  {
   "cell_type": "code",
   "execution_count": 436,
   "id": "d15ac4ae",
   "metadata": {},
   "outputs": [],
   "source": [
    "new_data.replace(\"Allemagne,world,world\", \"Allemagne, world\", inplace = True, regex = True)"
   ]
  },
  {
   "cell_type": "code",
   "execution_count": 437,
   "id": "aebe9a70",
   "metadata": {},
   "outputs": [],
   "source": [
    "new_data.replace(\"Iraq\", \"Irak\", inplace = True, regex = True)"
   ]
  },
  {
   "cell_type": "code",
   "execution_count": 438,
   "id": "7017ba73",
   "metadata": {},
   "outputs": [],
   "source": [
    "new_data.replace(\"united kingdom\", \"Royaume-Uni\", inplace = True, regex = True)"
   ]
  },
  {
   "cell_type": "code",
   "execution_count": 439,
   "id": "5d69d64e",
   "metadata": {},
   "outputs": [],
   "source": [
    "new_data.replace(\"united-kingdom\", \"Royaume-Uni\", inplace = True, regex = True)"
   ]
  },
  {
   "cell_type": "code",
   "execution_count": 440,
   "id": "0a3e9da9",
   "metadata": {},
   "outputs": [],
   "source": [
    "new_data.replace(\"Portugal,Allemagne,Royaume-Uni,,,Danemark,Italie,Espagne\", \"Portugal,Allemagne,Royaume-Uni,Danemark,Italie,Espagne\", inplace = True, regex = True)"
   ]
  },
  {
   "cell_type": "code",
   "execution_count": 441,
   "id": "3b5ac55e",
   "metadata": {},
   "outputs": [],
   "source": [
    "new_data.replace(\"en:Ecosse\", \"Ecosse\", inplace = True, regex = True)"
   ]
  },
  {
   "cell_type": "code",
   "execution_count": 442,
   "id": "f1c48daa",
   "metadata": {},
   "outputs": [],
   "source": [
    "new_data.replace(\"République Tchèque Republic\", \"République Tchèque\", inplace = True, regex = True)"
   ]
  },
  {
   "cell_type": "code",
   "execution_count": 443,
   "id": "6fe8824e",
   "metadata": {},
   "outputs": [],
   "source": [
    "new_data.replace(\"france\", \"France\", inplace = True, regex = True)"
   ]
  },
  {
   "cell_type": "code",
   "execution_count": 444,
   "id": "7e33c15f",
   "metadata": {},
   "outputs": [],
   "source": [
    "new_data.replace(\"Franceország\", \"France\", inplace = True, regex = True)"
   ]
  },
  {
   "cell_type": "code",
   "execution_count": 445,
   "id": "55d02614",
   "metadata": {},
   "outputs": [],
   "source": [
    "new_data.replace(\"en:germany\", \"Allemagne\", inplace = True, regex = True)"
   ]
  },
  {
   "cell_type": "code",
   "execution_count": 446,
   "id": "4d86604c",
   "metadata": {},
   "outputs": [],
   "source": [
    "new_data.replace(\"en:to-be-completed,en:nutrition-facts-completed,en:ingredients-to-be-completed,en:expiration-date-to-be-completed,en:characteristics-completed,en:categories-completed,en:brands-completed,en:packaging-completed,en:quantity-completed,en:product-name-completed,en:photos-validated,en:photos-uploaAllemagned\", \"Allemagne\", inplace = True, regex = True)"
   ]
  },
  {
   "cell_type": "code",
   "execution_count": 447,
   "id": "26c29351",
   "metadata": {},
   "outputs": [],
   "source": [
    "new_data.replace(\"en:to-be-checked,en:complete,en:nutrition-facts-completed,en:ingredients-completed,en:expiration-date-completed,en:packaging-coAllemagne-completed,en:characteristics-completed,en:categories-completed,en:brands-completed,en:packaging-completed,en:quantity-completed,en:product-name-completed,en:photos-validated,en:photos-uploaAllemagned\", \"Allemagne\", inplace = True, regex = True)"
   ]
  },
  {
   "cell_type": "code",
   "execution_count": 448,
   "id": "5dda213b",
   "metadata": {},
   "outputs": [],
   "source": [
    "new_data.replace(\"en:to-be-checked,en:complete,en:nutrition-facts-completed,en:ingredients-completed,en:expiration-date-to-be-completed,en:characteristics-completed,en:categories-completed,en:brands-completed,en:packaging-completed,en:quantity-completed,en:product-name-completed,en:photos-validated,en:photos-uploaAllemagned\", \"Allemagne\", inplace = True, regex = True)"
   ]
  },
  {
   "cell_type": "code",
   "execution_count": 449,
   "id": "7018f32f",
   "metadata": {},
   "outputs": [],
   "source": [
    "new_data.replace(\"en:to-be-checked,en:complete,en:nutrition-facts-completed,en:ingredients-completed,en:expiration-date-to-be-completed,en:packaging-coAllemagne-completed,en:characteristics-completed,en:categories-completed,en:brands-completed,en:packaging-completed,en:quantity-completed,en:product-name-completed,en:photos-validated,en:photos-uploaAllemagned\", \"Allemagne\", inplace = True, regex = True)"
   ]
  },
  {
   "cell_type": "code",
   "execution_count": 450,
   "id": "b8ce8605",
   "metadata": {},
   "outputs": [],
   "source": [
    "new_data.replace(\"en:to-be-checked,en:complete,en:nutrition-facts-completed,en:ingredients-completed,en:expiration-date-completed,en:characteristics-completed,en:categories-completed,en:brands-completed,en:packaging-completed,en:quantity-completed,en:product-name-completed,en:photos-validated,en:photos-uploaAllemagned\", \"Allemagne\", inplace = True, regex = True)"
   ]
  },
  {
   "cell_type": "code",
   "execution_count": 451,
   "id": "6b6f631a",
   "metadata": {},
   "outputs": [],
   "source": [
    "new_data.replace(\"en:to-be-completed,en:nutrition-facts-completed,en:ingredients-completed,en:expiration-date-to-be-completed,en:characteristics-completed,en:categories-completed,en:brands-completed,en:packaging-completed,en:quantity-completed,en:product-name-completed,en:photos-to-be-validated,en:photos-uploaAllemagned\", \"Allemagne\", inplace = True, regex = True)"
   ]
  },
  {
   "cell_type": "code",
   "execution_count": 452,
   "id": "552052cd",
   "metadata": {},
   "outputs": [],
   "source": [
    "new_data.replace(\"La Réunion\", \"Réunion\", inplace = True, regex = True)"
   ]
  },
  {
   "cell_type": "code",
   "execution_count": 453,
   "id": "b129c1c9",
   "metadata": {},
   "outputs": [],
   "source": [
    "new_data.replace(\"Allemagne:Allemagne\", \"Allemagne\", inplace = True, regex = True)"
   ]
  },
  {
   "cell_type": "code",
   "execution_count": 454,
   "id": "2ac4e1e2",
   "metadata": {},
   "outputs": [],
   "source": [
    "new_data.replace(\"en:Belgique\", \"Belgique\", inplace = True, regex = True)"
   ]
  },
  {
   "cell_type": "code",
   "execution_count": 455,
   "id": "33a77771",
   "metadata": {},
   "outputs": [],
   "source": [
    "new_data.replace(\"Australien\", \"Australie\", inplace = True, regex = True)"
   ]
  },
  {
   "cell_type": "code",
   "execution_count": 456,
   "id": "3369fc40",
   "metadata": {},
   "outputs": [],
   "source": [
    "new_data.replace(\"Republik Chine\", \"Chine\", inplace = True, regex = True)"
   ]
  },
  {
   "cell_type": "code",
   "execution_count": 457,
   "id": "2e18aa05",
   "metadata": {},
   "outputs": [],
   "source": [
    "new_data.replace(\"en:netherlands\", \"Pays-Bas\", inplace = True, regex = True)"
   ]
  },
  {
   "cell_type": "code",
   "execution_count": 458,
   "id": "31ab4943",
   "metadata": {},
   "outputs": [],
   "source": [
    "new_data.replace(\"ALLEMAGNE\", \"Allemagne\", inplace = True, regex = True)"
   ]
  },
  {
   "cell_type": "code",
   "execution_count": 459,
   "id": "e6b8780f",
   "metadata": {},
   "outputs": [],
   "source": [
    "new_data.replace(\"Other:Japon\", \"Japon\", inplace = True, regex = True)"
   ]
  },
  {
   "cell_type": "code",
   "execution_count": 460,
   "id": "2130cebf",
   "metadata": {},
   "outputs": [],
   "source": [
    "new_data.replace(\"en:italy\", \"Italie\", inplace = True, regex = True)"
   ]
  },
  {
   "cell_type": "code",
   "execution_count": 461,
   "id": "afce0da8",
   "metadata": {},
   "outputs": [],
   "source": [
    "new_data.replace(\"en:Espagne\", \"Espagne\", inplace = True, regex = True)"
   ]
  },
  {
   "cell_type": "code",
   "execution_count": 462,
   "id": "3556782b",
   "metadata": {},
   "outputs": [],
   "source": [
    "new_data.replace(\"Frankrike\", \"France\", inplace = True, regex = True)"
   ]
  },
  {
   "cell_type": "code",
   "execution_count": 463,
   "id": "b262d0c7",
   "metadata": {},
   "outputs": [],
   "source": [
    "new_data.replace(\"المملكة المتحدة\", \"Royaume-Uni\", inplace = True, regex = True)"
   ]
  },
  {
   "cell_type": "code",
   "execution_count": 464,
   "id": "5b66bac1",
   "metadata": {},
   "outputs": [],
   "source": [
    "new_data.replace(\"en:AO\", \"Angola\", inplace = True, regex = True)"
   ]
  },
  {
   "cell_type": "code",
   "execution_count": 465,
   "id": "8b887db9",
   "metadata": {},
   "outputs": [],
   "source": [
    "new_data.replace(\"en:IS\", \"Islande\", inplace = True, regex = True)"
   ]
  },
  {
   "cell_type": "code",
   "execution_count": 466,
   "id": "712ed5ee",
   "metadata": {},
   "outputs": [],
   "source": [
    "new_data.replace(\"Azərbaycan\", \"Azerbaijan\", inplace = True, regex = True)"
   ]
  },
  {
   "cell_type": "code",
   "execution_count": 467,
   "id": "65e3b273",
   "metadata": {},
   "outputs": [],
   "source": [
    "new_data.replace(\"Польша\", \"Pologne\", inplace = True, regex = True)"
   ]
  },
  {
   "cell_type": "code",
   "execution_count": 468,
   "id": "4c5a6da6",
   "metadata": {},
   "outputs": [],
   "source": [
    "new_data.replace(\"Србија\", \"Serbie\", inplace = True, regex = True)"
   ]
  },
  {
   "cell_type": "code",
   "execution_count": 469,
   "id": "3e49d5b5",
   "metadata": {},
   "outputs": [],
   "source": [
    "new_data.replace(\"Ирландия\", \"Irlande\", inplace = True, regex = True)"
   ]
  },
  {
   "cell_type": "code",
   "execution_count": 470,
   "id": "5256b446",
   "metadata": {},
   "outputs": [],
   "source": [
    "new_data.replace(\"Francja\", \"France\", inplace = True, regex = True)"
   ]
  },
  {
   "cell_type": "code",
   "execution_count": 471,
   "id": "1c54114b",
   "metadata": {},
   "outputs": [],
   "source": [
    "new_data.replace(\"en:Pologne\", \"Pologne\", inplace = True, regex = True)"
   ]
  },
  {
   "cell_type": "code",
   "execution_count": 472,
   "id": "a7fdb296",
   "metadata": {},
   "outputs": [],
   "source": [
    "new_data.replace(\"en:BF\", \"Burkina Faso\", inplace = True, regex = True)"
   ]
  },
  {
   "cell_type": "code",
   "execution_count": 473,
   "id": "23e104dc",
   "metadata": {},
   "outputs": [],
   "source": [
    "new_data.replace(\"en:CM\", \"Cameroun\", inplace = True, regex = True)"
   ]
  },
  {
   "cell_type": "code",
   "execution_count": 474,
   "id": "4faecfe2",
   "metadata": {},
   "outputs": [],
   "source": [
    "new_data.replace(\"en:MZ\", \"Mozambique\", inplace = True, regex = True)"
   ]
  },
  {
   "cell_type": "code",
   "execution_count": 475,
   "id": "cfd3738c",
   "metadata": {},
   "outputs": [],
   "source": [
    "new_data.replace(\"Île Mauriceus\", \"Île Maurice\", inplace = True, regex = True)"
   ]
  },
  {
   "cell_type": "code",
   "execution_count": 476,
   "id": "7fa9b24a",
   "metadata": {},
   "outputs": [],
   "source": [
    "new_data.replace(\"Maurice\", \"Île Maurice\", inplace = True, regex = True)"
   ]
  },
  {
   "cell_type": "code",
   "execution_count": 477,
   "id": "08d1163f",
   "metadata": {},
   "outputs": [],
   "source": [
    "new_data.replace(\"en:RW\", \"Rwanda\", inplace = True, regex = True)"
   ]
  },
  {
   "cell_type": "code",
   "execution_count": 478,
   "id": "45737161",
   "metadata": {},
   "outputs": [],
   "source": [
    "new_data.replace(\"تونس\", \"Tunisie\", inplace = True, regex = True)"
   ]
  },
  {
   "cell_type": "code",
   "execution_count": 479,
   "id": "d9e17518",
   "metadata": {},
   "outputs": [],
   "source": [
    "new_data.replace(\"en:BN\", \"Brunei\", inplace = True, regex = True)"
   ]
  },
  {
   "cell_type": "code",
   "execution_count": 480,
   "id": "2845302f",
   "metadata": {},
   "outputs": [],
   "source": [
    "new_data.replace(\"ایران\", \"Iran\", inplace = True, regex = True)"
   ]
  },
  {
   "cell_type": "code",
   "execution_count": 481,
   "id": "c4472494",
   "metadata": {},
   "outputs": [],
   "source": [
    "new_data.replace(\"en:OM\", \"Oman\", inplace = True, regex = True)"
   ]
  },
  {
   "cell_type": "code",
   "execution_count": 482,
   "id": "5062373d",
   "metadata": {},
   "outputs": [],
   "source": [
    "new_data.replace(\"en:SO\", \"Somalie\", inplace = True, regex = True)"
   ]
  },
  {
   "cell_type": "code",
   "execution_count": 483,
   "id": "764afd11",
   "metadata": {},
   "outputs": [],
   "source": [
    "new_data.replace(\"سلطنة عمان\", \"Oman\", inplace = True, regex = True)"
   ]
  },
  {
   "cell_type": "code",
   "execution_count": 484,
   "id": "33a5e4ec",
   "metadata": {},
   "outputs": [],
   "source": [
    "new_data.replace(\"en:VU\", \"Vanuatu\", inplace = True, regex = True)"
   ]
  },
  {
   "cell_type": "code",
   "execution_count": 485,
   "id": "a31ffa03",
   "metadata": {},
   "outputs": [],
   "source": [
    "new_data.replace(\"china\", \"Chine\", inplace = True, regex = True)"
   ]
  },
  {
   "cell_type": "code",
   "execution_count": 486,
   "id": "88393b8f",
   "metadata": {},
   "outputs": [],
   "source": [
    "new_data.replace(\"en:china\", \"Chine\", inplace = True, regex = True)"
   ]
  },
  {
   "cell_type": "code",
   "execution_count": 487,
   "id": "5d7e042c",
   "metadata": {},
   "outputs": [],
   "source": [
    "new_data.replace(\"Norwegen\", \"Norvège\", inplace = True, regex = True)"
   ]
  },
  {
   "cell_type": "code",
   "execution_count": 488,
   "id": "9f3220b3",
   "metadata": {},
   "outputs": [],
   "source": [
    "new_data.replace(\"ישראל\", \"Israël\", inplace = True, regex = True)"
   ]
  },
  {
   "cell_type": "code",
   "execution_count": 489,
   "id": "88b82200",
   "metadata": {},
   "outputs": [],
   "source": [
    "new_data.replace(\"swe\", \"Suède\", inplace = True, regex = True)"
   ]
  },
  {
   "cell_type": "code",
   "execution_count": 490,
   "id": "4045a4e2",
   "metadata": {},
   "outputs": [],
   "source": [
    "new_data.replace(\"Dominican Republic\", \"République Dominicaine\", inplace = True, regex = True)"
   ]
  },
  {
   "cell_type": "code",
   "execution_count": 491,
   "id": "3f86e700",
   "metadata": {},
   "outputs": [],
   "source": [
    "new_data.replace(\"Svizzera\", \"Suisse\", inplace = True, regex = True)"
   ]
  },
  {
   "cell_type": "code",
   "execution_count": 492,
   "id": "b8c19a04",
   "metadata": {},
   "outputs": [],
   "source": [
    "new_data.replace(\"Frankrig\", \"France\", inplace = True, regex = True)"
   ]
  },
  {
   "cell_type": "code",
   "execution_count": 493,
   "id": "e9842f98",
   "metadata": {},
   "outputs": [],
   "source": [
    "new_data.replace(\"Croatia\", \"Croatie\", inplace = True, regex = True)"
   ]
  },
  {
   "cell_type": "code",
   "execution_count": 494,
   "id": "f39f8abd",
   "metadata": {},
   "outputs": [],
   "source": [
    "new_data.replace(\"Marseille 6°\", \"France\", inplace = True, regex = True)"
   ]
  },
  {
   "cell_type": "code",
   "execution_count": 495,
   "id": "123ab4bd",
   "metadata": {},
   "outputs": [],
   "source": [
    "new_data.replace(\"en:UY\", \"Uruguay\", inplace = True, regex = True)"
   ]
  },
  {
   "cell_type": "code",
   "execution_count": 496,
   "id": "0e41cc99",
   "metadata": {},
   "outputs": [],
   "source": [
    "new_data.replace(\"en:PE\", \"Pérou\", inplace = True, regex = True)"
   ]
  },
  {
   "cell_type": "code",
   "execution_count": 497,
   "id": "8b669988",
   "metadata": {},
   "outputs": [],
   "source": [
    "new_data.replace(\"en:PY\", \"Paraguay\", inplace = True, regex = True)"
   ]
  },
  {
   "cell_type": "code",
   "execution_count": 498,
   "id": "bc552a3d",
   "metadata": {},
   "outputs": [],
   "source": [
    "new_data.replace(\"Peru\", \"Pérou\", inplace = True, regex = True)"
   ]
  },
  {
   "cell_type": "code",
   "execution_count": 499,
   "id": "43b47ea6",
   "metadata": {},
   "outputs": [],
   "source": [
    "new_data.replace(\"italy\", \"Italie\", inplace = True, regex = True)"
   ]
  },
  {
   "cell_type": "code",
   "execution_count": 500,
   "id": "6a093b19",
   "metadata": {},
   "outputs": [],
   "source": [
    "new_data.replace(\"भारत\", \"Inde\", inplace = True, regex = True)"
   ]
  },
  {
   "cell_type": "code",
   "execution_count": 501,
   "id": "a9bfba8a",
   "metadata": {},
   "outputs": [],
   "source": [
    "new_data.replace(\"Бугарска\", \"Bulgarie\", inplace = True, regex = True)"
   ]
  },
  {
   "cell_type": "code",
   "execution_count": 502,
   "id": "ff0dccea",
   "metadata": {},
   "outputs": [],
   "source": [
    "new_data.replace(\"Немачка\", \"Allemagne\", inplace = True, regex = True)"
   ]
  },
  {
   "cell_type": "code",
   "execution_count": 503,
   "id": "0d485de5",
   "metadata": {},
   "outputs": [],
   "source": [
    "new_data.replace(\"Република Ирска\", \"Irlande\", inplace = True, regex = True)"
   ]
  },
  {
   "cell_type": "code",
   "execution_count": 504,
   "id": "0f502e42",
   "metadata": {},
   "outputs": [],
   "source": [
    "new_data.replace(\"Црна Гора\", \"Monténégro\", inplace = True, regex = True)"
   ]
  },
  {
   "cell_type": "code",
   "execution_count": 505,
   "id": "01f1c4ba",
   "metadata": {},
   "outputs": [],
   "source": [
    "new_data.replace(\"Португалија\", \"Portugal\", inplace = True, regex = True)"
   ]
  },
  {
   "cell_type": "code",
   "execution_count": 506,
   "id": "6fbf3bd1",
   "metadata": {},
   "outputs": [],
   "source": [
    "new_data.replace(\"Румунија\", \"Roumanie\", inplace = True, regex = True)"
   ]
  },
  {
   "cell_type": "code",
   "execution_count": 507,
   "id": "0f98eb1e",
   "metadata": {},
   "outputs": [],
   "source": [
    "new_data.replace(\"Уједињено Краљевство\", \"Royaume-Uni\", inplace = True, regex = True)"
   ]
  },
  {
   "cell_type": "code",
   "execution_count": 508,
   "id": "cac4ab09",
   "metadata": {},
   "outputs": [],
   "source": [
    "new_data.replace(\"Croácia\", \"Croatie\", inplace = True, regex = True)"
   ]
  },
  {
   "cell_type": "code",
   "execution_count": 509,
   "id": "36e490bd",
   "metadata": {},
   "outputs": [],
   "source": [
    "new_data.replace(\"Regno Unito\", \"Royaume-Uni\", inplace = True, regex = True)"
   ]
  },
  {
   "cell_type": "code",
   "execution_count": 510,
   "id": "4c071c15",
   "metadata": {},
   "outputs": [],
   "source": [
    "new_data.replace(\"italie\", \"Italie\", inplace = True, regex = True)"
   ]
  },
  {
   "cell_type": "code",
   "execution_count": 511,
   "id": "96cf1be1",
   "metadata": {},
   "outputs": [],
   "source": [
    "new_data.replace(\"en:TZ\", \"Tanzanie\", inplace = True, regex = True)"
   ]
  },
  {
   "cell_type": "code",
   "execution_count": 512,
   "id": "e5c16271",
   "metadata": {},
   "outputs": [],
   "source": [
    "new_data.replace(\"Дания\", \"Danemark\", inplace = True, regex = True)"
   ]
  },
  {
   "cell_type": "code",
   "execution_count": 513,
   "id": "a772fc12",
   "metadata": {},
   "outputs": [],
   "source": [
    "new_data.replace(\"Georgia\", \"Georgie\", inplace = True, regex = True)"
   ]
  },
  {
   "cell_type": "code",
   "execution_count": 514,
   "id": "5b992a2e",
   "metadata": {},
   "outputs": [],
   "source": [
    "new_data.replace(\"Finnország\", \"Finlande\", inplace = True, regex = True)"
   ]
  },
  {
   "cell_type": "code",
   "execution_count": 515,
   "id": "2c6bae18",
   "metadata": {},
   "outputs": [],
   "source": [
    "new_data.replace(\"Olaszország\", \"Italie\", inplace = True, regex = True)"
   ]
  },
  {
   "cell_type": "code",
   "execution_count": 516,
   "id": "50cf9158",
   "metadata": {},
   "outputs": [],
   "source": [
    "new_data.replace(\"Hollandia\", \"Pays-Bas\", inplace = True, regex = True)"
   ]
  },
  {
   "cell_type": "code",
   "execution_count": 517,
   "id": "281e6a45",
   "metadata": {},
   "outputs": [],
   "source": [
    "new_data.replace(\"Norvégia\", \"Norvège\", inplace = True, regex = True)"
   ]
  },
  {
   "cell_type": "code",
   "execution_count": 518,
   "id": "77cbaf02",
   "metadata": {},
   "outputs": [],
   "source": [
    "new_data.replace(\"Oroszország\", \"Russie\", inplace = True, regex = True)"
   ]
  },
  {
   "cell_type": "code",
   "execution_count": 519,
   "id": "bd953176",
   "metadata": {},
   "outputs": [],
   "source": [
    "new_data.replace(\"Szlovénia\", \"Slovénie\", inplace = True, regex = True)"
   ]
  },
  {
   "cell_type": "code",
   "execution_count": 520,
   "id": "ba95ea2f",
   "metadata": {},
   "outputs": [],
   "source": [
    "new_data.replace(\"Slovénie\",\"Slovenie\", inplace = True, regex = True)"
   ]
  },
  {
   "cell_type": "code",
   "execution_count": 521,
   "id": "7c8dc9b4",
   "metadata": {},
   "outputs": [],
   "source": [
    "new_data.replace(\"Svédország\", \"Suède\", inplace = True, regex = True)"
   ]
  },
  {
   "cell_type": "code",
   "execution_count": 522,
   "id": "4819a2f2",
   "metadata": {},
   "outputs": [],
   "source": [
    "new_data.replace(\"Kina\", \"Chine\", inplace = True, regex = True)"
   ]
  },
  {
   "cell_type": "code",
   "execution_count": 523,
   "id": "8260a344",
   "metadata": {},
   "outputs": [],
   "source": [
    "new_data.replace(\"Lituania\", \"Lituanie\", inplace = True, regex = True)"
   ]
  },
  {
   "cell_type": "code",
   "execution_count": 524,
   "id": "30bc0721",
   "metadata": {},
   "outputs": [],
   "source": [
    "new_data.replace(\"en:TR\", \"Turquie\", inplace = True, regex = True)"
   ]
  },
  {
   "cell_type": "code",
   "execution_count": 525,
   "id": "09dd2538",
   "metadata": {},
   "outputs": [],
   "source": [
    "new_data.replace(\"en:ET\", \"Ethiopie\", inplace = True, regex = True)"
   ]
  },
  {
   "cell_type": "code",
   "execution_count": 526,
   "id": "52ba80ac",
   "metadata": {},
   "outputs": [],
   "source": [
    "new_data.replace(\"Spagna\", \"Espagne\", inplace = True, regex = True)"
   ]
  },
  {
   "cell_type": "code",
   "execution_count": 527,
   "id": "17f1fc4a",
   "metadata": {},
   "outputs": [],
   "source": [
    "new_data.replace(\"Βέλγιο\", \"Belgique\", inplace = True, regex = True)"
   ]
  },
  {
   "cell_type": "code",
   "execution_count": 528,
   "id": "0e333f8c",
   "metadata": {},
   "outputs": [],
   "source": [
    "new_data.replace(\"Ισπανία\", \"Espagne\", inplace = True, regex = True)"
   ]
  },
  {
   "cell_type": "code",
   "execution_count": 529,
   "id": "2544cc66",
   "metadata": {},
   "outputs": [],
   "source": [
    "new_data.replace(\"Ελβετία\", \"Suisse\", inplace = True, regex = True)"
   ]
  },
  {
   "cell_type": "code",
   "execution_count": 530,
   "id": "28993dd2",
   "metadata": {},
   "outputs": [],
   "source": [
    "new_data.replace(\"en:CK\", \"Îles Cook\", inplace = True, regex = True)"
   ]
  },
  {
   "cell_type": "code",
   "execution_count": 531,
   "id": "d79afaf9",
   "metadata": {},
   "outputs": [],
   "source": [
    "new_data.replace(\"en:SV\", \"Salvador\", inplace = True, regex = True)"
   ]
  },
  {
   "cell_type": "code",
   "execution_count": 532,
   "id": "16a70ff7",
   "metadata": {},
   "outputs": [],
   "source": [
    "new_data.replace(\"Vereinigte Arabische Emirate\", \"Emirats arabes unis\", inplace = True, regex = True)"
   ]
  },
  {
   "cell_type": "code",
   "execution_count": 533,
   "id": "5af54d08",
   "metadata": {},
   "outputs": [],
   "source": [
    "new_data.replace(\"Espanya\", \"Espagne\", inplace = True, regex = True)"
   ]
  },
  {
   "cell_type": "code",
   "execution_count": 534,
   "id": "03a25144",
   "metadata": {},
   "outputs": [],
   "source": [
    "new_data.replace(\"Espana\", \"Espagne\", inplace = True, regex = True)"
   ]
  },
  {
   "cell_type": "code",
   "execution_count": 535,
   "id": "81f0b9b5",
   "metadata": {},
   "outputs": [],
   "source": [
    "new_data.replace(\"Slovensko\", \"Slovaquie\", inplace = True, regex = True)"
   ]
  },
  {
   "cell_type": "code",
   "execution_count": 536,
   "id": "ebbd633f",
   "metadata": {},
   "outputs": [],
   "source": [
    "new_data.replace(\"Kuwait\", \"Koweit\", inplace = True, regex = True)"
   ]
  },
  {
   "cell_type": "code",
   "execution_count": 537,
   "id": "d25fb6c7",
   "metadata": {},
   "outputs": [],
   "source": [
    "new_data.replace(\"Repubblica Ceca\", \"République Tchèque\", inplace = True, regex = True)"
   ]
  },
  {
   "cell_type": "code",
   "execution_count": 538,
   "id": "6b3d4722",
   "metadata": {},
   "outputs": [],
   "source": [
    "new_data.replace(\"Босна и Херцеговина\", \"Bosnie Herzégovine\", inplace = True, regex = True)"
   ]
  },
  {
   "cell_type": "code",
   "execution_count": 539,
   "id": "f2889c00",
   "metadata": {},
   "outputs": [],
   "source": [
    "new_data.replace(\"Хрватска\", \"Croatie\", inplace = True, regex = True)"
   ]
  },
  {
   "cell_type": "code",
   "execution_count": 540,
   "id": "9d3b0c41",
   "metadata": {},
   "outputs": [],
   "source": [
    "new_data.replace(\"Република Македонија\", \"Macédoine\", inplace = True, regex = True)"
   ]
  },
  {
   "cell_type": "code",
   "execution_count": 541,
   "id": "7249509d",
   "metadata": {},
   "outputs": [],
   "source": [
    "new_data.replace(\"Словенија\", \"Slovenie\", inplace = True, regex = True)"
   ]
  },
  {
   "cell_type": "code",
   "execution_count": 542,
   "id": "44424fba",
   "metadata": {},
   "outputs": [],
   "source": [
    "new_data.replace(\"ZélanAllemagne\", \"Nouvelle Zélande, Allemagne\", inplace = True, regex = True)\n",
    " \n",
    " "
   ]
  },
  {
   "cell_type": "code",
   "execution_count": 543,
   "id": "214e2840",
   "metadata": {},
   "outputs": [
    {
     "data": {
      "text/plain": [
       "['France',\n",
       " 'États-Unis',\n",
       " 'Grande Bretagne, Allemagne',\n",
       " 'France, États-Unis',\n",
       " 'Canada',\n",
       " 'Royaume-Uni',\n",
       " 'Suisse',\n",
       " 'Espagne',\n",
       " 'Allemagne',\n",
       " 'Slovenie',\n",
       " 'Italie',\n",
       " 'Roumanie',\n",
       " 'Australie',\n",
       " 'Portugal',\n",
       " 'France,Royaume-Uni',\n",
       " 'Royaume-Uni,France',\n",
       " 'France,Belgique,Pays-Bas,Royaume-Uni',\n",
       " 'Guadeloupe, Allemagne',\n",
       " nan,\n",
       " 'États-Unis,Royaume-Uni',\n",
       " 'Canada, États-Unis',\n",
       " 'Pays-Bas',\n",
       " 'Australie, France',\n",
       " 'France,Suisse,États-Unis,Canada',\n",
       " 'États-Unis, France, États-Unis',\n",
       " 'Irlande, Allemagne',\n",
       " 'Royaume-Uni, États-Unis',\n",
       " 'Réunion, France',\n",
       " 'États-Unis, France',\n",
       " 'Taiwan',\n",
       " 'Australie, Suisse',\n",
       " 'Allemagne, France',\n",
       " 'Brésil',\n",
       " 'Belgique,France',\n",
       " 'République Dominicaine',\n",
       " 'Belgique,France,Pays-Bas,Royaume-Uni',\n",
       " 'France,États-Unis',\n",
       " 'Australie, États-Unis',\n",
       " 'Arabie Saoudite',\n",
       " 'Emirats arabes unis',\n",
       " 'Irak',\n",
       " 'Koweït',\n",
       " 'Moldavie',\n",
       " 'Belgique',\n",
       " 'Nouvelle-Calédonie',\n",
       " 'Singapour',\n",
       " 'Finlande, Allemagne',\n",
       " 'France, Suisse',\n",
       " 'Singapour,Nouvelle Zélande, Allemagne,Thaïlande,Australie, États-Unis',\n",
       " 'Polynésie française',\n",
       " 'Panama',\n",
       " 'Costa Rica',\n",
       " 'Mexique',\n",
       " 'Grande Bretagne, Allemagne, États-Unis',\n",
       " 'Pays-Bas, États-Unis',\n",
       " 'Espagne,Royaume-Uni,Ecosse',\n",
       " 'Polynésie française, États-Unis',\n",
       " 'Thaïlande, Allemagne',\n",
       " 'Chine',\n",
       " 'United states',\n",
       " 'Thaïlande',\n",
       " 'Luxembourg',\n",
       " 'Liban',\n",
       " 'États-Unis,Suisse',\n",
       " 'Allemagne,États-Unis',\n",
       " 'États-Unis,Allemagne',\n",
       " 'France,États-Unis,Suisse',\n",
       " 'Belgique,États-Unis,Suisse',\n",
       " 'Suisse,États-Unis',\n",
       " 'Espagne,Danemark, États-Unis',\n",
       " 'Belgique,Pays-Bas, États-Unis',\n",
       " 'Belgique, Suisse',\n",
       " 'France,Allemagne',\n",
       " 'Malaysie, États-Unis',\n",
       " 'Guyane, États-Unis',\n",
       " 'Etats-Unis',\n",
       " 'Serbie',\n",
       " 'Martinique',\n",
       " 'Barbades, Allemagne',\n",
       " 'Aruba',\n",
       " 'Hong Kong',\n",
       " 'Norvège',\n",
       " 'Haïti',\n",
       " 'Salvador',\n",
       " 'Bahreïn, États-Unis',\n",
       " 'France,Italie',\n",
       " 'Taiwan, États-Unis',\n",
       " 'Royaume-Uni, France',\n",
       " 'Belgique, France',\n",
       " 'Réunion',\n",
       " 'Maroc',\n",
       " 'Oman',\n",
       " 'Corée du Sud',\n",
       " 'Trinité et Tobago',\n",
       " 'Chili',\n",
       " 'Cuba',\n",
       " 'France,Royaume-Uni,États-Unis',\n",
       " 'États-Unis, France, Suisse',\n",
       " 'Italie, États-Unis',\n",
       " 'France,Suisse',\n",
       " 'Royaume-Uni, Suisse',\n",
       " 'Philippines',\n",
       " 'Suisse, États-Unis',\n",
       " 'Espagne, États-Unis',\n",
       " 'Panama, États-Unis',\n",
       " 'Canada,États-Unis',\n",
       " 'Australie,France,Royaume-Uni',\n",
       " 'France,Royaume-Uni, États-Unis',\n",
       " 'France,Belgique,Royaume-Uni,Pays-Bas',\n",
       " 'Autriche',\n",
       " 'Suède, Allemagne',\n",
       " 'Guinée',\n",
       " 'Royaume-Uni,France,États-Unis',\n",
       " 'États-Unis of America',\n",
       " 'Costa Rica, États-Unis',\n",
       " 'Israël, États-Unis',\n",
       " 'Chine,Suisse',\n",
       " 'Russie',\n",
       " 'Saint-Pierre-et-Miquelon',\n",
       " 'Canada, France',\n",
       " 'Algérie',\n",
       " 'République Tchèque',\n",
       " 'France,Canada',\n",
       " 'Canada,France',\n",
       " 'Canada, Canada',\n",
       " 'Canada, France, Suisse',\n",
       " 'Belgique,Canada,France,Suisse',\n",
       " 'Royaume-Uni,République Tchèque',\n",
       " 'France,Saint-Pierre-et-Miquelon',\n",
       " 'Canada,Portugal',\n",
       " 'Allemagne,Suisse',\n",
       " 'France,Russie,Espagne,Grande Bretagne, Allemagne',\n",
       " 'Île Île Maurice',\n",
       " 'Indonésie',\n",
       " 'Arménie',\n",
       " 'France,Royaume-Uni, Suisse',\n",
       " 'France,Nouvelle Zélande, Allemagne',\n",
       " \"Côte-d'Ivoire\",\n",
       " 'Chine, Suisse',\n",
       " 'Autriche, Suisse',\n",
       " 'Pologne',\n",
       " 'États-Unis,Canada',\n",
       " 'Belgique,France,Royaume-Uni,Pays-Bas',\n",
       " 'France,Suisse,États-Unis',\n",
       " 'Grèce',\n",
       " 'Mexique, États-Unis',\n",
       " 'Royaume-Uni,Espagne',\n",
       " 'États-Unis, Inde, Allemagne, Royaume-Uni',\n",
       " 'Royaume-Uni,France,Belgique',\n",
       " 'Singapour, États-Unis',\n",
       " 'Inde, Allemagne',\n",
       " 'Equateur',\n",
       " 'Turquie',\n",
       " 'Cambodge',\n",
       " 'France,Australie',\n",
       " 'États-Unis, États-Unis',\n",
       " 'Chili, États-Unis',\n",
       " 'Nouvelle-Calédonie, États-Unis',\n",
       " 'Hong Kong, États-Unis',\n",
       " 'Canada,France,États-Unis',\n",
       " 'Belgique,France,Royaume-Uni',\n",
       " 'Grèce, États-Unis',\n",
       " 'Argentine',\n",
       " 'France,Pays-Bas',\n",
       " 'France,Pays-Bas,Royaume-Uni',\n",
       " 'République Tchèque,Royaume-Uni',\n",
       " 'Union Européenne',\n",
       " 'Jordanie',\n",
       " 'Australie,Indonesie,États-Unis',\n",
       " 'Australie,Indonesie',\n",
       " 'Hong Kong,美国',\n",
       " 'Japon',\n",
       " 'Israël',\n",
       " 'France,Royaume-Uni,Pays-Bas',\n",
       " 'France,Belgique,Royaume-Uni',\n",
       " 'Colombie',\n",
       " 'Italie, France',\n",
       " 'États-Unis,Royaume-Uni,Royaume-Uni',\n",
       " 'Burundi',\n",
       " 'Quatar, France',\n",
       " 'Tunisie',\n",
       " 'Danemark,Norvège,Suède, Allemagne',\n",
       " 'Danemark',\n",
       " 'Algérie, France',\n",
       " 'France,Guyane',\n",
       " 'Belgique,France,Pays-Bas',\n",
       " 'Bulgarie',\n",
       " 'Hongrie',\n",
       " 'Australie,États-Unis',\n",
       " 'Pérou',\n",
       " 'Tunisie, France',\n",
       " 'Porto Rico',\n",
       " 'France,Belgique, Suisse',\n",
       " 'Belgique,France, Suisse',\n",
       " 'Suisse,Belgique, France',\n",
       " 'Belgique,États-Unis',\n",
       " 'Monaco',\n",
       " 'Nigéria',\n",
       " 'Guyane',\n",
       " 'Honduras',\n",
       " 'Saint-Pierre-et-Miquelon, France, Belgique',\n",
       " 'Royaume-Uni,Chypre',\n",
       " 'Vénézuela',\n",
       " 'Antilles néerlandaises, France',\n",
       " 'Afrique du Sud',\n",
       " 'Autriche, États-Unis',\n",
       " 'Australie,Philippines',\n",
       " 'Espagne, Suisse',\n",
       " 'France,Japon',\n",
       " \"Côte-d'Ivoire, États-Unis\",\n",
       " 'Mongolie',\n",
       " 'Birmanie',\n",
       " 'Inde, Allemagne, France',\n",
       " 'Bahreïn',\n",
       " 'France,Portugal,Royaume-Uni',\n",
       " 'France,Suriname,Royaume-Uni,Guadeloupe, Allemagne,Grèce,Guyane',\n",
       " 'Pakistan',\n",
       " 'Belgique, États-Unis',\n",
       " 'Qatar',\n",
       " 'Chili,France,Espagne,Suisse,Royaume-Uni',\n",
       " 'CANADA',\n",
       " 'Belgique,France,États-Unis',\n",
       " 'France,Belgique',\n",
       " 'Cameroun',\n",
       " 'Îles Vierges, États-Unis, États-Unis',\n",
       " 'Royaume-Uni,États-Unis',\n",
       " 'Suisse, France',\n",
       " 'Danemark,Royaume-Uni,France',\n",
       " 'Royaume-Uni,Espagne,Portugal,Suède, Allemagne,Finlande, Allemagne',\n",
       " 'Slovaquie',\n",
       " 'Royaume-Uni,Lituanie',\n",
       " 'Japon, France',\n",
       " 'Royaume-Uni,Espagne,Portugal',\n",
       " 'nan Irlande, Allemagne',\n",
       " 'Sénégal',\n",
       " 'France,Sénégal',\n",
       " 'Sénégal, France',\n",
       " 'Luxembourg, France',\n",
       " 'Allemagne,Espagne',\n",
       " 'Togo',\n",
       " 'Islande, Allemagne',\n",
       " 'Allemagne,switzerland',\n",
       " 'Allemagne,Belgique',\n",
       " 'Belgique,Allemagne',\n",
       " 'Allemagne,belgique',\n",
       " 'Belgique,France,Allemagne,Suisse',\n",
       " 'Allemagne,Royaume-Uni,États-Unis',\n",
       " 'Allemagne,Pays-Bas,Autriche',\n",
       " 'Autriche,Allemagne,Pays-Bas',\n",
       " 'Egypte',\n",
       " 'Allemagne,Australie',\n",
       " 'Australie,Allemagne',\n",
       " 'République de Corée, Allemagne ',\n",
       " 'États-Unis,Espagne',\n",
       " 'Hongrie,Roumanie,Regatul Unit al Marii Britanii și al Irlande, Allemagnei Allemagne Nord',\n",
       " 'Allemagne, world',\n",
       " 'Royaume-Uni,France,Royaume-Uni',\n",
       " 'Royaume-Uni,France,Angleterre',\n",
       " 'Russie,Union Soviétique',\n",
       " 'world',\n",
       " 'Royaume-Uni, Ukraine,Colombie,République Tchèque,world',\n",
       " 'Danemark,France,Italie,Pays-Bas,Pologne,Portugal,Espagne',\n",
       " 'Pays du Golf,Arabie Saoudite',\n",
       " 'France,Chili',\n",
       " 'France,Allemagne,Espagne',\n",
       " 'France,Espagne',\n",
       " 'France,Allemagne,Roumanie,Royaume-Uni,Ecosse',\n",
       " 'Allemagne,Portugal,Espagne',\n",
       " 'Allemagne,Italie',\n",
       " 'Allemagne,Portugal',\n",
       " 'France,Allemagne,Suisse',\n",
       " 'Allemagne, États-Unis',\n",
       " 'Allemagne,France',\n",
       " 'France,Portugal,Espagne',\n",
       " 'Portugal,Allemagne,Royaume-Uni,Finlande, Allemagne,Suède, Allemagne,Danemark,Italie,Espagne',\n",
       " 'France,Maroc',\n",
       " 'France, Suisse, Réunion',\n",
       " 'République Tchèque,France',\n",
       " 'Ukraine',\n",
       " 'Portugal,Espagne',\n",
       " 'France,Portugal',\n",
       " 'Espagne, France',\n",
       " 'France,Allemagne,Italie',\n",
       " 'Ecosse,Royaume-Uni',\n",
       " 'France,Slovenie',\n",
       " 'Autriche, Espagne',\n",
       " 'France,Suède, Allemagne',\n",
       " 'Allemagne,Autriche',\n",
       " 'Belgique,France,Allemagne',\n",
       " 'portugal',\n",
       " 'Royaume-Uni,Ecosse, France',\n",
       " 'France,Allemagne,Italie,Suisse',\n",
       " 'Espagne,France',\n",
       " 'Espagne,Royaume-Uni',\n",
       " 'France,Royaume-Uni,Allemagne',\n",
       " 'Roumanie,Roumanie',\n",
       " 'Espagne,Allemagne',\n",
       " 'France,Allemagne,Portugal,Espagne',\n",
       " 'Autriche,République Tchèque,France,Allemagne',\n",
       " 'Allemagne,Royaume-Uni',\n",
       " 'Allemagne,Autriche,France',\n",
       " 'Allemagne,Espagne, France',\n",
       " 'Pays-Bas,France',\n",
       " 'France,Ecosse',\n",
       " 'Belgique,France,Allemagne,Italie,Pays-Bas,Portugal,Espagne',\n",
       " 'Suisse,Royaume-Uni',\n",
       " 'Autriche,France,Allemagne,Italie,Suisse',\n",
       " 'Belgique,France,Allemagne,Irlande, Allemagne,Pays-Bas,Portugal,Espagne,Royaume-Uni',\n",
       " 'Albanie',\n",
       " 'France,Allemagne,Royaume-Uni',\n",
       " 'Nigeria',\n",
       " 'Pologne,Royaume-Uni',\n",
       " 'Belgique,France,Allemagne,Italie,Pays-Bas',\n",
       " 'France,Italie,Suisse',\n",
       " 'Royaume-Uni,Ecosse',\n",
       " 'France,Pays-Bas,Allemagne,Espagne',\n",
       " 'France,France',\n",
       " 'Irlande, Allemagne,Royaume-Uni, France',\n",
       " 'Malte',\n",
       " 'Croatie',\n",
       " 'Belgique,France,Allemagne,Pays-Bas,Portugal,Espagne',\n",
       " 'Irlande, Allemagne, France',\n",
       " 'Belgique,République Tchèque, France',\n",
       " 'France, Belgique',\n",
       " 'France,Suisse,Allemagne',\n",
       " 'Suisse,États-Unis, France',\n",
       " 'Portugal,Espagne,Royaume-Uni',\n",
       " 'Danemark,Pologne,Portugal,Espagne',\n",
       " 'Belgique,Pays-Bas',\n",
       " 'Suisse,Autriche',\n",
       " 'Portugal,Suède, Allemagne',\n",
       " 'Australie,France',\n",
       " 'Pays-Bas, France',\n",
       " 'Belgique,Luxembourg',\n",
       " 'République Tchèque,Allemagne',\n",
       " 'Malawi',\n",
       " 'France,Guadeloupe, Allemagne',\n",
       " 'Nouvelle-Calédonie, France',\n",
       " 'Portugal, France',\n",
       " 'Guyane, France',\n",
       " 'Saint-Pierre-et-Miquelon, France',\n",
       " 'France, Suisse, Brésil, en:canada, Belgique',\n",
       " 'Belgique,France,Italie,Maroc,Suisse,Royaume-Uni',\n",
       " 'France, Suisse, Belgique',\n",
       " 'Algérie,Belgique,Canada,France,Polynésie française,Allemagne,Irlande, Allemagne,Italie,Liban,Luxembourg,Mali,Martinique,Maroc,Pays-Bas,Nouvelle-Calédonie,Portugal,Réunion,Espagne,Suisse,Tunisie,Royaume-Uni,États-Unis',\n",
       " 'Belgique,France,Suisse, Allemagne',\n",
       " 'Algérie,Belgique,Canada,France,Allemagne,Italie,Mali,Martinique,Espagne,Suisse',\n",
       " 'France, Belgique, Suisse',\n",
       " 'France, Danemark, Suisse, Belgique',\n",
       " 'Guadeloupe, Allemagne, France',\n",
       " 'Polynésie française, Suisse',\n",
       " 'France, Belgique, Suisse, Réunion',\n",
       " 'France,Monaco, Suisse',\n",
       " 'Belgique,France,Réunion,Suisse',\n",
       " 'France,Réunion',\n",
       " 'Belgique,France,Polynésie française,Martinique,Suisse',\n",
       " 'Gabon',\n",
       " 'Guadeloupe, Allemagne,France',\n",
       " 'France,Saint-Pierre-et-Miquelon,Suisse',\n",
       " 'France, Réunion, Suisse',\n",
       " 'France,Allemagne, Suisse',\n",
       " 'Danemark,France',\n",
       " 'Kazakhstan',\n",
       " 'Belgique,France,Suisse',\n",
       " 'Suisse,France',\n",
       " 'France,Belgique,Luxembourg',\n",
       " 'France,Luxembourg',\n",
       " 'Guyane,France',\n",
       " 'Mali,France',\n",
       " 'France,Gabon',\n",
       " 'Belgique,France,Espagne,Suisse',\n",
       " 'Royaume-Uni,France, Danemark, Suisse',\n",
       " 'Allemagne, Suisse',\n",
       " 'République du Congo',\n",
       " 'France,Allemagne,Portugal,Suisse',\n",
       " 'France,Espagne, Suisse',\n",
       " 'Malaysie',\n",
       " 'Autriche,France,Allemagne,Italie,Pays-Bas,Suisse',\n",
       " 'France,Tunisie',\n",
       " 'Danemark,France,Portugal,Espagne,Grande Bretagne, Allemagne,Hongrie, Suisse',\n",
       " 'Danemark,France,Allemagne,Portugal,Espagne,Grande Bretagne, Allemagne,Hongrie, Suisse, Belgique',\n",
       " 'Danemark,Suisse,Grande Bretagne, Allemagne,Hongrie, France, Suisse',\n",
       " 'Danemark,France,Royaume-Uni',\n",
       " 'Suisse,Royaume-Uni,France, Danemark, Belgique',\n",
       " 'France,Allemagne,Île Île Maurice,Espagne,Royaume-Uni',\n",
       " 'Danemark,France,Espagne, Suisse',\n",
       " 'Emirats arabes unis, Suisse',\n",
       " 'Belgique,France,Guyane',\n",
       " 'France, Réunion',\n",
       " 'Belgique,France,Mali,Réunion,Suisse,Royaume-Uni',\n",
       " 'Belgique, France, Suisse',\n",
       " 'Royaume-Uni, France, Suisse',\n",
       " 'France,Russie',\n",
       " 'France, Suisse, Belgique, Royaume-Uni',\n",
       " 'France,Pays-Bas,Suisse',\n",
       " 'France, Suisse, Belgique, Réunion, Maroc',\n",
       " 'Suisse,France, Belgique, Maroc, Espagne',\n",
       " 'Portugal, Danemark',\n",
       " 'France,Suisse, Belgique',\n",
       " 'Italie, Suisse',\n",
       " 'Espagne, Danemark, Suisse',\n",
       " 'France,France,France,France',\n",
       " 'France,Portugal, Suisse, Belgique',\n",
       " 'France, Allemagne',\n",
       " 'France,Monaco',\n",
       " 'France,Royaume-Uni, Danemark, Suisse',\n",
       " 'Belgique,France,Allemagne,Italie,Pays-Bas,Portugal,Espagne,Suisse,Royaume-Uni',\n",
       " 'Polynésie',\n",
       " 'Iran',\n",
       " 'Grande Bretagne, Allemagne, France',\n",
       " 'France, Suisse, Belgique, Maroc',\n",
       " 'Martinique,France',\n",
       " 'Guadeloupe, Allemagne,Martinique,Guyane, France',\n",
       " 'France,Allemagne, États-Unis',\n",
       " 'Réunion, France, Suisse',\n",
       " 'France,Martinique',\n",
       " 'Danemark, Suisse',\n",
       " 'Pologne, Suisse',\n",
       " 'France, Sénégal',\n",
       " 'France,Nouvelle-Calédonie',\n",
       " 'Nouvelle Calédonie,France',\n",
       " 'France,Guadeloupe, Allemagne, Suisse',\n",
       " 'Allemagne, Danemark',\n",
       " 'Saint-Martin',\n",
       " 'France,Suisse,Royaume-Uni',\n",
       " 'Belgique,Danemark,France,Allemagne',\n",
       " 'Maroc,France',\n",
       " 'Danemark,Royaume-Uni, France',\n",
       " 'France,Espagne,Allemagne, Suisse',\n",
       " 'Danemark,Royaume-Uni',\n",
       " 'Suède, Allemagne, France',\n",
       " 'France, Guyane',\n",
       " 'France,Vanuatu',\n",
       " 'France,Grèce,Espagne, Belgique',\n",
       " 'Belgique,France,Espagne',\n",
       " 'France, Espagne',\n",
       " 'France,guaAllemagneloupe',\n",
       " 'Danemark,France, Suisse',\n",
       " 'France, Danemark, Suisse',\n",
       " 'Belgique,France,Portugal',\n",
       " 'Saint-Pierre-et-Miquelon,France',\n",
       " 'France,Portugal,Belgique',\n",
       " 'Belgique,France,Pologne,Portugal',\n",
       " 'France, Algérie',\n",
       " 'Nouvelle Calédonie',\n",
       " 'Jordan',\n",
       " 'France,Italie,Portugal,Espagne',\n",
       " 'Belgique,France,Luxembourg',\n",
       " 'France,Cora',\n",
       " 'Canada,France,Grèce,Pays-Bas,Espagne,Royaume-Uni,États-Unis',\n",
       " 'Guadeloupe, Allemagne,martinique',\n",
       " 'France,Portugal,Espagne,Royaume-Uni',\n",
       " 'France,Espagne,Royaume-Uni',\n",
       " 'Mayotte',\n",
       " 'Belgique,France,Mali,Suisse,Royaume-Uni',\n",
       " 'France,Belgique,Pays-Bas',\n",
       " 'France,Belgique,Espagne',\n",
       " 'Belgique,France,Allemagne, Suisse',\n",
       " 'France,Pays-Bas,Suisse, Belgique',\n",
       " 'Espagne,Suisse',\n",
       " 'Belgique,France,Italie,Luxembourg,Mali,Martinique,Suisse',\n",
       " 'France,Belgique,Pays-Bas,Allemagne',\n",
       " 'Guadeloupe, Allemagne,Martinique',\n",
       " 'Guadeloupe, Allemagne,Martinique,Guyane',\n",
       " 'Martinique,Guyane,Guadeloupe, Allemagne',\n",
       " 'Suisse,France,Belgique',\n",
       " 'Guyane,Guadeloupe, Allemagne,Martinique',\n",
       " 'Quatar',\n",
       " 'Guadeloupe, Allemagne,Martinique, France',\n",
       " 'Belgique,France,Allemagne,Italie,Pays-Bas,Espagne,Royaume-Uni',\n",
       " 'Autriche,France',\n",
       " 'Belgique,France,Luxembourg,Suisse',\n",
       " 'France,Chine',\n",
       " 'Belgique,France,Allemagne,Italie,Pays-Bas,Royaume-Uni',\n",
       " 'Andorre',\n",
       " 'Danemark,France,Guadeloupe, Allemagne',\n",
       " 'France, Danemark',\n",
       " 'France,Italie,Espagne',\n",
       " 'France,Emirats arabes unis',\n",
       " 'Martinique, France',\n",
       " 'Wallis et Futuna',\n",
       " 'Espagne,France,Belgique',\n",
       " 'Belgique,France,Grèce',\n",
       " 'Guadeloupe, Allemagne, France, Belgique',\n",
       " 'Algérie,Belgique,Canada,France,Maroc,Suisse',\n",
       " 'France, Polynésie',\n",
       " 'France,Grèce,Espagne',\n",
       " 'France,Espagne, Polynésie',\n",
       " 'France,Grèce,Pays-Bas',\n",
       " 'France,Espagne,Portugal',\n",
       " 'France,Espagne,Italie,Portugal',\n",
       " 'France, Maroc',\n",
       " 'Espagne, France, Belgique',\n",
       " 'France,Estonie',\n",
       " 'Niger',\n",
       " 'France,Belgique,Allemagne',\n",
       " 'Luxembourg,France',\n",
       " 'Réunion,France',\n",
       " 'Belgique,France,Italie,Royaume-Uni',\n",
       " 'France,Italie,Pays-Bas,Royaume-Uni',\n",
       " 'Suisse,Belgique,France',\n",
       " 'Islande',\n",
       " 'Autriche,Danemark,France,Allemagne,Pays-Bas,Espagne,Suisse',\n",
       " 'Serbie,Suisse',\n",
       " 'Bosnie Herzégovine,Serbie',\n",
       " 'Bosnie Herzégovine',\n",
       " 'Belgique,France,Allemagne,Roumanie',\n",
       " 'Danemark,France,Allemagne',\n",
       " 'Australie,République Tchèque,France,Allemagne,Hongrie',\n",
       " 'Danemark,France,Allemagne,Russie,Espagne,Royaume-Uni',\n",
       " 'République Tchèque,Danemark,France,Allemagne',\n",
       " 'Danemark,Allemagne,France',\n",
       " 'Danemark,France,Allemagne,Inde, Allemagne',\n",
       " 'Arménie,France,Allemagne,Roumanie,Russland,Italie',\n",
       " 'Chine,France,Allemagne',\n",
       " 'France,Hongrie',\n",
       " 'Allemagne,Royaume-Uni,Espagne,Pays-Bas',\n",
       " 'Autriche,Allemagne',\n",
       " 'Grande Bretagne, Allemagne, Suisse',\n",
       " 'États-Unis, Suisse',\n",
       " 'Danemark,Royaume-Uni, Suisse',\n",
       " 'Danemark,Suisse,Royaume-Uni,Allemagne',\n",
       " 'Biélorussie',\n",
       " 'Chine,Allemagne',\n",
       " 'Australie,Belgique,France, Suisse',\n",
       " 'France,Suisse,Australie,Allemagne',\n",
       " 'France,Suisse,Australie,Pays-Bas,Allemagne',\n",
       " 'Allemagne,Pays-Bas',\n",
       " 'Allemagne,Suède, Allemagne',\n",
       " 'Biélorussieus,République Tchèque',\n",
       " 'Mauritanie',\n",
       " 'Portugal,Roumanie,Espagne',\n",
       " 'Allemagne,Luxembourg',\n",
       " 'Maroc, France',\n",
       " 'Allemagne,Allemagne',\n",
       " 'République Tchèque,France, Suisse',\n",
       " 'Hongrie, Suisse',\n",
       " 'Allemagne,Pologne',\n",
       " 'France,Russie, Suisse',\n",
       " 'Chypre',\n",
       " 'France,Roumanie',\n",
       " 'Suède',\n",
       " 'Allemagne,Hongrie',\n",
       " 'Autriche,République Tchèque,Allemagne',\n",
       " 'Luxembourg, France, Suisse',\n",
       " 'Danemark,Suisse,Allemagne,France',\n",
       " 'France,Arabie Saoudite,Allemagne, Suisse, Belgique',\n",
       " 'Danemark,France,Allemagne,Suisse',\n",
       " 'Suisse,Allemagne',\n",
       " 'Allemagne, Espagne',\n",
       " 'Luxembourg,Allemagne',\n",
       " 'Allemagne,Maroc',\n",
       " 'Vietnam',\n",
       " 'France,Allemagne,Grèce,Espagne',\n",
       " 'italia',\n",
       " 'Allemagne,Tunisie',\n",
       " 'Allemagne,Grèce',\n",
       " 'Azerbaïdjan',\n",
       " 'Luxembourg, Suisse',\n",
       " 'Lituanie',\n",
       " 'France, Inde, Allemagne',\n",
       " 'Belgique,France,world',\n",
       " 'Finlande, Allemagne,France,Grèce,Italie,Espagne,Suède, Allemagne',\n",
       " 'Australie,Suisse',\n",
       " 'Allemagne,Chine, Suisse',\n",
       " 'Belgique,France,Pologne,Suisse',\n",
       " 'Allemagne,France,Suède, Allemagne,Danemark',\n",
       " 'Allemagne,Danemark',\n",
       " 'France, Pays-Bas',\n",
       " 'Belgique,France,Allemagne,Pays-Bas',\n",
       " 'Japon,en:Japon',\n",
       " 'Finlande, Allemagne,France',\n",
       " 'Russie,Grande Bretagne, Allemagne',\n",
       " 'Tchad',\n",
       " 'Estonie',\n",
       " 'Lettonie',\n",
       " 'Lettonie,Lettonie',\n",
       " 'Lituanie,Suède, Allemagne',\n",
       " 'Sri Lanka',\n",
       " 'France,Sri Lanka',\n",
       " 'Biélorussieus',\n",
       " 'Biélorussie,Géorgie,Kazakhstan,Russie,Ukraine',\n",
       " 'Royaume-Uni, Ukraine',\n",
       " 'Géorgie,Russie',\n",
       " 'Singapour,thailand',\n",
       " 'Hong Kong,Japon',\n",
       " 'Allemagne,Japon',\n",
       " 'Japon,Japon, États-Unis',\n",
       " 'France,Belgique,Danemark',\n",
       " 'Royaume-Uni, Danemark',\n",
       " 'Italie,Suisse',\n",
       " 'Royaume-Uni,États-Unis,Suisse',\n",
       " 'Mozambique, France',\n",
       " 'Australie,Royaume-Uni,États-Unis',\n",
       " 'Union Européenne, États-Unis',\n",
       " 'Royaume-Uni, Danemark, Suisse',\n",
       " 'Algérie,Belgique,Égypte,France,Maroc,Qatar,Suisse,Tunisie,Emirats arabes unis',\n",
       " 'Australie,France, Suisse',\n",
       " 'Irlande, Allemagne,Royaume-Uni',\n",
       " 'Belgique,France,Allemagne,Italie,Maroc,Portugal,Serbie,Suisse',\n",
       " 'Belgique,Danemark,Luxembourg,Maroc,Portugal,Royaume-Uni,États-Unis,Allemagne,France,Suisse',\n",
       " 'France,Allemagne,Pays-Bas',\n",
       " 'Pays-Bas, Suisse',\n",
       " 'Royaume-Uni,Pays-Bas',\n",
       " 'Allemagne,Suisse,France',\n",
       " 'Danemark,France,Suisse',\n",
       " 'Indonesie',\n",
       " 'Libye',\n",
       " 'Belgique,France, États-Unis',\n",
       " 'Portugal,Royaume-Uni, France',\n",
       " 'Union Européenne, Suisse',\n",
       " 'Australie,Royaume-Uni',\n",
       " 'France,Suisse,République Tchèque',\n",
       " 'Autriche,France, Suisse',\n",
       " 'France,Allemagne,Pays-Bas,Royaume-Uni',\n",
       " 'Bosnie Herzégovine,Monténégro,Serbie',\n",
       " 'Monténégro,Serbie',\n",
       " 'Ecosse, Royaume-Uni',\n",
       " 'Pérou, États-Unis',\n",
       " 'France,Ecosse,Royaume-Uni',\n",
       " 'Allemagne,Suisse,Royaume-Uni',\n",
       " 'Portugal,France',\n",
       " 'Jersey',\n",
       " 'Danemark,Italie,Norvège,Portugal,Suède, Allemagne,Royaume-Uni',\n",
       " 'Autriche, France',\n",
       " 'France,Royaume-Uni,canada',\n",
       " 'Singapour, France',\n",
       " 'Espagne,Royaume-Uni, Suisse',\n",
       " 'Danemark,France, États-Unis',\n",
       " 'France,Espagne,Grèce,Allemagne,Belgique,Pays-Bas',\n",
       " 'France,Belgique,Grèce,Pays-Bas,Espagne',\n",
       " 'France,Belgique,Allemagne,Suisse,Autriche,Pays-Bas,Danemark,Suède, Allemagne',\n",
       " 'France, Suisse, Belgique, Italie, Réunion',\n",
       " 'Suède, Allemagne, France, Suisse, Belgique',\n",
       " 'France,Suisse,Finlande, Allemagne,Danemark,Italieans',\n",
       " 'Finlande, Allemagne,France,Allemagne,Irlande, Allemagne,Espagne,Suisse,Royaume-Uni,Estonie',\n",
       " 'Australie,France,Royaume-Uni,Ecosse',\n",
       " 'France,Italie,Royaume-Uni',\n",
       " 'Mexique,États-Unis',\n",
       " 'Israel',\n",
       " 'République Démocratique du Congo',\n",
       " 'France,Serbie',\n",
       " 'Serbie,Belgique',\n",
       " 'France,belgique',\n",
       " 'Ghana',\n",
       " 'France,Irlande, Allemagne',\n",
       " 'Guinée-Bissau',\n",
       " 'Belgique,France,Allemagne,Italie,Espagne',\n",
       " 'Italie,Belgique,Allemagne,France,Danemark,Pays-Bas,Suède, Allemagne,Norvège',\n",
       " 'Belgique,Danemark,France,Maroc,Suisse,Finlande, Allemagne,Suède, Allemagne,Espagne,Italie',\n",
       " 'Belgique,France,Maroc,Suisse',\n",
       " 'Danemark,France,Portugal, Suisse',\n",
       " 'France,Suisse, Danemark',\n",
       " 'France,Belgique,Suisse,Pays-Bas',\n",
       " 'France, Suisse, Belgique, Espagne',\n",
       " 'France, Suisse, Royaume-Uni',\n",
       " 'France,Allemagne,Italie,Norvège,Espagne,Suède, Allemagne,Royaume-Uni',\n",
       " 'Espagne, France, Suisse',\n",
       " 'Belgique,République Tchèque,Danemark,France,Allemagne,Italie,Pays-Bas,Nouvelle Zélande, Allemagne,Espagne,Suède, Allemagne,Royaume-Uni',\n",
       " 'Royaume-Uni, Danemark, France',\n",
       " 'Belgique,Portugal',\n",
       " 'Belgique,France,Italie,Espagne',\n",
       " 'Espagne,France, Suisse',\n",
       " 'Belgique, Danemark',\n",
       " 'Belgique,France,Italie,Pays-Bas,Espagne,Royaume-Uni',\n",
       " 'France,Belgique,Pays-Bas,Espagne,Italie,Allemagne,Hongrie',\n",
       " 'Allemagne, Belgique',\n",
       " 'Royaume-Uni, France, Belgique',\n",
       " 'Roumanie, Suisse',\n",
       " 'France,Allemagne,Autriche',\n",
       " 'Suisse,Belgique,Allemagne',\n",
       " 'France,Italie,Luxembourg,Pays-Bas,Espagne',\n",
       " 'Belgique,France,Pays-Bas,Espagne,Royaume-Uni',\n",
       " 'Belgique,France,Allemagne,Pays-Bas,Espagne,Suisse,Royaume-Uni',\n",
       " 'Belgique,France,Suisse,Allemagne,Hongrie',\n",
       " 'Belgique,France,Hongrie,Italie,Quebec',\n",
       " 'France,Royaume-Uni, Belgique, Suisse',\n",
       " 'Belgique,France,Russie',\n",
       " 'Belgique,France,Italie',\n",
       " 'Belgique,Canada,France',\n",
       " 'Belgique,Suisse',\n",
       " 'Central African Republic',\n",
       " 'Slovaquie,République Tchèque, Suisse',\n",
       " 'République Tchèque,France,Irak, Belgique, Suisse, Réunion',\n",
       " 'Algérie,Belgique,Brésil,Cameroon,Canada,France,Allemagne,Inde, Allemagne,Italie,Luxembourg,Mali,Martinique,Maroc,Pays-Bas,Nouvelle Calédonie,Portugal,Réunion,Arabie Saoudite,Sénégal,Espagne,Suisse,Royaume-Uni,États-Unis',\n",
       " 'Belgique,France,Espagne,Suisse,Royaume-Uni',\n",
       " 'France,Koweït, Belgique',\n",
       " 'France,Pologne',\n",
       " 'Belgique,France, Suisse, Espagne, Réunion',\n",
       " 'Danemark,France,Suisse,Royaume-Uni',\n",
       " 'Réunion, Suisse',\n",
       " 'Belgique,France,Serbie,Suisse',\n",
       " 'Autriche,Belgique,France',\n",
       " 'Qatar, France',\n",
       " 'Irak,Royaume-Uni, France',\n",
       " 'Algérie,Belgique,France,Allemagne,Guadeloupe, Allemagne,Italie,Liban,Luxembourg,Martinique,Maroc,Pays-Bas,Portugal,Réunion,Sénégal,Espagne,Suisse,Royaume-Uni',\n",
       " 'Belgique,France,Italie,Suisse',\n",
       " 'République Tchèque,France,Suisse',\n",
       " 'France,Royaume-Uni, Belgique',\n",
       " 'Portugal, France, Suisse',\n",
       " 'Portugal, Espagne',\n",
       " 'Portugal, Suisse',\n",
       " 'Brésil, Suisse',\n",
       " 'Angola',\n",
       " 'France,Allemagne,Portugal,Royaume-Uni',\n",
       " 'Portugal,Suisse,France',\n",
       " 'Suède, Allemagne, Danemark',\n",
       " 'Allemagne:France,Allemagne',\n",
       " 'Danemark,Allemagne',\n",
       " 'Danemark,Suède, Allemagne',\n",
       " 'Azerbaijan',\n",
       " 'البحرين',\n",
       " 'Russie, France',\n",
       " 'Pologne, France',\n",
       " 'Danemark,Finlande, Allemagne,France',\n",
       " 'Pologne,Wielka Brytania',\n",
       " 'Pologne,Grande Bretagne, Allemagne',\n",
       " 'Royaume-Uni,poland',\n",
       " 'Pologne,Pologne',\n",
       " 'Pologne,Pologne, France',\n",
       " 'Belgique,Danemark,France,Pologne',\n",
       " 'Irlande',\n",
       " 'Belgique,France,Italie,Espagne,Suisse,Royaume-Uni,Grèce',\n",
       " 'Pologne,Szczecin',\n",
       " 'Pologne,Szczecin, États-Unis',\n",
       " 'Szczecin,Pologne',\n",
       " 'États-Unis,Moldavie',\n",
       " 'Slovenie,Serbie,Monténégro',\n",
       " 'Franța,Roumanie',\n",
       " 'Hongrie,Serbie',\n",
       " 'Bulgarie,Cehia,Roumanie,Slovacia',\n",
       " 'Malawi, France',\n",
       " 'Burkina Faso',\n",
       " 'Mozambique',\n",
       " 'Kenya',\n",
       " 'Tanzania',\n",
       " 'Congo,Sénégal',\n",
       " 'Sénégal,Sénégal',\n",
       " 'France,Île Île Maurice',\n",
       " 'Île Maurice',\n",
       " 'France,Île Maurice',\n",
       " 'Rwanda',\n",
       " 'Gabon, France',\n",
       " \"Côte-d'Ivoire, France\",\n",
       " 'Tunisie,Tunisie',\n",
       " 'Tunisie,France',\n",
       " 'Brunei',\n",
       " 'Arabie saoudite',\n",
       " 'Qatar,Emirats arabes unis,Arabie Saoudite',\n",
       " 'Arabie Saoudite,Emirats arabes unis,Qatar',\n",
       " 'Somalie',\n",
       " 'qatar,yemen,syria,lebanon,Tunisie',\n",
       " 'Oman,Qatar',\n",
       " 'Emirats Arabes Unis',\n",
       " 'Chine, France',\n",
       " 'Vanuatu',\n",
       " 'en:Chine',\n",
       " 'France,Norvège',\n",
       " 'Grèce,Israël',\n",
       " 'Israel, France',\n",
       " 'France, Suisse, Belgique, Réunion',\n",
       " 'Danemark,Allemagne,Norvège,Suède, Allemagne',\n",
       " 'Suède, Allemagne,Suède',\n",
       " 'France,Finlande, Allemagne,Allemagne,Pays-Bas,Norvège,Espagne,Suède, Allemagne,Royaume-Uni',\n",
       " 'France,Guadeloupe, Allemagne,Italie,Pays-Bas,Norvège,Suède, Allemagne,Suisse,Royaume-Uni',\n",
       " 'Guatemala',\n",
       " 'Mexique, France',\n",
       " 'France,Pays-Bas, Suisse',\n",
       " 'Venezuela',\n",
       " 'France,Guadeloupe, Allemagne,Suisse',\n",
       " 'Algérie, Suisse',\n",
       " 'Suisse, France, Belgique',\n",
       " 'Suisse,France, Allemagne',\n",
       " 'Allemagne,Suisse, France',\n",
       " 'France,Danemark',\n",
       " 'Roumanie, France',\n",
       " 'Allemagne, France, Espagne',\n",
       " 'Danemark, France',\n",
       " 'République centrafricaine,France',\n",
       " 'Portugal, France, Belgique, Espagne',\n",
       " 'Serbie,Croatie,Monténégro',\n",
       " 'Suisse,France, Belgique',\n",
       " 'France,Australie, Suisse',\n",
       " 'France,Andorre',\n",
       " 'République Tchèque, France',\n",
       " 'France, Belgique, Suisse, Maroc',\n",
       " 'Croatie,Monténégro,Serbie,Slovenie',\n",
       " 'Bosnie Herzégovine,Macédoine,Serbie,Monténégro',\n",
       " 'Bulgarie,France',\n",
       " 'Andorra',\n",
       " 'France,Allemagne,Suisse,Tunisie',\n",
       " 'Italie,Pays-Bas,Portugal,Espagne',\n",
       " 'Croatie,Serbie,Slovenie',\n",
       " 'Allemagne, Danemark, France',\n",
       " 'Danemark,France,Suisse,Belgique,Espagne,Suède, Allemagne,Finlande, Allemagne',\n",
       " 'Réunion,France, Suisse',\n",
       " 'Brésil, France',\n",
       " 'Belgique,Danemark,Finlande, Allemagne,France,Italie,Pays-Bas,Portugal,Espagne,Suède, Allemagne',\n",
       " 'Autriche,France,Royaume-Uni,Suisse',\n",
       " 'Uruguay',\n",
       " 'Paraguay',\n",
       " 'Argentine,France,Suisse',\n",
       " 'France,Argentine',\n",
       " 'Colombie,Chili',\n",
       " 'Argentine, en:saudi-arabia',\n",
       " 'Brésil,France',\n",
       " 'Albanie,Italie',\n",
       " 'Réunion, Danemark',\n",
       " 'Danemark,France,Allemagne, Suisse, Belgique',\n",
       " 'France, Suisse, Belgique, Maroc, Espagne',\n",
       " 'Belgique,France,Allemagne,Italie',\n",
       " 'Union Européenne, France',\n",
       " 'Inde',\n",
       " 'France,Belgique,Hongrie',\n",
       " 'Bulgarie,Allemagne,Irlande,Monténégro,Portugal,Roumanie,Serbie,Royaume-Uni',\n",
       " 'Danemark,France,Italie,Royaume-Uni, Suisse',\n",
       " 'Danemark,Italie,France',\n",
       " 'France, Suisse, Belgique, en:luxembourg',\n",
       " 'République Tchèque,Allemagne, Suisse',\n",
       " 'Danemark,France,Suisse,Allemagne',\n",
       " 'Croatie,Portugal, France',\n",
       " 'France, Belgique, Suisse, Italie',\n",
       " 'Albanie,Italie, Danemark',\n",
       " 'Italie,Roumanie',\n",
       " 'Belgique,Italie',\n",
       " 'Tanzanie',\n",
       " 'Georgie',\n",
       " 'France, Italie',\n",
       " 'Italie,Monaco,France',\n",
       " 'Italie,Espagne',\n",
       " 'France,Allemagne,Grèce,Suède, Allemagne,Royaume-Uni',\n",
       " 'Belgique, Danemark, France',\n",
       " 'Danemark,Finlande,France,Allemagne,Hongrie,Italie,Pays-Bas,Norvège,Portugal,Russie,Slovenie,Espagne,Suède,Grande Bretagne, Allemagne',\n",
       " 'France,Italie,Espagne, Suisse',\n",
       " 'Danemark,Allemagne, Suisse',\n",
       " 'Belgique,Suisse,France,Allemagne',\n",
       " 'Italie, Danemark',\n",
       " 'Belgique,France,Hongrie,Suisse,Royaume-Uni',\n",
       " 'Hongrie,Espagne',\n",
       " 'Guadeloupe, Allemagne,Hongrie,Slovenie,Royaume-Uni, France',\n",
       " 'Chine,Danemark,France,Suède, Espagne',\n",
       " 'Italie,Lituanie',\n",
       " 'Algérie,France',\n",
       " 'Portugal,Espagne, France',\n",
       " 'République Tchèque,Itálie',\n",
       " 'Ethiopie',\n",
       " 'Italie,Espagne,Suisse',\n",
       " 'République Tchèque, Suisse',\n",
       " 'France,Italie,Pays-Bas',\n",
       " 'Belgique,France,Italie, Suisse',\n",
       " 'Nouvelle Zélande, Allemagne, France, Suisse',\n",
       " 'France,Serbie,Italie,Espagne',\n",
       " 'Belgique,France,Espagne,Suisse,Grèce',\n",
       " 'Suisse,Italie',\n",
       " 'France, Suisse, Italie',\n",
       " 'France, Suisse, Espagne',\n",
       " 'Italie, France, Suisse',\n",
       " 'France,en:Allemagne, Suisse',\n",
       " 'Îles Cook',\n",
       " 'Belgique, Canada, Danemark, France, Allemagne, Maroc, Espagne, Suisse',\n",
       " 'France,Polynésie française',\n",
       " 'Allemagne,Emirats arabes unis',\n",
       " 'Andorra,Espagne',\n",
       " 'Portugal,Espagne,France,Royaume-Uni,Italie,Allemagne,Roumanie,Grécia',\n",
       " 'Espagne,États-Unis',\n",
       " 'Danemark,Espagne',\n",
       " 'Autriche,France,Allemagne,Maroc,Pays-Bas,Royaume-Uni',\n",
       " 'Suisse,Espagne',\n",
       " 'Belgique,France,Espagne, Suisse',\n",
       " 'Rusia',\n",
       " 'Maroc,Espagne',\n",
       " 'Espagne,Portugal',\n",
       " 'Portugal,Espagne,France',\n",
       " 'Portugal, Danemark, Suisse',\n",
       " 'Cuba, Suisse',\n",
       " 'République Tchèque,Hongrie,Slovaquie',\n",
       " 'France,Slovaquie,République Tchèque,Afrique du Sud,Grèce,Corée du Sud,Koweit,Pologne,Maldives,Chine',\n",
       " 'France,République Tchèque',\n",
       " 'Croatie,Hongrie,Serbie',\n",
       " 'Royaume-Uni,Allemagne',\n",
       " 'Hongrie,Suisse,Serbie',\n",
       " 'République Tchèque,Suisse',\n",
       " 'Macédoine,Serbie',\n",
       " 'Bosnie Herzégovine,Monténégro,Macédoine,Serbie',\n",
       " 'Bosnie Herzégovine,Croatie,Macédoine,Serbie,Slovenie',\n",
       " 'Bosnie Herzégovine,Croatie,Monténégro,Serbie',\n",
       " 'Bosnie Herzégovine,Croatie,Monténégro,Macédoine,Serbie',\n",
       " 'Bosnie Herzégovine,Croatie,Macédoine,Serbie',\n",
       " 'Allemagne,Turquie',\n",
       " 'Mozambique, Suisse',\n",
       " 'Emirats arabes unis, France',\n",
       " 'Belgique,Danemark, France',\n",
       " 'Pays-Bas,en:Pays-Bas',\n",
       " 'Nouvelle Zélande, Allemagne',\n",
       " 'Belgique,Espagne',\n",
       " 'France,Pays-Bas,Espagne,Royaume-Uni',\n",
       " 'Allemagne,Grèce,Espagne',\n",
       " 'Belgique,France,Martinique,Suisse',\n",
       " 'France,Grèce',\n",
       " 'Belgique,France,Pays-Bas,Suisse',\n",
       " 'France, en:guaAllemagneloupe',\n",
       " 'Autriche,Belgique,France,Allemagne,Pays-Bas,Suisse',\n",
       " 'Suisse,Allemagne,Autriche',\n",
       " 'France,Nouvelle-Nouvelle Zélande, Allemagne,Singapour',\n",
       " 'Danemark,Espagne,Allemagne, Suisse',\n",
       " 'Danemark,France,Belgique,Suède, Suisse',\n",
       " 'France,Suisse,Allemagne,Espagne',\n",
       " 'Danemark, France, Belgique, Suisse',\n",
       " 'Belgique,France,Nouvelle-Calédonie,Espagne,Suisse',\n",
       " 'Belgique,France,Serbie',\n",
       " 'Norge,Suède',\n",
       " 'Pays-Bas,Belgique,en:',\n",
       " 'Italie,Pays-Bas,Portugal',\n",
       " 'Pays-Bas,Pays-Bas',\n",
       " 'Belgique,Suisse,France,Pays-Bas,Allemagne,Suisse,Espagne,Portugal',\n",
       " 'Pays-Bas,Portugal, France',\n",
       " 'Canada,France,Allemagne,Royaume-Uni',\n",
       " 'Kazakhstan, États-Unis',\n",
       " 'Australie, Inde, Allemagne',\n",
       " 'ประเทศออสเตรเลีย,Thaïlande,สหราชอาณาจักร, États-Unis',\n",
       " 'Belgique,Chili',\n",
       " 'France,États-Unis, Suisse',\n",
       " 'France,Thaïlande,Royaume-Uni, Suisse',\n",
       " 'Cambodge,Thaïlande',\n",
       " 'Chine,France,Viêt Nam',\n",
       " 'France,Irlande, Allemagne,Royaume-Uni',\n",
       " 'Belgique,France,Allemagne, Danemark',\n",
       " 'France,Hongrie,Royaume-Uni',\n",
       " 'Royaume-Uni,Thaïlande',\n",
       " 'Việt Nam',\n",
       " 'پاکستان',\n",
       " 'indonésie',\n",
       " 'Croatie, France',\n",
       " 'Egypte,Royaume-Uni,États-Unis',\n",
       " 'Аустрија,Croatie,Естонија,Allemagne,Грчка,Италија,Холандија,Пољска,Serbie,Slovenie',\n",
       " 'Autriche,Allemagne,Espagne',\n",
       " 'nan the Congo',\n",
       " 'en:GT',\n",
       " 'France,Polynésie française,Nouvelle-Calédonie',\n",
       " 'en:NZ, France',\n",
       " 'Australie,Nouvelle Zélande, Allemagne',\n",
       " 'en:NZ',\n",
       " 'Nouvelle Zélande, Allemagne, France',\n",
       " 'Australie, France, Suisse, Belgique',\n",
       " 'Australie,Vanuatu',\n",
       " 'Polynésie française,France',\n",
       " 'বাংলাদেশ',\n",
       " 'Australie,Japon',\n",
       " 'Koweit',\n",
       " 'en:MV',\n",
       " 'Malaysia',\n",
       " 'Australie,Malaysia',\n",
       " 'Malaisie',\n",
       " 'Hong Kong, France',\n",
       " 'Hong Kong,Chine']"
      ]
     },
     "execution_count": 543,
     "metadata": {},
     "output_type": "execute_result"
    }
   ],
   "source": [
    "new_data['countries'].unique().tolist()"
   ]
  },
  {
   "cell_type": "code",
   "execution_count": 544,
   "id": "584fafbc",
   "metadata": {},
   "outputs": [],
   "source": [
    "new_data.replace(\"Île Île Maurice\", \"Île Maurice'\", inplace = True, regex = True)\n",
    " \n",
    " "
   ]
  },
  {
   "cell_type": "code",
   "execution_count": 545,
   "id": "253d55e5",
   "metadata": {},
   "outputs": [],
   "source": [
    "new_data.replace(\"CANADA\", \"Canada'\", inplace = True, regex = True)\n",
    " \n",
    " "
   ]
  },
  {
   "cell_type": "code",
   "execution_count": 546,
   "id": "0f68620f",
   "metadata": {},
   "outputs": [],
   "source": [
    "new_data.replace(\"Regatul Unit al Marii Britanii și al Irlande\", \"Royaume-Uni'\", inplace = True, regex = True)\n",
    " \n",
    " "
   ]
  },
  {
   "cell_type": "code",
   "execution_count": 547,
   "id": "e2ec14ff",
   "metadata": {},
   "outputs": [],
   "source": [
    "new_data.replace(\"Allemagnei Allemagne Nord\", \"Allemagne\", inplace = True, regex = True)\n",
    " \n",
    " "
   ]
  },
  {
   "cell_type": "code",
   "execution_count": 548,
   "id": "4747664b",
   "metadata": {},
   "outputs": [],
   "source": [
    "new_data.replace(\"portugal\", \"Portugal\", inplace = True, regex = True)\n",
    " \n",
    " "
   ]
  },
  {
   "cell_type": "code",
   "execution_count": 549,
   "id": "27a00259",
   "metadata": {},
   "outputs": [],
   "source": [
    "new_data.replace(\"Biélorussieus\", \"Biélorussie\", inplace = True, regex = True)"
   ]
  },
  {
   "cell_type": "code",
   "execution_count": 550,
   "id": "fd5b7439",
   "metadata": {},
   "outputs": [],
   "source": [
    "new_data.replace(\"italia\", \"Italie\", inplace = True, regex = True)"
   ]
  },
  {
   "cell_type": "code",
   "execution_count": 551,
   "id": "1bc6d423",
   "metadata": {},
   "outputs": [],
   "source": [
    "new_data.replace(\"thailand\", \"Thailande\", inplace = True, regex = True)"
   ]
  },
  {
   "cell_type": "code",
   "execution_count": 552,
   "id": "101e4ebc",
   "metadata": {},
   "outputs": [],
   "source": [
    "new_data.replace(\"Central African Republic\", \"Centrafrique\", inplace = True, regex = True)"
   ]
  },
  {
   "cell_type": "code",
   "execution_count": 553,
   "id": "a6ec7666",
   "metadata": {},
   "outputs": [],
   "source": [
    "new_data.replace(\"Allemagne:France\", \"Allemagne, France\", inplace = True, regex = True)"
   ]
  },
  {
   "cell_type": "code",
   "execution_count": 554,
   "id": "a77a5705",
   "metadata": {},
   "outputs": [],
   "source": [
    "new_data.replace(\"Wielka Brytania\", \"Grande Bretagne\", inplace = True, regex = True)"
   ]
  },
  {
   "cell_type": "code",
   "execution_count": 555,
   "id": "8978541f",
   "metadata": {},
   "outputs": [],
   "source": [
    "new_data.replace(\"Franța\", \"France\", inplace = True, regex = True)"
   ]
  },
  {
   "cell_type": "code",
   "execution_count": 556,
   "id": "b9d88d2c",
   "metadata": {},
   "outputs": [],
   "source": [
    "new_data.replace(\"Cehia\", \"République Tchèque\", inplace = True, regex = True)"
   ]
  },
  {
   "cell_type": "code",
   "execution_count": 557,
   "id": "eb4e4f77",
   "metadata": {},
   "outputs": [],
   "source": [
    "new_data.replace(\"Slovacia\", \"Slovaquie\", inplace = True, regex = True)"
   ]
  },
  {
   "cell_type": "code",
   "execution_count": 558,
   "id": "58550857",
   "metadata": {},
   "outputs": [],
   "source": [
    "new_data.replace(\"Tanzania\", \"Tanzanie\", inplace = True, regex = True)"
   ]
  },
  {
   "cell_type": "code",
   "execution_count": 559,
   "id": "9815570c",
   "metadata": {},
   "outputs": [],
   "source": [
    "new_data.replace(\"qatar\", \"Qatar\", inplace = True, regex = True)"
   ]
  },
  {
   "cell_type": "code",
   "execution_count": 560,
   "id": "5ce51cde",
   "metadata": {},
   "outputs": [],
   "source": [
    "new_data.replace(\"yemen\", \"Yemen\", inplace = True, regex = True)"
   ]
  },
  {
   "cell_type": "code",
   "execution_count": 561,
   "id": "42b214c5",
   "metadata": {},
   "outputs": [],
   "source": [
    "new_data.replace(\"syria\", \"Syrie\", inplace = True, regex = True)"
   ]
  },
  {
   "cell_type": "code",
   "execution_count": 562,
   "id": "17ca32d7",
   "metadata": {},
   "outputs": [],
   "source": [
    "new_data.replace(\"lebanon\", \"Liban\", inplace = True, regex = True)"
   ]
  },
  {
   "cell_type": "code",
   "execution_count": 563,
   "id": "4c6b6802",
   "metadata": {},
   "outputs": [],
   "source": [
    "new_data.replace(\"en:Chine\", \"Chine\", inplace = True, regex = True)"
   ]
  },
  {
   "cell_type": "code",
   "execution_count": 564,
   "id": "bd134165",
   "metadata": {},
   "outputs": [],
   "source": [
    "new_data.replace(\"en:luxembourg\", \"Luxembourg\", inplace = True, regex = True)"
   ]
  },
  {
   "cell_type": "code",
   "execution_count": 565,
   "id": "29ddbcdc",
   "metadata": {},
   "outputs": [],
   "source": [
    "new_data.replace(\"en:Allemagne\", \"Allemagne\", inplace = True, regex = True)"
   ]
  },
  {
   "cell_type": "code",
   "execution_count": 566,
   "id": "c8f12e85",
   "metadata": {},
   "outputs": [],
   "source": [
    "new_data.replace(\"Rusia\", \"Russie\", inplace = True, regex = True)"
   ]
  },
  {
   "cell_type": "code",
   "execution_count": 567,
   "id": "fe5f66df",
   "metadata": {},
   "outputs": [],
   "source": [
    "new_data.replace(\"en:Pays-Bas\", \"Pays-Bas\", inplace = True, regex = True)"
   ]
  },
  {
   "cell_type": "code",
   "execution_count": 568,
   "id": "2fc3a603",
   "metadata": {},
   "outputs": [],
   "source": [
    "new_data.replace(\"en:guaAllemagneloupe\", \"Guadeloupe, Allemagne\", inplace = True, regex = True)"
   ]
  },
  {
   "cell_type": "code",
   "execution_count": 569,
   "id": "6813f7de",
   "metadata": {},
   "outputs": [],
   "source": [
    "new_data.replace(\"en:Pays-Bas\", \"Pays-Bas\", inplace = True, regex = True)"
   ]
  },
  {
   "cell_type": "code",
   "execution_count": 570,
   "id": "0d5ff6ec",
   "metadata": {},
   "outputs": [],
   "source": [
    "new_data.replace(\"Nouvelle-Nouvelle Zélande\", \"Nouvelle Zélande\", inplace = True, regex = True)"
   ]
  },
  {
   "cell_type": "code",
   "execution_count": 571,
   "id": "08f913a1",
   "metadata": {},
   "outputs": [],
   "source": [
    "new_data.replace(\"ประเทศออสเตรเลีย\", \"Australie\", inplace = True, regex = True)"
   ]
  },
  {
   "cell_type": "code",
   "execution_count": 572,
   "id": "83f50cd8",
   "metadata": {},
   "outputs": [],
   "source": [
    "new_data.replace(\"สหราชอาณาจักร\", \"Royaume-Uni\", inplace = True, regex = True)"
   ]
  },
  {
   "cell_type": "code",
   "execution_count": 573,
   "id": "42467152",
   "metadata": {},
   "outputs": [],
   "source": [
    "new_data.replace(\"پاکستان\", \"Pakistan\", inplace = True, regex = True)"
   ]
  },
  {
   "cell_type": "code",
   "execution_count": 574,
   "id": "30357f4c",
   "metadata": {},
   "outputs": [],
   "source": [
    "new_data.replace(\"Аустрија\", \"Autriche\", inplace = True, regex = True)"
   ]
  },
  {
   "cell_type": "code",
   "execution_count": 575,
   "id": "a4c612ec",
   "metadata": {},
   "outputs": [],
   "source": [
    "new_data.replace(\"Естонија\", \"Estonie\", inplace = True, regex = True)"
   ]
  },
  {
   "cell_type": "code",
   "execution_count": 576,
   "id": "98599e33",
   "metadata": {},
   "outputs": [],
   "source": [
    "new_data.replace(\"Грчка\", \"Grèce\", inplace = True, regex = True)"
   ]
  },
  {
   "cell_type": "code",
   "execution_count": 577,
   "id": "6ad7377b",
   "metadata": {},
   "outputs": [],
   "source": [
    "new_data.replace(\"Италија\", \"Italie\", inplace = True, regex = True)"
   ]
  },
  {
   "cell_type": "code",
   "execution_count": 578,
   "id": "a4c408a6",
   "metadata": {},
   "outputs": [],
   "source": [
    "new_data.replace(\"Холандија\", \"Pays-Bas\", inplace = True, regex = True)"
   ]
  },
  {
   "cell_type": "code",
   "execution_count": 579,
   "id": "ed650b5c",
   "metadata": {},
   "outputs": [],
   "source": [
    "new_data.replace(\"Пољска\", \"Pologne\", inplace = True, regex = True)"
   ]
  },
  {
   "cell_type": "code",
   "execution_count": 580,
   "id": "fa7c6c3a",
   "metadata": {},
   "outputs": [],
   "source": [
    "new_data.replace(\"nan the Congo\", \"Congo\", inplace = True, regex = True)"
   ]
  },
  {
   "cell_type": "code",
   "execution_count": 581,
   "id": "ae5cc478",
   "metadata": {},
   "outputs": [],
   "source": [
    "new_data.replace(\"en:NZ\", \"Nouvelle Zélande \", inplace = True, regex = True)"
   ]
  },
  {
   "cell_type": "code",
   "execution_count": 582,
   "id": "92fb1ff9",
   "metadata": {},
   "outputs": [],
   "source": [
    "new_data.replace(\"বাংলাদেশ\", \"Bengladesh \", inplace = True, regex = True)"
   ]
  },
  {
   "cell_type": "code",
   "execution_count": 583,
   "id": "58515798",
   "metadata": {},
   "outputs": [],
   "source": [
    "new_data.replace(\"en:MV\", \"Maldives\", inplace = True, regex = True)"
   ]
  },
  {
   "cell_type": "code",
   "execution_count": 584,
   "id": "42224de3",
   "metadata": {},
   "outputs": [
    {
     "data": {
      "text/plain": [
       "['France',\n",
       " 'États-Unis',\n",
       " 'Grande Bretagne, Allemagne',\n",
       " 'France, États-Unis',\n",
       " 'Canada',\n",
       " 'Royaume-Uni',\n",
       " 'Suisse',\n",
       " 'Espagne',\n",
       " 'Allemagne',\n",
       " 'Slovenie',\n",
       " 'Italie',\n",
       " 'Roumanie',\n",
       " 'Australie',\n",
       " 'Portugal',\n",
       " 'France,Royaume-Uni',\n",
       " 'Royaume-Uni,France',\n",
       " 'France,Belgique,Pays-Bas,Royaume-Uni',\n",
       " 'Guadeloupe, Allemagne',\n",
       " nan,\n",
       " 'États-Unis,Royaume-Uni',\n",
       " 'Canada, États-Unis',\n",
       " 'Pays-Bas',\n",
       " 'Australie, France',\n",
       " 'France,Suisse,États-Unis,Canada',\n",
       " 'États-Unis, France, États-Unis',\n",
       " 'Irlande, Allemagne',\n",
       " 'Royaume-Uni, États-Unis',\n",
       " 'Réunion, France',\n",
       " 'États-Unis, France',\n",
       " 'Taiwan',\n",
       " 'Australie, Suisse',\n",
       " 'Allemagne, France',\n",
       " 'Brésil',\n",
       " 'Belgique,France',\n",
       " 'République Dominicaine',\n",
       " 'Belgique,France,Pays-Bas,Royaume-Uni',\n",
       " 'France,États-Unis',\n",
       " 'Australie, États-Unis',\n",
       " 'Arabie Saoudite',\n",
       " 'Emirats arabes unis',\n",
       " 'Irak',\n",
       " 'Koweït',\n",
       " 'Moldavie',\n",
       " 'Belgique',\n",
       " 'Nouvelle-Calédonie',\n",
       " 'Singapour',\n",
       " 'Finlande, Allemagne',\n",
       " 'France, Suisse',\n",
       " 'Singapour,Nouvelle Zélande, Allemagne,Thaïlande,Australie, États-Unis',\n",
       " 'Polynésie française',\n",
       " 'Panama',\n",
       " 'Costa Rica',\n",
       " 'Mexique',\n",
       " 'Grande Bretagne, Allemagne, États-Unis',\n",
       " 'Pays-Bas, États-Unis',\n",
       " 'Espagne,Royaume-Uni,Ecosse',\n",
       " 'Polynésie française, États-Unis',\n",
       " 'Thaïlande, Allemagne',\n",
       " 'Chine',\n",
       " 'United states',\n",
       " 'Thaïlande',\n",
       " 'Luxembourg',\n",
       " 'Liban',\n",
       " 'États-Unis,Suisse',\n",
       " 'Allemagne,États-Unis',\n",
       " 'États-Unis,Allemagne',\n",
       " 'France,États-Unis,Suisse',\n",
       " 'Belgique,États-Unis,Suisse',\n",
       " 'Suisse,États-Unis',\n",
       " 'Espagne,Danemark, États-Unis',\n",
       " 'Belgique,Pays-Bas, États-Unis',\n",
       " 'Belgique, Suisse',\n",
       " 'France,Allemagne',\n",
       " 'Malaysie, États-Unis',\n",
       " 'Guyane, États-Unis',\n",
       " 'Etats-Unis',\n",
       " 'Serbie',\n",
       " 'Martinique',\n",
       " 'Barbades, Allemagne',\n",
       " 'Aruba',\n",
       " 'Hong Kong',\n",
       " 'Norvège',\n",
       " 'Haïti',\n",
       " 'Salvador',\n",
       " 'Bahreïn, États-Unis',\n",
       " 'France,Italie',\n",
       " 'Taiwan, États-Unis',\n",
       " 'Royaume-Uni, France',\n",
       " 'Belgique, France',\n",
       " 'Réunion',\n",
       " 'Maroc',\n",
       " 'Oman',\n",
       " 'Corée du Sud',\n",
       " 'Trinité et Tobago',\n",
       " 'Chili',\n",
       " 'Cuba',\n",
       " 'France,Royaume-Uni,États-Unis',\n",
       " 'États-Unis, France, Suisse',\n",
       " 'Italie, États-Unis',\n",
       " 'France,Suisse',\n",
       " 'Royaume-Uni, Suisse',\n",
       " 'Philippines',\n",
       " 'Suisse, États-Unis',\n",
       " 'Espagne, États-Unis',\n",
       " 'Panama, États-Unis',\n",
       " 'Canada,États-Unis',\n",
       " 'Australie,France,Royaume-Uni',\n",
       " 'France,Royaume-Uni, États-Unis',\n",
       " 'France,Belgique,Royaume-Uni,Pays-Bas',\n",
       " 'Autriche',\n",
       " 'Suède, Allemagne',\n",
       " 'Guinée',\n",
       " 'Royaume-Uni,France,États-Unis',\n",
       " 'États-Unis of America',\n",
       " 'Costa Rica, États-Unis',\n",
       " 'Israël, États-Unis',\n",
       " 'Chine,Suisse',\n",
       " 'Russie',\n",
       " 'Saint-Pierre-et-Miquelon',\n",
       " 'Canada, France',\n",
       " 'Algérie',\n",
       " 'République Tchèque',\n",
       " 'France,Canada',\n",
       " 'Canada,France',\n",
       " 'Canada, Canada',\n",
       " 'Canada, France, Suisse',\n",
       " 'Belgique,Canada,France,Suisse',\n",
       " 'Royaume-Uni,République Tchèque',\n",
       " 'France,Saint-Pierre-et-Miquelon',\n",
       " 'Canada,Portugal',\n",
       " 'Allemagne,Suisse',\n",
       " 'France,Russie,Espagne,Grande Bretagne, Allemagne',\n",
       " \"Île Maurice'\",\n",
       " 'Indonésie',\n",
       " 'Arménie',\n",
       " 'France,Royaume-Uni, Suisse',\n",
       " 'France,Nouvelle Zélande, Allemagne',\n",
       " \"Côte-d'Ivoire\",\n",
       " 'Chine, Suisse',\n",
       " 'Autriche, Suisse',\n",
       " 'Pologne',\n",
       " 'États-Unis,Canada',\n",
       " 'Belgique,France,Royaume-Uni,Pays-Bas',\n",
       " 'France,Suisse,États-Unis',\n",
       " 'Grèce',\n",
       " 'Mexique, États-Unis',\n",
       " 'Royaume-Uni,Espagne',\n",
       " 'États-Unis, Inde, Allemagne, Royaume-Uni',\n",
       " 'Royaume-Uni,France,Belgique',\n",
       " 'Singapour, États-Unis',\n",
       " 'Inde, Allemagne',\n",
       " 'Equateur',\n",
       " 'Turquie',\n",
       " 'Cambodge',\n",
       " 'France,Australie',\n",
       " 'États-Unis, États-Unis',\n",
       " 'Chili, États-Unis',\n",
       " 'Nouvelle-Calédonie, États-Unis',\n",
       " 'Hong Kong, États-Unis',\n",
       " 'Canada,France,États-Unis',\n",
       " 'Belgique,France,Royaume-Uni',\n",
       " 'Grèce, États-Unis',\n",
       " 'Argentine',\n",
       " 'France,Pays-Bas',\n",
       " 'France,Pays-Bas,Royaume-Uni',\n",
       " 'République Tchèque,Royaume-Uni',\n",
       " 'Union Européenne',\n",
       " 'Jordanie',\n",
       " 'Australie,Indonesie,États-Unis',\n",
       " 'Australie,Indonesie',\n",
       " 'Hong Kong,美国',\n",
       " 'Japon',\n",
       " 'Israël',\n",
       " 'France,Royaume-Uni,Pays-Bas',\n",
       " 'France,Belgique,Royaume-Uni',\n",
       " 'Colombie',\n",
       " 'Italie, France',\n",
       " 'États-Unis,Royaume-Uni,Royaume-Uni',\n",
       " 'Burundi',\n",
       " 'Quatar, France',\n",
       " 'Tunisie',\n",
       " 'Danemark,Norvège,Suède, Allemagne',\n",
       " 'Danemark',\n",
       " 'Algérie, France',\n",
       " 'France,Guyane',\n",
       " 'Belgique,France,Pays-Bas',\n",
       " 'Bulgarie',\n",
       " 'Hongrie',\n",
       " 'Australie,États-Unis',\n",
       " 'Pérou',\n",
       " 'Tunisie, France',\n",
       " 'Porto Rico',\n",
       " 'France,Belgique, Suisse',\n",
       " 'Belgique,France, Suisse',\n",
       " 'Suisse,Belgique, France',\n",
       " 'Belgique,États-Unis',\n",
       " 'Monaco',\n",
       " 'Nigéria',\n",
       " 'Guyane',\n",
       " 'Honduras',\n",
       " 'Saint-Pierre-et-Miquelon, France, Belgique',\n",
       " 'Royaume-Uni,Chypre',\n",
       " 'Vénézuela',\n",
       " 'Antilles néerlandaises, France',\n",
       " 'Afrique du Sud',\n",
       " 'Autriche, États-Unis',\n",
       " 'Australie,Philippines',\n",
       " 'Espagne, Suisse',\n",
       " 'France,Japon',\n",
       " \"Côte-d'Ivoire, États-Unis\",\n",
       " 'Mongolie',\n",
       " 'Birmanie',\n",
       " 'Inde, Allemagne, France',\n",
       " 'Bahreïn',\n",
       " 'France,Portugal,Royaume-Uni',\n",
       " 'France,Suriname,Royaume-Uni,Guadeloupe, Allemagne,Grèce,Guyane',\n",
       " 'Pakistan',\n",
       " 'Belgique, États-Unis',\n",
       " 'Qatar',\n",
       " 'Chili,France,Espagne,Suisse,Royaume-Uni',\n",
       " \"Canada'\",\n",
       " 'Belgique,France,États-Unis',\n",
       " 'France,Belgique',\n",
       " 'Cameroun',\n",
       " 'Îles Vierges, États-Unis, États-Unis',\n",
       " 'Royaume-Uni,États-Unis',\n",
       " 'Suisse, France',\n",
       " 'Danemark,Royaume-Uni,France',\n",
       " 'Royaume-Uni,Espagne,Portugal,Suède, Allemagne,Finlande, Allemagne',\n",
       " 'Slovaquie',\n",
       " 'Royaume-Uni,Lituanie',\n",
       " 'Japon, France',\n",
       " 'Royaume-Uni,Espagne,Portugal',\n",
       " 'nan Irlande, Allemagne',\n",
       " 'Sénégal',\n",
       " 'France,Sénégal',\n",
       " 'Sénégal, France',\n",
       " 'Luxembourg, France',\n",
       " 'Allemagne,Espagne',\n",
       " 'Togo',\n",
       " 'Islande, Allemagne',\n",
       " 'Allemagne,switzerland',\n",
       " 'Allemagne,Belgique',\n",
       " 'Belgique,Allemagne',\n",
       " 'Allemagne,belgique',\n",
       " 'Belgique,France,Allemagne,Suisse',\n",
       " 'Allemagne,Royaume-Uni,États-Unis',\n",
       " 'Allemagne,Pays-Bas,Autriche',\n",
       " 'Autriche,Allemagne,Pays-Bas',\n",
       " 'Egypte',\n",
       " 'Allemagne,Australie',\n",
       " 'Australie,Allemagne',\n",
       " 'République de Corée, Allemagne ',\n",
       " 'États-Unis,Espagne',\n",
       " \"Hongrie,Roumanie,Royaume-Uni', Allemagne\",\n",
       " 'Allemagne, world',\n",
       " 'Royaume-Uni,France,Royaume-Uni',\n",
       " 'Royaume-Uni,France,Angleterre',\n",
       " 'Russie,Union Soviétique',\n",
       " 'world',\n",
       " 'Royaume-Uni, Ukraine,Colombie,République Tchèque,world',\n",
       " 'Danemark,France,Italie,Pays-Bas,Pologne,Portugal,Espagne',\n",
       " 'Pays du Golf,Arabie Saoudite',\n",
       " 'France,Chili',\n",
       " 'France,Allemagne,Espagne',\n",
       " 'France,Espagne',\n",
       " 'France,Allemagne,Roumanie,Royaume-Uni,Ecosse',\n",
       " 'Allemagne,Portugal,Espagne',\n",
       " 'Allemagne,Italie',\n",
       " 'Allemagne,Portugal',\n",
       " 'France,Allemagne,Suisse',\n",
       " 'Allemagne, États-Unis',\n",
       " 'Allemagne,France',\n",
       " 'France,Portugal,Espagne',\n",
       " 'Portugal,Allemagne,Royaume-Uni,Finlande, Allemagne,Suède, Allemagne,Danemark,Italie,Espagne',\n",
       " 'France,Maroc',\n",
       " 'France, Suisse, Réunion',\n",
       " 'République Tchèque,France',\n",
       " 'Ukraine',\n",
       " 'Portugal,Espagne',\n",
       " 'France,Portugal',\n",
       " 'Espagne, France',\n",
       " 'France,Allemagne,Italie',\n",
       " 'Ecosse,Royaume-Uni',\n",
       " 'France,Slovenie',\n",
       " 'Autriche, Espagne',\n",
       " 'France,Suède, Allemagne',\n",
       " 'Allemagne,Autriche',\n",
       " 'Belgique,France,Allemagne',\n",
       " 'Royaume-Uni,Ecosse, France',\n",
       " 'France,Allemagne,Italie,Suisse',\n",
       " 'Espagne,France',\n",
       " 'Espagne,Royaume-Uni',\n",
       " 'France,Royaume-Uni,Allemagne',\n",
       " 'Roumanie,Roumanie',\n",
       " 'Espagne,Allemagne',\n",
       " 'France,Allemagne,Portugal,Espagne',\n",
       " 'Autriche,République Tchèque,France,Allemagne',\n",
       " 'Allemagne,Royaume-Uni',\n",
       " 'Allemagne,Autriche,France',\n",
       " 'Allemagne,Espagne, France',\n",
       " 'Pays-Bas,France',\n",
       " 'France,Ecosse',\n",
       " 'Belgique,France,Allemagne,Italie,Pays-Bas,Portugal,Espagne',\n",
       " 'Suisse,Royaume-Uni',\n",
       " 'Autriche,France,Allemagne,Italie,Suisse',\n",
       " 'Belgique,France,Allemagne,Irlande, Allemagne,Pays-Bas,Portugal,Espagne,Royaume-Uni',\n",
       " 'Albanie',\n",
       " 'France,Allemagne,Royaume-Uni',\n",
       " 'Nigeria',\n",
       " 'Pologne,Royaume-Uni',\n",
       " 'Belgique,France,Allemagne,Italie,Pays-Bas',\n",
       " 'France,Italie,Suisse',\n",
       " 'Royaume-Uni,Ecosse',\n",
       " 'France,Pays-Bas,Allemagne,Espagne',\n",
       " 'France,France',\n",
       " 'Irlande, Allemagne,Royaume-Uni, France',\n",
       " 'Malte',\n",
       " 'Croatie',\n",
       " 'Belgique,France,Allemagne,Pays-Bas,Portugal,Espagne',\n",
       " 'Irlande, Allemagne, France',\n",
       " 'Belgique,République Tchèque, France',\n",
       " 'France, Belgique',\n",
       " 'France,Suisse,Allemagne',\n",
       " 'Suisse,États-Unis, France',\n",
       " 'Portugal,Espagne,Royaume-Uni',\n",
       " 'Danemark,Pologne,Portugal,Espagne',\n",
       " 'Belgique,Pays-Bas',\n",
       " 'Suisse,Autriche',\n",
       " 'Portugal,Suède, Allemagne',\n",
       " 'Australie,France',\n",
       " 'Pays-Bas, France',\n",
       " 'Belgique,Luxembourg',\n",
       " 'République Tchèque,Allemagne',\n",
       " 'Malawi',\n",
       " 'France,Guadeloupe, Allemagne',\n",
       " 'Nouvelle-Calédonie, France',\n",
       " 'Portugal, France',\n",
       " 'Guyane, France',\n",
       " 'Saint-Pierre-et-Miquelon, France',\n",
       " 'France, Suisse, Brésil, en:canada, Belgique',\n",
       " 'Belgique,France,Italie,Maroc,Suisse,Royaume-Uni',\n",
       " 'France, Suisse, Belgique',\n",
       " 'Algérie,Belgique,Canada,France,Polynésie française,Allemagne,Irlande, Allemagne,Italie,Liban,Luxembourg,Mali,Martinique,Maroc,Pays-Bas,Nouvelle-Calédonie,Portugal,Réunion,Espagne,Suisse,Tunisie,Royaume-Uni,États-Unis',\n",
       " 'Belgique,France,Suisse, Allemagne',\n",
       " 'Algérie,Belgique,Canada,France,Allemagne,Italie,Mali,Martinique,Espagne,Suisse',\n",
       " 'France, Belgique, Suisse',\n",
       " 'France, Danemark, Suisse, Belgique',\n",
       " 'Guadeloupe, Allemagne, France',\n",
       " 'Polynésie française, Suisse',\n",
       " 'France, Belgique, Suisse, Réunion',\n",
       " 'France,Monaco, Suisse',\n",
       " 'Belgique,France,Réunion,Suisse',\n",
       " 'France,Réunion',\n",
       " 'Belgique,France,Polynésie française,Martinique,Suisse',\n",
       " 'Gabon',\n",
       " 'Guadeloupe, Allemagne,France',\n",
       " 'France,Saint-Pierre-et-Miquelon,Suisse',\n",
       " 'France, Réunion, Suisse',\n",
       " 'France,Allemagne, Suisse',\n",
       " 'Danemark,France',\n",
       " 'Kazakhstan',\n",
       " 'Belgique,France,Suisse',\n",
       " 'Suisse,France',\n",
       " 'France,Belgique,Luxembourg',\n",
       " 'France,Luxembourg',\n",
       " 'Guyane,France',\n",
       " 'Mali,France',\n",
       " 'France,Gabon',\n",
       " 'Belgique,France,Espagne,Suisse',\n",
       " 'Royaume-Uni,France, Danemark, Suisse',\n",
       " 'Allemagne, Suisse',\n",
       " 'République du Congo',\n",
       " 'France,Allemagne,Portugal,Suisse',\n",
       " 'France,Espagne, Suisse',\n",
       " 'Malaysie',\n",
       " 'Autriche,France,Allemagne,Italie,Pays-Bas,Suisse',\n",
       " 'France,Tunisie',\n",
       " 'Danemark,France,Portugal,Espagne,Grande Bretagne, Allemagne,Hongrie, Suisse',\n",
       " 'Danemark,France,Allemagne,Portugal,Espagne,Grande Bretagne, Allemagne,Hongrie, Suisse, Belgique',\n",
       " 'Danemark,Suisse,Grande Bretagne, Allemagne,Hongrie, France, Suisse',\n",
       " 'Danemark,France,Royaume-Uni',\n",
       " 'Suisse,Royaume-Uni,France, Danemark, Belgique',\n",
       " \"France,Allemagne,Île Maurice',Espagne,Royaume-Uni\",\n",
       " 'Danemark,France,Espagne, Suisse',\n",
       " 'Emirats arabes unis, Suisse',\n",
       " 'Belgique,France,Guyane',\n",
       " 'France, Réunion',\n",
       " 'Belgique,France,Mali,Réunion,Suisse,Royaume-Uni',\n",
       " 'Belgique, France, Suisse',\n",
       " 'Royaume-Uni, France, Suisse',\n",
       " 'France,Russie',\n",
       " 'France, Suisse, Belgique, Royaume-Uni',\n",
       " 'France,Pays-Bas,Suisse',\n",
       " 'France, Suisse, Belgique, Réunion, Maroc',\n",
       " 'Suisse,France, Belgique, Maroc, Espagne',\n",
       " 'Portugal, Danemark',\n",
       " 'France,Suisse, Belgique',\n",
       " 'Italie, Suisse',\n",
       " 'Espagne, Danemark, Suisse',\n",
       " 'France,France,France,France',\n",
       " 'France,Portugal, Suisse, Belgique',\n",
       " 'France, Allemagne',\n",
       " 'France,Monaco',\n",
       " 'France,Royaume-Uni, Danemark, Suisse',\n",
       " 'Belgique,France,Allemagne,Italie,Pays-Bas,Portugal,Espagne,Suisse,Royaume-Uni',\n",
       " 'Polynésie',\n",
       " 'Iran',\n",
       " 'Grande Bretagne, Allemagne, France',\n",
       " 'France, Suisse, Belgique, Maroc',\n",
       " 'Martinique,France',\n",
       " 'Guadeloupe, Allemagne,Martinique,Guyane, France',\n",
       " 'France,Allemagne, États-Unis',\n",
       " 'Réunion, France, Suisse',\n",
       " 'France,Martinique',\n",
       " 'Danemark, Suisse',\n",
       " 'Pologne, Suisse',\n",
       " 'France, Sénégal',\n",
       " 'France,Nouvelle-Calédonie',\n",
       " 'Nouvelle Calédonie,France',\n",
       " 'France,Guadeloupe, Allemagne, Suisse',\n",
       " 'Allemagne, Danemark',\n",
       " 'Saint-Martin',\n",
       " 'France,Suisse,Royaume-Uni',\n",
       " 'Belgique,Danemark,France,Allemagne',\n",
       " 'Maroc,France',\n",
       " 'Danemark,Royaume-Uni, France',\n",
       " 'France,Espagne,Allemagne, Suisse',\n",
       " 'Danemark,Royaume-Uni',\n",
       " 'Suède, Allemagne, France',\n",
       " 'France, Guyane',\n",
       " 'France,Vanuatu',\n",
       " 'France,Grèce,Espagne, Belgique',\n",
       " 'Belgique,France,Espagne',\n",
       " 'France, Espagne',\n",
       " 'France,guaAllemagneloupe',\n",
       " 'Danemark,France, Suisse',\n",
       " 'France, Danemark, Suisse',\n",
       " 'Belgique,France,Portugal',\n",
       " 'Saint-Pierre-et-Miquelon,France',\n",
       " 'France,Portugal,Belgique',\n",
       " 'Belgique,France,Pologne,Portugal',\n",
       " 'France, Algérie',\n",
       " 'Nouvelle Calédonie',\n",
       " 'Jordan',\n",
       " 'France,Italie,Portugal,Espagne',\n",
       " 'Belgique,France,Luxembourg',\n",
       " 'France,Cora',\n",
       " 'Canada,France,Grèce,Pays-Bas,Espagne,Royaume-Uni,États-Unis',\n",
       " 'Guadeloupe, Allemagne,martinique',\n",
       " 'France,Portugal,Espagne,Royaume-Uni',\n",
       " 'France,Espagne,Royaume-Uni',\n",
       " 'Mayotte',\n",
       " 'Belgique,France,Mali,Suisse,Royaume-Uni',\n",
       " 'France,Belgique,Pays-Bas',\n",
       " 'France,Belgique,Espagne',\n",
       " 'Belgique,France,Allemagne, Suisse',\n",
       " 'France,Pays-Bas,Suisse, Belgique',\n",
       " 'Espagne,Suisse',\n",
       " 'Belgique,France,Italie,Luxembourg,Mali,Martinique,Suisse',\n",
       " 'France,Belgique,Pays-Bas,Allemagne',\n",
       " 'Guadeloupe, Allemagne,Martinique',\n",
       " 'Guadeloupe, Allemagne,Martinique,Guyane',\n",
       " 'Martinique,Guyane,Guadeloupe, Allemagne',\n",
       " 'Suisse,France,Belgique',\n",
       " 'Guyane,Guadeloupe, Allemagne,Martinique',\n",
       " 'Quatar',\n",
       " 'Guadeloupe, Allemagne,Martinique, France',\n",
       " 'Belgique,France,Allemagne,Italie,Pays-Bas,Espagne,Royaume-Uni',\n",
       " 'Autriche,France',\n",
       " 'Belgique,France,Luxembourg,Suisse',\n",
       " 'France,Chine',\n",
       " 'Belgique,France,Allemagne,Italie,Pays-Bas,Royaume-Uni',\n",
       " 'Andorre',\n",
       " 'Danemark,France,Guadeloupe, Allemagne',\n",
       " 'France, Danemark',\n",
       " 'France,Italie,Espagne',\n",
       " 'France,Emirats arabes unis',\n",
       " 'Martinique, France',\n",
       " 'Wallis et Futuna',\n",
       " 'Espagne,France,Belgique',\n",
       " 'Belgique,France,Grèce',\n",
       " 'Guadeloupe, Allemagne, France, Belgique',\n",
       " 'Algérie,Belgique,Canada,France,Maroc,Suisse',\n",
       " 'France, Polynésie',\n",
       " 'France,Grèce,Espagne',\n",
       " 'France,Espagne, Polynésie',\n",
       " 'France,Grèce,Pays-Bas',\n",
       " 'France,Espagne,Portugal',\n",
       " 'France,Espagne,Italie,Portugal',\n",
       " 'France, Maroc',\n",
       " 'Espagne, France, Belgique',\n",
       " 'France,Estonie',\n",
       " 'Niger',\n",
       " 'France,Belgique,Allemagne',\n",
       " 'Luxembourg,France',\n",
       " 'Réunion,France',\n",
       " 'Belgique,France,Italie,Royaume-Uni',\n",
       " 'France,Italie,Pays-Bas,Royaume-Uni',\n",
       " 'Suisse,Belgique,France',\n",
       " 'Islande',\n",
       " 'Autriche,Danemark,France,Allemagne,Pays-Bas,Espagne,Suisse',\n",
       " 'Serbie,Suisse',\n",
       " 'Bosnie Herzégovine,Serbie',\n",
       " 'Bosnie Herzégovine',\n",
       " 'Belgique,France,Allemagne,Roumanie',\n",
       " 'Danemark,France,Allemagne',\n",
       " 'Australie,République Tchèque,France,Allemagne,Hongrie',\n",
       " 'Danemark,France,Allemagne,Russie,Espagne,Royaume-Uni',\n",
       " 'République Tchèque,Danemark,France,Allemagne',\n",
       " 'Danemark,Allemagne,France',\n",
       " 'Danemark,France,Allemagne,Inde, Allemagne',\n",
       " 'Arménie,France,Allemagne,Roumanie,Russland,Italie',\n",
       " 'Chine,France,Allemagne',\n",
       " 'France,Hongrie',\n",
       " 'Allemagne,Royaume-Uni,Espagne,Pays-Bas',\n",
       " 'Autriche,Allemagne',\n",
       " 'Grande Bretagne, Allemagne, Suisse',\n",
       " 'États-Unis, Suisse',\n",
       " 'Danemark,Royaume-Uni, Suisse',\n",
       " 'Danemark,Suisse,Royaume-Uni,Allemagne',\n",
       " 'Biélorussie',\n",
       " 'Chine,Allemagne',\n",
       " 'Australie,Belgique,France, Suisse',\n",
       " 'France,Suisse,Australie,Allemagne',\n",
       " 'France,Suisse,Australie,Pays-Bas,Allemagne',\n",
       " 'Allemagne,Pays-Bas',\n",
       " 'Allemagne,Suède, Allemagne',\n",
       " 'Biélorussie,République Tchèque',\n",
       " 'Mauritanie',\n",
       " 'Portugal,Roumanie,Espagne',\n",
       " 'Allemagne,Luxembourg',\n",
       " 'Maroc, France',\n",
       " 'Allemagne,Allemagne',\n",
       " 'République Tchèque,France, Suisse',\n",
       " 'Hongrie, Suisse',\n",
       " 'Allemagne,Pologne',\n",
       " 'France,Russie, Suisse',\n",
       " 'Chypre',\n",
       " 'France,Roumanie',\n",
       " 'Suède',\n",
       " 'Allemagne,Hongrie',\n",
       " 'Autriche,République Tchèque,Allemagne',\n",
       " 'Luxembourg, France, Suisse',\n",
       " 'Danemark,Suisse,Allemagne,France',\n",
       " 'France,Arabie Saoudite,Allemagne, Suisse, Belgique',\n",
       " 'Danemark,France,Allemagne,Suisse',\n",
       " 'Suisse,Allemagne',\n",
       " 'Allemagne, Espagne',\n",
       " 'Luxembourg,Allemagne',\n",
       " 'Allemagne,Maroc',\n",
       " 'Vietnam',\n",
       " 'France,Allemagne,Grèce,Espagne',\n",
       " 'Allemagne,Tunisie',\n",
       " 'Allemagne,Grèce',\n",
       " 'Azerbaïdjan',\n",
       " 'Luxembourg, Suisse',\n",
       " 'Lituanie',\n",
       " 'France, Inde, Allemagne',\n",
       " 'Belgique,France,world',\n",
       " 'Finlande, Allemagne,France,Grèce,Italie,Espagne,Suède, Allemagne',\n",
       " 'Australie,Suisse',\n",
       " 'Allemagne,Chine, Suisse',\n",
       " 'Belgique,France,Pologne,Suisse',\n",
       " 'Allemagne,France,Suède, Allemagne,Danemark',\n",
       " 'Allemagne,Danemark',\n",
       " 'France, Pays-Bas',\n",
       " 'Belgique,France,Allemagne,Pays-Bas',\n",
       " 'Japon,en:Japon',\n",
       " 'Finlande, Allemagne,France',\n",
       " 'Russie,Grande Bretagne, Allemagne',\n",
       " 'Tchad',\n",
       " 'Estonie',\n",
       " 'Lettonie',\n",
       " 'Lettonie,Lettonie',\n",
       " 'Lituanie,Suède, Allemagne',\n",
       " 'Sri Lanka',\n",
       " 'France,Sri Lanka',\n",
       " 'Biélorussie,Géorgie,Kazakhstan,Russie,Ukraine',\n",
       " 'Royaume-Uni, Ukraine',\n",
       " 'Géorgie,Russie',\n",
       " 'Singapour,Thailande',\n",
       " 'Hong Kong,Japon',\n",
       " 'Allemagne,Japon',\n",
       " 'Japon,Japon, États-Unis',\n",
       " 'France,Belgique,Danemark',\n",
       " 'Royaume-Uni, Danemark',\n",
       " 'Italie,Suisse',\n",
       " 'Royaume-Uni,États-Unis,Suisse',\n",
       " 'Mozambique, France',\n",
       " 'Australie,Royaume-Uni,États-Unis',\n",
       " 'Union Européenne, États-Unis',\n",
       " 'Royaume-Uni, Danemark, Suisse',\n",
       " 'Algérie,Belgique,Égypte,France,Maroc,Qatar,Suisse,Tunisie,Emirats arabes unis',\n",
       " 'Australie,France, Suisse',\n",
       " 'Irlande, Allemagne,Royaume-Uni',\n",
       " 'Belgique,France,Allemagne,Italie,Maroc,Portugal,Serbie,Suisse',\n",
       " 'Belgique,Danemark,Luxembourg,Maroc,Portugal,Royaume-Uni,États-Unis,Allemagne,France,Suisse',\n",
       " 'France,Allemagne,Pays-Bas',\n",
       " 'Pays-Bas, Suisse',\n",
       " 'Royaume-Uni,Pays-Bas',\n",
       " 'Allemagne,Suisse,France',\n",
       " 'Danemark,France,Suisse',\n",
       " 'Indonesie',\n",
       " 'Libye',\n",
       " 'Belgique,France, États-Unis',\n",
       " 'Portugal,Royaume-Uni, France',\n",
       " 'Union Européenne, Suisse',\n",
       " 'Australie,Royaume-Uni',\n",
       " 'France,Suisse,République Tchèque',\n",
       " 'Autriche,France, Suisse',\n",
       " 'France,Allemagne,Pays-Bas,Royaume-Uni',\n",
       " 'Bosnie Herzégovine,Monténégro,Serbie',\n",
       " 'Monténégro,Serbie',\n",
       " 'Ecosse, Royaume-Uni',\n",
       " 'Pérou, États-Unis',\n",
       " 'France,Ecosse,Royaume-Uni',\n",
       " 'Allemagne,Suisse,Royaume-Uni',\n",
       " 'Portugal,France',\n",
       " 'Jersey',\n",
       " 'Danemark,Italie,Norvège,Portugal,Suède, Allemagne,Royaume-Uni',\n",
       " 'Autriche, France',\n",
       " 'France,Royaume-Uni,canada',\n",
       " 'Singapour, France',\n",
       " 'Espagne,Royaume-Uni, Suisse',\n",
       " 'Danemark,France, États-Unis',\n",
       " 'France,Espagne,Grèce,Allemagne,Belgique,Pays-Bas',\n",
       " 'France,Belgique,Grèce,Pays-Bas,Espagne',\n",
       " 'France,Belgique,Allemagne,Suisse,Autriche,Pays-Bas,Danemark,Suède, Allemagne',\n",
       " 'France, Suisse, Belgique, Italie, Réunion',\n",
       " 'Suède, Allemagne, France, Suisse, Belgique',\n",
       " 'France,Suisse,Finlande, Allemagne,Danemark,Italieans',\n",
       " 'Finlande, Allemagne,France,Allemagne,Irlande, Allemagne,Espagne,Suisse,Royaume-Uni,Estonie',\n",
       " 'Australie,France,Royaume-Uni,Ecosse',\n",
       " 'France,Italie,Royaume-Uni',\n",
       " 'Mexique,États-Unis',\n",
       " 'Israel',\n",
       " 'République Démocratique du Congo',\n",
       " 'France,Serbie',\n",
       " 'Serbie,Belgique',\n",
       " 'France,belgique',\n",
       " 'Ghana',\n",
       " 'France,Irlande, Allemagne',\n",
       " 'Guinée-Bissau',\n",
       " 'Belgique,France,Allemagne,Italie,Espagne',\n",
       " 'Italie,Belgique,Allemagne,France,Danemark,Pays-Bas,Suède, Allemagne,Norvège',\n",
       " 'Belgique,Danemark,France,Maroc,Suisse,Finlande, Allemagne,Suède, Allemagne,Espagne,Italie',\n",
       " 'Belgique,France,Maroc,Suisse',\n",
       " 'Danemark,France,Portugal, Suisse',\n",
       " 'France,Suisse, Danemark',\n",
       " 'France,Belgique,Suisse,Pays-Bas',\n",
       " 'France, Suisse, Belgique, Espagne',\n",
       " 'France, Suisse, Royaume-Uni',\n",
       " 'France,Allemagne,Italie,Norvège,Espagne,Suède, Allemagne,Royaume-Uni',\n",
       " 'Espagne, France, Suisse',\n",
       " 'Belgique,République Tchèque,Danemark,France,Allemagne,Italie,Pays-Bas,Nouvelle Zélande, Allemagne,Espagne,Suède, Allemagne,Royaume-Uni',\n",
       " 'Royaume-Uni, Danemark, France',\n",
       " 'Belgique,Portugal',\n",
       " 'Belgique,France,Italie,Espagne',\n",
       " 'Espagne,France, Suisse',\n",
       " 'Belgique, Danemark',\n",
       " 'Belgique,France,Italie,Pays-Bas,Espagne,Royaume-Uni',\n",
       " 'France,Belgique,Pays-Bas,Espagne,Italie,Allemagne,Hongrie',\n",
       " 'Allemagne, Belgique',\n",
       " 'Royaume-Uni, France, Belgique',\n",
       " 'Roumanie, Suisse',\n",
       " 'France,Allemagne,Autriche',\n",
       " 'Suisse,Belgique,Allemagne',\n",
       " 'France,Italie,Luxembourg,Pays-Bas,Espagne',\n",
       " 'Belgique,France,Pays-Bas,Espagne,Royaume-Uni',\n",
       " 'Belgique,France,Allemagne,Pays-Bas,Espagne,Suisse,Royaume-Uni',\n",
       " 'Belgique,France,Suisse,Allemagne,Hongrie',\n",
       " 'Belgique,France,Hongrie,Italie,Quebec',\n",
       " 'France,Royaume-Uni, Belgique, Suisse',\n",
       " 'Belgique,France,Russie',\n",
       " 'Belgique,France,Italie',\n",
       " 'Belgique,Canada,France',\n",
       " 'Belgique,Suisse',\n",
       " 'Centrafrique',\n",
       " 'Slovaquie,République Tchèque, Suisse',\n",
       " 'République Tchèque,France,Irak, Belgique, Suisse, Réunion',\n",
       " 'Algérie,Belgique,Brésil,Cameroon,Canada,France,Allemagne,Inde, Allemagne,Italie,Luxembourg,Mali,Martinique,Maroc,Pays-Bas,Nouvelle Calédonie,Portugal,Réunion,Arabie Saoudite,Sénégal,Espagne,Suisse,Royaume-Uni,États-Unis',\n",
       " 'Belgique,France,Espagne,Suisse,Royaume-Uni',\n",
       " 'France,Koweït, Belgique',\n",
       " 'France,Pologne',\n",
       " 'Belgique,France, Suisse, Espagne, Réunion',\n",
       " 'Danemark,France,Suisse,Royaume-Uni',\n",
       " 'Réunion, Suisse',\n",
       " 'Belgique,France,Serbie,Suisse',\n",
       " 'Autriche,Belgique,France',\n",
       " 'Qatar, France',\n",
       " 'Irak,Royaume-Uni, France',\n",
       " 'Algérie,Belgique,France,Allemagne,Guadeloupe, Allemagne,Italie,Liban,Luxembourg,Martinique,Maroc,Pays-Bas,Portugal,Réunion,Sénégal,Espagne,Suisse,Royaume-Uni',\n",
       " 'Belgique,France,Italie,Suisse',\n",
       " 'République Tchèque,France,Suisse',\n",
       " 'France,Royaume-Uni, Belgique',\n",
       " 'Portugal, France, Suisse',\n",
       " 'Portugal, Espagne',\n",
       " 'Portugal, Suisse',\n",
       " 'Brésil, Suisse',\n",
       " 'Angola',\n",
       " 'France,Allemagne,Portugal,Royaume-Uni',\n",
       " 'Portugal,Suisse,France',\n",
       " 'Suède, Allemagne, Danemark',\n",
       " 'Allemagne, France,Allemagne',\n",
       " 'Danemark,Allemagne',\n",
       " 'Danemark,Suède, Allemagne',\n",
       " 'Azerbaijan',\n",
       " 'البحرين',\n",
       " 'Russie, France',\n",
       " 'Pologne, France',\n",
       " 'Danemark,Finlande, Allemagne,France',\n",
       " 'Pologne,Grande Bretagne',\n",
       " 'Pologne,Grande Bretagne, Allemagne',\n",
       " 'Royaume-Uni,poland',\n",
       " 'Pologne,Pologne',\n",
       " 'Pologne,Pologne, France',\n",
       " 'Belgique,Danemark,France,Pologne',\n",
       " 'Irlande',\n",
       " 'Belgique,France,Italie,Espagne,Suisse,Royaume-Uni,Grèce',\n",
       " 'Pologne,Szczecin',\n",
       " 'Pologne,Szczecin, États-Unis',\n",
       " 'Szczecin,Pologne',\n",
       " 'États-Unis,Moldavie',\n",
       " 'Slovenie,Serbie,Monténégro',\n",
       " 'Hongrie,Serbie',\n",
       " 'Bulgarie,République Tchèque,Roumanie,Slovaquie',\n",
       " 'Malawi, France',\n",
       " 'Burkina Faso',\n",
       " 'Mozambique',\n",
       " 'Kenya',\n",
       " 'Tanzanie',\n",
       " 'Congo,Sénégal',\n",
       " 'Sénégal,Sénégal',\n",
       " \"France,Île Maurice'\",\n",
       " 'Île Maurice',\n",
       " 'France,Île Maurice',\n",
       " 'Rwanda',\n",
       " 'Gabon, France',\n",
       " \"Côte-d'Ivoire, France\",\n",
       " 'Tunisie,Tunisie',\n",
       " 'Tunisie,France',\n",
       " 'Brunei',\n",
       " 'Arabie saoudite',\n",
       " 'Qatar,Emirats arabes unis,Arabie Saoudite',\n",
       " 'Arabie Saoudite,Emirats arabes unis,Qatar',\n",
       " 'Somalie',\n",
       " 'Qatar,Yemen,Syrie,Liban,Tunisie',\n",
       " 'Oman,Qatar',\n",
       " 'Emirats Arabes Unis',\n",
       " 'Chine, France',\n",
       " 'Vanuatu',\n",
       " 'France,Norvège',\n",
       " 'Grèce,Israël',\n",
       " 'Israel, France',\n",
       " 'France, Suisse, Belgique, Réunion',\n",
       " 'Danemark,Allemagne,Norvège,Suède, Allemagne',\n",
       " 'Suède, Allemagne,Suède',\n",
       " 'France,Finlande, Allemagne,Allemagne,Pays-Bas,Norvège,Espagne,Suède, Allemagne,Royaume-Uni',\n",
       " 'France,Guadeloupe, Allemagne,Italie,Pays-Bas,Norvège,Suède, Allemagne,Suisse,Royaume-Uni',\n",
       " 'Guatemala',\n",
       " 'Mexique, France',\n",
       " 'France,Pays-Bas, Suisse',\n",
       " 'Venezuela',\n",
       " 'France,Guadeloupe, Allemagne,Suisse',\n",
       " 'Algérie, Suisse',\n",
       " 'Suisse, France, Belgique',\n",
       " 'Suisse,France, Allemagne',\n",
       " 'Allemagne,Suisse, France',\n",
       " 'France,Danemark',\n",
       " 'Roumanie, France',\n",
       " 'Allemagne, France, Espagne',\n",
       " 'Danemark, France',\n",
       " 'République centrafricaine,France',\n",
       " 'Portugal, France, Belgique, Espagne',\n",
       " 'Serbie,Croatie,Monténégro',\n",
       " 'Suisse,France, Belgique',\n",
       " 'France,Australie, Suisse',\n",
       " 'France,Andorre',\n",
       " 'République Tchèque, France',\n",
       " 'France, Belgique, Suisse, Maroc',\n",
       " 'Croatie,Monténégro,Serbie,Slovenie',\n",
       " 'Bosnie Herzégovine,Macédoine,Serbie,Monténégro',\n",
       " 'Bulgarie,France',\n",
       " 'Andorra',\n",
       " 'France,Allemagne,Suisse,Tunisie',\n",
       " 'Italie,Pays-Bas,Portugal,Espagne',\n",
       " 'Croatie,Serbie,Slovenie',\n",
       " 'Allemagne, Danemark, France',\n",
       " 'Danemark,France,Suisse,Belgique,Espagne,Suède, Allemagne,Finlande, Allemagne',\n",
       " 'Réunion,France, Suisse',\n",
       " 'Brésil, France',\n",
       " 'Belgique,Danemark,Finlande, Allemagne,France,Italie,Pays-Bas,Portugal,Espagne,Suède, Allemagne',\n",
       " 'Autriche,France,Royaume-Uni,Suisse',\n",
       " 'Uruguay',\n",
       " 'Paraguay',\n",
       " 'Argentine,France,Suisse',\n",
       " 'France,Argentine',\n",
       " 'Colombie,Chili',\n",
       " 'Argentine, en:saudi-arabia',\n",
       " 'Brésil,France',\n",
       " 'Albanie,Italie',\n",
       " 'Réunion, Danemark',\n",
       " 'Danemark,France,Allemagne, Suisse, Belgique',\n",
       " 'France, Suisse, Belgique, Maroc, Espagne',\n",
       " 'Belgique,France,Allemagne,Italie',\n",
       " 'Union Européenne, France',\n",
       " 'Inde',\n",
       " 'France,Belgique,Hongrie',\n",
       " 'Bulgarie,Allemagne,Irlande,Monténégro,Portugal,Roumanie,Serbie,Royaume-Uni',\n",
       " 'Danemark,France,Italie,Royaume-Uni, Suisse',\n",
       " 'Danemark,Italie,France',\n",
       " 'France, Suisse, Belgique, Luxembourg',\n",
       " 'République Tchèque,Allemagne, Suisse',\n",
       " 'Danemark,France,Suisse,Allemagne',\n",
       " 'Croatie,Portugal, France',\n",
       " 'France, Belgique, Suisse, Italie',\n",
       " 'Albanie,Italie, Danemark',\n",
       " 'Italie,Roumanie',\n",
       " 'Belgique,Italie',\n",
       " 'Georgie',\n",
       " 'France, Italie',\n",
       " 'Italie,Monaco,France',\n",
       " 'Italie,Espagne',\n",
       " 'France,Allemagne,Grèce,Suède, Allemagne,Royaume-Uni',\n",
       " 'Belgique, Danemark, France',\n",
       " 'Danemark,Finlande,France,Allemagne,Hongrie,Italie,Pays-Bas,Norvège,Portugal,Russie,Slovenie,Espagne,Suède,Grande Bretagne, Allemagne',\n",
       " 'France,Italie,Espagne, Suisse',\n",
       " 'Danemark,Allemagne, Suisse',\n",
       " 'Belgique,Suisse,France,Allemagne',\n",
       " 'Italie, Danemark',\n",
       " 'Belgique,France,Hongrie,Suisse,Royaume-Uni',\n",
       " 'Hongrie,Espagne',\n",
       " 'Guadeloupe, Allemagne,Hongrie,Slovenie,Royaume-Uni, France',\n",
       " 'Chine,Danemark,France,Suède, Espagne',\n",
       " 'Italie,Lituanie',\n",
       " 'Algérie,France',\n",
       " 'Portugal,Espagne, France',\n",
       " 'République Tchèque,Itálie',\n",
       " 'Ethiopie',\n",
       " 'Italie,Espagne,Suisse',\n",
       " 'République Tchèque, Suisse',\n",
       " 'France,Italie,Pays-Bas',\n",
       " 'Belgique,France,Italie, Suisse',\n",
       " 'Nouvelle Zélande, Allemagne, France, Suisse',\n",
       " 'France,Serbie,Italie,Espagne',\n",
       " 'Belgique,France,Espagne,Suisse,Grèce',\n",
       " 'Suisse,Italie',\n",
       " 'France, Suisse, Italie',\n",
       " 'France, Suisse, Espagne',\n",
       " 'Italie, France, Suisse',\n",
       " 'Îles Cook',\n",
       " 'Belgique, Canada, Danemark, France, Allemagne, Maroc, Espagne, Suisse',\n",
       " 'France,Polynésie française',\n",
       " 'Allemagne,Emirats arabes unis',\n",
       " 'Andorra,Espagne',\n",
       " 'Portugal,Espagne,France,Royaume-Uni,Italie,Allemagne,Roumanie,Grécia',\n",
       " 'Espagne,États-Unis',\n",
       " 'Danemark,Espagne',\n",
       " 'Autriche,France,Allemagne,Maroc,Pays-Bas,Royaume-Uni',\n",
       " 'Suisse,Espagne',\n",
       " 'Belgique,France,Espagne, Suisse',\n",
       " 'Maroc,Espagne',\n",
       " 'Espagne,Portugal',\n",
       " 'Portugal,Espagne,France',\n",
       " 'Portugal, Danemark, Suisse',\n",
       " 'Cuba, Suisse',\n",
       " 'République Tchèque,Hongrie,Slovaquie',\n",
       " 'France,Slovaquie,République Tchèque,Afrique du Sud,Grèce,Corée du Sud,Koweit,Pologne,Maldives,Chine',\n",
       " 'France,République Tchèque',\n",
       " 'Croatie,Hongrie,Serbie',\n",
       " 'Royaume-Uni,Allemagne',\n",
       " 'Hongrie,Suisse,Serbie',\n",
       " 'République Tchèque,Suisse',\n",
       " 'Macédoine,Serbie',\n",
       " 'Bosnie Herzégovine,Monténégro,Macédoine,Serbie',\n",
       " 'Bosnie Herzégovine,Croatie,Macédoine,Serbie,Slovenie',\n",
       " 'Bosnie Herzégovine,Croatie,Monténégro,Serbie',\n",
       " 'Bosnie Herzégovine,Croatie,Monténégro,Macédoine,Serbie',\n",
       " 'Bosnie Herzégovine,Croatie,Macédoine,Serbie',\n",
       " 'Allemagne,Turquie',\n",
       " 'Mozambique, Suisse',\n",
       " 'Emirats arabes unis, France',\n",
       " 'Belgique,Danemark, France',\n",
       " 'Pays-Bas,Pays-Bas',\n",
       " 'Nouvelle Zélande, Allemagne',\n",
       " 'Belgique,Espagne',\n",
       " 'France,Pays-Bas,Espagne,Royaume-Uni',\n",
       " 'Allemagne,Grèce,Espagne',\n",
       " 'Belgique,France,Martinique,Suisse',\n",
       " 'France,Grèce',\n",
       " 'Belgique,France,Pays-Bas,Suisse',\n",
       " 'France, Guadeloupe, Allemagne',\n",
       " 'Autriche,Belgique,France,Allemagne,Pays-Bas,Suisse',\n",
       " 'Suisse,Allemagne,Autriche',\n",
       " 'France,Nouvelle Zélande, Allemagne,Singapour',\n",
       " 'Danemark,Espagne,Allemagne, Suisse',\n",
       " 'Danemark,France,Belgique,Suède, Suisse',\n",
       " 'France,Suisse,Allemagne,Espagne',\n",
       " 'Danemark, France, Belgique, Suisse',\n",
       " 'Belgique,France,Nouvelle-Calédonie,Espagne,Suisse',\n",
       " 'Belgique,France,Serbie',\n",
       " 'Norge,Suède',\n",
       " 'Pays-Bas,Belgique,en:',\n",
       " 'Italie,Pays-Bas,Portugal',\n",
       " 'Belgique,Suisse,France,Pays-Bas,Allemagne,Suisse,Espagne,Portugal',\n",
       " 'Pays-Bas,Portugal, France',\n",
       " 'Canada,France,Allemagne,Royaume-Uni',\n",
       " 'Kazakhstan, États-Unis',\n",
       " 'Australie, Inde, Allemagne',\n",
       " 'Australie,Thaïlande,Royaume-Uni, États-Unis',\n",
       " 'Belgique,Chili',\n",
       " 'France,États-Unis, Suisse',\n",
       " 'France,Thaïlande,Royaume-Uni, Suisse',\n",
       " 'Cambodge,Thaïlande',\n",
       " 'Chine,France,Viêt Nam',\n",
       " 'France,Irlande, Allemagne,Royaume-Uni',\n",
       " 'Belgique,France,Allemagne, Danemark',\n",
       " 'France,Hongrie,Royaume-Uni',\n",
       " 'Royaume-Uni,Thaïlande',\n",
       " 'Việt Nam',\n",
       " 'indonésie',\n",
       " 'Croatie, France',\n",
       " 'Egypte,Royaume-Uni,États-Unis',\n",
       " 'Autriche,Croatie,Estonie,Allemagne,Grèce,Italie,Pays-Bas,Pologne,Serbie,Slovenie',\n",
       " 'Autriche,Allemagne,Espagne',\n",
       " 'Congo',\n",
       " 'en:GT',\n",
       " 'France,Polynésie française,Nouvelle-Calédonie',\n",
       " 'Nouvelle Zélande , France',\n",
       " 'Australie,Nouvelle Zélande, Allemagne',\n",
       " 'Nouvelle Zélande ',\n",
       " 'Nouvelle Zélande, Allemagne, France',\n",
       " 'Australie, France, Suisse, Belgique',\n",
       " 'Australie,Vanuatu',\n",
       " 'Polynésie française,France',\n",
       " 'Bengladesh ',\n",
       " 'Australie,Japon',\n",
       " 'Koweit',\n",
       " 'Maldives',\n",
       " 'Malaysia',\n",
       " 'Australie,Malaysia',\n",
       " 'Malaisie',\n",
       " 'Hong Kong, France',\n",
       " 'Hong Kong,Chine']"
      ]
     },
     "execution_count": 584,
     "metadata": {},
     "output_type": "execute_result"
    }
   ],
   "source": [
    "new_data['countries'].unique().tolist()"
   ]
  },
  {
   "cell_type": "code",
   "execution_count": 585,
   "id": "ba302086",
   "metadata": {},
   "outputs": [],
   "source": [
    "new_data.replace(\"nan Irlande\", \"Irlande\", inplace = True, regex = True)"
   ]
  },
  {
   "cell_type": "code",
   "execution_count": 586,
   "id": "655e920c",
   "metadata": {},
   "outputs": [
    {
     "data": {
      "text/html": [
       "<div>\n",
       "<style scoped>\n",
       "    .dataframe tbody tr th:only-of-type {\n",
       "        vertical-align: middle;\n",
       "    }\n",
       "\n",
       "    .dataframe tbody tr th {\n",
       "        vertical-align: top;\n",
       "    }\n",
       "\n",
       "    .dataframe thead th {\n",
       "        text-align: right;\n",
       "    }\n",
       "</style>\n",
       "<table border=\"1\" class=\"dataframe\">\n",
       "  <thead>\n",
       "    <tr style=\"text-align: right;\">\n",
       "      <th></th>\n",
       "      <th>code</th>\n",
       "      <th>url</th>\n",
       "      <th>creator</th>\n",
       "      <th>created_t</th>\n",
       "      <th>created_datetime</th>\n",
       "      <th>last_modified_t</th>\n",
       "      <th>last_modified_datetime</th>\n",
       "      <th>product_name</th>\n",
       "      <th>generic_name</th>\n",
       "      <th>quantity</th>\n",
       "      <th>...</th>\n",
       "      <th>vitamin-c_100g</th>\n",
       "      <th>vitamin-b1_100g</th>\n",
       "      <th>vitamin-b2_100g</th>\n",
       "      <th>vitamin-pp_100g</th>\n",
       "      <th>vitamin-b6_100g</th>\n",
       "      <th>potassium_100g</th>\n",
       "      <th>calcium_100g</th>\n",
       "      <th>iron_100g</th>\n",
       "      <th>nutrition-score-fr_100g</th>\n",
       "      <th>nutrition-score-uk_100g</th>\n",
       "    </tr>\n",
       "  </thead>\n",
       "  <tbody>\n",
       "    <tr>\n",
       "      <th>0</th>\n",
       "      <td>3087</td>\n",
       "      <td>http://world-fr.openfoodfacts.org/produit/0000...</td>\n",
       "      <td>openfoodfacts-contributors</td>\n",
       "      <td>1474103866</td>\n",
       "      <td>2016-09-17T09:17:46Z</td>\n",
       "      <td>1474103893</td>\n",
       "      <td>2016-09-17T09:18:13Z</td>\n",
       "      <td>Farine Allemagne blé noir</td>\n",
       "      <td>NaN</td>\n",
       "      <td>1kg</td>\n",
       "      <td>...</td>\n",
       "      <td>NaN</td>\n",
       "      <td>NaN</td>\n",
       "      <td>NaN</td>\n",
       "      <td>NaN</td>\n",
       "      <td>NaN</td>\n",
       "      <td>NaN</td>\n",
       "      <td>NaN</td>\n",
       "      <td>NaN</td>\n",
       "      <td>NaN</td>\n",
       "      <td>NaN</td>\n",
       "    </tr>\n",
       "    <tr>\n",
       "      <th>1</th>\n",
       "      <td>4530</td>\n",
       "      <td>http://world-fr.openfoodfacts.org/produit/0000...</td>\n",
       "      <td>usda-ndb-import</td>\n",
       "      <td>1489069957</td>\n",
       "      <td>2017-03-09T14:32:37Z</td>\n",
       "      <td>1489069957</td>\n",
       "      <td>2017-03-09T14:32:37Z</td>\n",
       "      <td>Banana Chips Sweetened (Whole)</td>\n",
       "      <td>NaN</td>\n",
       "      <td>NaN</td>\n",
       "      <td>...</td>\n",
       "      <td>0.0214</td>\n",
       "      <td>NaN</td>\n",
       "      <td>NaN</td>\n",
       "      <td>NaN</td>\n",
       "      <td>NaN</td>\n",
       "      <td>NaN</td>\n",
       "      <td>0.000</td>\n",
       "      <td>0.00129</td>\n",
       "      <td>14.0</td>\n",
       "      <td>14.0</td>\n",
       "    </tr>\n",
       "    <tr>\n",
       "      <th>2</th>\n",
       "      <td>4559</td>\n",
       "      <td>http://world-fr.openfoodfacts.org/produit/0000...</td>\n",
       "      <td>usda-ndb-import</td>\n",
       "      <td>1489069957</td>\n",
       "      <td>2017-03-09T14:32:37Z</td>\n",
       "      <td>1489069957</td>\n",
       "      <td>2017-03-09T14:32:37Z</td>\n",
       "      <td>Peanuts</td>\n",
       "      <td>NaN</td>\n",
       "      <td>NaN</td>\n",
       "      <td>...</td>\n",
       "      <td>0.0000</td>\n",
       "      <td>NaN</td>\n",
       "      <td>NaN</td>\n",
       "      <td>NaN</td>\n",
       "      <td>NaN</td>\n",
       "      <td>NaN</td>\n",
       "      <td>0.071</td>\n",
       "      <td>0.00129</td>\n",
       "      <td>0.0</td>\n",
       "      <td>0.0</td>\n",
       "    </tr>\n",
       "    <tr>\n",
       "      <th>3</th>\n",
       "      <td>16087</td>\n",
       "      <td>http://world-fr.openfoodfacts.org/produit/0000...</td>\n",
       "      <td>usda-ndb-import</td>\n",
       "      <td>1489055731</td>\n",
       "      <td>2017-03-09T10:35:31Z</td>\n",
       "      <td>1489055731</td>\n",
       "      <td>2017-03-09T10:35:31Z</td>\n",
       "      <td>Organic Salted Nut Mix</td>\n",
       "      <td>NaN</td>\n",
       "      <td>NaN</td>\n",
       "      <td>...</td>\n",
       "      <td>NaN</td>\n",
       "      <td>NaN</td>\n",
       "      <td>NaN</td>\n",
       "      <td>NaN</td>\n",
       "      <td>NaN</td>\n",
       "      <td>NaN</td>\n",
       "      <td>0.143</td>\n",
       "      <td>0.00514</td>\n",
       "      <td>12.0</td>\n",
       "      <td>12.0</td>\n",
       "    </tr>\n",
       "    <tr>\n",
       "      <th>4</th>\n",
       "      <td>16094</td>\n",
       "      <td>http://world-fr.openfoodfacts.org/produit/0000...</td>\n",
       "      <td>usda-ndb-import</td>\n",
       "      <td>1489055653</td>\n",
       "      <td>2017-03-09T10:34:13Z</td>\n",
       "      <td>1489055653</td>\n",
       "      <td>2017-03-09T10:34:13Z</td>\n",
       "      <td>Organic Pologneta</td>\n",
       "      <td>NaN</td>\n",
       "      <td>NaN</td>\n",
       "      <td>...</td>\n",
       "      <td>NaN</td>\n",
       "      <td>NaN</td>\n",
       "      <td>NaN</td>\n",
       "      <td>NaN</td>\n",
       "      <td>NaN</td>\n",
       "      <td>NaN</td>\n",
       "      <td>NaN</td>\n",
       "      <td>NaN</td>\n",
       "      <td>NaN</td>\n",
       "      <td>NaN</td>\n",
       "    </tr>\n",
       "    <tr>\n",
       "      <th>...</th>\n",
       "      <td>...</td>\n",
       "      <td>...</td>\n",
       "      <td>...</td>\n",
       "      <td>...</td>\n",
       "      <td>...</td>\n",
       "      <td>...</td>\n",
       "      <td>...</td>\n",
       "      <td>...</td>\n",
       "      <td>...</td>\n",
       "      <td>...</td>\n",
       "      <td>...</td>\n",
       "      <td>...</td>\n",
       "      <td>...</td>\n",
       "      <td>...</td>\n",
       "      <td>...</td>\n",
       "      <td>...</td>\n",
       "      <td>...</td>\n",
       "      <td>...</td>\n",
       "      <td>...</td>\n",
       "      <td>...</td>\n",
       "      <td>...</td>\n",
       "    </tr>\n",
       "    <tr>\n",
       "      <th>320767</th>\n",
       "      <td>9948282780603</td>\n",
       "      <td>http://world-fr.openfoodfacts.org/produit/9948...</td>\n",
       "      <td>openfoodfacts-contributors</td>\n",
       "      <td>1490631299</td>\n",
       "      <td>2017-03-27T16:14:59Z</td>\n",
       "      <td>1491244498</td>\n",
       "      <td>2017-04-03T18:34:58Z</td>\n",
       "      <td>Tomato &amp; ricotta</td>\n",
       "      <td>NaN</td>\n",
       "      <td>1</td>\n",
       "      <td>...</td>\n",
       "      <td>NaN</td>\n",
       "      <td>NaN</td>\n",
       "      <td>NaN</td>\n",
       "      <td>NaN</td>\n",
       "      <td>NaN</td>\n",
       "      <td>NaN</td>\n",
       "      <td>NaN</td>\n",
       "      <td>NaN</td>\n",
       "      <td>NaN</td>\n",
       "      <td>NaN</td>\n",
       "    </tr>\n",
       "    <tr>\n",
       "      <th>320768</th>\n",
       "      <td>99567453</td>\n",
       "      <td>http://world-fr.openfoodfacts.org/produit/9956...</td>\n",
       "      <td>usda-ndb-import</td>\n",
       "      <td>1489059076</td>\n",
       "      <td>2017-03-09T11:31:16Z</td>\n",
       "      <td>1491244499</td>\n",
       "      <td>2017-04-03T18:34:59Z</td>\n",
       "      <td>Mint Melange Tea A Blend Of Peppermint, Lemon ...</td>\n",
       "      <td>NaN</td>\n",
       "      <td>NaN</td>\n",
       "      <td>...</td>\n",
       "      <td>0.0000</td>\n",
       "      <td>NaN</td>\n",
       "      <td>NaN</td>\n",
       "      <td>NaN</td>\n",
       "      <td>NaN</td>\n",
       "      <td>0.0</td>\n",
       "      <td>0.000</td>\n",
       "      <td>0.00000</td>\n",
       "      <td>0.0</td>\n",
       "      <td>0.0</td>\n",
       "    </tr>\n",
       "    <tr>\n",
       "      <th>320769</th>\n",
       "      <td>9970229501521</td>\n",
       "      <td>http://world-fr.openfoodfacts.org/produit/9970...</td>\n",
       "      <td>tomato</td>\n",
       "      <td>1422099377</td>\n",
       "      <td>2015-01-24T11:36:17Z</td>\n",
       "      <td>1491244499</td>\n",
       "      <td>2017-04-03T18:34:59Z</td>\n",
       "      <td>乐吧泡菜味薯片</td>\n",
       "      <td>Leba pickle flavor potato chips</td>\n",
       "      <td>50 g</td>\n",
       "      <td>...</td>\n",
       "      <td>NaN</td>\n",
       "      <td>NaN</td>\n",
       "      <td>NaN</td>\n",
       "      <td>NaN</td>\n",
       "      <td>NaN</td>\n",
       "      <td>NaN</td>\n",
       "      <td>NaN</td>\n",
       "      <td>NaN</td>\n",
       "      <td>NaN</td>\n",
       "      <td>NaN</td>\n",
       "    </tr>\n",
       "    <tr>\n",
       "      <th>320770</th>\n",
       "      <td>9980282863788</td>\n",
       "      <td>http://world-fr.openfoodfacts.org/produit/9980...</td>\n",
       "      <td>openfoodfacts-contributors</td>\n",
       "      <td>1492340089</td>\n",
       "      <td>2017-04-16T10:54:49Z</td>\n",
       "      <td>1492340089</td>\n",
       "      <td>2017-04-16T10:54:49Z</td>\n",
       "      <td>Tomates aux Vermicelles</td>\n",
       "      <td>NaN</td>\n",
       "      <td>67g</td>\n",
       "      <td>...</td>\n",
       "      <td>NaN</td>\n",
       "      <td>NaN</td>\n",
       "      <td>NaN</td>\n",
       "      <td>NaN</td>\n",
       "      <td>NaN</td>\n",
       "      <td>NaN</td>\n",
       "      <td>NaN</td>\n",
       "      <td>NaN</td>\n",
       "      <td>NaN</td>\n",
       "      <td>NaN</td>\n",
       "    </tr>\n",
       "    <tr>\n",
       "      <th>320771</th>\n",
       "      <td>999990026839</td>\n",
       "      <td>http://world-fr.openfoodfacts.org/produit/9999...</td>\n",
       "      <td>usda-ndb-import</td>\n",
       "      <td>1489072709</td>\n",
       "      <td>2017-03-09T15:18:29Z</td>\n",
       "      <td>1491244499</td>\n",
       "      <td>2017-04-03T18:34:59Z</td>\n",
       "      <td>Sugar Free Drink Mix, Peach Tea</td>\n",
       "      <td>NaN</td>\n",
       "      <td>NaN</td>\n",
       "      <td>...</td>\n",
       "      <td>NaN</td>\n",
       "      <td>NaN</td>\n",
       "      <td>NaN</td>\n",
       "      <td>NaN</td>\n",
       "      <td>NaN</td>\n",
       "      <td>NaN</td>\n",
       "      <td>NaN</td>\n",
       "      <td>NaN</td>\n",
       "      <td>NaN</td>\n",
       "      <td>NaN</td>\n",
       "    </tr>\n",
       "  </tbody>\n",
       "</table>\n",
       "<p>320772 rows × 81 columns</p>\n",
       "</div>"
      ],
      "text/plain": [
       "                 code                                                url  \\\n",
       "0                3087  http://world-fr.openfoodfacts.org/produit/0000...   \n",
       "1                4530  http://world-fr.openfoodfacts.org/produit/0000...   \n",
       "2                4559  http://world-fr.openfoodfacts.org/produit/0000...   \n",
       "3               16087  http://world-fr.openfoodfacts.org/produit/0000...   \n",
       "4               16094  http://world-fr.openfoodfacts.org/produit/0000...   \n",
       "...               ...                                                ...   \n",
       "320767  9948282780603  http://world-fr.openfoodfacts.org/produit/9948...   \n",
       "320768       99567453  http://world-fr.openfoodfacts.org/produit/9956...   \n",
       "320769  9970229501521  http://world-fr.openfoodfacts.org/produit/9970...   \n",
       "320770  9980282863788  http://world-fr.openfoodfacts.org/produit/9980...   \n",
       "320771   999990026839  http://world-fr.openfoodfacts.org/produit/9999...   \n",
       "\n",
       "                           creator   created_t      created_datetime  \\\n",
       "0       openfoodfacts-contributors  1474103866  2016-09-17T09:17:46Z   \n",
       "1                  usda-ndb-import  1489069957  2017-03-09T14:32:37Z   \n",
       "2                  usda-ndb-import  1489069957  2017-03-09T14:32:37Z   \n",
       "3                  usda-ndb-import  1489055731  2017-03-09T10:35:31Z   \n",
       "4                  usda-ndb-import  1489055653  2017-03-09T10:34:13Z   \n",
       "...                            ...         ...                   ...   \n",
       "320767  openfoodfacts-contributors  1490631299  2017-03-27T16:14:59Z   \n",
       "320768             usda-ndb-import  1489059076  2017-03-09T11:31:16Z   \n",
       "320769                      tomato  1422099377  2015-01-24T11:36:17Z   \n",
       "320770  openfoodfacts-contributors  1492340089  2017-04-16T10:54:49Z   \n",
       "320771             usda-ndb-import  1489072709  2017-03-09T15:18:29Z   \n",
       "\n",
       "       last_modified_t last_modified_datetime  \\\n",
       "0           1474103893   2016-09-17T09:18:13Z   \n",
       "1           1489069957   2017-03-09T14:32:37Z   \n",
       "2           1489069957   2017-03-09T14:32:37Z   \n",
       "3           1489055731   2017-03-09T10:35:31Z   \n",
       "4           1489055653   2017-03-09T10:34:13Z   \n",
       "...                ...                    ...   \n",
       "320767      1491244498   2017-04-03T18:34:58Z   \n",
       "320768      1491244499   2017-04-03T18:34:59Z   \n",
       "320769      1491244499   2017-04-03T18:34:59Z   \n",
       "320770      1492340089   2017-04-16T10:54:49Z   \n",
       "320771      1491244499   2017-04-03T18:34:59Z   \n",
       "\n",
       "                                             product_name  \\\n",
       "0                               Farine Allemagne blé noir   \n",
       "1                          Banana Chips Sweetened (Whole)   \n",
       "2                                                 Peanuts   \n",
       "3                                  Organic Salted Nut Mix   \n",
       "4                                       Organic Pologneta   \n",
       "...                                                   ...   \n",
       "320767                                  Tomato & ricotta    \n",
       "320768  Mint Melange Tea A Blend Of Peppermint, Lemon ...   \n",
       "320769                                            乐吧泡菜味薯片   \n",
       "320770                           Tomates aux Vermicelles    \n",
       "320771                    Sugar Free Drink Mix, Peach Tea   \n",
       "\n",
       "                           generic_name quantity  ... vitamin-c_100g  \\\n",
       "0                                   NaN      1kg  ...            NaN   \n",
       "1                                   NaN      NaN  ...         0.0214   \n",
       "2                                   NaN      NaN  ...         0.0000   \n",
       "3                                   NaN      NaN  ...            NaN   \n",
       "4                                   NaN      NaN  ...            NaN   \n",
       "...                                 ...      ...  ...            ...   \n",
       "320767                              NaN        1  ...            NaN   \n",
       "320768                              NaN      NaN  ...         0.0000   \n",
       "320769  Leba pickle flavor potato chips     50 g  ...            NaN   \n",
       "320770                              NaN      67g  ...            NaN   \n",
       "320771                              NaN      NaN  ...            NaN   \n",
       "\n",
       "       vitamin-b1_100g vitamin-b2_100g vitamin-pp_100g vitamin-b6_100g  \\\n",
       "0                  NaN             NaN             NaN             NaN   \n",
       "1                  NaN             NaN             NaN             NaN   \n",
       "2                  NaN             NaN             NaN             NaN   \n",
       "3                  NaN             NaN             NaN             NaN   \n",
       "4                  NaN             NaN             NaN             NaN   \n",
       "...                ...             ...             ...             ...   \n",
       "320767             NaN             NaN             NaN             NaN   \n",
       "320768             NaN             NaN             NaN             NaN   \n",
       "320769             NaN             NaN             NaN             NaN   \n",
       "320770             NaN             NaN             NaN             NaN   \n",
       "320771             NaN             NaN             NaN             NaN   \n",
       "\n",
       "       potassium_100g calcium_100g iron_100g nutrition-score-fr_100g  \\\n",
       "0                 NaN          NaN       NaN                     NaN   \n",
       "1                 NaN        0.000   0.00129                    14.0   \n",
       "2                 NaN        0.071   0.00129                     0.0   \n",
       "3                 NaN        0.143   0.00514                    12.0   \n",
       "4                 NaN          NaN       NaN                     NaN   \n",
       "...               ...          ...       ...                     ...   \n",
       "320767            NaN          NaN       NaN                     NaN   \n",
       "320768            0.0        0.000   0.00000                     0.0   \n",
       "320769            NaN          NaN       NaN                     NaN   \n",
       "320770            NaN          NaN       NaN                     NaN   \n",
       "320771            NaN          NaN       NaN                     NaN   \n",
       "\n",
       "       nutrition-score-uk_100g  \n",
       "0                          NaN  \n",
       "1                         14.0  \n",
       "2                          0.0  \n",
       "3                         12.0  \n",
       "4                          NaN  \n",
       "...                        ...  \n",
       "320767                     NaN  \n",
       "320768                     0.0  \n",
       "320769                     NaN  \n",
       "320770                     NaN  \n",
       "320771                     NaN  \n",
       "\n",
       "[320772 rows x 81 columns]"
      ]
     },
     "execution_count": 586,
     "metadata": {},
     "output_type": "execute_result"
    }
   ],
   "source": [
    "new_data"
   ]
  },
  {
   "cell_type": "markdown",
   "id": "d194de1e",
   "metadata": {},
   "source": [
    "# Enregistrer avec pickle"
   ]
  },
  {
   "cell_type": "code",
   "execution_count": 587,
   "id": "35b69f0a",
   "metadata": {},
   "outputs": [],
   "source": [
    "output = open(\"output.pickle\", \"wb\")\n",
    "pickle.dump(new_data, output)\n",
    "output.close()"
   ]
  },
  {
   "cell_type": "code",
   "execution_count": null,
   "id": "b41e1615",
   "metadata": {},
   "outputs": [],
   "source": []
  }
 ],
 "metadata": {
  "kernelspec": {
   "display_name": "Python 3 (ipykernel)",
   "language": "python",
   "name": "python3"
  },
  "language_info": {
   "codemirror_mode": {
    "name": "ipython",
    "version": 3
   },
   "file_extension": ".py",
   "mimetype": "text/x-python",
   "name": "python",
   "nbconvert_exporter": "python",
   "pygments_lexer": "ipython3",
   "version": "3.9.15"
  },
  "toc": {
   "base_numbering": 1,
   "nav_menu": {},
   "number_sections": true,
   "sideBar": true,
   "skip_h1_title": false,
   "title_cell": "Table of Contents",
   "title_sidebar": "Contents",
   "toc_cell": false,
   "toc_position": {
    "height": "calc(100% - 180px)",
    "left": "10px",
    "top": "150px",
    "width": "303.833px"
   },
   "toc_section_display": true,
   "toc_window_display": true
  }
 },
 "nbformat": 4,
 "nbformat_minor": 5
}
